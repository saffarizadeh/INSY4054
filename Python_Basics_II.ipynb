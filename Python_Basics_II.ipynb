{
  "nbformat": 4,
  "nbformat_minor": 0,
  "metadata": {
    "colab": {
      "name": "Python Basics II",
      "provenance": [],
      "collapsed_sections": [],
      "toc_visible": true,
      "authorship_tag": "ABX9TyPhB4FJTFr7GaIMRDe13nX9",
      "include_colab_link": true
    },
    "kernelspec": {
      "name": "python3",
      "display_name": "Python 3"
    }
  },
  "cells": [
    {
      "cell_type": "markdown",
      "metadata": {
        "id": "view-in-github",
        "colab_type": "text"
      },
      "source": [
        "<a href=\"https://colab.research.google.com/github/saffarizadeh/INSY4054/blob/main/Python_Basics_II.ipynb\" target=\"_parent\"><img src=\"https://colab.research.google.com/assets/colab-badge.svg\" alt=\"Open In Colab\"/></a>"
      ]
    },
    {
      "cell_type": "markdown",
      "metadata": {
        "id": "CHN7fbx7_wiC"
      },
      "source": [
        "<img src=\"http://saffarizadeh.com/Logo.png\" width=\"300px\"/>\n",
        "\n",
        "# *INSY 4054: Emerging Technologies*\n",
        "\n",
        "# **Python Basics II**\n",
        "\n",
        "Instructor: Dr. Kambiz Saffarizadeh\n",
        "\n",
        "---"
      ]
    },
    {
      "cell_type": "markdown",
      "metadata": {
        "id": "e7FvlWD89aa1"
      },
      "source": [
        "##Comparison Operators and Boolean variables\n",
        "\n",
        "Comparison operators, also called relational operators, compare two values and evaluate down to a single Boolean value.\n",
        "\n",
        "<table>\n",
        "<tr>\n",
        "<td><b>Operator</b></td>\n",
        "<td><b>Meaning</b></td>\n",
        "</tr>\n",
        "<tr>\n",
        "<td>==</td>\n",
        "<td>Equal to</td>\n",
        "</tr>\n",
        "<tr>\n",
        "<td>!=</td>\n",
        "<td>Not equal to</td>\n",
        "</tr>\n",
        "<tr>\n",
        "<td><</td>\n",
        "<td>Less than</td>\n",
        "</tr>\n",
        "<tr>\n",
        "<td>></td>\n",
        "<td>Greater than</td>\n",
        "</tr>\n",
        "<tr>\n",
        "<td><=</td>\n",
        "<td>Less than or equal to</td>\n",
        "</tr>\n",
        "<tr>\n",
        "<td>>=</td>\n",
        "<td>Greater than or equal to</td>\n",
        "</tr>\n",
        "</table>"
      ]
    },
    {
      "cell_type": "code",
      "metadata": {
        "colab": {
          "base_uri": "https://localhost:8080/"
        },
        "id": "61EO87bc-wq1",
        "outputId": "1f1278f8-abf4-40e9-f9b2-d18e2cba04ac"
      },
      "source": [
        "45 == 45"
      ],
      "execution_count": null,
      "outputs": [
        {
          "output_type": "execute_result",
          "data": {
            "text/plain": [
              "True"
            ]
          },
          "metadata": {
            "tags": []
          },
          "execution_count": 15
        }
      ]
    },
    {
      "cell_type": "code",
      "metadata": {
        "colab": {
          "base_uri": "https://localhost:8080/"
        },
        "id": "y9EmOW14-0Pd",
        "outputId": "3223a44c-a555-4575-962d-853a4029ff1b"
      },
      "source": [
        "45 == 543"
      ],
      "execution_count": null,
      "outputs": [
        {
          "output_type": "execute_result",
          "data": {
            "text/plain": [
              "False"
            ]
          },
          "metadata": {
            "tags": []
          },
          "execution_count": 3
        }
      ]
    },
    {
      "cell_type": "code",
      "metadata": {
        "colab": {
          "base_uri": "https://localhost:8080/"
        },
        "id": "ums375u_-2Nu",
        "outputId": "9658aa20-7b41-45c7-f92e-07df138fd1df"
      },
      "source": [
        "2 != 3"
      ],
      "execution_count": null,
      "outputs": [
        {
          "output_type": "execute_result",
          "data": {
            "text/plain": [
              "True"
            ]
          },
          "metadata": {
            "tags": []
          },
          "execution_count": 4
        }
      ]
    },
    {
      "cell_type": "code",
      "metadata": {
        "colab": {
          "base_uri": "https://localhost:8080/"
        },
        "id": "kAIUbyBf-3x7",
        "outputId": "4f7d2391-dc7c-4921-a174-d54b39585fa3"
      },
      "source": [
        "5 != 5"
      ],
      "execution_count": null,
      "outputs": [
        {
          "output_type": "execute_result",
          "data": {
            "text/plain": [
              "False"
            ]
          },
          "metadata": {
            "tags": []
          },
          "execution_count": 5
        }
      ]
    },
    {
      "cell_type": "code",
      "metadata": {
        "colab": {
          "base_uri": "https://localhost:8080/"
        },
        "id": "TbSUJLhG-5Dd",
        "outputId": "aab9ca3c-c677-4a65-8ea9-9401a98ca2cc"
      },
      "source": [
        "'Hello' == 'Hello'"
      ],
      "execution_count": null,
      "outputs": [
        {
          "output_type": "execute_result",
          "data": {
            "text/plain": [
              "True"
            ]
          },
          "metadata": {
            "tags": []
          },
          "execution_count": 6
        }
      ]
    },
    {
      "cell_type": "code",
      "metadata": {
        "colab": {
          "base_uri": "https://localhost:8080/"
        },
        "id": "DWU7NOxm-9FZ",
        "outputId": "e41cf1db-b2b3-4688-c3d1-728a0561e560"
      },
      "source": [
        "'Hello' != 'hello'"
      ],
      "execution_count": null,
      "outputs": [
        {
          "output_type": "execute_result",
          "data": {
            "text/plain": [
              "True"
            ]
          },
          "metadata": {
            "tags": []
          },
          "execution_count": 8
        }
      ]
    },
    {
      "cell_type": "code",
      "metadata": {
        "colab": {
          "base_uri": "https://localhost:8080/"
        },
        "id": "pKF4nH-C_C3V",
        "outputId": "788832f8-0f65-45fc-a9b2-3eb22a298a9c"
      },
      "source": [
        "42 == '42'"
      ],
      "execution_count": null,
      "outputs": [
        {
          "output_type": "execute_result",
          "data": {
            "text/plain": [
              "False"
            ]
          },
          "metadata": {
            "tags": []
          },
          "execution_count": 10
        }
      ]
    },
    {
      "cell_type": "code",
      "metadata": {
        "colab": {
          "base_uri": "https://localhost:8080/"
        },
        "id": "BI-FHm-v_Hwt",
        "outputId": "fa350a10-a670-4333-c4dc-27d5d1c7c4a9"
      },
      "source": [
        "45 < 400"
      ],
      "execution_count": null,
      "outputs": [
        {
          "output_type": "execute_result",
          "data": {
            "text/plain": [
              "True"
            ]
          },
          "metadata": {
            "tags": []
          },
          "execution_count": 11
        }
      ]
    },
    {
      "cell_type": "markdown",
      "metadata": {
        "id": "fY8ng0ae_fyO"
      },
      "source": [
        "Python implements all of the usual operators for Boolean logic, but uses English words rather than symbols (&&, ||, etc.)."
      ]
    },
    {
      "cell_type": "code",
      "metadata": {
        "colab": {
          "base_uri": "https://localhost:8080/"
        },
        "id": "u6TevLsU_qNU",
        "outputId": "fb2b0995-0999-41ac-ad84-ce679c61a9c7"
      },
      "source": [
        "x = 5\n",
        "print(x)\n",
        "y = (x == 7)\n",
        "print(y)"
      ],
      "execution_count": null,
      "outputs": [
        {
          "output_type": "stream",
          "text": [
            "5\n",
            "False\n"
          ],
          "name": "stdout"
        }
      ]
    },
    {
      "cell_type": "code",
      "metadata": {
        "colab": {
          "base_uri": "https://localhost:8080/"
        },
        "id": "m9Kcfxy4_qGZ",
        "outputId": "fbdfc418-ed89-4272-f659-742199ebf9ae"
      },
      "source": [
        "done = True\n",
        "is_tuesday = False\n",
        "print(type(done))\n",
        "print(done and is_tuesday) # Logical AND; prints \"False\"\n",
        "print(done or is_tuesday)  # Logical OR; prints \"True\"\n",
        "print(not done)   # Logical NOT; prints \"False\"\n",
        "print(done != is_tuesday)  # Logical XOR; prints \"True\""
      ],
      "execution_count": null,
      "outputs": [
        {
          "output_type": "stream",
          "text": [
            "<class 'bool'>\n",
            "False\n",
            "True\n",
            "False\n",
            "True\n"
          ],
          "name": "stdout"
        }
      ]
    },
    {
      "cell_type": "markdown",
      "metadata": {
        "id": "OtgQwXXpLB5A"
      },
      "source": [
        "# if / elif / else\n",
        "\n",
        "If statements in Python look like this (pay attention to the indentation):"
      ]
    },
    {
      "cell_type": "code",
      "metadata": {
        "colab": {
          "base_uri": "https://localhost:8080/"
        },
        "id": "izbztOqFbNFk",
        "outputId": "94b2d61a-7709-467b-8c34-74267950ef56"
      },
      "source": [
        "done = True\n",
        "\n",
        "if done:\n",
        "  print(\"It is done!\")"
      ],
      "execution_count": null,
      "outputs": [
        {
          "output_type": "stream",
          "text": [
            "It is done!\n"
          ],
          "name": "stdout"
        }
      ]
    },
    {
      "cell_type": "markdown",
      "metadata": {
        "id": "m_U3q2PcbxGu"
      },
      "source": [
        "So, after `if` you need to provide a Boolean value.\n",
        "This Boolean value could come directly from a variable or from a comparision."
      ]
    },
    {
      "cell_type": "code",
      "metadata": {
        "colab": {
          "base_uri": "https://localhost:8080/"
        },
        "id": "DLpxUqiobwOO",
        "outputId": "1ecb0dc7-066c-4c50-cf81-f140284287c4"
      },
      "source": [
        "x = 10\n",
        "\n",
        "if x > 5:\n",
        "  print(\"The value of x is larger than 5.\")"
      ],
      "execution_count": null,
      "outputs": [
        {
          "output_type": "stream",
          "text": [
            "The value of x is greater than 5.\n"
          ],
          "name": "stdout"
        }
      ]
    },
    {
      "cell_type": "markdown",
      "metadata": {
        "id": "9JqVzuTJcJUU"
      },
      "source": [
        "If you want to check multiple conditions, you could do the following:"
      ]
    },
    {
      "cell_type": "code",
      "metadata": {
        "colab": {
          "base_uri": "https://localhost:8080/"
        },
        "id": "DkLz0dwucIwU",
        "outputId": "86ec388d-65fe-489d-9a74-3c9fd553d51a"
      },
      "source": [
        "x = 2\n",
        "\n",
        "if x > 5:\n",
        "  print(\"The value of x is larger than 5.\")\n",
        "else:\n",
        "  print(\"The value of x is less than or equal to 5.\")"
      ],
      "execution_count": null,
      "outputs": [
        {
          "output_type": "stream",
          "text": [
            "The value of x is less than or equal to 5.\n"
          ],
          "name": "stdout"
        }
      ]
    },
    {
      "cell_type": "code",
      "metadata": {
        "colab": {
          "base_uri": "https://localhost:8080/"
        },
        "id": "baKfiLINbawT",
        "outputId": "165eb65b-65b0-4164-f255-4f019c8b0c9a"
      },
      "source": [
        "x = 5\n",
        "\n",
        "if x > 10:\n",
        "  print(\"The value of x is greater than 10.\")\n",
        "elif x > 5:\n",
        "  print(\"The value of x is greater than 5.\")\n",
        "else:\n",
        "  print(\"The value of x is less than or equal to 5.\")"
      ],
      "execution_count": null,
      "outputs": [
        {
          "output_type": "stream",
          "text": [
            "The value of x is less than or equal to 5.\n"
          ],
          "name": "stdout"
        }
      ]
    },
    {
      "cell_type": "code",
      "metadata": {
        "id": "yZz-B-xQbatr"
      },
      "source": [
        ""
      ],
      "execution_count": null,
      "outputs": []
    },
    {
      "cell_type": "code",
      "metadata": {
        "id": "ma2U3rVSbaq2"
      },
      "source": [
        ""
      ],
      "execution_count": null,
      "outputs": []
    },
    {
      "cell_type": "markdown",
      "metadata": {
        "id": "7J0d23wi_w_s"
      },
      "source": [
        "---\n",
        "# for / in\n",
        "You can easily go through all the values in a list using a for loop in Python."
      ]
    },
    {
      "cell_type": "code",
      "metadata": {
        "id": "NKqHOZOyh-wO",
        "colab": {
          "base_uri": "https://localhost:8080/"
        },
        "outputId": "e7336a54-8d86-42d8-a424-1f299d889ebf"
      },
      "source": [
        "items = [\"First Item\", \"Second Item\", \"Thrid Item\"]\n",
        "\n",
        "for item in items:\n",
        "  print(item)"
      ],
      "execution_count": null,
      "outputs": [
        {
          "output_type": "stream",
          "text": [
            "First Item\n",
            "Second Item\n",
            "Thrid Item\n"
          ],
          "name": "stdout"
        }
      ]
    },
    {
      "cell_type": "markdown",
      "metadata": {
        "id": "ohWb4aWYdZyQ"
      },
      "source": [
        "Please note than we chose the name `item` just to make the code more readable. You could choose whatever name you prefer to represent the focal item in the loop list."
      ]
    },
    {
      "cell_type": "markdown",
      "metadata": {
        "id": "llaDQuJYdwUD"
      },
      "source": [
        "If you prefer to have a loop that runs a piece of code a specific number of times, you can use `range` and specify the number of times you want to run the code."
      ]
    },
    {
      "cell_type": "code",
      "metadata": {
        "colab": {
          "base_uri": "https://localhost:8080/"
        },
        "id": "wvnpQWOyeCkO",
        "outputId": "7fffcf68-7da9-488b-afca-103c17e1603f"
      },
      "source": [
        "for i in range(5):\n",
        "  print(i)"
      ],
      "execution_count": null,
      "outputs": [
        {
          "output_type": "stream",
          "text": [
            "0\n",
            "1\n",
            "2\n",
            "3\n",
            "4\n"
          ],
          "name": "stdout"
        }
      ]
    },
    {
      "cell_type": "markdown",
      "metadata": {
        "id": "CVpjrewdeV4e"
      },
      "source": [
        "Since we often work with lists in Python, there is a very useful way to loop through the items in a list, do something with the item, and create a new list out of the modified items, all in one line."
      ]
    },
    {
      "cell_type": "code",
      "metadata": {
        "colab": {
          "base_uri": "https://localhost:8080/"
        },
        "id": "w8TUWwfseT4P",
        "outputId": "51e7b768-e4ba-4bdf-8d10-f41970e2a5ac"
      },
      "source": [
        "my_list = [1, 2, 3, 4, 5, 6, 7, 8, 9]\n",
        "\n",
        "new_my_list = [item for item in my_list if item%2 == 0]\n",
        "\n",
        "print(new_my_list)"
      ],
      "execution_count": null,
      "outputs": [
        {
          "output_type": "stream",
          "text": [
            "[2, 4, 6, 8]\n"
          ],
          "name": "stdout"
        }
      ]
    },
    {
      "cell_type": "markdown",
      "metadata": {
        "id": "hZJqBQO1MlcY"
      },
      "source": [
        "---\n",
        "# functions"
      ]
    },
    {
      "cell_type": "markdown",
      "metadata": {
        "id": "zsEXNa66hMyI"
      },
      "source": [
        "If you have a piece of code that you might want to reuse several times in your analysis, you should define it as a function.\n",
        "This way you can easily run the same piece of code over and over again."
      ]
    },
    {
      "cell_type": "code",
      "metadata": {
        "id": "pmVmbEObhMao"
      },
      "source": [
        "def print_odd_numbers():\n",
        "  for number in range(10):\n",
        "    if number % 2 != 0:\n",
        "      print(number)"
      ],
      "execution_count": null,
      "outputs": []
    },
    {
      "cell_type": "code",
      "metadata": {
        "colab": {
          "base_uri": "https://localhost:8080/"
        },
        "id": "sUzbs1gShMSb",
        "outputId": "4da605e2-37e6-4a15-d621-3c087145bdcc"
      },
      "source": [
        "print_odd_numbers()"
      ],
      "execution_count": null,
      "outputs": [
        {
          "output_type": "stream",
          "text": [
            "1\n",
            "3\n",
            "5\n",
            "7\n",
            "9\n"
          ],
          "name": "stdout"
        }
      ]
    },
    {
      "cell_type": "markdown",
      "metadata": {
        "id": "k-kgKFCWh2ED"
      },
      "source": [
        "To make functions more useful, you can actually send them some inputs and get back some outputs."
      ]
    },
    {
      "cell_type": "code",
      "metadata": {
        "id": "3mh0U_ekMjVg"
      },
      "source": [
        "def odd_numbers_in_range(from_number, to_number):\n",
        "  numbers = []\n",
        "  for number in range(from_number, to_number):\n",
        "    if number % 2 != 0:\n",
        "      numbers.append(number)\n",
        "  return numbers"
      ],
      "execution_count": null,
      "outputs": []
    },
    {
      "cell_type": "code",
      "metadata": {
        "colab": {
          "base_uri": "https://localhost:8080/"
        },
        "id": "idl_yw6sMjR3",
        "outputId": "a4983153-623f-4f38-f5d0-1d129a108f71"
      },
      "source": [
        "odd_numbers = odd_numbers_in_range(5, 14)\n",
        "\n",
        "print(odd_numbers)"
      ],
      "execution_count": null,
      "outputs": [
        {
          "output_type": "stream",
          "text": [
            "[5, 7, 9, 11, 13]\n"
          ],
          "name": "stdout"
        }
      ]
    },
    {
      "cell_type": "code",
      "metadata": {
        "id": "oRs4xXmdMjKg"
      },
      "source": [
        ""
      ],
      "execution_count": null,
      "outputs": []
    },
    {
      "cell_type": "code",
      "metadata": {
        "id": "oi98mxKbNrgp"
      },
      "source": [
        ""
      ],
      "execution_count": null,
      "outputs": []
    },
    {
      "cell_type": "markdown",
      "metadata": {
        "id": "uKh1vSONj8CP"
      },
      "source": [
        "We can use `lambda` functions to create small functions in Python.\n",
        "\n",
        "A lambda function is a small anonymous function.\n",
        "\n",
        "A lambda function can take any number of arguments, but can only have one expression.\n",
        "\n",
        "Let's say we want to write a shorter version of the following function:"
      ]
    },
    {
      "cell_type": "code",
      "metadata": {
        "colab": {
          "base_uri": "https://localhost:8080/"
        },
        "id": "0sJB44kvkQgx",
        "outputId": "9dd71c01-5c46-4777-f4fa-13b724ba0cd3"
      },
      "source": [
        "def square(number):\n",
        "  return number*number\n",
        "\n",
        "y = square(5)\n",
        "print(y)"
      ],
      "execution_count": null,
      "outputs": [
        {
          "output_type": "stream",
          "text": [
            "25\n"
          ],
          "name": "stdout"
        }
      ]
    },
    {
      "cell_type": "markdown",
      "metadata": {
        "id": "T3KHStOEkyVU"
      },
      "source": [
        "The shorter version is written like this:"
      ]
    },
    {
      "cell_type": "code",
      "metadata": {
        "colab": {
          "base_uri": "https://localhost:8080/"
        },
        "id": "CK6IrogrkqpH",
        "outputId": "ce3e80c3-a47a-4887-9f5a-e88debe0cb1d"
      },
      "source": [
        "square = lambda number: number * number\n",
        "\n",
        "y = square(5)\n",
        "print(y)"
      ],
      "execution_count": null,
      "outputs": [
        {
          "output_type": "stream",
          "text": [
            "25\n"
          ],
          "name": "stdout"
        }
      ]
    },
    {
      "cell_type": "code",
      "metadata": {
        "id": "P1VxprGQk8Im"
      },
      "source": [
        ""
      ],
      "execution_count": null,
      "outputs": []
    },
    {
      "cell_type": "code",
      "metadata": {
        "id": "rN5PxXTAlDoo"
      },
      "source": [
        ""
      ],
      "execution_count": null,
      "outputs": []
    }
  ]
}