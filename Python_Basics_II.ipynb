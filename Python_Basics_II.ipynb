{
  "nbformat": 4,
  "nbformat_minor": 0,
  "metadata": {
    "colab": {
      "name": "Python Basics II",
      "provenance": [],
      "collapsed_sections": [],
      "authorship_tag": "ABX9TyNz3dLMGVYBeBH0P4RyrGtu",
      "include_colab_link": true
    },
    "kernelspec": {
      "name": "python3",
      "display_name": "Python 3"
    }
  },
  "cells": [
    {
      "cell_type": "markdown",
      "metadata": {
        "id": "view-in-github",
        "colab_type": "text"
      },
      "source": [
        "<a href=\"https://colab.research.google.com/github/saffarizadeh/BUAN4061/blob/main/Python_Basics_II.ipynb\" target=\"_parent\"><img src=\"https://colab.research.google.com/assets/colab-badge.svg\" alt=\"Open In Colab\"/></a>"
      ]
    },
    {
      "cell_type": "markdown",
      "metadata": {
        "id": "CHN7fbx7_wiC"
      },
      "source": [
        "<img src=\"http://saffarizadeh.com/Logo.png\" width=\"300px\"/>\n",
        "\n",
        "# *INSY 4054: Emerging Technologies*\n",
        "\n",
        "# **Python Basics II**\n",
        "\n",
        "Instructor: Dr. Kambiz Saffarizadeh\n",
        "\n",
        "---"
      ]
    },
    {
      "cell_type": "markdown",
      "metadata": {
        "id": "e7FvlWD89aa1"
      },
      "source": [
        "##Comparison Operators and Boolean variables\n",
        "\n",
        "Comparison operators, also called relational operators, compare two values and evaluate down to a single Boolean value.\n",
        "\n",
        "<table>\n",
        "<tr>\n",
        "<td><b>Operator</b></td>\n",
        "<td><b>Meaning</b></td>\n",
        "</tr>\n",
        "<tr>\n",
        "<td>==</td>\n",
        "<td>Equal to</td>\n",
        "</tr>\n",
        "<tr>\n",
        "<td>!=</td>\n",
        "<td>Not equal to</td>\n",
        "</tr>\n",
        "<tr>\n",
        "<td><</td>\n",
        "<td>Less than</td>\n",
        "</tr>\n",
        "<tr>\n",
        "<td>></td>\n",
        "<td>Greater than</td>\n",
        "</tr>\n",
        "<tr>\n",
        "<td><=</td>\n",
        "<td>Less than or equal to</td>\n",
        "</tr>\n",
        "<tr>\n",
        "<td>>=</td>\n",
        "<td>Greater than or equal to</td>\n",
        "</tr>\n",
        "</table>"
      ]
    },
    {
      "cell_type": "code",
      "metadata": {
        "colab": {
          "base_uri": "https://localhost:8080/"
        },
        "id": "61EO87bc-wq1",
        "outputId": "6d06ee92-0614-4306-8fa1-ecd33d5effe2"
      },
      "source": [
        "45 == 45"
      ],
      "execution_count": null,
      "outputs": [
        {
          "output_type": "execute_result",
          "data": {
            "text/plain": [
              "True"
            ]
          },
          "metadata": {},
          "execution_count": 1
        }
      ]
    },
    {
      "cell_type": "code",
      "metadata": {
        "colab": {
          "base_uri": "https://localhost:8080/"
        },
        "id": "y9EmOW14-0Pd",
        "outputId": "c8c0c7a1-a6a5-4408-a56e-0cd57784b7fb"
      },
      "source": [
        "45 == 543"
      ],
      "execution_count": null,
      "outputs": [
        {
          "output_type": "execute_result",
          "data": {
            "text/plain": [
              "False"
            ]
          },
          "metadata": {},
          "execution_count": 2
        }
      ]
    },
    {
      "cell_type": "code",
      "metadata": {
        "colab": {
          "base_uri": "https://localhost:8080/"
        },
        "id": "ums375u_-2Nu",
        "outputId": "3ba63332-43ab-42bd-8bab-7ad53d1776aa"
      },
      "source": [
        "2 != 3"
      ],
      "execution_count": null,
      "outputs": [
        {
          "output_type": "execute_result",
          "data": {
            "text/plain": [
              "True"
            ]
          },
          "metadata": {},
          "execution_count": 3
        }
      ]
    },
    {
      "cell_type": "code",
      "metadata": {
        "colab": {
          "base_uri": "https://localhost:8080/"
        },
        "id": "kAIUbyBf-3x7",
        "outputId": "df4fa076-06c3-41e1-e1fb-1964f10e0601"
      },
      "source": [
        "5 != 5"
      ],
      "execution_count": null,
      "outputs": [
        {
          "output_type": "execute_result",
          "data": {
            "text/plain": [
              "False"
            ]
          },
          "metadata": {},
          "execution_count": 4
        }
      ]
    },
    {
      "cell_type": "code",
      "metadata": {
        "colab": {
          "base_uri": "https://localhost:8080/"
        },
        "id": "TbSUJLhG-5Dd",
        "outputId": "288e96a9-2c65-4a3c-c408-3bb4a5d098cf"
      },
      "source": [
        "'Hello' == 'Hello'"
      ],
      "execution_count": null,
      "outputs": [
        {
          "output_type": "execute_result",
          "data": {
            "text/plain": [
              "True"
            ]
          },
          "metadata": {},
          "execution_count": 5
        }
      ]
    },
    {
      "cell_type": "code",
      "metadata": {
        "colab": {
          "base_uri": "https://localhost:8080/"
        },
        "id": "DWU7NOxm-9FZ",
        "outputId": "406f2342-312a-4a0d-ea8a-69a8fcdd9c8a"
      },
      "source": [
        "'Hello' != 'hello'"
      ],
      "execution_count": null,
      "outputs": [
        {
          "output_type": "execute_result",
          "data": {
            "text/plain": [
              "True"
            ]
          },
          "metadata": {},
          "execution_count": 6
        }
      ]
    },
    {
      "cell_type": "code",
      "metadata": {
        "colab": {
          "base_uri": "https://localhost:8080/"
        },
        "id": "pKF4nH-C_C3V",
        "outputId": "91d390ef-75f3-4154-b5d1-766a88bfc0ff"
      },
      "source": [
        "42 == '42'"
      ],
      "execution_count": null,
      "outputs": [
        {
          "output_type": "execute_result",
          "data": {
            "text/plain": [
              "False"
            ]
          },
          "metadata": {},
          "execution_count": 7
        }
      ]
    },
    {
      "cell_type": "code",
      "metadata": {
        "colab": {
          "base_uri": "https://localhost:8080/"
        },
        "id": "BI-FHm-v_Hwt",
        "outputId": "c1b3f38c-fbe9-4b84-b764-568bea49de1d"
      },
      "source": [
        "45 < 400"
      ],
      "execution_count": null,
      "outputs": [
        {
          "output_type": "execute_result",
          "data": {
            "text/plain": [
              "True"
            ]
          },
          "metadata": {},
          "execution_count": 8
        }
      ]
    },
    {
      "cell_type": "markdown",
      "metadata": {
        "id": "fY8ng0ae_fyO"
      },
      "source": [
        "Python implements all of the usual operators for Boolean logic, but uses English words rather than symbols (&&, ||, etc.)."
      ]
    },
    {
      "cell_type": "code",
      "metadata": {
        "colab": {
          "base_uri": "https://localhost:8080/"
        },
        "id": "u6TevLsU_qNU",
        "outputId": "a4d37885-8e64-42ad-8fda-65c0d7ee73d2"
      },
      "source": [
        "x = 5\n",
        "print(x)\n",
        "y = (x == 7)\n",
        "print(y)"
      ],
      "execution_count": null,
      "outputs": [
        {
          "output_type": "stream",
          "name": "stdout",
          "text": [
            "5\n",
            "False\n"
          ]
        }
      ]
    },
    {
      "cell_type": "markdown",
      "source": [
        "Truth table for `and` and `or`\n",
        "<table>\n",
        "<tr>\n",
        "<td><b>A</b></td>\n",
        "<td><b>B</b></td>\n",
        "<td><b>A and B</b></td>\n",
        "<td><b>A or B</b></td>\n",
        "</tr>\n",
        "<tr>\n",
        "<td>False</td>\n",
        "<td>False</td>\n",
        "<td>False</td>\n",
        "<td><i>False</i></td>\n",
        "</tr>\n",
        "<tr>\n",
        "<td>False</td>\n",
        "<td>True</td>\n",
        "<td>False</td>\n",
        "<td>True</td>\n",
        "</tr>\n",
        "<tr>\n",
        "<td>True</td>\n",
        "<td>False</td>\n",
        "<td>False</td>\n",
        "<td>True</td>\n",
        "</tr>\n",
        "<tr>\n",
        "<td>True</td>\n",
        "<td>True</td>\n",
        "<td>True</td>\n",
        "<td><i>True</i></td>\n",
        "</tr>\n",
        "</table>"
      ],
      "metadata": {
        "id": "McyRuR76qLl6"
      }
    },
    {
      "cell_type": "code",
      "metadata": {
        "colab": {
          "base_uri": "https://localhost:8080/"
        },
        "id": "m9Kcfxy4_qGZ",
        "outputId": "0196afbf-8149-49db-9371-1d00c29ad9b3"
      },
      "source": [
        "done = True\n",
        "is_tuesday = False\n",
        "print(type(done))\n",
        "print(done and is_tuesday) # Logical AND; prints \"False\"\n",
        "print(done or is_tuesday)  # Logical OR; prints \"True\"\n",
        "print(not done)   # Logical NOT; prints \"False\"\n",
        "print(done != is_tuesday)  # Logical XOR; prints \"True\""
      ],
      "execution_count": null,
      "outputs": [
        {
          "output_type": "stream",
          "name": "stdout",
          "text": [
            "<class 'bool'>\n",
            "False\n",
            "True\n",
            "False\n",
            "True\n"
          ]
        }
      ]
    },
    {
      "cell_type": "markdown",
      "metadata": {
        "id": "OtgQwXXpLB5A"
      },
      "source": [
        "# if / elif / else\n",
        "\n",
        "If statements in Python look like this (pay attention to the indentation):"
      ]
    },
    {
      "cell_type": "code",
      "metadata": {
        "colab": {
          "base_uri": "https://localhost:8080/"
        },
        "id": "izbztOqFbNFk",
        "outputId": "ac914d62-1088-4f39-da3d-d597694e0a92"
      },
      "source": [
        "done = True\n",
        "\n",
        "if done:\n",
        "  print(\"It is done!\")"
      ],
      "execution_count": null,
      "outputs": [
        {
          "output_type": "stream",
          "name": "stdout",
          "text": [
            "It is done!\n"
          ]
        }
      ]
    },
    {
      "cell_type": "markdown",
      "metadata": {
        "id": "m_U3q2PcbxGu"
      },
      "source": [
        "So, after `if` you need to provide a Boolean value.\n",
        "This Boolean value could come directly from a variable or from a comparision."
      ]
    },
    {
      "cell_type": "code",
      "metadata": {
        "colab": {
          "base_uri": "https://localhost:8080/"
        },
        "id": "DLpxUqiobwOO",
        "outputId": "46789238-0c52-47ea-a22f-12eda6a4873b"
      },
      "source": [
        "x = 10\n",
        "\n",
        "if x > 5:\n",
        "  print(\"The value of x is larger than 5.\")"
      ],
      "execution_count": null,
      "outputs": [
        {
          "output_type": "stream",
          "name": "stdout",
          "text": [
            "The value of x is larger than 5.\n"
          ]
        }
      ]
    },
    {
      "cell_type": "markdown",
      "metadata": {
        "id": "9JqVzuTJcJUU"
      },
      "source": [
        "If you want to check multiple conditions, you could do the following:"
      ]
    },
    {
      "cell_type": "code",
      "metadata": {
        "colab": {
          "base_uri": "https://localhost:8080/"
        },
        "id": "DkLz0dwucIwU",
        "outputId": "87070cf6-d14b-4a24-fea5-f30efcc33550"
      },
      "source": [
        "x = 2\n",
        "\n",
        "if x > 5:\n",
        "  print(\"The value of x is larger than 5.\")\n",
        "else:\n",
        "  print(\"The value of x is less than or equal to 5.\")"
      ],
      "execution_count": null,
      "outputs": [
        {
          "output_type": "stream",
          "name": "stdout",
          "text": [
            "The value of x is less than or equal to 5.\n"
          ]
        }
      ]
    },
    {
      "cell_type": "code",
      "metadata": {
        "colab": {
          "base_uri": "https://localhost:8080/"
        },
        "id": "baKfiLINbawT",
        "outputId": "c922c344-e6a7-47a3-98c2-822f6b242165"
      },
      "source": [
        "x = 5\n",
        "\n",
        "if x > 10:\n",
        "  print(\"The value of x is greater than 10.\")\n",
        "elif x > 5:\n",
        "  print(\"The value of x is greater than 5.\")\n",
        "else:\n",
        "  print(\"The value of x is less than or equal to 5.\")"
      ],
      "execution_count": null,
      "outputs": [
        {
          "output_type": "stream",
          "name": "stdout",
          "text": [
            "The value of x is less than or equal to 5.\n"
          ]
        }
      ]
    },
    {
      "cell_type": "markdown",
      "metadata": {
        "id": "7J0d23wi_w_s"
      },
      "source": [
        "---\n",
        "# for / in\n",
        "You can easily go through all the values in a list using a for loop in Python."
      ]
    },
    {
      "cell_type": "code",
      "metadata": {
        "id": "NKqHOZOyh-wO",
        "colab": {
          "base_uri": "https://localhost:8080/"
        },
        "outputId": "80de88c0-85be-4514-edb3-ccb68c99a5db"
      },
      "source": [
        "items = [\"First Item\", \"Second Item\", \"Thrid Item\"]\n",
        "\n",
        "for item in items:\n",
        "  print(item)"
      ],
      "execution_count": null,
      "outputs": [
        {
          "output_type": "stream",
          "name": "stdout",
          "text": [
            "First Item\n",
            "Second Item\n",
            "Thrid Item\n"
          ]
        }
      ]
    },
    {
      "cell_type": "markdown",
      "metadata": {
        "id": "ohWb4aWYdZyQ"
      },
      "source": [
        "Please note than we chose the name `item` just to make the code more readable. You could choose whatever name you prefer to represent the focal item in the loop list."
      ]
    },
    {
      "cell_type": "markdown",
      "metadata": {
        "id": "llaDQuJYdwUD"
      },
      "source": [
        "If you prefer to have a loop that runs a piece of code a specific number of times, you can use `range` and specify the number of times you want to run the code."
      ]
    },
    {
      "cell_type": "code",
      "metadata": {
        "colab": {
          "base_uri": "https://localhost:8080/"
        },
        "id": "wvnpQWOyeCkO",
        "outputId": "b4500e35-569e-49b8-ed83-fb4417aab45b"
      },
      "source": [
        "for i in range(5):\n",
        "  print(i)"
      ],
      "execution_count": null,
      "outputs": [
        {
          "output_type": "stream",
          "name": "stdout",
          "text": [
            "0\n",
            "1\n",
            "2\n",
            "3\n",
            "4\n"
          ]
        }
      ]
    },
    {
      "cell_type": "markdown",
      "metadata": {
        "id": "CVpjrewdeV4e"
      },
      "source": [
        "Since we often work with lists in Python, there is a very useful way to loop through the items in a list, do something with the item, and create a new list out of the modified items, all in one line."
      ]
    },
    {
      "cell_type": "code",
      "metadata": {
        "colab": {
          "base_uri": "https://localhost:8080/"
        },
        "id": "w8TUWwfseT4P",
        "outputId": "cd2bd722-23c3-4638-9b26-0ccb38e49853"
      },
      "source": [
        "my_list = [1, 2, 3, 4, 5, 6, 7, 8, 9]\n",
        "\n",
        "new_my_list = [item for item in my_list if item%2 == 0]\n",
        "\n",
        "print(new_my_list)"
      ],
      "execution_count": null,
      "outputs": [
        {
          "output_type": "stream",
          "name": "stdout",
          "text": [
            "[2, 4, 6, 8]\n"
          ]
        }
      ]
    },
    {
      "cell_type": "markdown",
      "metadata": {
        "id": "hZJqBQO1MlcY"
      },
      "source": [
        "---\n",
        "# functions"
      ]
    },
    {
      "cell_type": "markdown",
      "metadata": {
        "id": "zsEXNa66hMyI"
      },
      "source": [
        "If you have a piece of code that you might want to reuse several times in your analysis, you should define it as a function.\n",
        "This way you can easily run the same piece of code over and over again."
      ]
    },
    {
      "cell_type": "code",
      "metadata": {
        "id": "pmVmbEObhMao"
      },
      "source": [
        "def print_odd_numbers():\n",
        "  for number in range(10):\n",
        "    if number % 2 != 0:\n",
        "      print(number)"
      ],
      "execution_count": null,
      "outputs": []
    },
    {
      "cell_type": "code",
      "metadata": {
        "colab": {
          "base_uri": "https://localhost:8080/"
        },
        "id": "sUzbs1gShMSb",
        "outputId": "3a9d64a4-7424-4e53-a9f5-95d0179260d2"
      },
      "source": [
        "print_odd_numbers()"
      ],
      "execution_count": null,
      "outputs": [
        {
          "output_type": "stream",
          "name": "stdout",
          "text": [
            "1\n",
            "3\n",
            "5\n",
            "7\n",
            "9\n"
          ]
        }
      ]
    },
    {
      "cell_type": "markdown",
      "metadata": {
        "id": "k-kgKFCWh2ED"
      },
      "source": [
        "To make functions more useful, you can actually send them some inputs and get back some outputs."
      ]
    },
    {
      "cell_type": "code",
      "metadata": {
        "id": "3mh0U_ekMjVg"
      },
      "source": [
        "def odd_numbers_in_range(from_number, to_number):\n",
        "  numbers = []\n",
        "  for number in range(from_number, to_number):\n",
        "    if number % 2 != 0:\n",
        "      numbers.append(number)\n",
        "  return numbers"
      ],
      "execution_count": null,
      "outputs": []
    },
    {
      "cell_type": "code",
      "metadata": {
        "colab": {
          "base_uri": "https://localhost:8080/"
        },
        "id": "idl_yw6sMjR3",
        "outputId": "18a90fcf-935b-4dfe-c2ce-7def0ec5d101"
      },
      "source": [
        "odd_numbers = odd_numbers_in_range(5, 14)\n",
        "\n",
        "print(odd_numbers)"
      ],
      "execution_count": null,
      "outputs": [
        {
          "output_type": "stream",
          "name": "stdout",
          "text": [
            "[5, 7, 9, 11, 13]\n"
          ]
        }
      ]
    },
    {
      "cell_type": "markdown",
      "metadata": {
        "id": "uKh1vSONj8CP"
      },
      "source": [
        "We can use `lambda` functions to create small functions in Python.\n",
        "\n",
        "A lambda function is a small anonymous function.\n",
        "\n",
        "A lambda function can take any number of arguments, but can only have one expression.\n",
        "\n",
        "Let's say we want to write a shorter version of the following function:"
      ]
    },
    {
      "cell_type": "code",
      "metadata": {
        "colab": {
          "base_uri": "https://localhost:8080/"
        },
        "id": "0sJB44kvkQgx",
        "outputId": "5edc6b48-97c4-4d96-b825-341ad14f71a3"
      },
      "source": [
        "def square(number):\n",
        "  return number*number\n",
        "\n",
        "y = square(5)\n",
        "print(y)"
      ],
      "execution_count": null,
      "outputs": [
        {
          "output_type": "stream",
          "name": "stdout",
          "text": [
            "25\n"
          ]
        }
      ]
    },
    {
      "cell_type": "markdown",
      "metadata": {
        "id": "T3KHStOEkyVU"
      },
      "source": [
        "The shorter version is written like this:"
      ]
    },
    {
      "cell_type": "code",
      "metadata": {
        "colab": {
          "base_uri": "https://localhost:8080/"
        },
        "id": "CK6IrogrkqpH",
        "outputId": "3dc56053-9cc0-4523-f104-aba8380eb68d"
      },
      "source": [
        "square = lambda number: number * number\n",
        "\n",
        "y = square(5)\n",
        "print(y)"
      ],
      "execution_count": null,
      "outputs": [
        {
          "output_type": "stream",
          "name": "stdout",
          "text": [
            "25\n"
          ]
        }
      ]
    }
  ]
}
