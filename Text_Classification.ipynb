{
  "nbformat": 4,
  "nbformat_minor": 0,
  "metadata": {
    "accelerator": "GPU",
    "colab": {
      "name": "Text Classification",
      "provenance": [],
      "collapsed_sections": [],
      "authorship_tag": "ABX9TyMgp1r3ZeHvutrDvz/m8Sjz",
      "include_colab_link": true
    },
    "kernelspec": {
      "display_name": "Python 3",
      "name": "python3"
    }
  },
  "cells": [
    {
      "cell_type": "markdown",
      "metadata": {
        "id": "view-in-github",
        "colab_type": "text"
      },
      "source": [
        "<a href=\"https://colab.research.google.com/github/saffarizadeh/INSY4054/blob/main/Text_Classification.ipynb\" target=\"_parent\"><img src=\"https://colab.research.google.com/assets/colab-badge.svg\" alt=\"Open In Colab\"/></a>"
      ]
    },
    {
      "cell_type": "markdown",
      "metadata": {
        "id": "nCci0Rx4q2QD"
      },
      "source": [
        "Source: https://tfhub.dev/google/nnlm-en-dim50/2\n",
        "\n",
        "Read the complete tutorial: https://www.tensorflow.org/tutorials/keras/text_classification_with_hub"
      ]
    },
    {
      "cell_type": "code",
      "metadata": {
        "id": "azuPZUmoqvKW"
      },
      "source": [
        "import tensorflow as tf\n",
        "import matplotlib.pyplot as plt\n",
        "import numpy as np\n",
        "import pandas as pd\n",
        "import tensorflow_hub as hub\n",
        "import tensorflow_datasets as tfds"
      ],
      "execution_count": null,
      "outputs": []
    },
    {
      "cell_type": "code",
      "metadata": {
        "id": "BVPj43sRqzoy"
      },
      "source": [
        "# Split the training set into 60% and 40%, so we'll end up with 15,000 examples\n",
        "# for training, 10,000 examples for validation and 25,000 examples for testing.\n",
        "train_data, validation_data, test_data = tfds.load(\n",
        "    name=\"imdb_reviews\", \n",
        "    split=('train[:60%]', 'train[60%:]', 'test'),\n",
        "    as_supervised=True)"
      ],
      "execution_count": null,
      "outputs": []
    },
    {
      "cell_type": "code",
      "metadata": {
        "colab": {
          "base_uri": "https://localhost:8080/"
        },
        "id": "GbZbOIpKrCk_",
        "outputId": "1f5e24a6-f69d-4cd9-b083-3acf25919796"
      },
      "source": [
        "hub_layer = hub.KerasLayer(\"https://tfhub.dev/google/nnlm-en-dim50/2\",\n",
        "                           input_shape=[], dtype=tf.string, trainable=True)\n",
        "\n",
        "model = tf.keras.models.Sequential([\n",
        "    hub_layer,\n",
        "    tf.keras.layers.Dense(16, activation='relu'),\n",
        "    tf.keras.layers.Dense(1, activation='sigmoid')\n",
        "])\n",
        "\n",
        "model.summary()"
      ],
      "execution_count": null,
      "outputs": [
        {
          "output_type": "stream",
          "text": [
            "Model: \"sequential\"\n",
            "_________________________________________________________________\n",
            "Layer (type)                 Output Shape              Param #   \n",
            "=================================================================\n",
            "keras_layer (KerasLayer)     (None, 50)                48190600  \n",
            "_________________________________________________________________\n",
            "dense (Dense)                (None, 16)                816       \n",
            "_________________________________________________________________\n",
            "dense_1 (Dense)              (None, 1)                 17        \n",
            "=================================================================\n",
            "Total params: 48,191,433\n",
            "Trainable params: 48,191,433\n",
            "Non-trainable params: 0\n",
            "_________________________________________________________________\n"
          ],
          "name": "stdout"
        }
      ]
    },
    {
      "cell_type": "code",
      "metadata": {
        "id": "BbrPk4QTrE5E"
      },
      "source": [
        "model.compile(optimizer='adam',\n",
        "              loss=tf.keras.losses.BinaryCrossentropy(from_logits=True),\n",
        "              metrics=['accuracy'])"
      ],
      "execution_count": null,
      "outputs": []
    },
    {
      "cell_type": "code",
      "metadata": {
        "colab": {
          "background_save": true,
          "base_uri": "https://localhost:8080/"
        },
        "id": "1Mw-uTKJrGUo",
        "outputId": "006c015c-8f4e-4842-a423-e461065cb3ee"
      },
      "source": [
        "history = model.fit(train_data.shuffle(10000).batch(512),\n",
        "                    epochs=10,\n",
        "                    validation_data=validation_data.batch(512),\n",
        "                    verbose=1)"
      ],
      "execution_count": null,
      "outputs": [
        {
          "output_type": "stream",
          "text": [
            "Epoch 1/10\n",
            "30/30 [==============================] - 19s 572ms/step - loss: 0.7146 - accuracy: 0.5226 - val_loss: 0.6370 - val_accuracy: 0.6859\n",
            "Epoch 2/10\n",
            "30/30 [==============================] - 17s 543ms/step - loss: 0.6078 - accuracy: 0.7263 - val_loss: 0.5448 - val_accuracy: 0.7800\n",
            "Epoch 3/10\n",
            "30/30 [==============================] - 17s 549ms/step - loss: 0.4804 - accuracy: 0.8368 - val_loss: 0.4250 - val_accuracy: 0.8294\n",
            "Epoch 4/10\n",
            "30/30 [==============================] - 17s 556ms/step - loss: 0.3364 - accuracy: 0.8880 - val_loss: 0.3516 - val_accuracy: 0.8581\n",
            "Epoch 5/10\n",
            "30/30 [==============================] - 17s 547ms/step - loss: 0.2392 - accuracy: 0.9246 - val_loss: 0.3205 - val_accuracy: 0.8696\n",
            "Epoch 6/10\n",
            "30/30 [==============================] - 17s 558ms/step - loss: 0.1720 - accuracy: 0.9519 - val_loss: 0.3083 - val_accuracy: 0.8725\n",
            "Epoch 7/10\n",
            "30/30 [==============================] - 17s 556ms/step - loss: 0.1230 - accuracy: 0.9709 - val_loss: 0.3066 - val_accuracy: 0.8735\n",
            "Epoch 8/10\n",
            "30/30 [==============================] - 18s 574ms/step - loss: 0.0891 - accuracy: 0.9816 - val_loss: 0.3102 - val_accuracy: 0.8731\n",
            "Epoch 9/10\n",
            "30/30 [==============================] - 18s 567ms/step - loss: 0.0666 - accuracy: 0.9893 - val_loss: 0.3184 - val_accuracy: 0.8715\n",
            "Epoch 10/10\n",
            "30/30 [==============================] - 18s 573ms/step - loss: 0.0485 - accuracy: 0.9939 - val_loss: 0.3302 - val_accuracy: 0.8692\n"
          ],
          "name": "stdout"
        }
      ]
    },
    {
      "cell_type": "code",
      "metadata": {
        "colab": {
          "base_uri": "https://localhost:8080/"
        },
        "id": "qIXqDy1krIUt",
        "outputId": "ddeb353f-b00f-4d43-f0a6-c48e3d712686"
      },
      "source": [
        "model.evaluate(test_data.batch(512), verbose=2)"
      ],
      "execution_count": null,
      "outputs": [
        {
          "output_type": "stream",
          "text": [
            "49/49 - 2s - loss: 0.3487 - accuracy: 0.8592\n"
          ],
          "name": "stdout"
        },
        {
          "output_type": "execute_result",
          "data": {
            "text/plain": [
              "[0.34873026609420776, 0.8592000007629395]"
            ]
          },
          "metadata": {
            "tags": []
          },
          "execution_count": 6
        }
      ]
    },
    {
      "cell_type": "code",
      "metadata": {
        "id": "ecMAnJ8yrLPx"
      },
      "source": [
        "new_reviews = [\"This was a great movie\", \"This was a very bad movie\"]"
      ],
      "execution_count": 9,
      "outputs": []
    },
    {
      "cell_type": "code",
      "metadata": {
        "id": "O9J_UFuzraB9"
      },
      "source": [
        "new_reviews_array = np.array(new_reviews)"
      ],
      "execution_count": 10,
      "outputs": []
    },
    {
      "cell_type": "code",
      "metadata": {
        "id": "GSiYetWjrceM",
        "colab": {
          "base_uri": "https://localhost:8080/"
        },
        "outputId": "8045c69a-fc41-4aaa-bcd7-ac66d51d209b"
      },
      "source": [
        "model(new_reviews_array)"
      ],
      "execution_count": 11,
      "outputs": [
        {
          "output_type": "execute_result",
          "data": {
            "text/plain": [
              "<tf.Tensor: shape=(2, 1), dtype=float32, numpy=\n",
              "array([[0.92864037],\n",
              "       [0.09608527]], dtype=float32)>"
            ]
          },
          "metadata": {
            "tags": []
          },
          "execution_count": 11
        }
      ]
    },
    {
      "cell_type": "code",
      "metadata": {
        "id": "zJlrOto1reoC"
      },
      "source": [
        ""
      ],
      "execution_count": null,
      "outputs": []
    }
  ]
}