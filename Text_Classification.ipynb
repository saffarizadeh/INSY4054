{
  "nbformat": 4,
  "nbformat_minor": 0,
  "metadata": {
    "accelerator": "GPU",
    "colab": {
      "name": "Text Classification",
      "provenance": [],
      "collapsed_sections": [],
      "authorship_tag": "ABX9TyNhSNFTdeP6YqTv82zPYIvj",
      "include_colab_link": true
    },
    "kernelspec": {
      "display_name": "Python 3",
      "name": "python3"
    }
  },
  "cells": [
    {
      "cell_type": "markdown",
      "metadata": {
        "id": "view-in-github",
        "colab_type": "text"
      },
      "source": [
        "<a href=\"https://colab.research.google.com/github/saffarizadeh/INSY4054/blob/main/Text_Classification.ipynb\" target=\"_parent\"><img src=\"https://colab.research.google.com/assets/colab-badge.svg\" alt=\"Open In Colab\"/></a>"
      ]
    },
    {
      "cell_type": "markdown",
      "metadata": {
        "id": "eNxXJclG9FuC"
      },
      "source": [
        "<img src=\"http://saffarizadeh.com/Logo.png\" width=\"300px\"/>\n",
        "\n",
        "# *INSY 4054: Emerging Technologies*\n",
        "\n",
        "# **Trained Models and Transfer Learning**\n",
        "\n",
        "Instructor: Dr. Kambiz Saffarizadeh\n",
        "\n",
        "---"
      ]
    },
    {
      "cell_type": "markdown",
      "metadata": {
        "id": "nCci0Rx4q2QD"
      },
      "source": [
        "Source: https://tfhub.dev/google/nnlm-en-dim50/2\n",
        "\n",
        "Read the complete tutorial: https://www.tensorflow.org/tutorials/keras/text_classification_with_hub"
      ]
    },
    {
      "cell_type": "code",
      "metadata": {
        "id": "azuPZUmoqvKW"
      },
      "source": [
        "import tensorflow as tf\n",
        "import matplotlib.pyplot as plt\n",
        "import numpy as np\n",
        "import pandas as pd\n",
        "import tensorflow_hub as hub\n",
        "import tensorflow_datasets as tfds"
      ],
      "execution_count": null,
      "outputs": []
    },
    {
      "cell_type": "markdown",
      "metadata": {
        "id": "GSOaanehBZd_"
      },
      "source": [
        "We first use `tensorflow_datasets` to load the imdb_reviews dataset.\n",
        "`tensorflow_datasets` loads large datasets in a specific way that works well with TensorFlow models. The data loaded using this method is not in numpy array format. Instead it is a TensorFlow Dataset (see https://www.tensorflow.org/api_docs/python/tf/data/Dataset)."
      ]
    },
    {
      "cell_type": "code",
      "metadata": {
        "id": "BVPj43sRqzoy"
      },
      "source": [
        "# Split the training set into 60% and 40%, so we'll end up with 15,000 examples\n",
        "# for training, 10,000 examples for validation and 25,000 examples for testing.\n",
        "train_data, validation_data, test_data = tfds.load(\n",
        "    name=\"imdb_reviews\", \n",
        "    split=('train[:60%]', 'train[60%:]', 'test'),\n",
        "    as_supervised=True)"
      ],
      "execution_count": null,
      "outputs": []
    },
    {
      "cell_type": "markdown",
      "metadata": {
        "id": "Jy8EHq2-AkB_"
      },
      "source": [
        "We load the pretrained model and extend it using a Sequential model to classify the input into two classes (positive vs. negative sentiment).\n",
        "Note that we set the model as `trainable` which means all parameters can be retrained. Since those parameters already have some weights and biases that work well, it is likely that the final weights and biases are close to what we already have in this part of the model."
      ]
    },
    {
      "cell_type": "code",
      "metadata": {
        "colab": {
          "base_uri": "https://localhost:8080/"
        },
        "id": "GbZbOIpKrCk_",
        "outputId": "8db1209d-4f83-4427-e673-891dd6ebf274"
      },
      "source": [
        "hub_layer = hub.KerasLayer(\"https://tfhub.dev/google/nnlm-en-dim50/2\",\n",
        "                           input_shape=[], dtype=tf.string, trainable=True)\n",
        "\n",
        "model = tf.keras.models.Sequential([\n",
        "    hub_layer,\n",
        "    tf.keras.layers.Dense(16, activation='relu'),\n",
        "    tf.keras.layers.Dense(1, activation='sigmoid')\n",
        "])\n",
        "\n",
        "model.summary()"
      ],
      "execution_count": null,
      "outputs": [
        {
          "output_type": "stream",
          "text": [
            "Model: \"sequential\"\n",
            "_________________________________________________________________\n",
            "Layer (type)                 Output Shape              Param #   \n",
            "=================================================================\n",
            "keras_layer (KerasLayer)     (None, 50)                48190600  \n",
            "_________________________________________________________________\n",
            "dense (Dense)                (None, 16)                816       \n",
            "_________________________________________________________________\n",
            "dense_1 (Dense)              (None, 1)                 17        \n",
            "=================================================================\n",
            "Total params: 48,191,433\n",
            "Trainable params: 48,191,433\n",
            "Non-trainable params: 0\n",
            "_________________________________________________________________\n"
          ],
          "name": "stdout"
        }
      ]
    },
    {
      "cell_type": "code",
      "metadata": {
        "id": "BbrPk4QTrE5E"
      },
      "source": [
        "model.compile(optimizer='adam',\n",
        "              loss=tf.keras.losses.BinaryCrossentropy(from_logits=True),\n",
        "              metrics=['accuracy'])"
      ],
      "execution_count": null,
      "outputs": []
    },
    {
      "cell_type": "markdown",
      "metadata": {
        "id": "voPx8ptXB18t"
      },
      "source": [
        ""
      ]
    },
    {
      "cell_type": "markdown",
      "metadata": {
        "id": "ItepYQcYDduX"
      },
      "source": [
        "Since the dataset we are using is large, we can choose the batch size we want to use to feed the data into our model. Before batching the data, we can shuffle it. To have the same shuffling outcome everytime we run this code on our machine, we can set a seed for the random shuffle. Here we use `10000`. We can use any number we want."
      ]
    },
    {
      "cell_type": "code",
      "metadata": {
        "colab": {
          "base_uri": "https://localhost:8080/"
        },
        "id": "1Mw-uTKJrGUo",
        "outputId": "f4ef3b20-ef3a-4886-8224-2527b2304fa6"
      },
      "source": [
        "history = model.fit(train_data.shuffle(10000).batch(512),\n",
        "                    epochs=10,\n",
        "                    validation_data=validation_data.batch(512),\n",
        "                    verbose=1)"
      ],
      "execution_count": null,
      "outputs": [
        {
          "output_type": "stream",
          "text": [
            "Epoch 1/10\n",
            "30/30 [==============================] - 5s 104ms/step - loss: 0.6807 - accuracy: 0.5662 - val_loss: 0.6037 - val_accuracy: 0.7066\n",
            "Epoch 2/10\n",
            "30/30 [==============================] - 3s 92ms/step - loss: 0.5607 - accuracy: 0.7597 - val_loss: 0.4973 - val_accuracy: 0.7905\n",
            "Epoch 3/10\n",
            "30/30 [==============================] - 3s 92ms/step - loss: 0.4275 - accuracy: 0.8517 - val_loss: 0.3926 - val_accuracy: 0.8448\n",
            "Epoch 4/10\n",
            "30/30 [==============================] - 3s 92ms/step - loss: 0.3018 - accuracy: 0.8974 - val_loss: 0.3385 - val_accuracy: 0.8595\n",
            "Epoch 5/10\n",
            "30/30 [==============================] - 3s 95ms/step - loss: 0.2172 - accuracy: 0.9326 - val_loss: 0.3145 - val_accuracy: 0.8690\n",
            "Epoch 6/10\n",
            "30/30 [==============================] - 3s 94ms/step - loss: 0.1586 - accuracy: 0.9538 - val_loss: 0.3067 - val_accuracy: 0.8735\n",
            "Epoch 7/10\n",
            "30/30 [==============================] - 3s 93ms/step - loss: 0.1161 - accuracy: 0.9714 - val_loss: 0.3072 - val_accuracy: 0.8725\n",
            "Epoch 8/10\n",
            "30/30 [==============================] - 3s 93ms/step - loss: 0.0845 - accuracy: 0.9827 - val_loss: 0.3132 - val_accuracy: 0.8719\n",
            "Epoch 9/10\n",
            "30/30 [==============================] - 3s 92ms/step - loss: 0.0614 - accuracy: 0.9895 - val_loss: 0.3224 - val_accuracy: 0.8699\n",
            "Epoch 10/10\n",
            "30/30 [==============================] - 3s 93ms/step - loss: 0.0449 - accuracy: 0.9945 - val_loss: 0.3363 - val_accuracy: 0.8709\n"
          ],
          "name": "stdout"
        }
      ]
    },
    {
      "cell_type": "code",
      "metadata": {
        "colab": {
          "base_uri": "https://localhost:8080/"
        },
        "id": "qIXqDy1krIUt",
        "outputId": "13a448a3-96ae-4a72-8121-3429d37407e8"
      },
      "source": [
        "model.evaluate(test_data.batch(512), verbose=2)"
      ],
      "execution_count": null,
      "outputs": [
        {
          "output_type": "stream",
          "text": [
            "49/49 - 2s - loss: 0.3633 - accuracy: 0.8579\n"
          ],
          "name": "stdout"
        },
        {
          "output_type": "execute_result",
          "data": {
            "text/plain": [
              "[0.36330464482307434, 0.8579199910163879]"
            ]
          },
          "metadata": {
            "tags": []
          },
          "execution_count": 6
        }
      ]
    },
    {
      "cell_type": "code",
      "metadata": {
        "id": "ecMAnJ8yrLPx"
      },
      "source": [
        "new_reviews = [\"This was a great movie\", \"This was a very bad movie\"]"
      ],
      "execution_count": null,
      "outputs": []
    },
    {
      "cell_type": "code",
      "metadata": {
        "id": "O9J_UFuzraB9"
      },
      "source": [
        "new_reviews_array = np.array(new_reviews)"
      ],
      "execution_count": null,
      "outputs": []
    },
    {
      "cell_type": "code",
      "metadata": {
        "id": "GSiYetWjrceM",
        "colab": {
          "base_uri": "https://localhost:8080/"
        },
        "outputId": "81af5cfd-f294-4475-e230-9853242d2135"
      },
      "source": [
        "model(new_reviews_array)"
      ],
      "execution_count": null,
      "outputs": [
        {
          "output_type": "execute_result",
          "data": {
            "text/plain": [
              "<tf.Tensor: shape=(2, 1), dtype=float32, numpy=\n",
              "array([[0.9793732 ],\n",
              "       [0.11797823]], dtype=float32)>"
            ]
          },
          "metadata": {
            "tags": []
          },
          "execution_count": 9
        }
      ]
    },
    {
      "cell_type": "code",
      "metadata": {
        "id": "kGpGvJkots3r"
      },
      "source": [
        ""
      ],
      "execution_count": null,
      "outputs": []
    }
  ]
}