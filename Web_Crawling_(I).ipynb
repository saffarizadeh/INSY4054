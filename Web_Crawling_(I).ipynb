{
  "nbformat": 4,
  "nbformat_minor": 0,
  "metadata": {
    "colab": {
      "name": "Web Crawling (I).ipynb",
      "provenance": [],
      "collapsed_sections": [],
      "authorship_tag": "ABX9TyMAWT8q8OXpK3xTkwfL1ulo",
      "include_colab_link": true
    },
    "kernelspec": {
      "name": "python3",
      "display_name": "Python 3"
    }
  },
  "cells": [
    {
      "cell_type": "markdown",
      "metadata": {
        "id": "view-in-github",
        "colab_type": "text"
      },
      "source": [
        "<a href=\"https://colab.research.google.com/github/saffarizadeh/INSY4054/blob/main/Web_Crawling_(I).ipynb\" target=\"_parent\"><img src=\"https://colab.research.google.com/assets/colab-badge.svg\" alt=\"Open In Colab\"/></a>"
      ]
    },
    {
      "cell_type": "markdown",
      "metadata": {
        "id": "UmAPSvRc8huq"
      },
      "source": [
        "<img src=\"http://saffarizadeh.com/Logo.png\" width=\"300px\"/>\n",
        "\n",
        "# *INSY 4054: Emerging Technologies*\n",
        "\n",
        "# **Web Crawling (I)**\n",
        "\n",
        "Instructor: Dr. Kambiz Saffarizadeh\n",
        "\n",
        "---"
      ]
    },
    {
      "cell_type": "markdown",
      "metadata": {
        "id": "t-vnbNewAGhp"
      },
      "source": [
        "# Web Crawling in Python"
      ]
    },
    {
      "cell_type": "markdown",
      "metadata": {
        "id": "yJyYTzrPbZbM"
      },
      "source": [
        "We can user the `requests` library to issue requests to different websites.\n",
        "\n",
        "To do so, we have to specify the `url` the we want to open. In this example, we use the `get` method to open the url."
      ]
    },
    {
      "cell_type": "code",
      "metadata": {
        "id": "2t08dXjx_mrF"
      },
      "source": [
        "import requests"
      ],
      "execution_count": null,
      "outputs": []
    },
    {
      "cell_type": "code",
      "metadata": {
        "id": "e2hCFw30AKcx"
      },
      "source": [
        "url = 'https://www.marquette.edu/'\n",
        "response = requests.get(url)"
      ],
      "execution_count": null,
      "outputs": []
    },
    {
      "cell_type": "markdown",
      "metadata": {
        "id": "qWikjZBhbtG-"
      },
      "source": [
        "We can always use the `dir` function on any object in Python to see what kinds of methods and properties we have access to through the object. For example, here we check in which way we can use `response`."
      ]
    },
    {
      "cell_type": "code",
      "metadata": {
        "id": "lOcDWr9SASNh"
      },
      "source": [
        "dir(response)"
      ],
      "execution_count": null,
      "outputs": []
    },
    {
      "cell_type": "markdown",
      "metadata": {
        "id": "C2dQA2lMAbH5"
      },
      "source": [
        "## Response Headers"
      ]
    },
    {
      "cell_type": "markdown",
      "metadata": {
        "id": "6EQfGKlAcBNK"
      },
      "source": [
        "To access the header from the `response` object, we can use `headers`."
      ]
    },
    {
      "cell_type": "code",
      "metadata": {
        "colab": {
          "base_uri": "https://localhost:8080/"
        },
        "id": "P7DS1p8tATm0",
        "outputId": "eff93307-8753-42b3-d50a-6314e866e89f"
      },
      "source": [
        "response.headers"
      ],
      "execution_count": null,
      "outputs": [
        {
          "output_type": "execute_result",
          "data": {
            "text/plain": [
              "{'Date': 'Mon, 08 Mar 2021 16:31:34 GMT', 'Server': 'Apache', 'X-Powered-By': 'PHP/7.2.34', 'Strict-Transport-Security': 'max-age=63072000; includeSubDomains; preload', 'X-Content-Type-Options': 'nosniff', 'Vary': 'Accept-Encoding,User-Agent', 'Content-Encoding': 'gzip', 'Content-Length': '16586', 'Keep-Alive': 'timeout=5, max=100', 'Connection': 'Keep-Alive', 'Content-Type': 'text/html; charset=ISO_8859-10'}"
            ]
          },
          "metadata": {
            "tags": []
          },
          "execution_count": 4
        }
      ]
    },
    {
      "cell_type": "markdown",
      "metadata": {
        "id": "HrzHY0U1AkQq"
      },
      "source": [
        "Note: `headers` is a special dictionary: it’s made just for HTTP headers. According to RFC 7230, HTTP Header names are case-insensitive.\n",
        "\n",
        "So, we can access the headers using any capitalization we want:"
      ]
    },
    {
      "cell_type": "code",
      "metadata": {
        "colab": {
          "base_uri": "https://localhost:8080/",
          "height": 35
        },
        "id": "PNkMSFiwAjkn",
        "outputId": "f0b8823e-0acd-40e9-834d-0fd7fedd8699"
      },
      "source": [
        "response.headers['Content-Type']"
      ],
      "execution_count": null,
      "outputs": [
        {
          "output_type": "execute_result",
          "data": {
            "application/vnd.google.colaboratory.intrinsic+json": {
              "type": "string"
            },
            "text/plain": [
              "'text/html; charset=ISO_8859-10'"
            ]
          },
          "metadata": {
            "tags": []
          },
          "execution_count": 5
        }
      ]
    },
    {
      "cell_type": "markdown",
      "metadata": {
        "id": "USkTWp2Gca2p"
      },
      "source": [
        "Note that we can also use the `get` method to do the same thing. The difference between using square brackets and using the `get` method is that if what we are looking for does not exist inside headers, we get an error with square brackets but not with the `get` method."
      ]
    },
    {
      "cell_type": "code",
      "metadata": {
        "colab": {
          "base_uri": "https://localhost:8080/",
          "height": 35
        },
        "id": "SHBpUjzFAgwW",
        "outputId": "5efd248c-3d56-4e00-ab2d-3457404cd3f1"
      },
      "source": [
        "response.headers.get('content-type')"
      ],
      "execution_count": null,
      "outputs": [
        {
          "output_type": "execute_result",
          "data": {
            "application/vnd.google.colaboratory.intrinsic+json": {
              "type": "string"
            },
            "text/plain": [
              "'text/html; charset=ISO_8859-10'"
            ]
          },
          "metadata": {
            "tags": []
          },
          "execution_count": 6
        }
      ]
    },
    {
      "cell_type": "markdown",
      "metadata": {
        "id": "I5cN6aUJAv0a"
      },
      "source": [
        "## Cookies"
      ]
    },
    {
      "cell_type": "markdown",
      "metadata": {
        "id": "hKFKTfRSc5O0"
      },
      "source": [
        "Some websites use cookies, that is create some files on your device to store some temporary information. To learn more about cookies visit https://www.allaboutcookies.org/cookies/.\n",
        "\n",
        "We can access the cookies created by a website after we open it using `cookies,get_dict()` method. Note that some websites don't use cookies unless you are logged in."
      ]
    },
    {
      "cell_type": "code",
      "metadata": {
        "colab": {
          "base_uri": "https://localhost:8080/"
        },
        "id": "jegL-BpxAqFe",
        "outputId": "1e7484f7-38ef-46bb-f7cf-4eb2ca2d2ece"
      },
      "source": [
        "response.cookies.get_dict()"
      ],
      "execution_count": null,
      "outputs": [
        {
          "output_type": "execute_result",
          "data": {
            "text/plain": [
              "{}"
            ]
          },
          "metadata": {
            "tags": []
          },
          "execution_count": 7
        }
      ]
    },
    {
      "cell_type": "markdown",
      "metadata": {
        "id": "SpgPA1AvA12I"
      },
      "source": [
        "Websites often use their own stored cookies in next interactions to make sure you continue your interaction from where you left off.\n",
        "\n",
        "Using `requests` you can send websites your own custom cookies. To send your own cookies to the server, you can use the cookies parameter:"
      ]
    },
    {
      "cell_type": "code",
      "metadata": {
        "colab": {
          "base_uri": "https://localhost:8080/"
        },
        "id": "mdaXQkPvAy5V",
        "outputId": "42bafcd5-41bc-4e80-d631-011833c62b1b"
      },
      "source": [
        "url = 'https://httpbin.org/cookies'\n",
        "\n",
        "cookies = {'cookies_are': 'working'}\n",
        "\n",
        "response = requests.get(url, cookies=cookies)\n",
        "\n",
        "print(response.text)"
      ],
      "execution_count": null,
      "outputs": [
        {
          "output_type": "stream",
          "text": [
            "{\n",
            "  \"cookies\": {\n",
            "    \"cookies_are\": \"working\"\n",
            "  }\n",
            "}\n",
            "\n"
          ],
          "name": "stdout"
        }
      ]
    },
    {
      "cell_type": "markdown",
      "metadata": {
        "id": "I-uJ4zFoA9yd"
      },
      "source": [
        "## Custom Headers\n",
        "\n",
        "If you’d like to add HTTP headers to a request, simply pass in a `dict` to the `headers` parameter.\n",
        "\n",
        "This is often useful when a website only opens on specific devices or browsers. This way you can mimic those devices or browsers (to some extent)."
      ]
    },
    {
      "cell_type": "code",
      "metadata": {
        "id": "G6cYI6s4A3rM"
      },
      "source": [
        "url = 'https://api.github.com/some/endpoint'\n",
        "headers = {'user-agent': 'my-app/0.0.1'}\n",
        "response = requests.get(url, headers=headers)"
      ],
      "execution_count": null,
      "outputs": []
    },
    {
      "cell_type": "markdown",
      "metadata": {
        "id": "BhMpMmP4BM78"
      },
      "source": [
        "## Timeouts\n",
        "\n",
        "You can tell `requests` to stop waiting for a response after a given number of seconds with the `timeout` parameter.\n",
        "\n",
        "Nearly all production code should use this parameter in nearly all requests. Failure to do so can cause your program to hang indefinitely.\n",
        "\n",
        "Note that `timeout` is not a time limit on the entire response download; rather, an exception is raised if the server has not issued a response for timeout seconds (more precisely, if no bytes have been received on the underlying socket for timeout seconds). If no timeout is specified explicitly, requests do not time out."
      ]
    },
    {
      "cell_type": "code",
      "metadata": {
        "colab": {
          "base_uri": "https://localhost:8080/"
        },
        "id": "epM-V3BeBF4z",
        "outputId": "f0bc7443-9827-4ce2-9795-90de0363825c"
      },
      "source": [
        "requests.get('https://github.com/', timeout=0.1)"
      ],
      "execution_count": null,
      "outputs": [
        {
          "output_type": "execute_result",
          "data": {
            "text/plain": [
              "<Response [200]>"
            ]
          },
          "metadata": {
            "tags": []
          },
          "execution_count": 10
        }
      ]
    },
    {
      "cell_type": "markdown",
      "metadata": {
        "id": "tDmK7PBGBWox"
      },
      "source": [
        "## Response Status Codes"
      ]
    },
    {
      "cell_type": "markdown",
      "metadata": {
        "id": "eaOOm0yBe5tm"
      },
      "source": [
        "When you issue a request, the response will have a status. This status shows whether the request was successful (200), page not found (404), there was a server error (500), etc.\n",
        "\n",
        "These status codes can help you automized the process of crawling much more efficiently."
      ]
    },
    {
      "cell_type": "code",
      "metadata": {
        "id": "ILhPBRMoBRoA"
      },
      "source": [
        "url = 'https://www.marquette.edu/dsakjhdasiudasjk'\n",
        "response = requests.get(url)"
      ],
      "execution_count": null,
      "outputs": []
    },
    {
      "cell_type": "code",
      "metadata": {
        "colab": {
          "base_uri": "https://localhost:8080/"
        },
        "id": "sss369gUBjmZ",
        "outputId": "24184b70-5d6d-4518-b332-aa9381361024"
      },
      "source": [
        "response.status_code"
      ],
      "execution_count": null,
      "outputs": [
        {
          "output_type": "execute_result",
          "data": {
            "text/plain": [
              "404"
            ]
          },
          "metadata": {
            "tags": []
          },
          "execution_count": 12
        }
      ]
    },
    {
      "cell_type": "code",
      "metadata": {
        "colab": {
          "base_uri": "https://localhost:8080/"
        },
        "id": "pZvrqeGWBlBN",
        "outputId": "22988bda-4ab3-4488-a0bb-07d7338ddd5f"
      },
      "source": [
        "requests.codes.ok"
      ],
      "execution_count": null,
      "outputs": [
        {
          "output_type": "execute_result",
          "data": {
            "text/plain": [
              "200"
            ]
          },
          "metadata": {
            "tags": []
          },
          "execution_count": 13
        }
      ]
    },
    {
      "cell_type": "code",
      "metadata": {
        "colab": {
          "base_uri": "https://localhost:8080/"
        },
        "id": "TRikMLIgBmlP",
        "outputId": "70177947-2ea0-4f59-d528-a6ad5ee24294"
      },
      "source": [
        "response.status_code == requests.codes.ok"
      ],
      "execution_count": null,
      "outputs": [
        {
          "output_type": "execute_result",
          "data": {
            "text/plain": [
              "False"
            ]
          },
          "metadata": {
            "tags": []
          },
          "execution_count": 14
        }
      ]
    },
    {
      "cell_type": "markdown",
      "metadata": {
        "id": "N3lmB8Z4fU5r"
      },
      "source": [
        "The `get` method does not raise an exception (error) when the request was unsuccessful. It is up to you to check the status and decide how the program should proceed based on the status.\n",
        "\n",
        "But sometimes, you might want to intentionally raise an exception (error) if the `get` method was unsuccessful. To do so, you can simply call `raise_for_status` method on the response object."
      ]
    },
    {
      "cell_type": "code",
      "metadata": {
        "id": "ILE9YrgcBw4N"
      },
      "source": [
        "# response.raise_for_status()"
      ],
      "execution_count": null,
      "outputs": []
    },
    {
      "cell_type": "markdown",
      "metadata": {
        "id": "gqq_ylR1B86R"
      },
      "source": [
        "## Text and Binary Responses"
      ]
    },
    {
      "cell_type": "markdown",
      "metadata": {
        "id": "cxxDgqPNf89d"
      },
      "source": [
        "To access the crawled page content, you have two main methods: `text` and `content`.\n",
        "\n",
        "The difference between these two methods is that `text` returns a string (str) but `content` returns `bytes`. The advantage of working with `bytes` is that they are not limited to texts, that is, we can also access an image or a video if the url is directly referring to one.\n",
        "\n",
        "Warning: It is strongly recommended that you open files in binary mode."
      ]
    },
    {
      "cell_type": "code",
      "metadata": {
        "colab": {
          "base_uri": "https://localhost:8080/"
        },
        "id": "PvvKw_SwBya1",
        "outputId": "d46a7478-b814-4b70-c362-47243c47c34a"
      },
      "source": [
        "url = 'https://www.marquette.edu/'\n",
        "\n",
        "print(type(response.text)) # returns text content\n",
        "print(type(response.content)) # works for text and any other content type such as image"
      ],
      "execution_count": null,
      "outputs": [
        {
          "output_type": "stream",
          "text": [
            "<class 'str'>\n",
            "<class 'bytes'>\n"
          ],
          "name": "stdout"
        }
      ]
    },
    {
      "cell_type": "markdown",
      "metadata": {
        "id": "zCI0s7T4CO0e"
      },
      "source": [
        "## JSON Response"
      ]
    },
    {
      "cell_type": "markdown",
      "metadata": {
        "id": "ln3rHAVJhIfr"
      },
      "source": [
        "In some cases, we might want to retrieve json data from a url. To do so, we don't need to do anything special in `get`. After `getting` the url, you can use `json` method to get the response as a list of dictionaries. "
      ]
    },
    {
      "cell_type": "code",
      "metadata": {
        "id": "zlMB7L3ACDha"
      },
      "source": [
        "response = requests.get('https://api.github.com/events')"
      ],
      "execution_count": null,
      "outputs": []
    },
    {
      "cell_type": "code",
      "metadata": {
        "id": "ZHLoHYTSCRHJ"
      },
      "source": [
        "json_resp = response.json()"
      ],
      "execution_count": null,
      "outputs": []
    },
    {
      "cell_type": "code",
      "metadata": {
        "id": "iRslAPFWCSTf"
      },
      "source": [
        "print(type(json_resp))\n",
        "print(type(json_resp[0]))\n",
        "print(json_resp)"
      ],
      "execution_count": null,
      "outputs": []
    },
    {
      "cell_type": "markdown",
      "metadata": {
        "id": "FakIui8IjW8u"
      },
      "source": [
        "## POST requests\n",
        "\n",
        "Sometimes, you want to send some form-encoded data — much like an HTML form. To do this, simply pass a dictionary to the data argument. Your dictionary of `data` will automatically be form-encoded when the request is made:"
      ]
    },
    {
      "cell_type": "code",
      "metadata": {
        "id": "bzXzPNyXCTV-"
      },
      "source": [
        "payload = {'key1': 'value1', 'key2': 'value2'}"
      ],
      "execution_count": null,
      "outputs": []
    },
    {
      "cell_type": "code",
      "metadata": {
        "id": "r-benEcsjaUX"
      },
      "source": [
        "response = requests.post(\"https://httpbin.org/post\", data=payload)"
      ],
      "execution_count": null,
      "outputs": []
    },
    {
      "cell_type": "code",
      "metadata": {
        "colab": {
          "base_uri": "https://localhost:8080/"
        },
        "id": "J-rQ5kqhjcf1",
        "outputId": "45d4fbee-56bd-4305-843f-27c6eccc49d3"
      },
      "source": [
        "print(response.text)\n",
        "\n",
        "# OR print(response.json())"
      ],
      "execution_count": null,
      "outputs": [
        {
          "output_type": "stream",
          "text": [
            "{\n",
            "  \"args\": {}, \n",
            "  \"data\": \"\", \n",
            "  \"files\": {}, \n",
            "  \"form\": {\n",
            "    \"key1\": \"value1\", \n",
            "    \"key2\": \"value2\"\n",
            "  }, \n",
            "  \"headers\": {\n",
            "    \"Accept\": \"*/*\", \n",
            "    \"Accept-Encoding\": \"gzip, deflate\", \n",
            "    \"Content-Length\": \"23\", \n",
            "    \"Content-Type\": \"application/x-www-form-urlencoded\", \n",
            "    \"Host\": \"httpbin.org\", \n",
            "    \"User-Agent\": \"python-requests/2.23.0\", \n",
            "    \"X-Amzn-Trace-Id\": \"Root=1-60465168-277a941274853219502b47ce\"\n",
            "  }, \n",
            "  \"json\": null, \n",
            "  \"origin\": \"34.105.42.245\", \n",
            "  \"url\": \"https://httpbin.org/post\"\n",
            "}\n",
            "\n"
          ],
          "name": "stdout"
        }
      ]
    },
    {
      "cell_type": "markdown",
      "metadata": {
        "id": "653gfJAFjpty"
      },
      "source": [
        "There are times that you may want to send data that is not form-encoded. If you pass in a `string` instead of a `dict`, that data will be posted directly."
      ]
    },
    {
      "cell_type": "code",
      "metadata": {
        "id": "hTzDcDKMjhG1"
      },
      "source": [
        "import json"
      ],
      "execution_count": null,
      "outputs": []
    },
    {
      "cell_type": "code",
      "metadata": {
        "id": "ac8VAwZcjvTr"
      },
      "source": [
        "payload = {'key1': 'value1', 'key2': 'value2'}"
      ],
      "execution_count": null,
      "outputs": []
    },
    {
      "cell_type": "code",
      "metadata": {
        "colab": {
          "base_uri": "https://localhost:8080/",
          "height": 35
        },
        "id": "Sw-P965eiJsr",
        "outputId": "a11b2a49-87ac-46ca-fe59-4323df02618e"
      },
      "source": [
        "json.dumps(payload) # to convert the dictonary to string"
      ],
      "execution_count": null,
      "outputs": [
        {
          "output_type": "execute_result",
          "data": {
            "application/vnd.google.colaboratory.intrinsic+json": {
              "type": "string"
            },
            "text/plain": [
              "'{\"key1\": \"value1\", \"key2\": \"value2\"}'"
            ]
          },
          "metadata": {
            "tags": []
          },
          "execution_count": 25
        }
      ]
    },
    {
      "cell_type": "code",
      "metadata": {
        "id": "yt1l3b8_jvst"
      },
      "source": [
        "response = requests.post('https://httpbin.org/post', data=json.dumps(payload))"
      ],
      "execution_count": null,
      "outputs": []
    },
    {
      "cell_type": "code",
      "metadata": {
        "colab": {
          "base_uri": "https://localhost:8080/"
        },
        "id": "_YfGVBk-j0cH",
        "outputId": "ee17c93a-8e49-4a96-9630-876708251c39"
      },
      "source": [
        "print(response.text)"
      ],
      "execution_count": null,
      "outputs": [
        {
          "output_type": "stream",
          "text": [
            "{\n",
            "  \"args\": {}, \n",
            "  \"data\": \"{\\\"key1\\\": \\\"value1\\\", \\\"key2\\\": \\\"value2\\\"}\", \n",
            "  \"files\": {}, \n",
            "  \"form\": {}, \n",
            "  \"headers\": {\n",
            "    \"Accept\": \"*/*\", \n",
            "    \"Accept-Encoding\": \"gzip, deflate\", \n",
            "    \"Content-Length\": \"36\", \n",
            "    \"Host\": \"httpbin.org\", \n",
            "    \"User-Agent\": \"python-requests/2.23.0\", \n",
            "    \"X-Amzn-Trace-Id\": \"Root=1-60465168-54c36eeb585570f278c6b9e0\"\n",
            "  }, \n",
            "  \"json\": {\n",
            "    \"key1\": \"value1\", \n",
            "    \"key2\": \"value2\"\n",
            "  }, \n",
            "  \"origin\": \"34.105.42.245\", \n",
            "  \"url\": \"https://httpbin.org/post\"\n",
            "}\n",
            "\n"
          ],
          "name": "stdout"
        }
      ]
    }
  ]
}