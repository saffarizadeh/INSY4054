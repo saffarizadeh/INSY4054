{
  "nbformat": 4,
  "nbformat_minor": 0,
  "metadata": {
    "colab": {
      "provenance": [],
      "authorship_tag": "ABX9TyN5fzYJSrq6BiQXwliIbBKt",
      "include_colab_link": true
    },
    "kernelspec": {
      "name": "python3",
      "display_name": "Python 3"
    },
    "accelerator": "GPU"
  },
  "cells": [
    {
      "cell_type": "markdown",
      "metadata": {
        "id": "view-in-github",
        "colab_type": "text"
      },
      "source": [
        "<a href=\"https://colab.research.google.com/github/saffarizadeh/INSY4054/blob/main/Automation_Project.ipynb\" target=\"_parent\"><img src=\"https://colab.research.google.com/assets/colab-badge.svg\" alt=\"Open In Colab\"/></a>"
      ]
    },
    {
      "cell_type": "markdown",
      "metadata": {
        "id": "t-zS-N3YprMF"
      },
      "source": [
        "<img src=\"http://saffarizadeh.com/Logo.png\" width=\"300px\"/>\n",
        "\n",
        "# *INSY 4054: Emerging Technologies*\n",
        "\n",
        "# **Automation Project**\n",
        "\n",
        "Instructor: Dr. Kambiz Saffarizadeh\n",
        "\n",
        "---"
      ]
    },
    {
      "cell_type": "markdown",
      "metadata": {
        "id": "-_OJ05fooC39"
      },
      "source": [
        "## Please read carefully\n",
        "\n",
        "In this project, we want to learn how to scrape and analyze user reviews from a specific webpage.\n",
        "\n",
        "The target webpage is http://saffarizadeh.com/ET/reviews.html.\n",
        "\n",
        "Please open and view the webpage.\n",
        "\n",
        "In next steps, after importing all needed libraries, we first download the webpage. Then using BeautifulSoup, we extract titles, reviews, and ratings from the webpage. We then create a table to keep these data. Next, we pass the reviews to a sentiment analysis model and store the sentiments in a new column in the table. Finally we create a few reports based on the sentiment analysis and store all tables in an Excel file."
      ]
    },
    {
      "cell_type": "markdown",
      "metadata": {
        "id": "DebydpkhivsD"
      },
      "source": [
        "## Insert all needed libraries here"
      ]
    },
    {
      "cell_type": "code",
      "metadata": {
        "id": "oaxz-SbvocQb"
      },
      "source": [
        "import requests\n",
        "from bs4 import BeautifulSoup\n",
        "import pandas as pd"
      ],
      "execution_count": null,
      "outputs": []
    },
    {
      "cell_type": "markdown",
      "metadata": {
        "id": "Ly-_r2gyi1DX"
      },
      "source": [
        "## Crawl the website\n",
        "\n",
        "Use the `get` method to download the following webpage:\n",
        "\n",
        "`http://saffarizadeh.com/ET/reviews.html`"
      ]
    },
    {
      "cell_type": "code",
      "metadata": {
        "id": "xXNfVX1hocOf"
      },
      "source": [
        "url = 'http://saffarizadeh.com/ET/reviews.html'\n",
        "response = requests.get(url)"
      ],
      "execution_count": null,
      "outputs": []
    },
    {
      "cell_type": "markdown",
      "metadata": {
        "id": "A2uOYqNXi956"
      },
      "source": [
        "## Make a soup"
      ]
    },
    {
      "cell_type": "markdown",
      "metadata": {
        "id": "bCc1fTeRqMZ0"
      },
      "source": [
        "Use Beautiful Soup to create/make an HTML soup!"
      ]
    },
    {
      "cell_type": "code",
      "metadata": {
        "id": "LP6CszryocMN"
      },
      "source": [
        "soup = BeautifulSoup(response.content, 'lxml')"
      ],
      "execution_count": null,
      "outputs": []
    },
    {
      "cell_type": "markdown",
      "metadata": {
        "id": "ayFk114YjENT"
      },
      "source": [
        "## Using the soup, extract titles, reviews, and ratings\n",
        "\n",
        "Note: do this in 3 separate steps. These steps are extremely similar. So after writing the first one, the next ones should be very easy.\n",
        "\n",
        "Note: use `attrs` to find all relevant elements for each step.\n",
        "\n",
        "Note: to figure out which attribute(s) and attribute values you need to use, open http://saffarizadeh.com/ET/reviews.html in Chrome or FireFox, right click on the element you want to extract, and select `Inspect` or `Inspect Element`. This way you can see the HTML code for this specific element. Using slides #7 and #8 of Week 8-1, you should be able to identify the attribute name and attribute values needed."
      ]
    },
    {
      "cell_type": "markdown",
      "metadata": {
        "id": "vnA0TXGKjtmu"
      },
      "source": [
        "Titles: Store all review titles in a list named `list1`"
      ]
    },
    {
      "cell_type": "code",
      "metadata": {
        "colab": {
          "base_uri": "https://localhost:8080/"
        },
        "id": "m7TiM9XWocHb",
        "outputId": "20c6215d-6cf2-4aff-e316-a0565b6f25c6"
      },
      "source": [
        "review_titles = soup.find_all(attrs={\"class\": \"reviewTitle\"})\n",
        "review_titles_text = []\n",
        "\n",
        "for review_title in review_titles:\n",
        "  review_titles_text.append(review_title.text)\n",
        "\n",
        "review_titles_text"
      ],
      "execution_count": null,
      "outputs": [
        {
          "output_type": "execute_result",
          "data": {
            "text/plain": [
              "['Yeaaa USB C!!!!! But the dongle? Why? Why not a USB C dongle!?!?!? WHY Logitech! Why?',\n",
              " 'Logitech - how many tries do you need to get it just right?',\n",
              " 'Worthy Upgrade, Too Bad It’s Not In White',\n",
              " 'Terrible scroll wheel issues',\n",
              " 'Logitech made a great mouse even better',\n",
              " 'Unconfortable downgrade from the Performance MX 1',\n",
              " 'Not for gamers',\n",
              " 'More compatible with Mac than I expected',\n",
              " 'Improvement over the last gen. Worth the upgrade',\n",
              " 'The best scroll wheel ever.']"
            ]
          },
          "metadata": {},
          "execution_count": 4
        }
      ]
    },
    {
      "cell_type": "markdown",
      "metadata": {
        "id": "9qkyv7jyjwxw"
      },
      "source": [
        "Reviews: Store all review body texts in a list named `list2`"
      ]
    },
    {
      "cell_type": "code",
      "metadata": {
        "colab": {
          "base_uri": "https://localhost:8080/"
        },
        "id": "YYGoweDmocCh",
        "outputId": "6e3c08fc-ff88-4495-e20a-5a786bf306f4"
      },
      "source": [
        "review_bodies = soup.find_all(attrs={\"class\": \"reviewBody\"})\n",
        "review_bodies_text = []\n",
        "\n",
        "for review_body in review_bodies:\n",
        "  review_bodies_text.append(review_body.text)\n",
        "\n",
        "review_bodies_text"
      ],
      "execution_count": null,
      "outputs": [
        {
          "output_type": "execute_result",
          "data": {
            "text/plain": [
              "['WHY Logitech! Why? Lets finally go FULL USB C not this half butt effort. I want to see a full butt USB C effort.',\n",
              " 'The scroll wheel is awesome. The fit and finish is awesome though it should have a model slippery rubber coating when I can get around that problem. The buttons are decent enough. The scroll wheel is awesome. But......\\n                Damn it damn it damn it. How many times is it going to take for you to get the damned forward and back buttons right!\\n                Version one sucked. Version 2 sucked. Version 3 walad admittedly slightly improved, STILL STUCK!\\n                They are too small , too stiff, and meld in to everything around them.\\n                They need to be made much larger and they need to be place much lower.\\n                Oh well. Maybe version 4 will get them right...\\n                TWO stars off for little or no useability testing with REAL customers instead of devs and managers.\\n                Damn it.',\n",
              " 'Purchased this product after accidentally purchasing the 2S. Amazon listed this product two days later, so I got a chance to compare and contrast the two.\\n                Aesthetically the white 2S looked much better on my white desk, in fact it was a perfect match. The light grey version of the 3, leaves me wishing that they released a white version with silver accents instead (the silver portions is akin to the silver of MacBooks or other Apple devices, the light grey portion does not match Apple devices). But considering the button placement of the 2S, I’d rather deal with the undesirable color of the 3, than stress my thumb to use the forward and back buttons on the 2S.\\n                Which leads to the ergonomics.\\n                The 3 has significantly better placement for my larger than average hands (my hands require an L or XL glove, due to finger length, I’m 6’1” with basketball player hands). On the 2S it required pulling my thumb so far back, that it initially felt like my thumb was going to dislocate (maybe if I used the joint of my thumb to press it, it would’ve been easier, but the buttons being stacked on top of each other on the 2S made it a bit difficult to target the button with the joint of my large fingers; using the tip my thumb was easier). On the 3 that isn’t a problem. However, the 3 causes the horizontal scroll wheel to be so high, that it also causes my thumb to be in an awkward / uncomfortable position when trying to scroll horizontally. Fortunately, I don’t require scrolling horizontally that often, and after awhile maybe I’ll learn better hand placement. Probably would’ve been better to put those buttons almost directly where the thumb rests (only slightly above), instead of completely above the thumb (therefore the horizontal scroll wheel could’ve been lower). It’s usable, just know it might cause some initial discomfort for large hands / long fingers.\\n                The vertical scroll wheel is great. Feels much better than the scroll wheel on the 2S, but it may take some fiddling with the Logitech Options program to get it to automatically switch to free scrolling based on your desired speed. The default setting switches it too easily, and the jump from ratcheted scrolling to free scrolling speed is significant. You might find yourself wanting to just scroll a few lines faster, and then suddenly you’re all the way at the bottom of a webpage.\\n                Also, upon the release Youtubers began posting their reviews, and many of them indicated that the scroll wheel is silent. That is not actually the case. In comparison to the 2S, it’s relatively silent (significantly more silent), in free scrolling mode it’s actually silent, but in ratcheting mode it can be clearly heard. Personally I find that pleasant, I was disappointed hearing what I basically interpreted as the mouse not giving any auditory feedback, but it indeed can be heard it’s just much lower than the MX mice before, and the feel of it is much more pleasant.\\n                Lastly, the software.\\n                The Logitech Options program failed to install on a Mac. It just hangs on the first try. This happened when I initially installed the software for the 2S. I had to force quit the install, uninstall the program, and then reinstall it. Upon installing it the second time, the install completed fine. When I eventually received the 3, the program would not recognize the new mouse and I couldn’t get it to register as a new device. I also could not remove the previous 2S, to be able to install the 3. So I then had to uninstall the program again, and upon installing the newer version that they just released, the program hung on the first install process again. So, I had to uninstall it for a third time, and reinstall it again. When the program reinstalled it showed no devices and I was able to add the 3 as a new device, registering it correctly.\\n                Perhaps this issue is because I am an Apple Developer, and am using a Developer Beta of macOS. Or maybe it’s just Logitech going through growing pains they’ll resolve later. But if you encounter an issue like me, know that it can be solved, it will just take patience.\\n                The one thing I haven’t figured out yet is, when installing the custom profiles so that the mouse switches behavior based on the application you are using ... I am not able to install the profile for Photoshop. The Safari, Chrome, and other profiles installed without a problem, only Photoshop did not. I tried uninstalling and reinstalling Photoshop, no dice. I dread the thought of attempting to uninstall and reinstall Logitech Options again. Maybe I’ll try that next month when enough time has passed, and will update this review accordingly.\\n                Those quirks aside, I can honestly say that the 3 is a worthy upgrade. I’ll keep it until they release it in white or the 3s / 4, whichever comes first. But for now I’m as satisfied as I can be, and recommend it.',\n",
              " \"I have the former MX Master 2S and upgraded to the 3. All seems fine except the scrolling with the scroll wheel. After about 3 turns of the wheel the web pages don't scroll consistently (tried multiple browsers) as if the wheel turning is not being detected internally properly. I tried the same with the 2S again and no scroll issues so something is definitely wrong with this mouse. Put in for a defective item replacement and hope it's just this one mouse. Will update this review if the replacement fixes the problem.\\n                Edit: I forgot to mention that I bought this updated MX Master 3 hoping the macOS bluetooth jittery cursor issues would be fixed as there are known bluetooth problems with macOS with the MX Master 2S. Sadly they were not fixed and it's still jittery on a Mac.\",\n",
              " \"The MX Master 2s was a fantastic mouse, but I had two complaints about it: 1, It used Micro USB instead of Type C and 2, the thumb wheel and navigation buttons were hard to use.\\n                The MX Master 3 fixes both those problems. The thumb wheel now has a very high quality feel to it and is very easy to spin around, and they've moved the navigation buttons lower down to make them easier to press with your thumb. The main scrollwheel has also been made quieter, and somehow even more fun to use.\\n                As before, this mouse works on pretty much all surfaces, can connect to 3 devices, and can connect by either bluetooth or a USB dongle. I've had no issues using it on both a Mac and PC.\\n                Logitech claims a battery life of 70 days, and while I obviously haven't been able to test that out yet, if the MX Master 2S is anything to go by, you can expect great battery life on this mouse too.\",\n",
              " 'Cons in comparison to the original Performance MX\\n                -Only 1 year warranty instead of 3.\\n                -SHORTER : if placed comfortably in the hand my 3 fingers are too far away to click... A huge issue.\\n                -Narrower I now have my fourth finger rubbing the mouse pad instead of resting on the side of the mouse.\\n                -Lighter, no so important but feel cheaper.\\n                -Even if you put the center scroll wheel to stepped mode it switch to free roll if you turn it to fast or long enough so this button is partially useless, at least it can be mapped to something else. (like switching mouse resolution)\\n                Pro\\n                -I love the horizontal scroll wheel\\n                -Button/wheels can be configured for each program which is great\\n                Sadly as I use my mouse sometime more then 12 hours per day if the comfort is not perfect I will injure myself. I already feel a slight pain and stiffness after only one short day !\\n                I will have to return this mouse and buy parts to repair my old Performance MX v1. An Omron mini switch cost a couple dollars!\\n                This is a shame since I found the horizontal scroll wheel very useful.',\n",
              " 'Many Youtubers recommend this mouse as their absolute favourite. After MKBHD’s office tour video, this mouse immediately caught my eyes. However, if you’re a gamer and I mean gamer that uses a mouse, this is not for you.\\n                Pros:\\n                -Very good build quality, I’ve never used any mice that even come close to this.\\n                -Very comfortable to use/hold for long periods of time. The moment I put my hand on it, I could tell I can use it for hours and not feel any discomfort.\\n                -Can be used on many devices with just a single button. I’m still so amazed by how it can pair up to my PC and my MacBook. This makes the user experience to a whole another level. Plus it can be both wired (USB C) or wireless.\\n                Cons:\\n                -Does not have a precise DPI changer. Most gaming mice you can change the DPI to any of your liking. But not this one, the software only allows you to slide the sensitivity to the left or to the right (no numbers). So you just have to keep sliding until “feel” it’s right. This absolute destroyed my mouse muscle memory.\\n                -Thumb Burton’s are too small and not clicky. Not too much of a big deal to me but I often can’t find the back button when I’m moving through folders. Takes a little to adjust.',\n",
              " \"If you work with a Mac and are wondering if this mouse for you--yes it is. And get it. I upgrated to this mouse from the magic mouse. I guess I kept using it for this long only because of its high compatibility with Mac; however after switching to this mouse the whole working flow just got improved tremendously. The button on the thumb position allows for all the 'mac specific' gestures, the desktop switching etc, you know which ones; and most importantly, the scrolling experience is SMOOTH. I guess lots of the Mac users are wondering about the scrolling function here, which is where apple products excel the most-- in my opinion it is about 95% as good as with magic mouse/trackpad. But considering how much better my hand is feeling after extended periods of time working on the computer, which is a lot these days, it is totally worth it. The poor ergonomic design of the magic mouse was truly hurting my hand and now that I look back I almost have no idea why I put up with that thing for that long.\\n                One thing to mention: the button on the top of the mouse is for you to toggle the smooth scrolling and the typical 'geared' type of scrolling. It works better with mac scrolling with the smooth scrolling in my opinion, but definitely toggle away and see which one works better for you!\",\n",
              " \"I have two of the previous generation and this is an improvement in every way.\\n                - Wheel moves easier, and the magnetic lock on this one seems to actually work, as opposed the previous gen that would release the lock after some period of time\\n                - Slightly smaller than the previous one, no real opinion on that for me, but those with smaller hands will like it better\\n                - Side-scrolling wheel actually useful now. Previous one was too hard to use, and I just ignored it.\\n                - Somehow the clicks feel better too. Can't articulate how, but they feel nicer.\",\n",
              " 'The best Mx Master yet. And this time with real improvements with the design.\\n                So the last 2 where incredibly similar to each other. The only difference between the 2 being a better performing sensor, and more software functionality. But otherwise identical ergonomically and base function.\\n                Now, the 3rd version offers some real improvements. While offering the same sensor and software improvements of the last gen, you now have a real change to its ergonomics and the scroll wheel is just better.\\n                I used to have a problem with my index finger sticking out past the mouse due to the arrow head like design. but now this mouse is a bit more asymetrical with a slightly longer index button. And the scroll wheel and buttons around your thumb are just way better positioned. I can actually use them without straining myself. And the thumb scroll performs so much better now. Much more smother and responsive.\\n                And finally the real claim to fame, the new scroll wheel. It is the softest, gentlist, most responsive scroll wheel i have ever used. The old gens you would really feel the different notches, and you feel like your have to force it to grind past before it just lets go and starts to slide freely. But this magnetic version just feels smoother. It doesnt feel like physical notches, more but like the wheel is just stopping itself. Its kind of like if you passed to magnets close together with the same poles. You will feel that force as they get closer together, and that release when you go past it. But just repeated over and over. And when you flick that wheel, the magnets disappears and it just flows. I hope i did a good job explaining it. It just feels better than the last gen. And the last gen was already my absolute favorite scroll wheel.\\n                If you had the previous versions, i honestly believe that this is worth the upgrade. You will like this one so much more.']"
            ]
          },
          "metadata": {},
          "execution_count": 5
        }
      ]
    },
    {
      "cell_type": "markdown",
      "metadata": {
        "id": "hOkUadipj0ZM"
      },
      "source": [
        "Ratings: Store all review ratings in a list named `list3`\n",
        "\n",
        "Note: the extracted ratings will be in `str` (text) format; convert them to `int` before storing them in the list"
      ]
    },
    {
      "cell_type": "code",
      "metadata": {
        "colab": {
          "base_uri": "https://localhost:8080/"
        },
        "id": "7rEfhjlhocAl",
        "outputId": "4e39984d-c1c6-4ca2-b72e-ee37fd48bf2c"
      },
      "source": [
        "review_ratings = soup.find_all(attrs={\"class\": \"rating\"})\n",
        "review_ratings_text = []\n",
        "\n",
        "for review_rating in review_ratings:\n",
        "  review_ratings_text.append(float(review_rating.get(\"rating\")))\n",
        "\n",
        "review_ratings_text"
      ],
      "execution_count": null,
      "outputs": [
        {
          "output_type": "execute_result",
          "data": {
            "text/plain": [
              "[3.0, 3.0, 4.0, 1.0, 5.0, 2.0, 3.0, 5.0, 5.0, 5.0]"
            ]
          },
          "metadata": {},
          "execution_count": 6
        }
      ]
    },
    {
      "cell_type": "markdown",
      "metadata": {
        "id": "6gCpuLhTkIiw"
      },
      "source": [
        "## Create a `pandas` data frame and store the three lists that you created for titles, body texts, and ratings\n",
        "\n",
        "Hint: you can first create a dictionary with `title`, `body`, and `rating` as keys and list1, list2, and list 3 and values. Then you can create a data frame from this dictionary."
      ]
    },
    {
      "cell_type": "code",
      "metadata": {
        "id": "orOrvbl3ob9s"
      },
      "source": [
        "df = pd.DataFrame({\"title\": review_titles_text, \"body\": review_bodies_text, \"rating\": review_ratings_text})"
      ],
      "execution_count": null,
      "outputs": []
    },
    {
      "cell_type": "markdown",
      "metadata": {
        "id": "BlzHBSWtlHFh"
      },
      "source": [
        "Show the data frame:"
      ]
    },
    {
      "cell_type": "code",
      "metadata": {
        "colab": {
          "base_uri": "https://localhost:8080/",
          "height": 363
        },
        "id": "QdgQ6kl9pvHe",
        "outputId": "ac39572b-504a-4ffe-9b28-c9777003ca2c"
      },
      "source": [
        "df"
      ],
      "execution_count": null,
      "outputs": [
        {
          "output_type": "execute_result",
          "data": {
            "text/html": [
              "<div>\n",
              "<style scoped>\n",
              "    .dataframe tbody tr th:only-of-type {\n",
              "        vertical-align: middle;\n",
              "    }\n",
              "\n",
              "    .dataframe tbody tr th {\n",
              "        vertical-align: top;\n",
              "    }\n",
              "\n",
              "    .dataframe thead th {\n",
              "        text-align: right;\n",
              "    }\n",
              "</style>\n",
              "<table border=\"1\" class=\"dataframe\">\n",
              "  <thead>\n",
              "    <tr style=\"text-align: right;\">\n",
              "      <th></th>\n",
              "      <th>title</th>\n",
              "      <th>body</th>\n",
              "      <th>rating</th>\n",
              "    </tr>\n",
              "  </thead>\n",
              "  <tbody>\n",
              "    <tr>\n",
              "      <th>0</th>\n",
              "      <td>Yeaaa USB C!!!!! But the dongle? Why? Why not ...</td>\n",
              "      <td>WHY Logitech! Why? Lets finally go FULL USB C ...</td>\n",
              "      <td>3.0</td>\n",
              "    </tr>\n",
              "    <tr>\n",
              "      <th>1</th>\n",
              "      <td>Logitech - how many tries do you need to get i...</td>\n",
              "      <td>The scroll wheel is awesome. The fit and finis...</td>\n",
              "      <td>3.0</td>\n",
              "    </tr>\n",
              "    <tr>\n",
              "      <th>2</th>\n",
              "      <td>Worthy Upgrade, Too Bad It’s Not In White</td>\n",
              "      <td>Purchased this product after accidentally purc...</td>\n",
              "      <td>4.0</td>\n",
              "    </tr>\n",
              "    <tr>\n",
              "      <th>3</th>\n",
              "      <td>Terrible scroll wheel issues</td>\n",
              "      <td>I have the former MX Master 2S and upgraded to...</td>\n",
              "      <td>1.0</td>\n",
              "    </tr>\n",
              "    <tr>\n",
              "      <th>4</th>\n",
              "      <td>Logitech made a great mouse even better</td>\n",
              "      <td>The MX Master 2s was a fantastic mouse, but I ...</td>\n",
              "      <td>5.0</td>\n",
              "    </tr>\n",
              "    <tr>\n",
              "      <th>5</th>\n",
              "      <td>Unconfortable downgrade from the Performance MX 1</td>\n",
              "      <td>Cons in comparison to the original Performance...</td>\n",
              "      <td>2.0</td>\n",
              "    </tr>\n",
              "    <tr>\n",
              "      <th>6</th>\n",
              "      <td>Not for gamers</td>\n",
              "      <td>Many Youtubers recommend this mouse as their a...</td>\n",
              "      <td>3.0</td>\n",
              "    </tr>\n",
              "    <tr>\n",
              "      <th>7</th>\n",
              "      <td>More compatible with Mac than I expected</td>\n",
              "      <td>If you work with a Mac and are wondering if th...</td>\n",
              "      <td>5.0</td>\n",
              "    </tr>\n",
              "    <tr>\n",
              "      <th>8</th>\n",
              "      <td>Improvement over the last gen. Worth the upgrade</td>\n",
              "      <td>I have two of the previous generation and this...</td>\n",
              "      <td>5.0</td>\n",
              "    </tr>\n",
              "    <tr>\n",
              "      <th>9</th>\n",
              "      <td>The best scroll wheel ever.</td>\n",
              "      <td>The best Mx Master yet. And this time with rea...</td>\n",
              "      <td>5.0</td>\n",
              "    </tr>\n",
              "  </tbody>\n",
              "</table>\n",
              "</div>"
            ],
            "text/plain": [
              "                                               title  ... rating\n",
              "0  Yeaaa USB C!!!!! But the dongle? Why? Why not ...  ...    3.0\n",
              "1  Logitech - how many tries do you need to get i...  ...    3.0\n",
              "2          Worthy Upgrade, Too Bad It’s Not In White  ...    4.0\n",
              "3                       Terrible scroll wheel issues  ...    1.0\n",
              "4            Logitech made a great mouse even better  ...    5.0\n",
              "5  Unconfortable downgrade from the Performance MX 1  ...    2.0\n",
              "6                                     Not for gamers  ...    3.0\n",
              "7           More compatible with Mac than I expected  ...    5.0\n",
              "8   Improvement over the last gen. Worth the upgrade  ...    5.0\n",
              "9                        The best scroll wheel ever.  ...    5.0\n",
              "\n",
              "[10 rows x 3 columns]"
            ]
          },
          "metadata": {},
          "execution_count": 8
        }
      ]
    },
    {
      "cell_type": "code",
      "metadata": {
        "id": "Hsf0fEsGpvKZ"
      },
      "source": [],
      "execution_count": null,
      "outputs": []
    },
    {
      "cell_type": "code",
      "metadata": {
        "id": "GoDnim4RpvNA"
      },
      "source": [],
      "execution_count": null,
      "outputs": []
    },
    {
      "cell_type": "code",
      "metadata": {
        "id": "OEjQ5Xms_fpI",
        "cellView": "form"
      },
      "source": [
        "#@title Run this cell to train a sentiment analysis model. This model directly comes from Activity 6 in Week 5-1 slides. Running this cell takes 1-2 minutes.\n",
        "%%capture\n",
        "import tensorflow as tf\n",
        "import tensorflow_hub as hub\n",
        "import tensorflow_datasets as tfds\n",
        "\n",
        "train_data, validation_data, test_data = tfds.load(name=\"imdb_reviews\", split=('train[:60%]', 'train[60%:]', 'test'), as_supervised=True)\n",
        "model = tf.keras.models.Sequential([\n",
        "    hub.KerasLayer(\"https://tfhub.dev/google/nnlm-en-dim50/2\", input_shape=[], dtype=tf.string, trainable=True),\n",
        "    tf.keras.layers.Dense(16, activation='relu'),\n",
        "    tf.keras.layers.Dense(1, activation='sigmoid')\n",
        "])\n",
        "model.compile(optimizer='adam', loss=tf.keras.losses.BinaryCrossentropy(from_logits=True), metrics=['accuracy'])\n",
        "model.fit(train_data.shuffle(1).batch(512), epochs=10, verbose=1)"
      ],
      "execution_count": null,
      "outputs": []
    },
    {
      "cell_type": "markdown",
      "metadata": {
        "id": "h0BN_VuHl1NC"
      },
      "source": [
        "After running the previous cell, pass the column containing the reviews to the model. To do so, run the following code after replacing `column_placeholder` with the actual column from the data frame:\n",
        "\n",
        "`sentiment = model(column_placeholder).numpy()`"
      ]
    },
    {
      "cell_type": "code",
      "metadata": {
        "id": "W3G0e1Q5AAw-"
      },
      "source": [
        "sentiment = model(df[\"body\"]).numpy()"
      ],
      "execution_count": null,
      "outputs": []
    },
    {
      "cell_type": "markdown",
      "metadata": {
        "id": "VQ-puD7tmoVL"
      },
      "source": [
        "Store `sentiment` as a new column in the data frame."
      ]
    },
    {
      "cell_type": "code",
      "metadata": {
        "id": "urRrNmXbAI5c"
      },
      "source": [
        "df[\"sentiment\"] = sentiment"
      ],
      "execution_count": null,
      "outputs": []
    },
    {
      "cell_type": "markdown",
      "metadata": {
        "id": "DlDHxRqumvrA"
      },
      "source": [
        "Show the data frame:"
      ]
    },
    {
      "cell_type": "code",
      "metadata": {
        "colab": {
          "base_uri": "https://localhost:8080/",
          "height": 363
        },
        "id": "bqox-j1trq-F",
        "outputId": "b1994d0a-3bd3-42e0-da0f-a38f18947893"
      },
      "source": [
        "df"
      ],
      "execution_count": null,
      "outputs": [
        {
          "output_type": "execute_result",
          "data": {
            "text/html": [
              "<div>\n",
              "<style scoped>\n",
              "    .dataframe tbody tr th:only-of-type {\n",
              "        vertical-align: middle;\n",
              "    }\n",
              "\n",
              "    .dataframe tbody tr th {\n",
              "        vertical-align: top;\n",
              "    }\n",
              "\n",
              "    .dataframe thead th {\n",
              "        text-align: right;\n",
              "    }\n",
              "</style>\n",
              "<table border=\"1\" class=\"dataframe\">\n",
              "  <thead>\n",
              "    <tr style=\"text-align: right;\">\n",
              "      <th></th>\n",
              "      <th>title</th>\n",
              "      <th>body</th>\n",
              "      <th>rating</th>\n",
              "      <th>sentiment</th>\n",
              "    </tr>\n",
              "  </thead>\n",
              "  <tbody>\n",
              "    <tr>\n",
              "      <th>0</th>\n",
              "      <td>Yeaaa USB C!!!!! But the dongle? Why? Why not ...</td>\n",
              "      <td>WHY Logitech! Why? Lets finally go FULL USB C ...</td>\n",
              "      <td>3.0</td>\n",
              "      <td>0.046181</td>\n",
              "    </tr>\n",
              "    <tr>\n",
              "      <th>1</th>\n",
              "      <td>Logitech - how many tries do you need to get i...</td>\n",
              "      <td>The scroll wheel is awesome. The fit and finis...</td>\n",
              "      <td>3.0</td>\n",
              "      <td>0.367792</td>\n",
              "    </tr>\n",
              "    <tr>\n",
              "      <th>2</th>\n",
              "      <td>Worthy Upgrade, Too Bad It’s Not In White</td>\n",
              "      <td>Purchased this product after accidentally purc...</td>\n",
              "      <td>4.0</td>\n",
              "      <td>0.588653</td>\n",
              "    </tr>\n",
              "    <tr>\n",
              "      <th>3</th>\n",
              "      <td>Terrible scroll wheel issues</td>\n",
              "      <td>I have the former MX Master 2S and upgraded to...</td>\n",
              "      <td>1.0</td>\n",
              "      <td>0.269465</td>\n",
              "    </tr>\n",
              "    <tr>\n",
              "      <th>4</th>\n",
              "      <td>Logitech made a great mouse even better</td>\n",
              "      <td>The MX Master 2s was a fantastic mouse, but I ...</td>\n",
              "      <td>5.0</td>\n",
              "      <td>0.993866</td>\n",
              "    </tr>\n",
              "    <tr>\n",
              "      <th>5</th>\n",
              "      <td>Unconfortable downgrade from the Performance MX 1</td>\n",
              "      <td>Cons in comparison to the original Performance...</td>\n",
              "      <td>2.0</td>\n",
              "      <td>0.707362</td>\n",
              "    </tr>\n",
              "    <tr>\n",
              "      <th>6</th>\n",
              "      <td>Not for gamers</td>\n",
              "      <td>Many Youtubers recommend this mouse as their a...</td>\n",
              "      <td>3.0</td>\n",
              "      <td>0.620746</td>\n",
              "    </tr>\n",
              "    <tr>\n",
              "      <th>7</th>\n",
              "      <td>More compatible with Mac than I expected</td>\n",
              "      <td>If you work with a Mac and are wondering if th...</td>\n",
              "      <td>5.0</td>\n",
              "      <td>0.997792</td>\n",
              "    </tr>\n",
              "    <tr>\n",
              "      <th>8</th>\n",
              "      <td>Improvement over the last gen. Worth the upgrade</td>\n",
              "      <td>I have two of the previous generation and this...</td>\n",
              "      <td>5.0</td>\n",
              "      <td>0.833942</td>\n",
              "    </tr>\n",
              "    <tr>\n",
              "      <th>9</th>\n",
              "      <td>The best scroll wheel ever.</td>\n",
              "      <td>The best Mx Master yet. And this time with rea...</td>\n",
              "      <td>5.0</td>\n",
              "      <td>0.995888</td>\n",
              "    </tr>\n",
              "  </tbody>\n",
              "</table>\n",
              "</div>"
            ],
            "text/plain": [
              "                                               title  ... sentiment\n",
              "0  Yeaaa USB C!!!!! But the dongle? Why? Why not ...  ...  0.046181\n",
              "1  Logitech - how many tries do you need to get i...  ...  0.367792\n",
              "2          Worthy Upgrade, Too Bad It’s Not In White  ...  0.588653\n",
              "3                       Terrible scroll wheel issues  ...  0.269465\n",
              "4            Logitech made a great mouse even better  ...  0.993866\n",
              "5  Unconfortable downgrade from the Performance MX 1  ...  0.707362\n",
              "6                                     Not for gamers  ...  0.620746\n",
              "7           More compatible with Mac than I expected  ...  0.997792\n",
              "8   Improvement over the last gen. Worth the upgrade  ...  0.833942\n",
              "9                        The best scroll wheel ever.  ...  0.995888\n",
              "\n",
              "[10 rows x 4 columns]"
            ]
          },
          "metadata": {},
          "execution_count": 12
        }
      ]
    },
    {
      "cell_type": "markdown",
      "metadata": {
        "id": "FlG8L2HvmxzH"
      },
      "source": [
        "Select the rows with sentiment values above average."
      ]
    },
    {
      "cell_type": "code",
      "metadata": {
        "colab": {
          "base_uri": "https://localhost:8080/",
          "height": 269
        },
        "id": "ehwHDIFT76J8",
        "outputId": "ced2d376-c6b9-4680-9848-4c135b14401e"
      },
      "source": [
        "df[df[\"sentiment\"]>=0.5]"
      ],
      "execution_count": null,
      "outputs": [
        {
          "output_type": "execute_result",
          "data": {
            "text/html": [
              "<div>\n",
              "<style scoped>\n",
              "    .dataframe tbody tr th:only-of-type {\n",
              "        vertical-align: middle;\n",
              "    }\n",
              "\n",
              "    .dataframe tbody tr th {\n",
              "        vertical-align: top;\n",
              "    }\n",
              "\n",
              "    .dataframe thead th {\n",
              "        text-align: right;\n",
              "    }\n",
              "</style>\n",
              "<table border=\"1\" class=\"dataframe\">\n",
              "  <thead>\n",
              "    <tr style=\"text-align: right;\">\n",
              "      <th></th>\n",
              "      <th>title</th>\n",
              "      <th>body</th>\n",
              "      <th>rating</th>\n",
              "      <th>sentiment</th>\n",
              "    </tr>\n",
              "  </thead>\n",
              "  <tbody>\n",
              "    <tr>\n",
              "      <th>2</th>\n",
              "      <td>Worthy Upgrade, Too Bad It’s Not In White</td>\n",
              "      <td>Purchased this product after accidentally purc...</td>\n",
              "      <td>4.0</td>\n",
              "      <td>0.588653</td>\n",
              "    </tr>\n",
              "    <tr>\n",
              "      <th>4</th>\n",
              "      <td>Logitech made a great mouse even better</td>\n",
              "      <td>The MX Master 2s was a fantastic mouse, but I ...</td>\n",
              "      <td>5.0</td>\n",
              "      <td>0.993866</td>\n",
              "    </tr>\n",
              "    <tr>\n",
              "      <th>5</th>\n",
              "      <td>Unconfortable downgrade from the Performance MX 1</td>\n",
              "      <td>Cons in comparison to the original Performance...</td>\n",
              "      <td>2.0</td>\n",
              "      <td>0.707362</td>\n",
              "    </tr>\n",
              "    <tr>\n",
              "      <th>6</th>\n",
              "      <td>Not for gamers</td>\n",
              "      <td>Many Youtubers recommend this mouse as their a...</td>\n",
              "      <td>3.0</td>\n",
              "      <td>0.620746</td>\n",
              "    </tr>\n",
              "    <tr>\n",
              "      <th>7</th>\n",
              "      <td>More compatible with Mac than I expected</td>\n",
              "      <td>If you work with a Mac and are wondering if th...</td>\n",
              "      <td>5.0</td>\n",
              "      <td>0.997792</td>\n",
              "    </tr>\n",
              "    <tr>\n",
              "      <th>8</th>\n",
              "      <td>Improvement over the last gen. Worth the upgrade</td>\n",
              "      <td>I have two of the previous generation and this...</td>\n",
              "      <td>5.0</td>\n",
              "      <td>0.833942</td>\n",
              "    </tr>\n",
              "    <tr>\n",
              "      <th>9</th>\n",
              "      <td>The best scroll wheel ever.</td>\n",
              "      <td>The best Mx Master yet. And this time with rea...</td>\n",
              "      <td>5.0</td>\n",
              "      <td>0.995888</td>\n",
              "    </tr>\n",
              "  </tbody>\n",
              "</table>\n",
              "</div>"
            ],
            "text/plain": [
              "                                               title  ... sentiment\n",
              "2          Worthy Upgrade, Too Bad It’s Not In White  ...  0.588653\n",
              "4            Logitech made a great mouse even better  ...  0.993866\n",
              "5  Unconfortable downgrade from the Performance MX 1  ...  0.707362\n",
              "6                                     Not for gamers  ...  0.620746\n",
              "7           More compatible with Mac than I expected  ...  0.997792\n",
              "8   Improvement over the last gen. Worth the upgrade  ...  0.833942\n",
              "9                        The best scroll wheel ever.  ...  0.995888\n",
              "\n",
              "[7 rows x 4 columns]"
            ]
          },
          "metadata": {},
          "execution_count": 13
        }
      ]
    },
    {
      "cell_type": "markdown",
      "metadata": {
        "id": "arF5iPe4m6sD"
      },
      "source": [
        "Select the rows with sentiment values below average."
      ]
    },
    {
      "cell_type": "code",
      "metadata": {
        "colab": {
          "base_uri": "https://localhost:8080/",
          "height": 143
        },
        "id": "rgKrOsWF8Agz",
        "outputId": "17576672-5571-4633-c1bd-75cb4a649bfb"
      },
      "source": [
        "df[df[\"sentiment\"]<0.5]"
      ],
      "execution_count": null,
      "outputs": [
        {
          "output_type": "execute_result",
          "data": {
            "text/html": [
              "<div>\n",
              "<style scoped>\n",
              "    .dataframe tbody tr th:only-of-type {\n",
              "        vertical-align: middle;\n",
              "    }\n",
              "\n",
              "    .dataframe tbody tr th {\n",
              "        vertical-align: top;\n",
              "    }\n",
              "\n",
              "    .dataframe thead th {\n",
              "        text-align: right;\n",
              "    }\n",
              "</style>\n",
              "<table border=\"1\" class=\"dataframe\">\n",
              "  <thead>\n",
              "    <tr style=\"text-align: right;\">\n",
              "      <th></th>\n",
              "      <th>title</th>\n",
              "      <th>body</th>\n",
              "      <th>rating</th>\n",
              "      <th>sentiment</th>\n",
              "    </tr>\n",
              "  </thead>\n",
              "  <tbody>\n",
              "    <tr>\n",
              "      <th>0</th>\n",
              "      <td>Yeaaa USB C!!!!! But the dongle? Why? Why not ...</td>\n",
              "      <td>WHY Logitech! Why? Lets finally go FULL USB C ...</td>\n",
              "      <td>3.0</td>\n",
              "      <td>0.046181</td>\n",
              "    </tr>\n",
              "    <tr>\n",
              "      <th>1</th>\n",
              "      <td>Logitech - how many tries do you need to get i...</td>\n",
              "      <td>The scroll wheel is awesome. The fit and finis...</td>\n",
              "      <td>3.0</td>\n",
              "      <td>0.367792</td>\n",
              "    </tr>\n",
              "    <tr>\n",
              "      <th>3</th>\n",
              "      <td>Terrible scroll wheel issues</td>\n",
              "      <td>I have the former MX Master 2S and upgraded to...</td>\n",
              "      <td>1.0</td>\n",
              "      <td>0.269465</td>\n",
              "    </tr>\n",
              "  </tbody>\n",
              "</table>\n",
              "</div>"
            ],
            "text/plain": [
              "                                               title  ... sentiment\n",
              "0  Yeaaa USB C!!!!! But the dongle? Why? Why not ...  ...  0.046181\n",
              "1  Logitech - how many tries do you need to get i...  ...  0.367792\n",
              "3                       Terrible scroll wheel issues  ...  0.269465\n",
              "\n",
              "[3 rows x 4 columns]"
            ]
          },
          "metadata": {},
          "execution_count": 14
        }
      ]
    },
    {
      "cell_type": "markdown",
      "metadata": {
        "id": "etvp9ZqwnAgO"
      },
      "source": [
        "Create an Excel file with three sheets showing: 1) the main data frame, 2) the rows with sentiment values above average, and 3) the rows with sentiment values below average."
      ]
    },
    {
      "cell_type": "code",
      "metadata": {
        "id": "WEWpKSlg8FQM"
      },
      "source": [],
      "execution_count": null,
      "outputs": []
    }
  ]
}