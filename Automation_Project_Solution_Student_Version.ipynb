{
  "nbformat": 4,
  "nbformat_minor": 0,
  "metadata": {
    "colab": {
      "provenance": [],
      "include_colab_link": true
    },
    "kernelspec": {
      "name": "python3",
      "display_name": "Python 3"
    },
    "accelerator": "GPU"
  },
  "cells": [
    {
      "cell_type": "markdown",
      "metadata": {
        "id": "view-in-github",
        "colab_type": "text"
      },
      "source": [
        "<a href=\"https://colab.research.google.com/github/saffarizadeh/INSY4054/blob/main/Automation_Project_Solution_Student_Version.ipynb\" target=\"_parent\"><img src=\"https://colab.research.google.com/assets/colab-badge.svg\" alt=\"Open In Colab\"/></a>"
      ]
    },
    {
      "cell_type": "markdown",
      "metadata": {
        "id": "t-zS-N3YprMF"
      },
      "source": [
        "<img src=\"http://saffarizadeh.com/Logo.png\" width=\"300px\"/>\n",
        "\n",
        "# *INSY 4054: Emerging Technologies*\n",
        "\n",
        "# **Automation Project**\n",
        "\n",
        "Instructor: Dr. Kambiz Saffarizadeh\n",
        "\n",
        "---"
      ]
    },
    {
      "cell_type": "markdown",
      "metadata": {
        "id": "-_OJ05fooC39"
      },
      "source": [
        "## Please read carefully\n",
        "\n",
        "In this project, we want to learn how to automate the process of analyzing the user reviews on a specific webpage. If we were in charge of continuously monitoring some specific products of our competitors, this automation can save us a lot of time.\n",
        "\n",
        "The target webpage is https://saffarizadeh.com/ET/reviews.html.\n",
        "\n",
        "Please open and view the webpage.\n",
        "\n",
        "In next steps, after importing all needed libraries, we first download the webpage. Then using BeautifulSoup, we extract titles, reviews, and ratings from the webpage. We then create a table to keep these data. Next, we pass the reviews to a sentiment analysis model and store the sentiments in a new column in the table. Finally, we create a few reports based on the sentiment analysis and store all tables in an Excel file."
      ]
    },
    {
      "cell_type": "markdown",
      "metadata": {
        "id": "DebydpkhivsD"
      },
      "source": [
        "## Insert all needed libraries here"
      ]
    },
    {
      "cell_type": "code",
      "metadata": {
        "id": "ZyYaQUQ7taDc"
      },
      "source": [
        "import requests\n",
        "import pandas as pd\n",
        "from bs4 import BeautifulSoup"
      ],
      "execution_count": null,
      "outputs": []
    },
    {
      "cell_type": "markdown",
      "metadata": {
        "id": "Ly-_r2gyi1DX"
      },
      "source": [
        "## Crawl the website\n",
        "\n",
        "Use the `get` method to download the following webpage:\n",
        "\n",
        "`https://saffarizadeh.com/ET/reviews.html`"
      ]
    },
    {
      "cell_type": "code",
      "metadata": {
        "id": "RnnMdWVEtbEX"
      },
      "source": [
        "response = requests.get(\"https://saffarizadeh.com/ET/reviews.html\")"
      ],
      "execution_count": null,
      "outputs": []
    },
    {
      "cell_type": "markdown",
      "metadata": {
        "id": "A2uOYqNXi956"
      },
      "source": [
        "## Make a soup"
      ]
    },
    {
      "cell_type": "markdown",
      "metadata": {
        "id": "bCc1fTeRqMZ0"
      },
      "source": [
        "Use Beautiful Soup to create/make an HTML soup!"
      ]
    },
    {
      "cell_type": "code",
      "metadata": {
        "id": "Y3gXGbqdtcef"
      },
      "source": [
        "soup = BeautifulSoup(response.content, 'lxml')"
      ],
      "execution_count": null,
      "outputs": []
    },
    {
      "cell_type": "markdown",
      "metadata": {
        "id": "ayFk114YjENT"
      },
      "source": [
        "## Using the soup, extract titles, reviews, and ratings\n",
        "\n",
        "Note: do this in 3 separate steps. These steps are extremely similar. So after writing the first one, the next ones should be very easy.\n",
        "\n",
        "Note: use `attrs` to find all relevant elements for each step.\n",
        "\n",
        "Note: to figure out which attribute(s) and attribute values you need to use, open https://saffarizadeh.com/ET/reviews.html in Chrome or FireFox, right click on the element you want to extract, and select `Inspect` or `Inspect Element`. This way you can see the HTML code for this specific element. Using slides #13, #14, and #15 of Automating Business Tasks II\", you should be able to identify the attribute name and attribute values needed."
      ]
    },
    {
      "cell_type": "markdown",
      "metadata": {
        "id": "vnA0TXGKjtmu"
      },
      "source": [
        "Titles: Store all review titles in a list named `list1`"
      ]
    },
    {
      "cell_type": "code",
      "metadata": {
        "id": "_i_iwsjWtdxR"
      },
      "source": [
        "list1 = []\n",
        "\n",
        "for title in soup.find_all(attrs={\"class\": \"reviewTitle\"}):\n",
        "  list1.append(title.text)"
      ],
      "execution_count": null,
      "outputs": []
    },
    {
      "cell_type": "markdown",
      "metadata": {
        "id": "9qkyv7jyjwxw"
      },
      "source": [
        "Reviews: Store all review body texts in a list named `list2`"
      ]
    },
    {
      "cell_type": "code",
      "metadata": {
        "id": "73UWfSPYtgie"
      },
      "source": [
        "list2 = []\n",
        "\n",
        "for review in soup.find_all(attrs={\"class\": \"reviewBody\"}):\n",
        "  list2.append(review.text)"
      ],
      "execution_count": null,
      "outputs": []
    },
    {
      "cell_type": "markdown",
      "metadata": {
        "id": "hOkUadipj0ZM"
      },
      "source": [
        "Ratings: Store all review ratings in a list named `list3`\n",
        "\n",
        "Note: For this step you have two ways to extract the ratings. Both ways are fine but using the `rating` attribute is easier.\n",
        "\n",
        "Note: the extracted ratings will be in `str` (text) format; convert them to `int` or `float` before storing them in the list\n",
        "\n",
        "Note: if you could not convert the ratings into numeric values, you can continue with string values and come back at the end of the project to see whether you can fix the problem. You can do the next part of this project without this type conversion."
      ]
    },
    {
      "cell_type": "code",
      "metadata": {
        "id": "L-c_41y9tiTA"
      },
      "source": [
        "list3 = []\n",
        "\n",
        "for rating in soup.find_all(attrs={\"class\": \"rating\"}):\n",
        "  list3.append(int(rating.get(\"rating\")))\n",
        "\n",
        "# alternatively\n",
        "# list3 = []\n",
        "# for rating in soup.find_all(attrs={\"class\": \"rating\"}):\n",
        "#   list3.append(int(rating.text[:1]))"
      ],
      "execution_count": null,
      "outputs": []
    },
    {
      "cell_type": "markdown",
      "metadata": {
        "id": "6gCpuLhTkIiw"
      },
      "source": [
        "## Create a `pandas` data frame and store the three lists that you created for titles, body texts, and ratings\n",
        "\n",
        "Hint: you can first create a dictionary with `title`, `body`, and `rating` as keys and list1, list2, and list 3 and values. Then you can create a data frame from this dictionary."
      ]
    },
    {
      "cell_type": "code",
      "metadata": {
        "id": "7LdLqxBKtk2a"
      },
      "source": [
        "df = pd.DataFrame({\"title\": list1, \"body\": list2, \"rating\": list3})"
      ],
      "execution_count": null,
      "outputs": []
    },
    {
      "cell_type": "markdown",
      "metadata": {
        "id": "BlzHBSWtlHFh"
      },
      "source": [
        "Show the data frame:"
      ]
    },
    {
      "cell_type": "code",
      "metadata": {
        "id": "Hsf0fEsGpvKZ",
        "colab": {
          "base_uri": "https://localhost:8080/",
          "height": 362
        },
        "outputId": "ba933d9f-ccbb-4be7-8997-6494f9650a5a"
      },
      "source": [
        "df"
      ],
      "execution_count": null,
      "outputs": [
        {
          "output_type": "execute_result",
          "data": {
            "text/plain": [
              "                                               title  \\\n",
              "0  Yeaaa USB C!!!!! But the dongle? Why? Why not ...   \n",
              "1  Logitech - how many tries do you need to get i...   \n",
              "2          Worthy Upgrade, Too Bad It’s Not In White   \n",
              "3                       Terrible scroll wheel issues   \n",
              "4            Logitech made a great mouse even better   \n",
              "5  Unconfortable downgrade from the Performance MX 1   \n",
              "6                                     Not for gamers   \n",
              "7           More compatible with Mac than I expected   \n",
              "8   Improvement over the last gen. Worth the upgrade   \n",
              "9                        The best scroll wheel ever.   \n",
              "\n",
              "                                                body  rating  \n",
              "0  WHY Logitech! Why? Lets finally go FULL USB C ...       3  \n",
              "1  The scroll wheel is awesome. The fit and finis...       3  \n",
              "2  Purchased this product after accidentally purc...       4  \n",
              "3  I have the former MX Master 2S and upgraded to...       1  \n",
              "4  The MX Master 2s was a fantastic mouse, but I ...       5  \n",
              "5  Cons in comparison to the original Performance...       2  \n",
              "6  Many Youtubers recommend this mouse as their a...       3  \n",
              "7  If you work with a Mac and are wondering if th...       5  \n",
              "8  I have two of the previous generation and this...       5  \n",
              "9  The best Mx Master yet. And this time with rea...       5  "
            ],
            "text/html": [
              "\n",
              "  <div id=\"df-d9860ecc-8ab6-42db-bf1a-7c91869f4a13\" class=\"colab-df-container\">\n",
              "    <div>\n",
              "<style scoped>\n",
              "    .dataframe tbody tr th:only-of-type {\n",
              "        vertical-align: middle;\n",
              "    }\n",
              "\n",
              "    .dataframe tbody tr th {\n",
              "        vertical-align: top;\n",
              "    }\n",
              "\n",
              "    .dataframe thead th {\n",
              "        text-align: right;\n",
              "    }\n",
              "</style>\n",
              "<table border=\"1\" class=\"dataframe\">\n",
              "  <thead>\n",
              "    <tr style=\"text-align: right;\">\n",
              "      <th></th>\n",
              "      <th>title</th>\n",
              "      <th>body</th>\n",
              "      <th>rating</th>\n",
              "    </tr>\n",
              "  </thead>\n",
              "  <tbody>\n",
              "    <tr>\n",
              "      <th>0</th>\n",
              "      <td>Yeaaa USB C!!!!! But the dongle? Why? Why not ...</td>\n",
              "      <td>WHY Logitech! Why? Lets finally go FULL USB C ...</td>\n",
              "      <td>3</td>\n",
              "    </tr>\n",
              "    <tr>\n",
              "      <th>1</th>\n",
              "      <td>Logitech - how many tries do you need to get i...</td>\n",
              "      <td>The scroll wheel is awesome. The fit and finis...</td>\n",
              "      <td>3</td>\n",
              "    </tr>\n",
              "    <tr>\n",
              "      <th>2</th>\n",
              "      <td>Worthy Upgrade, Too Bad It’s Not In White</td>\n",
              "      <td>Purchased this product after accidentally purc...</td>\n",
              "      <td>4</td>\n",
              "    </tr>\n",
              "    <tr>\n",
              "      <th>3</th>\n",
              "      <td>Terrible scroll wheel issues</td>\n",
              "      <td>I have the former MX Master 2S and upgraded to...</td>\n",
              "      <td>1</td>\n",
              "    </tr>\n",
              "    <tr>\n",
              "      <th>4</th>\n",
              "      <td>Logitech made a great mouse even better</td>\n",
              "      <td>The MX Master 2s was a fantastic mouse, but I ...</td>\n",
              "      <td>5</td>\n",
              "    </tr>\n",
              "    <tr>\n",
              "      <th>5</th>\n",
              "      <td>Unconfortable downgrade from the Performance MX 1</td>\n",
              "      <td>Cons in comparison to the original Performance...</td>\n",
              "      <td>2</td>\n",
              "    </tr>\n",
              "    <tr>\n",
              "      <th>6</th>\n",
              "      <td>Not for gamers</td>\n",
              "      <td>Many Youtubers recommend this mouse as their a...</td>\n",
              "      <td>3</td>\n",
              "    </tr>\n",
              "    <tr>\n",
              "      <th>7</th>\n",
              "      <td>More compatible with Mac than I expected</td>\n",
              "      <td>If you work with a Mac and are wondering if th...</td>\n",
              "      <td>5</td>\n",
              "    </tr>\n",
              "    <tr>\n",
              "      <th>8</th>\n",
              "      <td>Improvement over the last gen. Worth the upgrade</td>\n",
              "      <td>I have two of the previous generation and this...</td>\n",
              "      <td>5</td>\n",
              "    </tr>\n",
              "    <tr>\n",
              "      <th>9</th>\n",
              "      <td>The best scroll wheel ever.</td>\n",
              "      <td>The best Mx Master yet. And this time with rea...</td>\n",
              "      <td>5</td>\n",
              "    </tr>\n",
              "  </tbody>\n",
              "</table>\n",
              "</div>\n",
              "    <div class=\"colab-df-buttons\">\n",
              "\n",
              "  <div class=\"colab-df-container\">\n",
              "    <button class=\"colab-df-convert\" onclick=\"convertToInteractive('df-d9860ecc-8ab6-42db-bf1a-7c91869f4a13')\"\n",
              "            title=\"Convert this dataframe to an interactive table.\"\n",
              "            style=\"display:none;\">\n",
              "\n",
              "  <svg xmlns=\"http://www.w3.org/2000/svg\" height=\"24px\" viewBox=\"0 -960 960 960\">\n",
              "    <path d=\"M120-120v-720h720v720H120Zm60-500h600v-160H180v160Zm220 220h160v-160H400v160Zm0 220h160v-160H400v160ZM180-400h160v-160H180v160Zm440 0h160v-160H620v160ZM180-180h160v-160H180v160Zm440 0h160v-160H620v160Z\"/>\n",
              "  </svg>\n",
              "    </button>\n",
              "\n",
              "  <style>\n",
              "    .colab-df-container {\n",
              "      display:flex;\n",
              "      gap: 12px;\n",
              "    }\n",
              "\n",
              "    .colab-df-convert {\n",
              "      background-color: #E8F0FE;\n",
              "      border: none;\n",
              "      border-radius: 50%;\n",
              "      cursor: pointer;\n",
              "      display: none;\n",
              "      fill: #1967D2;\n",
              "      height: 32px;\n",
              "      padding: 0 0 0 0;\n",
              "      width: 32px;\n",
              "    }\n",
              "\n",
              "    .colab-df-convert:hover {\n",
              "      background-color: #E2EBFA;\n",
              "      box-shadow: 0px 1px 2px rgba(60, 64, 67, 0.3), 0px 1px 3px 1px rgba(60, 64, 67, 0.15);\n",
              "      fill: #174EA6;\n",
              "    }\n",
              "\n",
              "    .colab-df-buttons div {\n",
              "      margin-bottom: 4px;\n",
              "    }\n",
              "\n",
              "    [theme=dark] .colab-df-convert {\n",
              "      background-color: #3B4455;\n",
              "      fill: #D2E3FC;\n",
              "    }\n",
              "\n",
              "    [theme=dark] .colab-df-convert:hover {\n",
              "      background-color: #434B5C;\n",
              "      box-shadow: 0px 1px 3px 1px rgba(0, 0, 0, 0.15);\n",
              "      filter: drop-shadow(0px 1px 2px rgba(0, 0, 0, 0.3));\n",
              "      fill: #FFFFFF;\n",
              "    }\n",
              "  </style>\n",
              "\n",
              "    <script>\n",
              "      const buttonEl =\n",
              "        document.querySelector('#df-d9860ecc-8ab6-42db-bf1a-7c91869f4a13 button.colab-df-convert');\n",
              "      buttonEl.style.display =\n",
              "        google.colab.kernel.accessAllowed ? 'block' : 'none';\n",
              "\n",
              "      async function convertToInteractive(key) {\n",
              "        const element = document.querySelector('#df-d9860ecc-8ab6-42db-bf1a-7c91869f4a13');\n",
              "        const dataTable =\n",
              "          await google.colab.kernel.invokeFunction('convertToInteractive',\n",
              "                                                    [key], {});\n",
              "        if (!dataTable) return;\n",
              "\n",
              "        const docLinkHtml = 'Like what you see? Visit the ' +\n",
              "          '<a target=\"_blank\" href=https://colab.research.google.com/notebooks/data_table.ipynb>data table notebook</a>'\n",
              "          + ' to learn more about interactive tables.';\n",
              "        element.innerHTML = '';\n",
              "        dataTable['output_type'] = 'display_data';\n",
              "        await google.colab.output.renderOutput(dataTable, element);\n",
              "        const docLink = document.createElement('div');\n",
              "        docLink.innerHTML = docLinkHtml;\n",
              "        element.appendChild(docLink);\n",
              "      }\n",
              "    </script>\n",
              "  </div>\n",
              "\n",
              "\n",
              "<div id=\"df-a21dbaed-01c3-4648-93be-d53f63342417\">\n",
              "  <button class=\"colab-df-quickchart\" onclick=\"quickchart('df-a21dbaed-01c3-4648-93be-d53f63342417')\"\n",
              "            title=\"Suggest charts.\"\n",
              "            style=\"display:none;\">\n",
              "\n",
              "<svg xmlns=\"http://www.w3.org/2000/svg\" height=\"24px\"viewBox=\"0 0 24 24\"\n",
              "     width=\"24px\">\n",
              "    <g>\n",
              "        <path d=\"M19 3H5c-1.1 0-2 .9-2 2v14c0 1.1.9 2 2 2h14c1.1 0 2-.9 2-2V5c0-1.1-.9-2-2-2zM9 17H7v-7h2v7zm4 0h-2V7h2v10zm4 0h-2v-4h2v4z\"/>\n",
              "    </g>\n",
              "</svg>\n",
              "  </button>\n",
              "\n",
              "<style>\n",
              "  .colab-df-quickchart {\n",
              "      --bg-color: #E8F0FE;\n",
              "      --fill-color: #1967D2;\n",
              "      --hover-bg-color: #E2EBFA;\n",
              "      --hover-fill-color: #174EA6;\n",
              "      --disabled-fill-color: #AAA;\n",
              "      --disabled-bg-color: #DDD;\n",
              "  }\n",
              "\n",
              "  [theme=dark] .colab-df-quickchart {\n",
              "      --bg-color: #3B4455;\n",
              "      --fill-color: #D2E3FC;\n",
              "      --hover-bg-color: #434B5C;\n",
              "      --hover-fill-color: #FFFFFF;\n",
              "      --disabled-bg-color: #3B4455;\n",
              "      --disabled-fill-color: #666;\n",
              "  }\n",
              "\n",
              "  .colab-df-quickchart {\n",
              "    background-color: var(--bg-color);\n",
              "    border: none;\n",
              "    border-radius: 50%;\n",
              "    cursor: pointer;\n",
              "    display: none;\n",
              "    fill: var(--fill-color);\n",
              "    height: 32px;\n",
              "    padding: 0;\n",
              "    width: 32px;\n",
              "  }\n",
              "\n",
              "  .colab-df-quickchart:hover {\n",
              "    background-color: var(--hover-bg-color);\n",
              "    box-shadow: 0 1px 2px rgba(60, 64, 67, 0.3), 0 1px 3px 1px rgba(60, 64, 67, 0.15);\n",
              "    fill: var(--button-hover-fill-color);\n",
              "  }\n",
              "\n",
              "  .colab-df-quickchart-complete:disabled,\n",
              "  .colab-df-quickchart-complete:disabled:hover {\n",
              "    background-color: var(--disabled-bg-color);\n",
              "    fill: var(--disabled-fill-color);\n",
              "    box-shadow: none;\n",
              "  }\n",
              "\n",
              "  .colab-df-spinner {\n",
              "    border: 2px solid var(--fill-color);\n",
              "    border-color: transparent;\n",
              "    border-bottom-color: var(--fill-color);\n",
              "    animation:\n",
              "      spin 1s steps(1) infinite;\n",
              "  }\n",
              "\n",
              "  @keyframes spin {\n",
              "    0% {\n",
              "      border-color: transparent;\n",
              "      border-bottom-color: var(--fill-color);\n",
              "      border-left-color: var(--fill-color);\n",
              "    }\n",
              "    20% {\n",
              "      border-color: transparent;\n",
              "      border-left-color: var(--fill-color);\n",
              "      border-top-color: var(--fill-color);\n",
              "    }\n",
              "    30% {\n",
              "      border-color: transparent;\n",
              "      border-left-color: var(--fill-color);\n",
              "      border-top-color: var(--fill-color);\n",
              "      border-right-color: var(--fill-color);\n",
              "    }\n",
              "    40% {\n",
              "      border-color: transparent;\n",
              "      border-right-color: var(--fill-color);\n",
              "      border-top-color: var(--fill-color);\n",
              "    }\n",
              "    60% {\n",
              "      border-color: transparent;\n",
              "      border-right-color: var(--fill-color);\n",
              "    }\n",
              "    80% {\n",
              "      border-color: transparent;\n",
              "      border-right-color: var(--fill-color);\n",
              "      border-bottom-color: var(--fill-color);\n",
              "    }\n",
              "    90% {\n",
              "      border-color: transparent;\n",
              "      border-bottom-color: var(--fill-color);\n",
              "    }\n",
              "  }\n",
              "</style>\n",
              "\n",
              "  <script>\n",
              "    async function quickchart(key) {\n",
              "      const quickchartButtonEl =\n",
              "        document.querySelector('#' + key + ' button');\n",
              "      quickchartButtonEl.disabled = true;  // To prevent multiple clicks.\n",
              "      quickchartButtonEl.classList.add('colab-df-spinner');\n",
              "      try {\n",
              "        const charts = await google.colab.kernel.invokeFunction(\n",
              "            'suggestCharts', [key], {});\n",
              "      } catch (error) {\n",
              "        console.error('Error during call to suggestCharts:', error);\n",
              "      }\n",
              "      quickchartButtonEl.classList.remove('colab-df-spinner');\n",
              "      quickchartButtonEl.classList.add('colab-df-quickchart-complete');\n",
              "    }\n",
              "    (() => {\n",
              "      let quickchartButtonEl =\n",
              "        document.querySelector('#df-a21dbaed-01c3-4648-93be-d53f63342417 button');\n",
              "      quickchartButtonEl.style.display =\n",
              "        google.colab.kernel.accessAllowed ? 'block' : 'none';\n",
              "    })();\n",
              "  </script>\n",
              "</div>\n",
              "    </div>\n",
              "  </div>\n"
            ]
          },
          "metadata": {},
          "execution_count": 9
        }
      ]
    },
    {
      "cell_type": "code",
      "metadata": {
        "id": "OEjQ5Xms_fpI",
        "cellView": "form"
      },
      "source": [
        "#@title Run this cell to train a sentiment analysis model. This model directly comes from Activity 6 in \"Deep Learning IV\" slides. Running this cell takes 1-2 minutes.\n",
        "%%capture\n",
        "import tensorflow as tf\n",
        "import tensorflow_hub as hub\n",
        "import tensorflow_datasets as tfds\n",
        "\n",
        "train_data, validation_data, test_data = tfds.load(name=\"imdb_reviews\", split=('train[:60%]', 'train[60%:]', 'test'), as_supervised=True)\n",
        "model = tf.keras.models.Sequential([\n",
        "    hub.KerasLayer(\"https://tfhub.dev/google/nnlm-en-dim50/2\", input_shape=[], dtype=tf.string, trainable=True),\n",
        "    tf.keras.layers.Dense(16, activation='relu'),\n",
        "    tf.keras.layers.Dense(1, activation='sigmoid')\n",
        "])\n",
        "model.compile(optimizer='adam', loss=tf.keras.losses.BinaryCrossentropy(from_logits=True), metrics=['accuracy'])\n",
        "model.fit(train_data.shuffle(1).batch(512), epochs=10, verbose=1)"
      ],
      "execution_count": null,
      "outputs": []
    },
    {
      "cell_type": "markdown",
      "metadata": {
        "id": "Np6e9fbCxZWe"
      },
      "source": [
        "The sentiment analysis model we use is trained on movie reviews. So, it might not be the best fit for the specific context of our automation (product reviews). But first let's use the model and then judge the results."
      ]
    },
    {
      "cell_type": "markdown",
      "metadata": {
        "id": "h0BN_VuHl1NC"
      },
      "source": [
        "After running the previous cell, pass the column containing the reviews to the model. To do so, run the following code after replacing `column_placeholder` with the actual column from the data frame:\n",
        "\n",
        "`sentiment = model(column_placeholder).numpy()`"
      ]
    },
    {
      "cell_type": "code",
      "metadata": {
        "id": "WlrntMp-tqvT"
      },
      "source": [
        "sentiment = model(df[\"body\"]).numpy()"
      ],
      "execution_count": null,
      "outputs": []
    },
    {
      "cell_type": "markdown",
      "metadata": {
        "id": "VQ-puD7tmoVL"
      },
      "source": [
        "Store `sentiment` as a new column in the data frame."
      ]
    },
    {
      "cell_type": "code",
      "metadata": {
        "id": "UQFmK1NUtsZ_"
      },
      "source": [
        "df[\"sentiment\"] = sentiment"
      ],
      "execution_count": null,
      "outputs": []
    },
    {
      "cell_type": "markdown",
      "metadata": {
        "id": "DlDHxRqumvrA"
      },
      "source": [
        "Show the data frame:"
      ]
    },
    {
      "cell_type": "code",
      "metadata": {
        "id": "QBD3u8jJtviD",
        "colab": {
          "base_uri": "https://localhost:8080/",
          "height": 362
        },
        "outputId": "6e385b9a-fff6-48d3-ba61-00dbaf6c8b9f"
      },
      "source": [
        "df"
      ],
      "execution_count": null,
      "outputs": [
        {
          "output_type": "execute_result",
          "data": {
            "text/plain": [
              "                                               title  \\\n",
              "0  Yeaaa USB C!!!!! But the dongle? Why? Why not ...   \n",
              "1  Logitech - how many tries do you need to get i...   \n",
              "2          Worthy Upgrade, Too Bad It’s Not In White   \n",
              "3                       Terrible scroll wheel issues   \n",
              "4            Logitech made a great mouse even better   \n",
              "5  Unconfortable downgrade from the Performance MX 1   \n",
              "6                                     Not for gamers   \n",
              "7           More compatible with Mac than I expected   \n",
              "8   Improvement over the last gen. Worth the upgrade   \n",
              "9                        The best scroll wheel ever.   \n",
              "\n",
              "                                                body  rating  sentiment  \n",
              "0  WHY Logitech! Why? Lets finally go FULL USB C ...       3   0.052188  \n",
              "1  The scroll wheel is awesome. The fit and finis...       3   0.601579  \n",
              "2  Purchased this product after accidentally purc...       4   0.097332  \n",
              "3  I have the former MX Master 2S and upgraded to...       1   0.444877  \n",
              "4  The MX Master 2s was a fantastic mouse, but I ...       5   0.998531  \n",
              "5  Cons in comparison to the original Performance...       2   0.310158  \n",
              "6  Many Youtubers recommend this mouse as their a...       3   0.426594  \n",
              "7  If you work with a Mac and are wondering if th...       5   0.996798  \n",
              "8  I have two of the previous generation and this...       5   0.577835  \n",
              "9  The best Mx Master yet. And this time with rea...       5   0.972707  "
            ],
            "text/html": [
              "\n",
              "  <div id=\"df-e921eb73-f4c5-47b4-9a02-8f0abd7d8b7a\" class=\"colab-df-container\">\n",
              "    <div>\n",
              "<style scoped>\n",
              "    .dataframe tbody tr th:only-of-type {\n",
              "        vertical-align: middle;\n",
              "    }\n",
              "\n",
              "    .dataframe tbody tr th {\n",
              "        vertical-align: top;\n",
              "    }\n",
              "\n",
              "    .dataframe thead th {\n",
              "        text-align: right;\n",
              "    }\n",
              "</style>\n",
              "<table border=\"1\" class=\"dataframe\">\n",
              "  <thead>\n",
              "    <tr style=\"text-align: right;\">\n",
              "      <th></th>\n",
              "      <th>title</th>\n",
              "      <th>body</th>\n",
              "      <th>rating</th>\n",
              "      <th>sentiment</th>\n",
              "    </tr>\n",
              "  </thead>\n",
              "  <tbody>\n",
              "    <tr>\n",
              "      <th>0</th>\n",
              "      <td>Yeaaa USB C!!!!! But the dongle? Why? Why not ...</td>\n",
              "      <td>WHY Logitech! Why? Lets finally go FULL USB C ...</td>\n",
              "      <td>3</td>\n",
              "      <td>0.052188</td>\n",
              "    </tr>\n",
              "    <tr>\n",
              "      <th>1</th>\n",
              "      <td>Logitech - how many tries do you need to get i...</td>\n",
              "      <td>The scroll wheel is awesome. The fit and finis...</td>\n",
              "      <td>3</td>\n",
              "      <td>0.601579</td>\n",
              "    </tr>\n",
              "    <tr>\n",
              "      <th>2</th>\n",
              "      <td>Worthy Upgrade, Too Bad It’s Not In White</td>\n",
              "      <td>Purchased this product after accidentally purc...</td>\n",
              "      <td>4</td>\n",
              "      <td>0.097332</td>\n",
              "    </tr>\n",
              "    <tr>\n",
              "      <th>3</th>\n",
              "      <td>Terrible scroll wheel issues</td>\n",
              "      <td>I have the former MX Master 2S and upgraded to...</td>\n",
              "      <td>1</td>\n",
              "      <td>0.444877</td>\n",
              "    </tr>\n",
              "    <tr>\n",
              "      <th>4</th>\n",
              "      <td>Logitech made a great mouse even better</td>\n",
              "      <td>The MX Master 2s was a fantastic mouse, but I ...</td>\n",
              "      <td>5</td>\n",
              "      <td>0.998531</td>\n",
              "    </tr>\n",
              "    <tr>\n",
              "      <th>5</th>\n",
              "      <td>Unconfortable downgrade from the Performance MX 1</td>\n",
              "      <td>Cons in comparison to the original Performance...</td>\n",
              "      <td>2</td>\n",
              "      <td>0.310158</td>\n",
              "    </tr>\n",
              "    <tr>\n",
              "      <th>6</th>\n",
              "      <td>Not for gamers</td>\n",
              "      <td>Many Youtubers recommend this mouse as their a...</td>\n",
              "      <td>3</td>\n",
              "      <td>0.426594</td>\n",
              "    </tr>\n",
              "    <tr>\n",
              "      <th>7</th>\n",
              "      <td>More compatible with Mac than I expected</td>\n",
              "      <td>If you work with a Mac and are wondering if th...</td>\n",
              "      <td>5</td>\n",
              "      <td>0.996798</td>\n",
              "    </tr>\n",
              "    <tr>\n",
              "      <th>8</th>\n",
              "      <td>Improvement over the last gen. Worth the upgrade</td>\n",
              "      <td>I have two of the previous generation and this...</td>\n",
              "      <td>5</td>\n",
              "      <td>0.577835</td>\n",
              "    </tr>\n",
              "    <tr>\n",
              "      <th>9</th>\n",
              "      <td>The best scroll wheel ever.</td>\n",
              "      <td>The best Mx Master yet. And this time with rea...</td>\n",
              "      <td>5</td>\n",
              "      <td>0.972707</td>\n",
              "    </tr>\n",
              "  </tbody>\n",
              "</table>\n",
              "</div>\n",
              "    <div class=\"colab-df-buttons\">\n",
              "\n",
              "  <div class=\"colab-df-container\">\n",
              "    <button class=\"colab-df-convert\" onclick=\"convertToInteractive('df-e921eb73-f4c5-47b4-9a02-8f0abd7d8b7a')\"\n",
              "            title=\"Convert this dataframe to an interactive table.\"\n",
              "            style=\"display:none;\">\n",
              "\n",
              "  <svg xmlns=\"http://www.w3.org/2000/svg\" height=\"24px\" viewBox=\"0 -960 960 960\">\n",
              "    <path d=\"M120-120v-720h720v720H120Zm60-500h600v-160H180v160Zm220 220h160v-160H400v160Zm0 220h160v-160H400v160ZM180-400h160v-160H180v160Zm440 0h160v-160H620v160ZM180-180h160v-160H180v160Zm440 0h160v-160H620v160Z\"/>\n",
              "  </svg>\n",
              "    </button>\n",
              "\n",
              "  <style>\n",
              "    .colab-df-container {\n",
              "      display:flex;\n",
              "      gap: 12px;\n",
              "    }\n",
              "\n",
              "    .colab-df-convert {\n",
              "      background-color: #E8F0FE;\n",
              "      border: none;\n",
              "      border-radius: 50%;\n",
              "      cursor: pointer;\n",
              "      display: none;\n",
              "      fill: #1967D2;\n",
              "      height: 32px;\n",
              "      padding: 0 0 0 0;\n",
              "      width: 32px;\n",
              "    }\n",
              "\n",
              "    .colab-df-convert:hover {\n",
              "      background-color: #E2EBFA;\n",
              "      box-shadow: 0px 1px 2px rgba(60, 64, 67, 0.3), 0px 1px 3px 1px rgba(60, 64, 67, 0.15);\n",
              "      fill: #174EA6;\n",
              "    }\n",
              "\n",
              "    .colab-df-buttons div {\n",
              "      margin-bottom: 4px;\n",
              "    }\n",
              "\n",
              "    [theme=dark] .colab-df-convert {\n",
              "      background-color: #3B4455;\n",
              "      fill: #D2E3FC;\n",
              "    }\n",
              "\n",
              "    [theme=dark] .colab-df-convert:hover {\n",
              "      background-color: #434B5C;\n",
              "      box-shadow: 0px 1px 3px 1px rgba(0, 0, 0, 0.15);\n",
              "      filter: drop-shadow(0px 1px 2px rgba(0, 0, 0, 0.3));\n",
              "      fill: #FFFFFF;\n",
              "    }\n",
              "  </style>\n",
              "\n",
              "    <script>\n",
              "      const buttonEl =\n",
              "        document.querySelector('#df-e921eb73-f4c5-47b4-9a02-8f0abd7d8b7a button.colab-df-convert');\n",
              "      buttonEl.style.display =\n",
              "        google.colab.kernel.accessAllowed ? 'block' : 'none';\n",
              "\n",
              "      async function convertToInteractive(key) {\n",
              "        const element = document.querySelector('#df-e921eb73-f4c5-47b4-9a02-8f0abd7d8b7a');\n",
              "        const dataTable =\n",
              "          await google.colab.kernel.invokeFunction('convertToInteractive',\n",
              "                                                    [key], {});\n",
              "        if (!dataTable) return;\n",
              "\n",
              "        const docLinkHtml = 'Like what you see? Visit the ' +\n",
              "          '<a target=\"_blank\" href=https://colab.research.google.com/notebooks/data_table.ipynb>data table notebook</a>'\n",
              "          + ' to learn more about interactive tables.';\n",
              "        element.innerHTML = '';\n",
              "        dataTable['output_type'] = 'display_data';\n",
              "        await google.colab.output.renderOutput(dataTable, element);\n",
              "        const docLink = document.createElement('div');\n",
              "        docLink.innerHTML = docLinkHtml;\n",
              "        element.appendChild(docLink);\n",
              "      }\n",
              "    </script>\n",
              "  </div>\n",
              "\n",
              "\n",
              "<div id=\"df-1cda810b-81fb-4fd5-bd7f-f745a2b36c1e\">\n",
              "  <button class=\"colab-df-quickchart\" onclick=\"quickchart('df-1cda810b-81fb-4fd5-bd7f-f745a2b36c1e')\"\n",
              "            title=\"Suggest charts.\"\n",
              "            style=\"display:none;\">\n",
              "\n",
              "<svg xmlns=\"http://www.w3.org/2000/svg\" height=\"24px\"viewBox=\"0 0 24 24\"\n",
              "     width=\"24px\">\n",
              "    <g>\n",
              "        <path d=\"M19 3H5c-1.1 0-2 .9-2 2v14c0 1.1.9 2 2 2h14c1.1 0 2-.9 2-2V5c0-1.1-.9-2-2-2zM9 17H7v-7h2v7zm4 0h-2V7h2v10zm4 0h-2v-4h2v4z\"/>\n",
              "    </g>\n",
              "</svg>\n",
              "  </button>\n",
              "\n",
              "<style>\n",
              "  .colab-df-quickchart {\n",
              "      --bg-color: #E8F0FE;\n",
              "      --fill-color: #1967D2;\n",
              "      --hover-bg-color: #E2EBFA;\n",
              "      --hover-fill-color: #174EA6;\n",
              "      --disabled-fill-color: #AAA;\n",
              "      --disabled-bg-color: #DDD;\n",
              "  }\n",
              "\n",
              "  [theme=dark] .colab-df-quickchart {\n",
              "      --bg-color: #3B4455;\n",
              "      --fill-color: #D2E3FC;\n",
              "      --hover-bg-color: #434B5C;\n",
              "      --hover-fill-color: #FFFFFF;\n",
              "      --disabled-bg-color: #3B4455;\n",
              "      --disabled-fill-color: #666;\n",
              "  }\n",
              "\n",
              "  .colab-df-quickchart {\n",
              "    background-color: var(--bg-color);\n",
              "    border: none;\n",
              "    border-radius: 50%;\n",
              "    cursor: pointer;\n",
              "    display: none;\n",
              "    fill: var(--fill-color);\n",
              "    height: 32px;\n",
              "    padding: 0;\n",
              "    width: 32px;\n",
              "  }\n",
              "\n",
              "  .colab-df-quickchart:hover {\n",
              "    background-color: var(--hover-bg-color);\n",
              "    box-shadow: 0 1px 2px rgba(60, 64, 67, 0.3), 0 1px 3px 1px rgba(60, 64, 67, 0.15);\n",
              "    fill: var(--button-hover-fill-color);\n",
              "  }\n",
              "\n",
              "  .colab-df-quickchart-complete:disabled,\n",
              "  .colab-df-quickchart-complete:disabled:hover {\n",
              "    background-color: var(--disabled-bg-color);\n",
              "    fill: var(--disabled-fill-color);\n",
              "    box-shadow: none;\n",
              "  }\n",
              "\n",
              "  .colab-df-spinner {\n",
              "    border: 2px solid var(--fill-color);\n",
              "    border-color: transparent;\n",
              "    border-bottom-color: var(--fill-color);\n",
              "    animation:\n",
              "      spin 1s steps(1) infinite;\n",
              "  }\n",
              "\n",
              "  @keyframes spin {\n",
              "    0% {\n",
              "      border-color: transparent;\n",
              "      border-bottom-color: var(--fill-color);\n",
              "      border-left-color: var(--fill-color);\n",
              "    }\n",
              "    20% {\n",
              "      border-color: transparent;\n",
              "      border-left-color: var(--fill-color);\n",
              "      border-top-color: var(--fill-color);\n",
              "    }\n",
              "    30% {\n",
              "      border-color: transparent;\n",
              "      border-left-color: var(--fill-color);\n",
              "      border-top-color: var(--fill-color);\n",
              "      border-right-color: var(--fill-color);\n",
              "    }\n",
              "    40% {\n",
              "      border-color: transparent;\n",
              "      border-right-color: var(--fill-color);\n",
              "      border-top-color: var(--fill-color);\n",
              "    }\n",
              "    60% {\n",
              "      border-color: transparent;\n",
              "      border-right-color: var(--fill-color);\n",
              "    }\n",
              "    80% {\n",
              "      border-color: transparent;\n",
              "      border-right-color: var(--fill-color);\n",
              "      border-bottom-color: var(--fill-color);\n",
              "    }\n",
              "    90% {\n",
              "      border-color: transparent;\n",
              "      border-bottom-color: var(--fill-color);\n",
              "    }\n",
              "  }\n",
              "</style>\n",
              "\n",
              "  <script>\n",
              "    async function quickchart(key) {\n",
              "      const quickchartButtonEl =\n",
              "        document.querySelector('#' + key + ' button');\n",
              "      quickchartButtonEl.disabled = true;  // To prevent multiple clicks.\n",
              "      quickchartButtonEl.classList.add('colab-df-spinner');\n",
              "      try {\n",
              "        const charts = await google.colab.kernel.invokeFunction(\n",
              "            'suggestCharts', [key], {});\n",
              "      } catch (error) {\n",
              "        console.error('Error during call to suggestCharts:', error);\n",
              "      }\n",
              "      quickchartButtonEl.classList.remove('colab-df-spinner');\n",
              "      quickchartButtonEl.classList.add('colab-df-quickchart-complete');\n",
              "    }\n",
              "    (() => {\n",
              "      let quickchartButtonEl =\n",
              "        document.querySelector('#df-1cda810b-81fb-4fd5-bd7f-f745a2b36c1e button');\n",
              "      quickchartButtonEl.style.display =\n",
              "        google.colab.kernel.accessAllowed ? 'block' : 'none';\n",
              "    })();\n",
              "  </script>\n",
              "</div>\n",
              "    </div>\n",
              "  </div>\n"
            ]
          },
          "metadata": {},
          "execution_count": 13
        }
      ]
    },
    {
      "cell_type": "markdown",
      "metadata": {
        "id": "FlG8L2HvmxzH"
      },
      "source": [
        "Select the rows with sentiment values above average."
      ]
    },
    {
      "cell_type": "code",
      "metadata": {
        "id": "XgCYZa2ctwA_"
      },
      "source": [
        "above_average = df[df[\"sentiment\"] > df[\"sentiment\"].mean()]"
      ],
      "execution_count": null,
      "outputs": []
    },
    {
      "cell_type": "markdown",
      "metadata": {
        "id": "arF5iPe4m6sD"
      },
      "source": [
        "Select the rows with sentiment values below average."
      ]
    },
    {
      "cell_type": "code",
      "metadata": {
        "id": "tMxH6PG2txVM"
      },
      "source": [
        "below_average = df[df[\"sentiment\"] < df[\"sentiment\"].mean()]"
      ],
      "execution_count": null,
      "outputs": []
    },
    {
      "cell_type": "markdown",
      "metadata": {
        "id": "etvp9ZqwnAgO"
      },
      "source": [
        "Create an Excel file with three sheets showing: 1) the main data frame, 2) the rows with sentiment values above average, and 3) the rows with sentiment values below average."
      ]
    },
    {
      "cell_type": "code",
      "metadata": {
        "id": "WEWpKSlg8FQM"
      },
      "source": [
        "with pd.ExcelWriter('output_all_sheets.xlsx') as writer:\n",
        "  df.to_excel(writer, sheet_name='main', index=True)\n",
        "  above_average.to_excel(writer, sheet_name='above average', index=True)\n",
        "  below_average.to_excel(writer, sheet_name='below average', index=True)"
      ],
      "execution_count": null,
      "outputs": []
    },
    {
      "cell_type": "markdown",
      "metadata": {
        "id": "VSgh97KWxFKy"
      },
      "source": [
        "Are sentiment values in line with the ratings? Why?\n"
      ]
    },
    {
      "cell_type": "markdown",
      "metadata": {
        "id": "Z3yYCvIbxRIq"
      },
      "source": [
        "Answer: _____________________"
      ]
    },
    {
      "cell_type": "markdown",
      "metadata": {
        "id": "rWUxqdeg5tFw"
      },
      "source": [
        "# Download the .ipynb version of your notebook and submit it on D2L."
      ]
    },
    {
      "cell_type": "markdown",
      "metadata": {
        "id": "dihQbNzKoLQz"
      },
      "source": [
        "# Just Code:"
      ]
    },
    {
      "cell_type": "code",
      "metadata": {
        "id": "hUeO_BPXoNAY"
      },
      "source": [
        "import requests\n",
        "import pandas as pd\n",
        "from bs4 import BeautifulSoup\n",
        "\n",
        "response = requests.get(\"https://saffarizadeh.com/ET/reviews.html\")\n",
        "soup = BeautifulSoup(response.content, 'lxml')\n",
        "\n",
        "list1 = []\n",
        "for title in soup.find_all(attrs={\"class\": \"reviewTitle\"}):\n",
        "  list1.append(title.text)\n",
        "\n",
        "list2 = []\n",
        "for review in soup.find_all(attrs={\"class\": \"reviewBody\"}):\n",
        "  list2.append(review.text)\n",
        "\n",
        "list3 = []\n",
        "for rating in soup.find_all(attrs={\"class\": \"rating\"}):\n",
        "  list3.append(int(rating.get(\"rating\")))\n",
        "\n",
        "df = pd.DataFrame({\"title\": list1, \"body\": list2, \"rating\": list3})\n",
        "\n",
        "# Run the model cell\n",
        "\n",
        "sentiment = model(df[\"body\"]).numpy()\n",
        "df[\"sentiment\"] = sentiment\n",
        "\n",
        "above_average = df[df[\"sentiment\"] > df[\"sentiment\"].mean()]\n",
        "\n",
        "below_average = df[df[\"sentiment\"] < df[\"sentiment\"].mean()]\n",
        "\n",
        "with pd.ExcelWriter('output_all_sheets.xlsx') as writer:\n",
        "  df.to_excel(writer, sheet_name='main', index=True)\n",
        "  above_average.to_excel(writer, sheet_name='above average', index=True)\n",
        "  below_average.to_excel(writer, sheet_name='below average', index=True)"
      ],
      "execution_count": null,
      "outputs": []
    }
  ]
}