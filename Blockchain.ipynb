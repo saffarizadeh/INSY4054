{
  "nbformat": 4,
  "nbformat_minor": 0,
  "metadata": {
    "colab": {
      "name": "Blockchain",
      "provenance": [],
      "collapsed_sections": [],
      "authorship_tag": "ABX9TyMzUpmrjIixT5fXG7cXJY10",
      "include_colab_link": true
    },
    "kernelspec": {
      "name": "python3",
      "display_name": "Python 3"
    },
    "language_info": {
      "name": "python"
    }
  },
  "cells": [
    {
      "cell_type": "markdown",
      "metadata": {
        "id": "view-in-github",
        "colab_type": "text"
      },
      "source": [
        "<a href=\"https://colab.research.google.com/github/saffarizadeh/INSY4054/blob/main/Blockchain.ipynb\" target=\"_parent\"><img src=\"https://colab.research.google.com/assets/colab-badge.svg\" alt=\"Open In Colab\"/></a>"
      ]
    },
    {
      "cell_type": "markdown",
      "metadata": {
        "id": "a9wnLHhYublg"
      },
      "source": [
        "<img src=\"http://saffarizadeh.com/Logo.png\" width=\"300px\"/>\n",
        "\n",
        "# *INSY 4054: Emerging Technologies*\n",
        "\n",
        "# **Blockchain**\n",
        "\n",
        "Instructor: Dr. Kambiz Saffarizadeh\n",
        "\n",
        "---\n"
      ]
    },
    {
      "cell_type": "markdown",
      "metadata": {
        "id": "7NyQeQWGuf2q"
      },
      "source": [
        "# How to create a basic blockchain"
      ]
    },
    {
      "cell_type": "code",
      "metadata": {
        "id": "A9QZUbfsuQYI"
      },
      "source": [
        "from hashlib import sha256"
      ],
      "execution_count": null,
      "outputs": []
    },
    {
      "cell_type": "code",
      "metadata": {
        "id": "gVQ26byAuxET"
      },
      "source": [
        "class MarquetteCoinBlock:\n",
        "  def __init__(self, previous_block_hash, block_number, nonce, transaction_list):\n",
        "    # nonce stands for \"number only used once\"\n",
        "    self.block_data = '-'.join(transaction_list) + '-' + str(block_number) + '-' + previous_block_hash + '-' + str(nonce)\n",
        "    self.block_hash = sha256(self.block_data.encode()).hexdigest()"
      ],
      "execution_count": null,
      "outputs": []
    },
    {
      "cell_type": "markdown",
      "metadata": {
        "id": "DeY3iNRlvtOo"
      },
      "source": [
        "Let's say we have a bunch of interactions:"
      ]
    },
    {
      "cell_type": "code",
      "metadata": {
        "id": "L2vg8DTwvqxL"
      },
      "source": [
        "t1 = \"Samira sends 2 MC to Nadia\"\n",
        "t2 = \"Anatjari sends 1.2 MC to Zachery\"\n",
        "t3 = \"Kate sends 3.4 MC to Nadia\"\n",
        "t4 = \"Nadia sends 9.2 to Zachery\"\n",
        "t5 = \"Anatjari sends 0.2 MC to Samira\"\n",
        "t6 = \"Zachery sends 2.6 MC to Kate\""
      ],
      "execution_count": null,
      "outputs": []
    },
    {
      "cell_type": "markdown",
      "metadata": {
        "id": "1xppNA5Awq4Z"
      },
      "source": [
        "Let's create transaction blocks. For this specific example, we will create blocks of 2."
      ]
    },
    {
      "cell_type": "code",
      "metadata": {
        "id": "YzY8StEwwoAP"
      },
      "source": [
        "initial_block = MarquetteCoinBlock(\"Initial hash string\", 1, 0, [t1, t2])"
      ],
      "execution_count": null,
      "outputs": []
    },
    {
      "cell_type": "code",
      "metadata": {
        "colab": {
          "base_uri": "https://localhost:8080/"
        },
        "id": "TwUENbs_xCEC",
        "outputId": "848451b1-73e3-4ed3-d15b-9703146a2a65"
      },
      "source": [
        "print(\"Block data: \", initial_block.block_data)\n",
        "print(\"Block hash: \", initial_block.block_hash)"
      ],
      "execution_count": null,
      "outputs": [
        {
          "output_type": "stream",
          "text": [
            "Block data:  Samira sends 2 MC to Nadia-Anatjari sends 1.2 MC to Zachery-1-Initial hash string-0\n",
            "Block hash:  943b145b88673ac6bdbb9e8abdf8cda31c552a31ce009e1e57afc3252916d676\n"
          ],
          "name": "stdout"
        }
      ]
    },
    {
      "cell_type": "markdown",
      "metadata": {
        "id": "fhs4-lwZxQmF"
      },
      "source": [
        "Note that slightest change to even a single character in one of the transactions leads to a completely new block hash for the whole block.\n",
        "\n",
        "For example, let's see what happens if someone tries to change the `t2` transaction from `1.2` to `1.3`."
      ]
    },
    {
      "cell_type": "code",
      "metadata": {
        "id": "DZ3SwT_exIth"
      },
      "source": [
        "t1 = \"Samira sends 2 MC to Nadia\"\n",
        "t2 = \"Anatjari sends 1.3 MC to Zachery\""
      ],
      "execution_count": null,
      "outputs": []
    },
    {
      "cell_type": "code",
      "metadata": {
        "colab": {
          "base_uri": "https://localhost:8080/"
        },
        "id": "ndPp3tdrxslC",
        "outputId": "d17f1e39-5e82-47d4-e565-29d82a71c852"
      },
      "source": [
        "initial_block = MarquetteCoinBlock(\"Initial hash string\", 1, 0, [t1, t2])\n",
        "print(\"Block data: \", initial_block.block_data)\n",
        "print(\"Block hash: \", initial_block.block_hash)"
      ],
      "execution_count": null,
      "outputs": [
        {
          "output_type": "stream",
          "text": [
            "Block data:  Samira sends 2 MC to Nadia-Anatjari sends 1.3 MC to Zachery-1-Initial hash string-0\n",
            "Block hash:  84cabe133a61d42338a5917177c85eba02daa20f91f4cb66823dc1601c42d79d\n"
          ],
          "name": "stdout"
        }
      ]
    },
    {
      "cell_type": "markdown",
      "metadata": {
        "id": "G-wSh9D6xwjK"
      },
      "source": [
        "You can see that the block hashes are completely different (they are not slightly different!)"
      ]
    },
    {
      "cell_type": "markdown",
      "metadata": {
        "id": "ojB5t86Kx6ti"
      },
      "source": [
        "Now let's see how these blocks become a chain of blocks."
      ]
    },
    {
      "cell_type": "code",
      "metadata": {
        "id": "54EcO9Imxvie"
      },
      "source": [
        "t1 = \"Samira sends 2 MC to Nadia\"\n",
        "t2 = \"Anatjari sends 1.2 MC to Zachery\"\n",
        "t3 = \"Kate sends 3.4 MC to Nadia\"\n",
        "t4 = \"Nadia sends 9.2 to Zachery\"\n",
        "t5 = \"Anatjari sends 0.2 MC to Samira\"\n",
        "t6 = \"Zachery sends 2.6 MC to Kate\""
      ],
      "execution_count": null,
      "outputs": []
    },
    {
      "cell_type": "code",
      "metadata": {
        "colab": {
          "base_uri": "https://localhost:8080/"
        },
        "id": "DN35Hz0pyCRX",
        "outputId": "9ee67ccd-9f16-4f8d-bda5-fcff5ef02d20"
      },
      "source": [
        "initial_block = MarquetteCoinBlock(\"Initial hash string\", 1, 0, [t1, t2])\n",
        "print(\"Block data: \", initial_block.block_data)\n",
        "print(\"Block hash: \", initial_block.block_hash)"
      ],
      "execution_count": null,
      "outputs": [
        {
          "output_type": "stream",
          "text": [
            "Block data:  Samira sends 2 MC to Nadia-Anatjari sends 1.2 MC to Zachery-1-Initial hash string-0\n",
            "Block hash:  943b145b88673ac6bdbb9e8abdf8cda31c552a31ce009e1e57afc3252916d676\n"
          ],
          "name": "stdout"
        }
      ]
    },
    {
      "cell_type": "code",
      "metadata": {
        "colab": {
          "base_uri": "https://localhost:8080/"
        },
        "id": "71EujGE_zGI2",
        "outputId": "5fbe6e24-5021-4276-bc8d-5b3a8080c1b2"
      },
      "source": [
        "second_block = MarquetteCoinBlock(initial_block.block_hash, 2, 0, [t3, t4])\n",
        "print(\"Block data: \", second_block.block_data)\n",
        "print(\"Block hash: \", second_block.block_hash)"
      ],
      "execution_count": null,
      "outputs": [
        {
          "output_type": "stream",
          "text": [
            "Block data:  Kate sends 3.4 MC to Nadia-Nadia sends 9.2 to Zachery-2-943b145b88673ac6bdbb9e8abdf8cda31c552a31ce009e1e57afc3252916d676-0\n",
            "Block hash:  c73ace04f3162cda2acb638376a873cfeada8fb7deab20781a88f527a00fb3bb\n"
          ],
          "name": "stdout"
        }
      ]
    },
    {
      "cell_type": "code",
      "metadata": {
        "colab": {
          "base_uri": "https://localhost:8080/"
        },
        "id": "DQA6uHF0zS0s",
        "outputId": "26beab8f-07a0-4343-cb44-6d11aa5c6a8f"
      },
      "source": [
        "third_block = MarquetteCoinBlock(second_block.block_hash, 3, 0, [t5, t6])\n",
        "print(\"Block data: \", third_block.block_data)\n",
        "print(\"Block hash: \", third_block.block_hash)"
      ],
      "execution_count": null,
      "outputs": [
        {
          "output_type": "stream",
          "text": [
            "Block data:  Anatjari sends 0.2 MC to Samira-Zachery sends 2.6 MC to Kate-3-c73ace04f3162cda2acb638376a873cfeada8fb7deab20781a88f527a00fb3bb-0\n",
            "Block hash:  224636b4cececf596dfeddfe363ab37c65e9632da1db721d0f9d1355f518b72d\n"
          ],
          "name": "stdout"
        }
      ]
    },
    {
      "cell_type": "markdown",
      "metadata": {
        "id": "mfz8s4vlzhAK"
      },
      "source": [
        "Let's make a small change to the second transaction and see what happens to the whole chain."
      ]
    },
    {
      "cell_type": "code",
      "metadata": {
        "id": "CHshcZDEzfDC"
      },
      "source": [
        "t1 = \"Samira sends 2 MC to Nadia\"\n",
        "t2 = \"Anatjari sends 1.3 MC to Zachery\"\n",
        "t3 = \"Kate sends 3.4 MC to Nadia\"\n",
        "t4 = \"Nadia sends 9.2 to Zachery\"\n",
        "t5 = \"Anatjari sends 0.2 MC to Samira\"\n",
        "t6 = \"Zachery sends 2.6 MC to Kate\""
      ],
      "execution_count": null,
      "outputs": []
    },
    {
      "cell_type": "code",
      "metadata": {
        "colab": {
          "base_uri": "https://localhost:8080/"
        },
        "id": "xdVzfACbztjU",
        "outputId": "67a5f60c-afbb-4d5f-ed21-4f6fcf868a00"
      },
      "source": [
        "initial_block = MarquetteCoinBlock(\"Initial hash string\", 1, 0, [t1, t2])\n",
        "print(\"Block data: \", initial_block.block_data)\n",
        "print(\"Block hash: \", initial_block.block_hash)\n",
        "\n",
        "second_block = MarquetteCoinBlock(initial_block.block_hash, 2, 0, [t3, t4])\n",
        "print(\"Block data: \", second_block.block_data)\n",
        "print(\"Block hash: \", second_block.block_hash)\n",
        "\n",
        "third_block = MarquetteCoinBlock(second_block.block_hash, 3, 0, [t5, t6])\n",
        "print(\"Block data: \", third_block.block_data)\n",
        "print(\"Block hash: \", third_block.block_hash)"
      ],
      "execution_count": null,
      "outputs": [
        {
          "output_type": "stream",
          "text": [
            "Block data:  Samira sends 2 MC to Nadia-Anatjari sends 1.3 MC to Zachery-1-Initial hash string-0\n",
            "Block hash:  84cabe133a61d42338a5917177c85eba02daa20f91f4cb66823dc1601c42d79d\n",
            "Block data:  Kate sends 3.4 MC to Nadia-Nadia sends 9.2 to Zachery-2-84cabe133a61d42338a5917177c85eba02daa20f91f4cb66823dc1601c42d79d-0\n",
            "Block hash:  be2c2289f48f234b80f77b3e314b4b6b3985317a70c3ab5e4a886e7b2f50fd62\n",
            "Block data:  Anatjari sends 0.2 MC to Samira-Zachery sends 2.6 MC to Kate-3-be2c2289f48f234b80f77b3e314b4b6b3985317a70c3ab5e4a886e7b2f50fd62-0\n",
            "Block hash:  2ef1ed7677e225f4ed22e8ddf2e48cdcc6e88380c5cef0b034efbfc93e22e93e\n"
          ],
          "name": "stdout"
        }
      ]
    },
    {
      "cell_type": "markdown",
      "metadata": {
        "id": "r3asd7pQzy00"
      },
      "source": [
        "As you can see a slightest change in a transaction in the first block changed all block hashes in the entire blockchain after that transaction.\n",
        "\n",
        "This is why eveyone must agree on the exact transations in all previous blocks before agreeing on the current transactions."
      ]
    },
    {
      "cell_type": "markdown",
      "metadata": {
        "id": "mLjQQ-PB0V6z"
      },
      "source": [
        "# How to create a miner for our basic blockchain - Proof of Work"
      ]
    },
    {
      "cell_type": "markdown",
      "metadata": {
        "id": "wuXODyN4N3Ly"
      },
      "source": [
        "The trick here is that while we can create the hash code of any given text (or data in general), we cannot reverese this process. This means we cannot find the text (or data) from the hash code.\n",
        "\n",
        "The only way to find the text from the hash is to apply the hashing function on random inputs until one of them happen to be the original text that was hashed.\n",
        "\n",
        "Since everyone has the transactions and the previous block, people start guessing the nonce until the generate a hash with a specific number of zeros in the right-hand-side. The process of guessing the nonce is called mining. Because it is a very expensive task to find the nonce (time and energy consuming), we assume that people will focus on finding the nonce for the blocks that have the most accurate and trustworthy details. In the cryptocurrency world the first individual who finds the nonce is rewarded with a number of coins!"
      ]
    },
    {
      "cell_type": "markdown",
      "metadata": {
        "id": "HQ5Awb8jPZj8"
      },
      "source": [
        "### Nonce\n",
        "\n",
        "Guessing a SHA256 hash code, which is 64 hexadecimal numbers, is almost impossible. So, as discussed in most blockchains we focus on finding a specific number that is used as a part of the block. The goal is to find the number that can make the hash code start with n zeros. For example: 004e409bd8ea9...\n",
        "\n",
        "To learn more watch both of the following videos:\n",
        "\n",
        "https://www.khanacademy.org/economics-finance-domain/core-finance/money-and-banking/bitcoin/v/bitcoin-proof-of-work\n",
        "\n",
        "https://www.khanacademy.org/economics-finance-domain/core-finance/money-and-banking/bitcoin/v/bitcoin-transaction-block-chains"
      ]
    },
    {
      "cell_type": "code",
      "metadata": {
        "id": "PU-VEV-mzxMi"
      },
      "source": [
        "def mine(previous_block_hash, block_number, number_of_zeros, transaction_list):\n",
        "  prefix_zeros = '0' * number_of_zeros\n",
        "  nonce = 0 # number only used once\n",
        "  while True:\n",
        "    b = MarquetteCoinBlock(previous_block_hash, block_number, nonce, transaction_list)\n",
        "    if b.block_hash.startswith(prefix_zeros):\n",
        "      print(\"Hurray! We're rich!\")\n",
        "      return nonce\n",
        "    nonce = nonce + 1"
      ],
      "execution_count": null,
      "outputs": []
    },
    {
      "cell_type": "code",
      "metadata": {
        "colab": {
          "base_uri": "https://localhost:8080/"
        },
        "id": "fqUSo30JW2Ph",
        "outputId": "05cfd8ee-764c-4d10-c16d-23946f123852"
      },
      "source": [
        "# Mining the initial block\n",
        "initial_block_nonce = mine(\"Initial hash string\", 1, 2, [t1, t2])"
      ],
      "execution_count": null,
      "outputs": [
        {
          "output_type": "stream",
          "text": [
            "Hurray! We're rich!\n"
          ],
          "name": "stdout"
        }
      ]
    },
    {
      "cell_type": "code",
      "metadata": {
        "colab": {
          "base_uri": "https://localhost:8080/"
        },
        "id": "jJ13q8qlXKZp",
        "outputId": "356356bd-134c-4a59-ab78-98f57f3d4b70"
      },
      "source": [
        "initial_block_nonce"
      ],
      "execution_count": null,
      "outputs": [
        {
          "output_type": "execute_result",
          "data": {
            "text/plain": [
              "351"
            ]
          },
          "metadata": {
            "tags": []
          },
          "execution_count": 16
        }
      ]
    },
    {
      "cell_type": "code",
      "metadata": {
        "id": "UvO-b17FXMzr"
      },
      "source": [
        "initial_block = MarquetteCoinBlock(\"Initial hash string\", 1, initial_block_nonce, [t1, t2])"
      ],
      "execution_count": null,
      "outputs": []
    },
    {
      "cell_type": "code",
      "metadata": {
        "colab": {
          "base_uri": "https://localhost:8080/",
          "height": 35
        },
        "id": "1a9Dp23JYfo4",
        "outputId": "ad172360-80ec-4233-ee87-3512569789ad"
      },
      "source": [
        "initial_block.block_data"
      ],
      "execution_count": null,
      "outputs": [
        {
          "output_type": "execute_result",
          "data": {
            "application/vnd.google.colaboratory.intrinsic+json": {
              "type": "string"
            },
            "text/plain": [
              "'Samira sends 2 MC to Nadia-Anatjari sends 1.3 MC to Zachery-1-Initial hash string-351'"
            ]
          },
          "metadata": {
            "tags": []
          },
          "execution_count": 18
        }
      ]
    },
    {
      "cell_type": "code",
      "metadata": {
        "colab": {
          "base_uri": "https://localhost:8080/",
          "height": 35
        },
        "id": "4QT7wdtnYhkW",
        "outputId": "67d59850-165c-434c-b56e-a8ea81d0d247"
      },
      "source": [
        "initial_block.block_hash"
      ],
      "execution_count": null,
      "outputs": [
        {
          "output_type": "execute_result",
          "data": {
            "application/vnd.google.colaboratory.intrinsic+json": {
              "type": "string"
            },
            "text/plain": [
              "'00dab1ee4ed7ce926fd7062bbe0adb84f8a1d76f4b8d320dd621edff566f05fa'"
            ]
          },
          "metadata": {
            "tags": []
          },
          "execution_count": 19
        }
      ]
    },
    {
      "cell_type": "code",
      "metadata": {
        "colab": {
          "base_uri": "https://localhost:8080/"
        },
        "id": "Pv7GTKuzYjdL",
        "outputId": "0ea24572-a715-4888-e0e7-bc6d18b8a8f0"
      },
      "source": [
        "#Mining the second block\n",
        "second_block_nonce = mine(initial_block.block_hash, 2, 2, [t3, t4])\n",
        "second_block = MarquetteCoinBlock(initial_block.block_hash, 2, second_block_nonce, [t3, t4])\n",
        "print(second_block_nonce)\n",
        "print(\"Block data: \", second_block.block_data)\n",
        "print(\"Block hash: \", second_block.block_hash)"
      ],
      "execution_count": null,
      "outputs": [
        {
          "output_type": "stream",
          "text": [
            "Hurray! We're rich!\n",
            "642\n",
            "Block data:  Kate sends 3.4 MC to Nadia-Nadia sends 9.2 to Zachery-2-00dab1ee4ed7ce926fd7062bbe0adb84f8a1d76f4b8d320dd621edff566f05fa-642\n",
            "Block hash:  004e409bd8ea90be8f5981a118ab707934db0633ec915432d818ebc2388f92b3\n"
          ],
          "name": "stdout"
        }
      ]
    },
    {
      "cell_type": "code",
      "metadata": {
        "colab": {
          "base_uri": "https://localhost:8080/"
        },
        "id": "xrE4qil7Y8hz",
        "outputId": "7883ea3c-a3b8-4b79-d294-0d824ee6b151"
      },
      "source": [
        "#Mining the third block\n",
        "third_block_nonce = mine(second_block.block_hash, 3, 2, [t5, t6])\n",
        "third_block = MarquetteCoinBlock(second_block.block_hash, 3, third_block_nonce, [t5, t6])\n",
        "print(third_block_nonce)\n",
        "print(\"Block data: \", third_block.block_data)\n",
        "print(\"Block hash: \", third_block.block_hash)"
      ],
      "execution_count": null,
      "outputs": [
        {
          "output_type": "stream",
          "text": [
            "Hurray! We're rich!\n",
            "799\n",
            "Block data:  Anatjari sends 0.2 MC to Samira-Zachery sends 2.6 MC to Kate-3-004e409bd8ea90be8f5981a118ab707934db0633ec915432d818ebc2388f92b3-799\n",
            "Block hash:  00a42b425ffa0f55041e43c8cbe3295e90c8d8835bdf47a49fd5ae9a562c0589\n"
          ],
          "name": "stdout"
        }
      ]
    },
    {
      "cell_type": "markdown",
      "metadata": {
        "id": "NxX4JA4Dlyeh"
      },
      "source": [
        "For more details| watch:\n",
        "\n",
        "https://www.youtube.com/watch?v=ZhnJ1bkIWWk\n",
        "\n",
        "https://www.youtube.com/watch?v=pYasYyjByKI"
      ]
    },
    {
      "cell_type": "code",
      "metadata": {
        "id": "iAeXuhS3l65g"
      },
      "source": [
        ""
      ],
      "execution_count": null,
      "outputs": []
    }
  ]
}