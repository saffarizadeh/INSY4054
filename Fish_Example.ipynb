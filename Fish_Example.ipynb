{
  "nbformat": 4,
  "nbformat_minor": 0,
  "metadata": {
    "colab": {
      "name": "Fish Example",
      "provenance": [],
      "collapsed_sections": [],
      "authorship_tag": "ABX9TyOfmhMyTAsebub1aRU6YVXD",
      "include_colab_link": true
    },
    "kernelspec": {
      "name": "python3",
      "display_name": "Python 3"
    },
    "language_info": {
      "name": "python"
    },
    "accelerator": "GPU"
  },
  "cells": [
    {
      "cell_type": "markdown",
      "metadata": {
        "id": "view-in-github",
        "colab_type": "text"
      },
      "source": [
        "<a href=\"https://colab.research.google.com/github/saffarizadeh/INSY4054/blob/main/Fish_Example.ipynb\" target=\"_parent\"><img src=\"https://colab.research.google.com/assets/colab-badge.svg\" alt=\"Open In Colab\"/></a>"
      ]
    },
    {
      "cell_type": "markdown",
      "metadata": {
        "id": "tuAbjmWrrany"
      },
      "source": [
        "Credit: https://www.tensorflow.org/tutorials/images/classification"
      ]
    },
    {
      "cell_type": "code",
      "metadata": {
        "id": "594vSW4edQus"
      },
      "source": [
        "!gdown --id 1UVsiGRIaYPTRjNNqkWeZRscdJopCsOcZ\n",
        " \n",
        "!unzip the-nature-conservancy-fisheries-monitoring.zip\n",
        " \n",
        "!unzip train.zip"
      ],
      "execution_count": null,
      "outputs": []
    },
    {
      "cell_type": "code",
      "metadata": {
        "id": "JgcYNaGUenui"
      },
      "source": [
        "import tensorflow as tf"
      ],
      "execution_count": null,
      "outputs": []
    },
    {
      "cell_type": "code",
      "metadata": {
        "id": "c4y1863pdZOx"
      },
      "source": [
        "batch_size = 32\n",
        "img_height = 72 #Scaling down due to limited computing resources\n",
        "img_width = 125 #Scaling down due to limited computing resources\n",
        "data_dir = 'train'"
      ],
      "execution_count": null,
      "outputs": []
    },
    {
      "cell_type": "code",
      "metadata": {
        "colab": {
          "base_uri": "https://localhost:8080/"
        },
        "id": "CgGJC9mYedcF",
        "outputId": "bf4f5ec5-49d1-4b14-b51e-f28cfa8ef6e3"
      },
      "source": [
        "train_ds = tf.keras.preprocessing.image_dataset_from_directory(\n",
        "  data_dir,\n",
        "  validation_split=0.2,\n",
        "  subset=\"training\",\n",
        "  seed=123,\n",
        "  image_size=(img_height, img_width),\n",
        "  batch_size=batch_size)"
      ],
      "execution_count": null,
      "outputs": [
        {
          "output_type": "stream",
          "text": [
            "Found 3777 files belonging to 8 classes.\n",
            "Using 3022 files for training.\n"
          ],
          "name": "stdout"
        }
      ]
    },
    {
      "cell_type": "code",
      "metadata": {
        "colab": {
          "base_uri": "https://localhost:8080/"
        },
        "id": "MBAxz4Fyemm3",
        "outputId": "d62a288f-cfb9-49ea-e3b6-c6990989b845"
      },
      "source": [
        "val_ds = tf.keras.preprocessing.image_dataset_from_directory(\n",
        "  data_dir,\n",
        "  validation_split=0.2,\n",
        "  subset=\"validation\",\n",
        "  seed=123,\n",
        "  image_size=(img_height, img_width),\n",
        "  batch_size=batch_size)"
      ],
      "execution_count": null,
      "outputs": [
        {
          "output_type": "stream",
          "text": [
            "Found 3777 files belonging to 8 classes.\n",
            "Using 755 files for validation.\n"
          ],
          "name": "stdout"
        }
      ]
    },
    {
      "cell_type": "code",
      "metadata": {
        "colab": {
          "base_uri": "https://localhost:8080/"
        },
        "id": "ZNOdiIROe1nj",
        "outputId": "32326aa9-2089-4874-e7bf-d8fcf31731d1"
      },
      "source": [
        "class_names = train_ds.class_names\n",
        "print(class_names)"
      ],
      "execution_count": null,
      "outputs": [
        {
          "output_type": "stream",
          "text": [
            "['ALB', 'BET', 'DOL', 'LAG', 'NoF', 'OTHER', 'SHARK', 'YFT']\n"
          ],
          "name": "stdout"
        }
      ]
    },
    {
      "cell_type": "code",
      "metadata": {
        "id": "tmgW9yWOfEbx"
      },
      "source": [
        "AUTOTUNE = tf.data.AUTOTUNE\n",
        "\n",
        "train_ds = train_ds.cache().shuffle(1000).prefetch(buffer_size=AUTOTUNE)\n",
        "val_ds = val_ds.cache().prefetch(buffer_size=AUTOTUNE)"
      ],
      "execution_count": null,
      "outputs": []
    },
    {
      "cell_type": "code",
      "metadata": {
        "id": "Zf9vQ55sfZf8"
      },
      "source": [
        "num_classes = 8\n",
        "\n",
        "model = tf.keras.Sequential([\n",
        "  tf.keras.layers.experimental.preprocessing.Rescaling(1./255, input_shape=(img_height, img_width, 3)),\n",
        "  tf.keras.layers.Conv2D(16, 3, padding='same', activation='relu'),\n",
        "  tf.keras.layers.MaxPooling2D(),\n",
        "  tf.keras.layers.Conv2D(32, 3, padding='same', activation='relu'),\n",
        "  tf.keras.layers.MaxPooling2D(),\n",
        "  tf.keras.layers.Conv2D(64, 3, padding='same', activation='relu'),\n",
        "  tf.keras.layers.MaxPooling2D(),\n",
        "  tf.keras.layers.Flatten(),\n",
        "  tf.keras.layers.Dense(128, activation='relu'),\n",
        "  tf.keras.layers.Dense(num_classes)\n",
        "])"
      ],
      "execution_count": null,
      "outputs": []
    },
    {
      "cell_type": "code",
      "metadata": {
        "id": "4dYYujIrgAxj"
      },
      "source": [
        "model.compile(optimizer='adam',\n",
        "              loss=tf.keras.losses.SparseCategoricalCrossentropy(from_logits=True),\n",
        "              metrics=['accuracy'])"
      ],
      "execution_count": null,
      "outputs": []
    },
    {
      "cell_type": "code",
      "metadata": {
        "colab": {
          "base_uri": "https://localhost:8080/"
        },
        "id": "Jho3CNgUgBXq",
        "outputId": "938453a8-f076-41d8-9670-aeb86d02a2f4"
      },
      "source": [
        "history = model.fit(train_ds, epochs=10)"
      ],
      "execution_count": null,
      "outputs": [
        {
          "output_type": "stream",
          "text": [
            "Epoch 1/10\n",
            "95/95 [==============================] - 52s 9ms/step - loss: 1.6079 - accuracy: 0.4569\n",
            "Epoch 2/10\n",
            "95/95 [==============================] - 1s 6ms/step - loss: 0.9057 - accuracy: 0.6863\n",
            "Epoch 3/10\n",
            "95/95 [==============================] - 1s 7ms/step - loss: 0.4548 - accuracy: 0.8475\n",
            "Epoch 4/10\n",
            "95/95 [==============================] - 1s 7ms/step - loss: 0.2562 - accuracy: 0.9230\n",
            "Epoch 5/10\n",
            "95/95 [==============================] - 1s 6ms/step - loss: 0.1510 - accuracy: 0.9551\n",
            "Epoch 6/10\n",
            "95/95 [==============================] - 1s 7ms/step - loss: 0.0972 - accuracy: 0.9742\n",
            "Epoch 7/10\n",
            "95/95 [==============================] - 1s 7ms/step - loss: 0.0465 - accuracy: 0.9893\n",
            "Epoch 8/10\n",
            "95/95 [==============================] - 1s 6ms/step - loss: 0.0363 - accuracy: 0.9912\n",
            "Epoch 9/10\n",
            "95/95 [==============================] - 1s 7ms/step - loss: 0.0530 - accuracy: 0.9853\n",
            "Epoch 10/10\n",
            "95/95 [==============================] - 1s 7ms/step - loss: 0.0331 - accuracy: 0.9897\n"
          ],
          "name": "stdout"
        }
      ]
    },
    {
      "cell_type": "code",
      "metadata": {
        "colab": {
          "base_uri": "https://localhost:8080/"
        },
        "id": "nsLx_U3Qgj2-",
        "outputId": "667d54ec-af01-4b45-dd05-f7942acc6b04"
      },
      "source": [
        "model.evaluate(val_ds, verbose=2)"
      ],
      "execution_count": null,
      "outputs": [
        {
          "output_type": "stream",
          "text": [
            "24/24 - 5s - loss: 0.2944 - accuracy: 0.9351\n"
          ],
          "name": "stdout"
        },
        {
          "output_type": "execute_result",
          "data": {
            "text/plain": [
              "[0.2944338321685791, 0.9350993633270264]"
            ]
          },
          "metadata": {
            "tags": []
          },
          "execution_count": 14
        }
      ]
    },
    {
      "cell_type": "code",
      "metadata": {
        "id": "1hOeSmiArc4Y"
      },
      "source": [
        ""
      ],
      "execution_count": null,
      "outputs": []
    }
  ]
}