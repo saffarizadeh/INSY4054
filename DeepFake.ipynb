{
  "nbformat": 4,
  "nbformat_minor": 0,
  "metadata": {
    "colab": {
      "name": "DeepFake",
      "provenance": [],
      "collapsed_sections": [],
      "toc_visible": true,
      "authorship_tag": "ABX9TyNVS5X3z1L4ukYYQZ+RcBaB",
      "include_colab_link": true
    },
    "kernelspec": {
      "name": "python3",
      "display_name": "Python 3"
    },
    "accelerator": "GPU"
  },
  "cells": [
    {
      "cell_type": "markdown",
      "metadata": {
        "id": "view-in-github",
        "colab_type": "text"
      },
      "source": [
        "<a href=\"https://colab.research.google.com/github/saffarizadeh/INSY4054/blob/main/DeepFake.ipynb\" target=\"_parent\"><img src=\"https://colab.research.google.com/assets/colab-badge.svg\" alt=\"Open In Colab\"/></a>"
      ]
    },
    {
      "cell_type": "code",
      "metadata": {
        "cellView": "form",
        "id": "w8rT9PEIWMrC"
      },
      "source": [
        "#@title Install required libraries (double-click to see)\n",
        "!pip install deep-animator\n",
        "!pip install fastscript\n",
        "import imageio\n",
        "imageio.plugins.ffmpeg.download()\n",
        "!pip install -U PyYAML"
      ],
      "execution_count": null,
      "outputs": []
    },
    {
      "cell_type": "code",
      "metadata": {
        "id": "GeAf3uy5WlJF"
      },
      "source": [
        "!gdown --id 1P27UddNfwV_NNbQqB40RkCPDaYnb9jwc"
      ],
      "execution_count": null,
      "outputs": []
    },
    {
      "cell_type": "code",
      "metadata": {
        "id": "XMrV2gpCXB28"
      },
      "source": [
        "!deep_animate '00.png' '00.mp4' 'conf.yml' 'deep_animator_model.pth.tar' --device cuda"
      ],
      "execution_count": null,
      "outputs": []
    },
    {
      "cell_type": "code",
      "metadata": {
        "id": "H9x5rsgdXB0A"
      },
      "source": [
        ""
      ],
      "execution_count": null,
      "outputs": []
    }
  ]
}