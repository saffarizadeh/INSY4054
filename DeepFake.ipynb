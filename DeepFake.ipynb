{
  "nbformat": 4,
  "nbformat_minor": 0,
  "metadata": {
    "colab": {
      "name": "DeepFake",
      "provenance": [],
      "collapsed_sections": [],
      "authorship_tag": "ABX9TyOMKbF4P2BhnhUDTH1E3aAp",
      "include_colab_link": true
    },
    "kernelspec": {
      "name": "python3",
      "display_name": "Python 3"
    },
    "accelerator": "GPU"
  },
  "cells": [
    {
      "cell_type": "markdown",
      "metadata": {
        "id": "view-in-github",
        "colab_type": "text"
      },
      "source": [
        "<a href=\"https://colab.research.google.com/github/saffarizadeh/INSY4054/blob/main/DeepFake.ipynb\" target=\"_parent\"><img src=\"https://colab.research.google.com/assets/colab-badge.svg\" alt=\"Open In Colab\"/></a>"
      ]
    },
    {
      "cell_type": "markdown",
      "metadata": {
        "id": "Y4V2zEgx-Yo1"
      },
      "source": [
        "<img src=\"http://saffarizadeh.com/Logo.png\" width=\"300px\"/>\n",
        "\n",
        "# *INSY 4054: Emerging Technologies*\n",
        "\n",
        "# **Trained Models and Transfer Learning**\n",
        "\n",
        "Instructor: Dr. Kambiz Saffarizadeh\n",
        "\n",
        "---"
      ]
    },
    {
      "cell_type": "code",
      "metadata": {
        "cellView": "form",
        "id": "w8rT9PEIWMrC"
      },
      "source": [
        "#@title Install required libraries (double-click to see)\n",
        "!pip install deep-animator\n",
        "!pip install fastscript\n",
        "import imageio\n",
        "imageio.plugins.ffmpeg.download()\n",
        "!pip install -U PyYAML"
      ],
      "execution_count": null,
      "outputs": []
    },
    {
      "cell_type": "code",
      "metadata": {
        "id": "GeAf3uy5WlJF",
        "colab": {
          "base_uri": "https://localhost:8080/"
        },
        "outputId": "de52a8ab-2949-4194-a27a-f11b8f829cd0"
      },
      "source": [
        "!gdown --id 1P27UddNfwV_NNbQqB40RkCPDaYnb9jwc"
      ],
      "execution_count": null,
      "outputs": [
        {
          "output_type": "stream",
          "text": [
            "Downloading...\n",
            "From: https://drive.google.com/uc?id=1P27UddNfwV_NNbQqB40RkCPDaYnb9jwc\n",
            "To: /content/deep_animator_model.pth.tar\n",
            "729MB [00:11, 65.6MB/s]\n"
          ],
          "name": "stdout"
        }
      ]
    },
    {
      "cell_type": "code",
      "metadata": {
        "id": "XMrV2gpCXB28",
        "colab": {
          "base_uri": "https://localhost:8080/"
        },
        "outputId": "fe56bd49-ca2a-4ae8-edf1-8345f0a7de50"
      },
      "source": [
        "!deep_animate '00.png' 'ET2.mp4' 'conf.yml' 'deep_animator_model.pth.tar' --device cuda"
      ],
      "execution_count": null,
      "outputs": [
        {
          "output_type": "stream",
          "text": [
            "100% 143/143 [00:05<00:00, 27.38it/s]\n"
          ],
          "name": "stdout"
        }
      ]
    },
    {
      "cell_type": "code",
      "metadata": {
        "id": "tyFlnSxeg2CO"
      },
      "source": [
        ""
      ],
      "execution_count": null,
      "outputs": []
    }
  ]
}