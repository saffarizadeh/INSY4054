{
  "nbformat": 4,
  "nbformat_minor": 0,
  "metadata": {
    "kernelspec": {
      "display_name": "Python 3",
      "language": "python",
      "name": "python3"
    },
    "language_info": {
      "codemirror_mode": {
        "name": "ipython",
        "version": 3
      },
      "file_extension": ".py",
      "mimetype": "text/x-python",
      "name": "python",
      "nbconvert_exporter": "python",
      "pygments_lexer": "ipython3",
      "version": "3.8.5"
    },
    "colab": {
      "name": "Python Basics III.ipynb",
      "provenance": [],
      "collapsed_sections": [],
      "include_colab_link": true
    }
  },
  "cells": [
    {
      "cell_type": "markdown",
      "metadata": {
        "id": "view-in-github",
        "colab_type": "text"
      },
      "source": [
        "<a href=\"https://colab.research.google.com/github/saffarizadeh/INSY4054/blob/main/Python_Basics_III.ipynb\" target=\"_parent\"><img src=\"https://colab.research.google.com/assets/colab-badge.svg\" alt=\"Open In Colab\"/></a>"
      ]
    },
    {
      "cell_type": "markdown",
      "metadata": {
        "id": "Yw1tx2SELnot"
      },
      "source": [
        "<img src=\"http://saffarizadeh.com/Logo.png\" width=\"300px\"/>\n",
        "\n",
        "# *INSY 4054: Emerging Technologies*\n",
        "\n",
        "# **Python Basics III**\n",
        "\n",
        "Instructor: Dr. Kambiz Saffarizadeh\n",
        "\n",
        "---"
      ]
    },
    {
      "cell_type": "markdown",
      "metadata": {
        "id": "2xMN5n3LLJV3"
      },
      "source": [
        "Most of the credit for this notebook goes to McIntire et al.: https://www.learndatasci.com/tutorials/python-pandas-tutorial-complete-introduction-for-beginners/\n",
        "\n",
        "Also Pandas contributors: https://github.com/pandas-dev/pandas/graphs/contributors"
      ]
    },
    {
      "cell_type": "markdown",
      "metadata": {
        "id": "dww1-D8Kis1f"
      },
      "source": [
        "#Numpy\n",
        "\n",
        "`numpy` is the core library for scientific computing in Python. It provides a high-performance multidimensional array object, and tools for working with these arrays. If you are already familiar with MATLAB, you might find this tutorial useful to get started with Numpy."
      ]
    },
    {
      "cell_type": "markdown",
      "metadata": {
        "id": "ReIuzHRyix2P"
      },
      "source": [
        "## Arrays\n",
        "A numpy array is a grid of values, all of the same type, and is indexed by a tuple of nonnegative integers. The number of dimensions is the rank of the array; the shape of an array is a tuple of integers giving the size of the array along each dimension.\n",
        "\n",
        "We can initialize numpy arrays from nested Python lists, and access elements using square brackets:"
      ]
    },
    {
      "cell_type": "code",
      "metadata": {
        "id": "FP9JQ_hqi39E"
      },
      "source": [
        "import numpy as np"
      ],
      "execution_count": null,
      "outputs": []
    },
    {
      "cell_type": "code",
      "metadata": {
        "id": "RIyT2S_Zi5um"
      },
      "source": [
        "a = np.array([1, 2, 3])   # Create a rank 1 array\n",
        "print(type(a))            # Prints \"<class 'numpy.ndarray'>\"\n",
        "print(a.shape)            # Prints \"(3,)\"\n",
        "print(a[0], a[1], a[2])   # Prints \"1 2 3\""
      ],
      "execution_count": null,
      "outputs": []
    },
    {
      "cell_type": "code",
      "metadata": {
        "id": "PpqCiq5Ji69x"
      },
      "source": [
        "a[0] = 5                  # Change an element of the array\n",
        "print(a)                  # Prints \"[5, 2, 3]\""
      ],
      "execution_count": null,
      "outputs": []
    },
    {
      "cell_type": "code",
      "metadata": {
        "id": "o7TyPJFti8E1"
      },
      "source": [
        "b = np.array([[1,2,3],[4,5,6]])    # Create a rank 2 array\n",
        "print(b)\n",
        "print(b.shape)                     # Prints \"(2, 3)\""
      ],
      "execution_count": null,
      "outputs": []
    },
    {
      "cell_type": "code",
      "metadata": {
        "id": "709KL8h_i9kr"
      },
      "source": [
        "print(b[0, 0], b[0, 1], b[1, 0])   # Prints \"1 2 4\""
      ],
      "execution_count": null,
      "outputs": []
    },
    {
      "cell_type": "code",
      "metadata": {
        "id": "Mp9oAhw2izct"
      },
      "source": [
        ""
      ],
      "execution_count": null,
      "outputs": []
    },
    {
      "cell_type": "markdown",
      "metadata": {
        "id": "ChC63ezvixzK"
      },
      "source": [
        "### Array indexing\n",
        "Numpy offers several ways to index into arrays.\n",
        "\n",
        "Slicing: Similar to Python lists, numpy arrays can be sliced. Since arrays may be multidimensional, you must specify a slice for each dimension of the array:\n",
        "\n",
        "Create the following rank 2 array with shape (3, 4)\n",
        "\n",
        "[[ 1  2  3  4]\n",
        "\n",
        " [ 5  6  7  8]\n",
        " \n",
        " [ 9 10 11 12]]"
      ]
    },
    {
      "cell_type": "code",
      "metadata": {
        "id": "LOH7IgXfjGkj"
      },
      "source": [
        "a = np.array([[1,2,3,4], [5,6,7,8], [9,10,11,12]])\n",
        "print(a)"
      ],
      "execution_count": null,
      "outputs": []
    },
    {
      "cell_type": "markdown",
      "metadata": {
        "id": "yc-v8h_zixqD"
      },
      "source": [
        "Use slicing to pull out the subarray consisting of the first 2 rows and columns 1 and 2; b is the following array of shape (2, 2):\n",
        "\n",
        "[[2 3]\n",
        "\n",
        " [6 7]]"
      ]
    },
    {
      "cell_type": "code",
      "metadata": {
        "id": "IJ1vw4z3jJhJ"
      },
      "source": [
        "b = a[:2, 1:3]"
      ],
      "execution_count": null,
      "outputs": []
    },
    {
      "cell_type": "markdown",
      "metadata": {
        "id": "jX6uA2C5jLl_"
      },
      "source": [
        "A slice of an array is a view into the same data, so modifying it will modify the original array."
      ]
    },
    {
      "cell_type": "code",
      "metadata": {
        "id": "U4X7k3nGjNCf"
      },
      "source": [
        "print(a[0, 1])   # Prints \"2\""
      ],
      "execution_count": null,
      "outputs": []
    },
    {
      "cell_type": "code",
      "metadata": {
        "id": "ZpszlxYJjOkk"
      },
      "source": [
        "b[0, 0] = 77     # b[0, 0] is the same piece of data as a[0, 1]"
      ],
      "execution_count": null,
      "outputs": []
    },
    {
      "cell_type": "code",
      "metadata": {
        "id": "DBhJFSAxjP0s"
      },
      "source": [
        "print(a[0, 1])   # Prints \"77\""
      ],
      "execution_count": null,
      "outputs": []
    },
    {
      "cell_type": "markdown",
      "metadata": {
        "id": "epxpvxqnjUlA"
      },
      "source": [
        "You can select a single row or column of an array too:"
      ]
    },
    {
      "cell_type": "code",
      "metadata": {
        "id": "LEydWRepjU7b"
      },
      "source": [
        "row_r1 = a[1, :]    # Rank 1 view of the second row of a\n",
        "print(row_r1)"
      ],
      "execution_count": null,
      "outputs": []
    },
    {
      "cell_type": "code",
      "metadata": {
        "id": "7UkJlyCSjTil"
      },
      "source": [
        "col_r1 = a[:, 2]    # Rank 1 view of the third column of a\n",
        "print(col_r1)"
      ],
      "execution_count": null,
      "outputs": []
    },
    {
      "cell_type": "markdown",
      "metadata": {
        "id": "aDL-zZkqjaKA"
      },
      "source": [
        "Boolean array indexing: Boolean array indexing lets you pick out arbitrary elements of an array. Frequently this type of indexing is used to select the elements of an array that satisfy some condition. Here is an example:"
      ]
    },
    {
      "cell_type": "code",
      "metadata": {
        "id": "-PLaaLbtjahL"
      },
      "source": [
        "a = np.array([[1,2], [3, 4], [5, 6]])\n",
        "print(a)"
      ],
      "execution_count": null,
      "outputs": []
    },
    {
      "cell_type": "code",
      "metadata": {
        "id": "ZbEjBLlvjcJ8"
      },
      "source": [
        "bool_idx = (a > 2)   # Find the elements of a that are bigger than 2;\n",
        "                     # this returns a numpy array of Booleans of the same\n",
        "                     # shape as a, where each slot of bool_idx tells\n",
        "                     # whether that element of a is > 2.\n",
        "print(bool_idx)"
      ],
      "execution_count": null,
      "outputs": []
    },
    {
      "cell_type": "markdown",
      "metadata": {
        "id": "Y6hRfOdujiDC"
      },
      "source": [
        "We use boolean array indexing to construct a rank 1 array consisting of the elements of a corresponding to the True values of bool_idx"
      ]
    },
    {
      "cell_type": "code",
      "metadata": {
        "id": "WsrZIyzBjiVb"
      },
      "source": [
        "print(a[bool_idx])"
      ],
      "execution_count": null,
      "outputs": []
    },
    {
      "cell_type": "markdown",
      "metadata": {
        "id": "cknzAnTMjmQH"
      },
      "source": [
        "We can do all of the above in a single concise statement:"
      ]
    },
    {
      "cell_type": "code",
      "metadata": {
        "id": "jHuLmOFrjmo8"
      },
      "source": [
        "print(a[a > 2])     # Prints \"[3 4 5 6]\""
      ],
      "execution_count": null,
      "outputs": []
    },
    {
      "cell_type": "markdown",
      "metadata": {
        "id": "4fdWaEDQjpmk"
      },
      "source": [
        "## Numpy Datatypes\n",
        "\n",
        "https://numpy.org/doc/stable/reference/arrays.dtypes.html\n",
        "\n",
        "Every numpy array is a grid of elements of the same type. Numpy provides a large set of numeric datatypes that you can use to construct arrays. Numpy tries to guess a datatype when you create an array, but functions that construct arrays usually also include an optional argument to explicitly specify the datatype. Here is an example:"
      ]
    },
    {
      "cell_type": "code",
      "metadata": {
        "id": "fVj9d2KpjrHY"
      },
      "source": [
        "x = np.array([1, 2])   # Let numpy choose the datatype\n",
        "print(x.dtype)         # Prints \"int64\"\n",
        "\n",
        "x = np.array([1.0, 2.0])   # Let numpy choose the datatype\n",
        "print(x.dtype)             # Prints \"float64\"\n",
        "\n",
        "x = np.array([1, 2], dtype=np.int64)   # Force a particular datatype\n",
        "print(x.dtype)"
      ],
      "execution_count": null,
      "outputs": []
    },
    {
      "cell_type": "markdown",
      "source": [
        "We will learn more about Numpy in our Machine Learning exercises."
      ],
      "metadata": {
        "id": "DE_jKKR-4RC6"
      }
    },
    {
      "cell_type": "markdown",
      "metadata": {
        "id": "vafp3BfALJV3"
      },
      "source": [
        "# Pandas"
      ]
    },
    {
      "cell_type": "code",
      "metadata": {
        "id": "Ss9040yTLJV4"
      },
      "source": [
        "import numpy as np\n",
        "import pandas as pd"
      ],
      "execution_count": null,
      "outputs": []
    },
    {
      "cell_type": "markdown",
      "metadata": {
        "id": "X2Nb1uNjLJV4"
      },
      "source": [
        "## Core components of pandas: Series and DataFrames"
      ]
    },
    {
      "cell_type": "markdown",
      "metadata": {
        "id": "-fArYuI0LJV4"
      },
      "source": [
        "The primary two components of pandas are the Series and DataFrame.\n",
        "\n",
        "A Series is essentially a column, and a DataFrame is a multi-dimensional table made up of a collection of Series."
      ]
    },
    {
      "cell_type": "markdown",
      "metadata": {
        "id": "tUosiNQgLJV4"
      },
      "source": [
        "<img src=\"https://storage.googleapis.com/lds-media/images/series-and-dataframe.width-1200.png\" width=50%>"
      ]
    },
    {
      "cell_type": "markdown",
      "metadata": {
        "id": "jWT1QtKSLJV4"
      },
      "source": [
        "### Creating columns (Series) from scratch"
      ]
    },
    {
      "cell_type": "code",
      "metadata": {
        "scrolled": true,
        "id": "g3MbmzLXLJV4"
      },
      "source": [
        "s = pd.Series([1, 3, 5, np.nan, 6, 8])\n",
        "s"
      ],
      "execution_count": null,
      "outputs": []
    },
    {
      "cell_type": "markdown",
      "metadata": {
        "id": "t71vuI62LJV4"
      },
      "source": [
        "Creating Series of dates:"
      ]
    },
    {
      "cell_type": "code",
      "metadata": {
        "id": "jgDVt9YdLJV5"
      },
      "source": [
        "dates = pd.date_range('20210101', periods=6)\n",
        "dates"
      ],
      "execution_count": null,
      "outputs": []
    },
    {
      "cell_type": "markdown",
      "metadata": {
        "id": "iJJvwz0GLJV5"
      },
      "source": [
        "Creating a categorical column:"
      ]
    },
    {
      "cell_type": "code",
      "metadata": {
        "id": "PMhkCYBALJV5"
      },
      "source": [
        "test_train = pd.Categorical([\"test\", \"train\", \"test\", \"train\", \"train\", \"train\"])"
      ],
      "execution_count": null,
      "outputs": []
    },
    {
      "cell_type": "markdown",
      "metadata": {
        "id": "nJmZtpJuLJV5"
      },
      "source": [
        "### Creating DataFrames from Columns"
      ]
    },
    {
      "cell_type": "code",
      "metadata": {
        "id": "2SXRnA7gLJV5"
      },
      "source": [
        "table_dict = {'Date': dates, 'Type_of_Learning': test_train, 'Value': s}"
      ],
      "execution_count": null,
      "outputs": []
    },
    {
      "cell_type": "code",
      "metadata": {
        "id": "F6Hyz2rWLJV5"
      },
      "source": [
        "df1 = pd.DataFrame(table_dict)\n",
        "df1"
      ],
      "execution_count": null,
      "outputs": []
    },
    {
      "cell_type": "markdown",
      "metadata": {
        "id": "2fpF_nRmLJV5"
      },
      "source": [
        "### Creating DataFrames from scratch"
      ]
    },
    {
      "cell_type": "markdown",
      "metadata": {
        "id": "wWm-6SUlLJV5"
      },
      "source": [
        "There are many ways to create a DataFrame from scratch, but a great option is to just use a simple dict."
      ]
    },
    {
      "cell_type": "code",
      "metadata": {
        "id": "D7aGY0ckLJV5"
      },
      "source": [
        "data = {\n",
        "        'apples': [3, 2, 0, 1], \n",
        "        'oranges': [0, 3, 7, 2]\n",
        "        }"
      ],
      "execution_count": null,
      "outputs": []
    },
    {
      "cell_type": "code",
      "metadata": {
        "id": "Nx6BkPvZLJV5"
      },
      "source": [
        "purchases = pd.DataFrame(data)"
      ],
      "execution_count": null,
      "outputs": []
    },
    {
      "cell_type": "code",
      "metadata": {
        "id": "sv7SZzdkLJV5"
      },
      "source": [
        "purchases"
      ],
      "execution_count": null,
      "outputs": []
    },
    {
      "cell_type": "markdown",
      "metadata": {
        "id": "flG07JvZLJV5"
      },
      "source": [
        "How did that work?\n",
        "\n",
        "Each (key, value) item in data corresponds to a column in the resulting DataFrame.\n",
        "\n",
        "The Index of this DataFrame was given to us on creation as the numbers 0-3, but we could also create our own when we initialize the DataFrame.\n",
        "\n",
        "Let's have customer names as our index:"
      ]
    },
    {
      "cell_type": "code",
      "metadata": {
        "id": "vTD41bnZLJV6"
      },
      "source": [
        "purchases = pd.DataFrame(data, index=['June', 'Robert', 'Lily', 'David'])\n",
        "\n",
        "purchases"
      ],
      "execution_count": null,
      "outputs": []
    },
    {
      "cell_type": "markdown",
      "metadata": {
        "id": "RNnt1VFZLJV6"
      },
      "source": [
        "So now we could locate a customer's order by using their name:"
      ]
    },
    {
      "cell_type": "code",
      "metadata": {
        "id": "IJQpP9a3LJV6"
      },
      "source": [
        "purchases.loc['June']"
      ],
      "execution_count": null,
      "outputs": []
    },
    {
      "cell_type": "markdown",
      "metadata": {
        "id": "oSOPGdFdLJV6"
      },
      "source": [
        "## How to read in data"
      ]
    },
    {
      "cell_type": "markdown",
      "metadata": {
        "id": "sGpCgpSOLJV6"
      },
      "source": [
        "### Reading data from CSVs"
      ]
    },
    {
      "cell_type": "code",
      "metadata": {
        "id": "1tXDEgRjLJV6"
      },
      "source": [
        "df2 = pd.read_csv('http://saffarizadeh.com/ET/purchases.csv')"
      ],
      "execution_count": null,
      "outputs": []
    },
    {
      "cell_type": "code",
      "metadata": {
        "scrolled": true,
        "id": "9ziJCOJyLJV6"
      },
      "source": [
        "df2"
      ],
      "execution_count": null,
      "outputs": []
    },
    {
      "cell_type": "markdown",
      "metadata": {
        "id": "l9wd9mNmLJV6"
      },
      "source": [
        "CSVs don't have indexes like our DataFrames, so all we need to do is just designate the `index_col` when reading:"
      ]
    },
    {
      "cell_type": "code",
      "metadata": {
        "id": "wUbp4enYLJV6"
      },
      "source": [
        "df2 = pd.read_csv('https://saffarizadeh.com/ET/purchases.csv', index_col=0)\n",
        "\n",
        "df2"
      ],
      "execution_count": null,
      "outputs": []
    },
    {
      "cell_type": "markdown",
      "metadata": {
        "id": "b0PYLf_MLJV6"
      },
      "source": [
        "### Reading data from JSON\n",
        "\n",
        "If you have a JSON file — which is essentially a stored Python `dict` — pandas can read this just as easily:"
      ]
    },
    {
      "cell_type": "code",
      "metadata": {
        "id": "BfWpKAllLJV6"
      },
      "source": [
        "df3 = pd.read_json('https://saffarizadeh.com/ET/purchases.json')"
      ],
      "execution_count": null,
      "outputs": []
    },
    {
      "cell_type": "code",
      "metadata": {
        "id": "7k68O4aDLJV6"
      },
      "source": [
        "df3"
      ],
      "execution_count": null,
      "outputs": []
    },
    {
      "cell_type": "markdown",
      "metadata": {
        "id": "qt02kbV3LJV7"
      },
      "source": [
        "Notice this time our index came with us correctly since using JSON allowed indexes to work through nesting. Feel free to open `purchases.json` in a notepad so you can see how it works."
      ]
    },
    {
      "cell_type": "markdown",
      "metadata": {
        "id": "IpvLkSNgLJV7"
      },
      "source": [
        "### Converting back to a CSV or JSON\n",
        "\n",
        "So after extensive work on cleaning your data, you’re now ready to save it as a file of your choice. Similar to the ways we read in data, pandas provides intuitive commands to save it:"
      ]
    },
    {
      "cell_type": "code",
      "metadata": {
        "id": "ktHWc5ENLJV7"
      },
      "source": [
        "df2['apples'][0] = 999\n",
        "df2.to_csv('new_purchases.csv')"
      ],
      "execution_count": null,
      "outputs": []
    },
    {
      "cell_type": "code",
      "metadata": {
        "id": "wEQ6MHxkLJV7"
      },
      "source": [
        "df3.to_json('new_purchases.json')"
      ],
      "execution_count": null,
      "outputs": []
    },
    {
      "cell_type": "markdown",
      "source": [
        "### Reading data from Excel"
      ],
      "metadata": {
        "id": "siEOzIum65ka"
      }
    },
    {
      "cell_type": "code",
      "source": [
        "excel_file_address = 'https://saffarizadeh.com/ET/Students.xlsx'"
      ],
      "metadata": {
        "id": "CQerVkJV663T"
      },
      "execution_count": null,
      "outputs": []
    },
    {
      "cell_type": "code",
      "source": [
        "students_sheet1 = pd.read_excel(excel_file_address, sheet_name=0, index_col=0)"
      ],
      "metadata": {
        "id": "DZ58wJIC687G"
      },
      "execution_count": null,
      "outputs": []
    },
    {
      "cell_type": "markdown",
      "metadata": {
        "id": "u3J9tyOOLJV7"
      },
      "source": [
        "## Exploring the DataFrame"
      ]
    },
    {
      "cell_type": "markdown",
      "source": [
        "### `head` and `tail`\n",
        "\n",
        "`.head()` outputs the **first** five rows of your DataFrame by default, but we could also pass a number as well: `movies_df.head(10)` would output the top ten rows, for example. \n",
        "\n",
        "https://pandas.pydata.org/pandas-docs/stable/reference/api/pandas.DataFrame.head.html"
      ],
      "metadata": {
        "id": "sw9kUsus6X07"
      }
    },
    {
      "cell_type": "code",
      "source": [
        "students_sheet1.head(2)"
      ],
      "metadata": {
        "id": "jBAo4WyR6Z_g"
      },
      "execution_count": null,
      "outputs": []
    },
    {
      "cell_type": "markdown",
      "source": [
        "To see the **last** five rows use `.tail()`. `tail()` also accepts a number, and in this case we printing the bottom two rows.\n",
        "\n",
        "https://pandas.pydata.org/pandas-docs/stable/reference/api/pandas.DataFrame.tail.html"
      ],
      "metadata": {
        "id": "M9Q6NMA66fxs"
      }
    },
    {
      "cell_type": "code",
      "metadata": {
        "id": "08SRAr7ALJV_"
      },
      "source": [
        "students_sheet1.tail(2)"
      ],
      "execution_count": null,
      "outputs": []
    },
    {
      "cell_type": "code",
      "source": [
        "students_sheet1.shape"
      ],
      "metadata": {
        "id": "EHXuHuJ46mUB"
      },
      "execution_count": null,
      "outputs": []
    },
    {
      "cell_type": "markdown",
      "source": [
        "### `info` and `describe`"
      ],
      "metadata": {
        "id": "K76UhM5e7Dma"
      }
    },
    {
      "cell_type": "markdown",
      "source": [
        "`.info()` should be one of the very first commands you run after loading your data.\n",
        "\n",
        "https://pandas.pydata.org/pandas-docs/stable/reference/api/pandas.DataFrame.info.html"
      ],
      "metadata": {
        "id": "fn2OHEPs7F6E"
      }
    },
    {
      "cell_type": "code",
      "source": [
        "students_sheet1.info()"
      ],
      "metadata": {
        "id": "h1zk24k37ET0"
      },
      "execution_count": null,
      "outputs": []
    },
    {
      "cell_type": "markdown",
      "source": [
        "`describe()` shows a quick statistic summary of your data. Using `describe()` on an entire DataFrame we can get a summary of the distribution of continuous variables. `.describe()` can also be used on a categorical variable to get the count of rows, unique count of categories, top category, and freq of top category.\n",
        "\n",
        "https://pandas.pydata.org/pandas-docs/stable/reference/api/pandas.DataFrame.describe.html"
      ],
      "metadata": {
        "id": "SLxeNd9W7IyQ"
      }
    },
    {
      "cell_type": "code",
      "source": [
        "students_sheet1.describe()"
      ],
      "metadata": {
        "id": "yECByhy76mRc"
      },
      "execution_count": null,
      "outputs": []
    },
    {
      "cell_type": "markdown",
      "source": [
        "### `index` and `columns`"
      ],
      "metadata": {
        "id": "Kd3CypFq7Lkm"
      }
    },
    {
      "cell_type": "code",
      "source": [
        "students_sheet1.index"
      ],
      "metadata": {
        "id": "ujKGETkN6mPK"
      },
      "execution_count": null,
      "outputs": []
    },
    {
      "cell_type": "code",
      "source": [
        "students_sheet1.columns"
      ],
      "metadata": {
        "id": "pvUJLCG57ND-"
      },
      "execution_count": null,
      "outputs": []
    },
    {
      "cell_type": "markdown",
      "source": [
        "## Slicing Rows"
      ],
      "metadata": {
        "id": "ZSTgjMZh7QVD"
      }
    },
    {
      "cell_type": "code",
      "source": [
        "students_sheet1[0:2]"
      ],
      "metadata": {
        "id": "ol1nSX757NAw"
      },
      "execution_count": null,
      "outputs": []
    },
    {
      "cell_type": "markdown",
      "source": [
        "### `loc` and `iloc`"
      ],
      "metadata": {
        "id": "RsEfQ8xV7Ta6"
      }
    },
    {
      "cell_type": "markdown",
      "source": [
        "- `.loc` - **loc**ates by row name, which may or may not be a number (Selection by Label)\n",
        "- `.iloc`- **loc**ates by row **i**ndex (Selection by Position)\n",
        "\n",
        "One important distinction between using `.loc` and `.iloc` to select multiple rows is that:\n",
        "- `.loc` is both ends inclusive\n",
        "- `.iloc` is inclusive start, exclusive end (similar to Python lists and numpy arrays)\n",
        "\n",
        "https://pandas.pydata.org/pandas-docs/stable/reference/api/pandas.DataFrame.loc.html\n",
        "\n",
        "https://pandas.pydata.org/pandas-docs/stable/reference/api/pandas.DataFrame.iloc.html"
      ],
      "metadata": {
        "id": "6XfeqZiW7dn3"
      }
    },
    {
      "cell_type": "code",
      "source": [
        "students_sheet1.loc[1:2]"
      ],
      "metadata": {
        "id": "vvaMjcGa7M-I"
      },
      "execution_count": null,
      "outputs": []
    },
    {
      "cell_type": "code",
      "source": [
        "students_sheet1.iloc[0:2]"
      ],
      "metadata": {
        "id": "MXRa6c977fhe"
      },
      "execution_count": null,
      "outputs": []
    },
    {
      "cell_type": "markdown",
      "source": [
        "### Slicing Columns"
      ],
      "metadata": {
        "id": "G_cWIWdV7iUU"
      }
    },
    {
      "cell_type": "markdown",
      "source": [
        "We can slice the columns by selecting via `[]`."
      ],
      "metadata": {
        "id": "sY3wn_-l7kui"
      }
    },
    {
      "cell_type": "code",
      "source": [
        "students_sheet1[\"Quiz 1\"]"
      ],
      "metadata": {
        "id": "bffKMluk7ffX"
      },
      "execution_count": null,
      "outputs": []
    },
    {
      "cell_type": "markdown",
      "source": [
        "This will return a *Series*. To extract a column as a *DataFrame*, you need to pass a list of column names. In our case that's a list of just a single column."
      ],
      "metadata": {
        "id": "DCK3zIiB7pR5"
      }
    },
    {
      "cell_type": "code",
      "source": [
        "students_sheet1[[\"Quiz 1\"]]"
      ],
      "metadata": {
        "id": "yCv7-aBs7fck"
      },
      "execution_count": null,
      "outputs": []
    },
    {
      "cell_type": "markdown",
      "source": [
        "You can also pass any other list of column names."
      ],
      "metadata": {
        "id": "D-2XQaX-7riv"
      }
    },
    {
      "cell_type": "code",
      "source": [
        "students_sheet1[students_sheet1.columns[1:4]] # How does this work?"
      ],
      "metadata": {
        "id": "oFIncPiC7faP"
      },
      "execution_count": null,
      "outputs": []
    },
    {
      "cell_type": "markdown",
      "source": [
        "### `loc` and `iloc`"
      ],
      "metadata": {
        "id": "CrPbaDGs7vAN"
      }
    },
    {
      "cell_type": "code",
      "source": [
        "students_sheet1.loc[:, \"Last Name\": \"Quiz 2\"]"
      ],
      "metadata": {
        "id": "e_SXKoRn7fXp"
      },
      "execution_count": null,
      "outputs": []
    },
    {
      "cell_type": "code",
      "source": [
        "students_sheet1.iloc[:, 1:4]"
      ],
      "metadata": {
        "id": "lqto3TTK7fUm"
      },
      "execution_count": null,
      "outputs": []
    },
    {
      "cell_type": "markdown",
      "source": [
        "**Find Column Names that Contain a Specific Keyword**"
      ],
      "metadata": {
        "id": "o_q3VCgH7yl9"
      }
    },
    {
      "cell_type": "code",
      "source": [
        "quiz_columns = [column for column in students_sheet1.columns if \"Quiz\" in column]"
      ],
      "metadata": {
        "id": "I66nIAmB735v"
      },
      "execution_count": null,
      "outputs": []
    },
    {
      "cell_type": "code",
      "source": [
        "students_sheet1[quiz_columns]"
      ],
      "metadata": {
        "id": "7N4Sg7WX75e0"
      },
      "execution_count": null,
      "outputs": []
    },
    {
      "cell_type": "markdown",
      "source": [
        "### Access a single value for a row/column pair\n",
        "\n",
        "https://pandas.pydata.org/pandas-docs/stable/reference/api/pandas.DataFrame.at.html\n",
        "\n",
        "https://pandas.pydata.org/pandas-docs/stable/reference/api/pandas.DataFrame.iat.html"
      ],
      "metadata": {
        "id": "IE0cVTBM775s"
      }
    },
    {
      "cell_type": "markdown",
      "source": [
        "Using the methods we've already learned:"
      ],
      "metadata": {
        "id": "Cq6MGg5r7-UJ"
      }
    },
    {
      "cell_type": "code",
      "source": [
        "students_sheet1[\"Quiz 1\"][1]"
      ],
      "metadata": {
        "id": "uQPSIdON76rM"
      },
      "execution_count": null,
      "outputs": []
    },
    {
      "cell_type": "code",
      "source": [
        "students_sheet1[\"Quiz 1\"].iloc[0]"
      ],
      "metadata": {
        "id": "5FSYRRGg8AYm"
      },
      "execution_count": null,
      "outputs": []
    },
    {
      "cell_type": "code",
      "source": [
        "students_sheet1.loc[1, \"Quiz 1\"]"
      ],
      "metadata": {
        "id": "X9bMtZp_8AV_"
      },
      "execution_count": null,
      "outputs": []
    },
    {
      "cell_type": "code",
      "source": [
        "students_sheet1.iloc[0, 2]"
      ],
      "metadata": {
        "id": "QMkoDv888ATM"
      },
      "execution_count": null,
      "outputs": []
    },
    {
      "cell_type": "markdown",
      "source": [
        "Using `at` and `iat` (preferred method):"
      ],
      "metadata": {
        "id": "xvmIIdpM8DZB"
      }
    },
    {
      "cell_type": "code",
      "source": [
        "students_sheet1.at[1, \"Quiz 1\"]"
      ],
      "metadata": {
        "id": "Phzw5HD18DNR"
      },
      "execution_count": null,
      "outputs": []
    },
    {
      "cell_type": "code",
      "source": [
        "students_sheet1.iat[0, 2]"
      ],
      "metadata": {
        "id": "B8lBjHsV8GfT"
      },
      "execution_count": null,
      "outputs": []
    }
  ]
}