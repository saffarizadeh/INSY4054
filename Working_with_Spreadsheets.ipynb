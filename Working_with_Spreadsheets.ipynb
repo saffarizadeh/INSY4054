{
  "nbformat": 4,
  "nbformat_minor": 0,
  "metadata": {
    "colab": {
      "name": "Working with Spreadsheets",
      "provenance": [],
      "collapsed_sections": [],
      "toc_visible": true,
      "authorship_tag": "ABX9TyPnXeoq5R7KwAiWiitEv2hU",
      "include_colab_link": true
    },
    "kernelspec": {
      "name": "python3",
      "display_name": "Python 3"
    }
  },
  "cells": [
    {
      "cell_type": "markdown",
      "metadata": {
        "id": "view-in-github",
        "colab_type": "text"
      },
      "source": [
        "<a href=\"https://colab.research.google.com/github/saffarizadeh/INSY4054/blob/main/Working_with_Spreadsheets.ipynb\" target=\"_parent\"><img src=\"https://colab.research.google.com/assets/colab-badge.svg\" alt=\"Open In Colab\"/></a>"
      ]
    },
    {
      "cell_type": "markdown",
      "metadata": {
        "id": "dAJPZ6XlsuB3"
      },
      "source": [
        "# Opening an Excel File"
      ]
    },
    {
      "cell_type": "markdown",
      "metadata": {
        "id": "akzMgcAAt8SM"
      },
      "source": [
        "https://pandas.pydata.org/pandas-docs/stable/reference/api/pandas.read_excel.html"
      ]
    },
    {
      "cell_type": "code",
      "metadata": {
        "id": "I3uRLDfCsDBc"
      },
      "source": [
        "import pandas as pd"
      ],
      "execution_count": 1,
      "outputs": []
    },
    {
      "cell_type": "code",
      "metadata": {
        "id": "Eun4od_mto3M"
      },
      "source": [
        "excel_file_address = 'http://saffarizadeh.com/ET/Students.xlsx'"
      ],
      "execution_count": 2,
      "outputs": []
    },
    {
      "cell_type": "code",
      "metadata": {
        "id": "IRUbb624tKw2"
      },
      "source": [
        "students_sheet1 = pd.read_excel(excel_file_address, sheet_name=0, index_col=0)"
      ],
      "execution_count": 3,
      "outputs": []
    },
    {
      "cell_type": "markdown",
      "metadata": {
        "id": "0EjppUIS04Rw"
      },
      "source": [
        "https://pandas.pydata.org/pandas-docs/stable/reference/api/pandas.DataFrame.head.html"
      ]
    },
    {
      "cell_type": "code",
      "metadata": {
        "colab": {
          "base_uri": "https://localhost:8080/",
          "height": 235
        },
        "id": "zRXv61f0tQyM",
        "outputId": "3ff0bd31-5136-4a62-f585-9849ac3b8bd0"
      },
      "source": [
        "students_sheet1.head()"
      ],
      "execution_count": 4,
      "outputs": [
        {
          "output_type": "execute_result",
          "data": {
            "text/html": [
              "<div>\n",
              "<style scoped>\n",
              "    .dataframe tbody tr th:only-of-type {\n",
              "        vertical-align: middle;\n",
              "    }\n",
              "\n",
              "    .dataframe tbody tr th {\n",
              "        vertical-align: top;\n",
              "    }\n",
              "\n",
              "    .dataframe thead th {\n",
              "        text-align: right;\n",
              "    }\n",
              "</style>\n",
              "<table border=\"1\" class=\"dataframe\">\n",
              "  <thead>\n",
              "    <tr style=\"text-align: right;\">\n",
              "      <th></th>\n",
              "      <th>First Name</th>\n",
              "      <th>Last Name</th>\n",
              "      <th>Quiz 1</th>\n",
              "      <th>Quiz 2</th>\n",
              "      <th>Attendance</th>\n",
              "    </tr>\n",
              "    <tr>\n",
              "      <th>ID</th>\n",
              "      <th></th>\n",
              "      <th></th>\n",
              "      <th></th>\n",
              "      <th></th>\n",
              "      <th></th>\n",
              "    </tr>\n",
              "  </thead>\n",
              "  <tbody>\n",
              "    <tr>\n",
              "      <th>1</th>\n",
              "      <td>Amalia</td>\n",
              "      <td>Pearson</td>\n",
              "      <td>90</td>\n",
              "      <td>80</td>\n",
              "      <td>5</td>\n",
              "    </tr>\n",
              "    <tr>\n",
              "      <th>2</th>\n",
              "      <td>Leyton</td>\n",
              "      <td>Richmond</td>\n",
              "      <td>100</td>\n",
              "      <td>80</td>\n",
              "      <td>4</td>\n",
              "    </tr>\n",
              "    <tr>\n",
              "      <th>3</th>\n",
              "      <td>Phoenix</td>\n",
              "      <td>Stanton</td>\n",
              "      <td>85</td>\n",
              "      <td>100</td>\n",
              "      <td>3</td>\n",
              "    </tr>\n",
              "    <tr>\n",
              "      <th>4</th>\n",
              "      <td>Hafsah</td>\n",
              "      <td>Cotton</td>\n",
              "      <td>90</td>\n",
              "      <td>90</td>\n",
              "      <td>4</td>\n",
              "    </tr>\n",
              "    <tr>\n",
              "      <th>5</th>\n",
              "      <td>Cloe</td>\n",
              "      <td>Perez</td>\n",
              "      <td>80</td>\n",
              "      <td>90</td>\n",
              "      <td>5</td>\n",
              "    </tr>\n",
              "  </tbody>\n",
              "</table>\n",
              "</div>"
            ],
            "text/plain": [
              "   First Name Last Name  Quiz 1  Quiz 2  Attendance\n",
              "ID                                                 \n",
              "1      Amalia   Pearson      90      80           5\n",
              "2      Leyton  Richmond     100      80           4\n",
              "3     Phoenix   Stanton      85     100           3\n",
              "4      Hafsah    Cotton      90      90           4\n",
              "5        Cloe     Perez      80      90           5"
            ]
          },
          "metadata": {
            "tags": []
          },
          "execution_count": 4
        }
      ]
    },
    {
      "cell_type": "code",
      "metadata": {
        "id": "ud2iLMBktZFJ"
      },
      "source": [
        "students_sheet2 = pd.read_excel(excel_file_address, sheet_name=1)"
      ],
      "execution_count": 5,
      "outputs": []
    },
    {
      "cell_type": "code",
      "metadata": {
        "colab": {
          "base_uri": "https://localhost:8080/",
          "height": 80
        },
        "id": "eekDpKnjuEPN",
        "outputId": "0cc955b2-9377-4aa0-80bb-2135c87f62a1"
      },
      "source": [
        "students_sheet2.head()"
      ],
      "execution_count": 6,
      "outputs": [
        {
          "output_type": "execute_result",
          "data": {
            "text/html": [
              "<div>\n",
              "<style scoped>\n",
              "    .dataframe tbody tr th:only-of-type {\n",
              "        vertical-align: middle;\n",
              "    }\n",
              "\n",
              "    .dataframe tbody tr th {\n",
              "        vertical-align: top;\n",
              "    }\n",
              "\n",
              "    .dataframe thead th {\n",
              "        text-align: right;\n",
              "    }\n",
              "</style>\n",
              "<table border=\"1\" class=\"dataframe\">\n",
              "  <thead>\n",
              "    <tr style=\"text-align: right;\">\n",
              "      <th></th>\n",
              "      <th>Number of Sessions</th>\n",
              "      <th>Quiz Weight</th>\n",
              "      <th>Attendance Weight</th>\n",
              "    </tr>\n",
              "  </thead>\n",
              "  <tbody>\n",
              "    <tr>\n",
              "      <th>0</th>\n",
              "      <td>5</td>\n",
              "      <td>0.7</td>\n",
              "      <td>0.3</td>\n",
              "    </tr>\n",
              "  </tbody>\n",
              "</table>\n",
              "</div>"
            ],
            "text/plain": [
              "   Number of Sessions  Quiz Weight  Attendance Weight\n",
              "0                   5          0.7                0.3"
            ]
          },
          "metadata": {
            "tags": []
          },
          "execution_count": 6
        }
      ]
    },
    {
      "cell_type": "code",
      "metadata": {
        "id": "XQ_9AJ3lwYKj"
      },
      "source": [
        "students_sheet3 = pd.read_excel(excel_file_address, sheet_name=2, index_col=0)"
      ],
      "execution_count": 7,
      "outputs": []
    },
    {
      "cell_type": "code",
      "metadata": {
        "colab": {
          "base_uri": "https://localhost:8080/",
          "height": 235
        },
        "id": "Z2nIvFh0wdBi",
        "outputId": "bbd6d1da-476d-41d5-ed38-bbc44b4ee237"
      },
      "source": [
        "students_sheet3.head()"
      ],
      "execution_count": 8,
      "outputs": [
        {
          "output_type": "execute_result",
          "data": {
            "text/html": [
              "<div>\n",
              "<style scoped>\n",
              "    .dataframe tbody tr th:only-of-type {\n",
              "        vertical-align: middle;\n",
              "    }\n",
              "\n",
              "    .dataframe tbody tr th {\n",
              "        vertical-align: top;\n",
              "    }\n",
              "\n",
              "    .dataframe thead th {\n",
              "        text-align: right;\n",
              "    }\n",
              "</style>\n",
              "<table border=\"1\" class=\"dataframe\">\n",
              "  <thead>\n",
              "    <tr style=\"text-align: right;\">\n",
              "      <th></th>\n",
              "      <th>Email</th>\n",
              "    </tr>\n",
              "    <tr>\n",
              "      <th>ID</th>\n",
              "      <th></th>\n",
              "    </tr>\n",
              "  </thead>\n",
              "  <tbody>\n",
              "    <tr>\n",
              "      <th>1</th>\n",
              "      <td>a@b.com</td>\n",
              "    </tr>\n",
              "    <tr>\n",
              "      <th>2</th>\n",
              "      <td>b@c.com</td>\n",
              "    </tr>\n",
              "    <tr>\n",
              "      <th>3</th>\n",
              "      <td>NaN</td>\n",
              "    </tr>\n",
              "    <tr>\n",
              "      <th>4</th>\n",
              "      <td>NaN</td>\n",
              "    </tr>\n",
              "    <tr>\n",
              "      <th>5</th>\n",
              "      <td>NaN</td>\n",
              "    </tr>\n",
              "  </tbody>\n",
              "</table>\n",
              "</div>"
            ],
            "text/plain": [
              "      Email\n",
              "ID         \n",
              "1   a@b.com\n",
              "2   b@c.com\n",
              "3       NaN\n",
              "4       NaN\n",
              "5       NaN"
            ]
          },
          "metadata": {
            "tags": []
          },
          "execution_count": 8
        }
      ]
    },
    {
      "cell_type": "markdown",
      "metadata": {
        "id": "WYcqOzcTqK6r"
      },
      "source": [
        "# Analyzing and Modifying an Excel File"
      ]
    },
    {
      "cell_type": "code",
      "metadata": {
        "colab": {
          "base_uri": "https://localhost:8080/",
          "height": 297
        },
        "id": "WyZlHuHrudE-",
        "outputId": "289ff7a9-4423-41b1-f691-3023efa103a6"
      },
      "source": [
        "students_sheet1.describe()"
      ],
      "execution_count": 9,
      "outputs": [
        {
          "output_type": "execute_result",
          "data": {
            "text/html": [
              "<div>\n",
              "<style scoped>\n",
              "    .dataframe tbody tr th:only-of-type {\n",
              "        vertical-align: middle;\n",
              "    }\n",
              "\n",
              "    .dataframe tbody tr th {\n",
              "        vertical-align: top;\n",
              "    }\n",
              "\n",
              "    .dataframe thead th {\n",
              "        text-align: right;\n",
              "    }\n",
              "</style>\n",
              "<table border=\"1\" class=\"dataframe\">\n",
              "  <thead>\n",
              "    <tr style=\"text-align: right;\">\n",
              "      <th></th>\n",
              "      <th>Quiz 1</th>\n",
              "      <th>Quiz 2</th>\n",
              "      <th>Attendance</th>\n",
              "    </tr>\n",
              "  </thead>\n",
              "  <tbody>\n",
              "    <tr>\n",
              "      <th>count</th>\n",
              "      <td>5.000000</td>\n",
              "      <td>5.0000</td>\n",
              "      <td>5.00000</td>\n",
              "    </tr>\n",
              "    <tr>\n",
              "      <th>mean</th>\n",
              "      <td>89.000000</td>\n",
              "      <td>88.0000</td>\n",
              "      <td>4.20000</td>\n",
              "    </tr>\n",
              "    <tr>\n",
              "      <th>std</th>\n",
              "      <td>7.416198</td>\n",
              "      <td>8.3666</td>\n",
              "      <td>0.83666</td>\n",
              "    </tr>\n",
              "    <tr>\n",
              "      <th>min</th>\n",
              "      <td>80.000000</td>\n",
              "      <td>80.0000</td>\n",
              "      <td>3.00000</td>\n",
              "    </tr>\n",
              "    <tr>\n",
              "      <th>25%</th>\n",
              "      <td>85.000000</td>\n",
              "      <td>80.0000</td>\n",
              "      <td>4.00000</td>\n",
              "    </tr>\n",
              "    <tr>\n",
              "      <th>50%</th>\n",
              "      <td>90.000000</td>\n",
              "      <td>90.0000</td>\n",
              "      <td>4.00000</td>\n",
              "    </tr>\n",
              "    <tr>\n",
              "      <th>75%</th>\n",
              "      <td>90.000000</td>\n",
              "      <td>90.0000</td>\n",
              "      <td>5.00000</td>\n",
              "    </tr>\n",
              "    <tr>\n",
              "      <th>max</th>\n",
              "      <td>100.000000</td>\n",
              "      <td>100.0000</td>\n",
              "      <td>5.00000</td>\n",
              "    </tr>\n",
              "  </tbody>\n",
              "</table>\n",
              "</div>"
            ],
            "text/plain": [
              "           Quiz 1    Quiz 2  Attendance\n",
              "count    5.000000    5.0000     5.00000\n",
              "mean    89.000000   88.0000     4.20000\n",
              "std      7.416198    8.3666     0.83666\n",
              "min     80.000000   80.0000     3.00000\n",
              "25%     85.000000   80.0000     4.00000\n",
              "50%     90.000000   90.0000     4.00000\n",
              "75%     90.000000   90.0000     5.00000\n",
              "max    100.000000  100.0000     5.00000"
            ]
          },
          "metadata": {
            "tags": []
          },
          "execution_count": 9
        }
      ]
    },
    {
      "cell_type": "markdown",
      "metadata": {
        "id": "_gjATq7fxtlx"
      },
      "source": [
        "## Access a group of rows and columns"
      ]
    },
    {
      "cell_type": "markdown",
      "metadata": {
        "id": "6ltkW0T30ynQ"
      },
      "source": [
        "https://pandas.pydata.org/pandas-docs/stable/reference/api/pandas.DataFrame.iloc.html\n",
        "https://pandas.pydata.org/pandas-docs/stable/reference/api/pandas.DataFrame.loc.html"
      ]
    },
    {
      "cell_type": "markdown",
      "metadata": {
        "id": "ckRI_l23h5Ob"
      },
      "source": [
        "Slicing Row"
      ]
    },
    {
      "cell_type": "code",
      "metadata": {
        "colab": {
          "base_uri": "https://localhost:8080/",
          "height": 142
        },
        "id": "QBX1Xu_7iS6a",
        "outputId": "610a9735-6558-441e-9ec5-09941a737051"
      },
      "source": [
        "students_sheet1[0:2]"
      ],
      "execution_count": 10,
      "outputs": [
        {
          "output_type": "execute_result",
          "data": {
            "text/html": [
              "<div>\n",
              "<style scoped>\n",
              "    .dataframe tbody tr th:only-of-type {\n",
              "        vertical-align: middle;\n",
              "    }\n",
              "\n",
              "    .dataframe tbody tr th {\n",
              "        vertical-align: top;\n",
              "    }\n",
              "\n",
              "    .dataframe thead th {\n",
              "        text-align: right;\n",
              "    }\n",
              "</style>\n",
              "<table border=\"1\" class=\"dataframe\">\n",
              "  <thead>\n",
              "    <tr style=\"text-align: right;\">\n",
              "      <th></th>\n",
              "      <th>First Name</th>\n",
              "      <th>Last Name</th>\n",
              "      <th>Quiz 1</th>\n",
              "      <th>Quiz 2</th>\n",
              "      <th>Attendance</th>\n",
              "    </tr>\n",
              "    <tr>\n",
              "      <th>ID</th>\n",
              "      <th></th>\n",
              "      <th></th>\n",
              "      <th></th>\n",
              "      <th></th>\n",
              "      <th></th>\n",
              "    </tr>\n",
              "  </thead>\n",
              "  <tbody>\n",
              "    <tr>\n",
              "      <th>1</th>\n",
              "      <td>Amalia</td>\n",
              "      <td>Pearson</td>\n",
              "      <td>90</td>\n",
              "      <td>80</td>\n",
              "      <td>5</td>\n",
              "    </tr>\n",
              "    <tr>\n",
              "      <th>2</th>\n",
              "      <td>Leyton</td>\n",
              "      <td>Richmond</td>\n",
              "      <td>100</td>\n",
              "      <td>80</td>\n",
              "      <td>4</td>\n",
              "    </tr>\n",
              "  </tbody>\n",
              "</table>\n",
              "</div>"
            ],
            "text/plain": [
              "   First Name Last Name  Quiz 1  Quiz 2  Attendance\n",
              "ID                                                 \n",
              "1      Amalia   Pearson      90      80           5\n",
              "2      Leyton  Richmond     100      80           4"
            ]
          },
          "metadata": {
            "tags": []
          },
          "execution_count": 10
        }
      ]
    },
    {
      "cell_type": "code",
      "metadata": {
        "colab": {
          "base_uri": "https://localhost:8080/",
          "height": 142
        },
        "id": "C-YqFnkcxMJw",
        "outputId": "f09d307b-63d1-4297-9e6b-918ffcaa3091"
      },
      "source": [
        "students_sheet1.loc[1:2]"
      ],
      "execution_count": 11,
      "outputs": [
        {
          "output_type": "execute_result",
          "data": {
            "text/html": [
              "<div>\n",
              "<style scoped>\n",
              "    .dataframe tbody tr th:only-of-type {\n",
              "        vertical-align: middle;\n",
              "    }\n",
              "\n",
              "    .dataframe tbody tr th {\n",
              "        vertical-align: top;\n",
              "    }\n",
              "\n",
              "    .dataframe thead th {\n",
              "        text-align: right;\n",
              "    }\n",
              "</style>\n",
              "<table border=\"1\" class=\"dataframe\">\n",
              "  <thead>\n",
              "    <tr style=\"text-align: right;\">\n",
              "      <th></th>\n",
              "      <th>First Name</th>\n",
              "      <th>Last Name</th>\n",
              "      <th>Quiz 1</th>\n",
              "      <th>Quiz 2</th>\n",
              "      <th>Attendance</th>\n",
              "    </tr>\n",
              "    <tr>\n",
              "      <th>ID</th>\n",
              "      <th></th>\n",
              "      <th></th>\n",
              "      <th></th>\n",
              "      <th></th>\n",
              "      <th></th>\n",
              "    </tr>\n",
              "  </thead>\n",
              "  <tbody>\n",
              "    <tr>\n",
              "      <th>1</th>\n",
              "      <td>Amalia</td>\n",
              "      <td>Pearson</td>\n",
              "      <td>90</td>\n",
              "      <td>80</td>\n",
              "      <td>5</td>\n",
              "    </tr>\n",
              "    <tr>\n",
              "      <th>2</th>\n",
              "      <td>Leyton</td>\n",
              "      <td>Richmond</td>\n",
              "      <td>100</td>\n",
              "      <td>80</td>\n",
              "      <td>4</td>\n",
              "    </tr>\n",
              "  </tbody>\n",
              "</table>\n",
              "</div>"
            ],
            "text/plain": [
              "   First Name Last Name  Quiz 1  Quiz 2  Attendance\n",
              "ID                                                 \n",
              "1      Amalia   Pearson      90      80           5\n",
              "2      Leyton  Richmond     100      80           4"
            ]
          },
          "metadata": {
            "tags": []
          },
          "execution_count": 11
        }
      ]
    },
    {
      "cell_type": "code",
      "metadata": {
        "colab": {
          "base_uri": "https://localhost:8080/",
          "height": 142
        },
        "id": "oxp5NKofiS34",
        "outputId": "5342eeae-1f54-444e-86e6-df92aeae4a6b"
      },
      "source": [
        "students_sheet1.iloc[0:2]"
      ],
      "execution_count": 12,
      "outputs": [
        {
          "output_type": "execute_result",
          "data": {
            "text/html": [
              "<div>\n",
              "<style scoped>\n",
              "    .dataframe tbody tr th:only-of-type {\n",
              "        vertical-align: middle;\n",
              "    }\n",
              "\n",
              "    .dataframe tbody tr th {\n",
              "        vertical-align: top;\n",
              "    }\n",
              "\n",
              "    .dataframe thead th {\n",
              "        text-align: right;\n",
              "    }\n",
              "</style>\n",
              "<table border=\"1\" class=\"dataframe\">\n",
              "  <thead>\n",
              "    <tr style=\"text-align: right;\">\n",
              "      <th></th>\n",
              "      <th>First Name</th>\n",
              "      <th>Last Name</th>\n",
              "      <th>Quiz 1</th>\n",
              "      <th>Quiz 2</th>\n",
              "      <th>Attendance</th>\n",
              "    </tr>\n",
              "    <tr>\n",
              "      <th>ID</th>\n",
              "      <th></th>\n",
              "      <th></th>\n",
              "      <th></th>\n",
              "      <th></th>\n",
              "      <th></th>\n",
              "    </tr>\n",
              "  </thead>\n",
              "  <tbody>\n",
              "    <tr>\n",
              "      <th>1</th>\n",
              "      <td>Amalia</td>\n",
              "      <td>Pearson</td>\n",
              "      <td>90</td>\n",
              "      <td>80</td>\n",
              "      <td>5</td>\n",
              "    </tr>\n",
              "    <tr>\n",
              "      <th>2</th>\n",
              "      <td>Leyton</td>\n",
              "      <td>Richmond</td>\n",
              "      <td>100</td>\n",
              "      <td>80</td>\n",
              "      <td>4</td>\n",
              "    </tr>\n",
              "  </tbody>\n",
              "</table>\n",
              "</div>"
            ],
            "text/plain": [
              "   First Name Last Name  Quiz 1  Quiz 2  Attendance\n",
              "ID                                                 \n",
              "1      Amalia   Pearson      90      80           5\n",
              "2      Leyton  Richmond     100      80           4"
            ]
          },
          "metadata": {
            "tags": []
          },
          "execution_count": 12
        }
      ]
    },
    {
      "cell_type": "markdown",
      "metadata": {
        "id": "H4yJ4gslhtmv"
      },
      "source": [
        "Slicing Columns"
      ]
    },
    {
      "cell_type": "code",
      "metadata": {
        "colab": {
          "base_uri": "https://localhost:8080/"
        },
        "id": "0Eimcy5RwkDV",
        "outputId": "d3a54194-6bb7-4512-c8a9-231766b5c0fd"
      },
      "source": [
        "students_sheet1[\"Quiz 1\"]"
      ],
      "execution_count": 13,
      "outputs": [
        {
          "output_type": "execute_result",
          "data": {
            "text/plain": [
              "ID\n",
              "1     90\n",
              "2    100\n",
              "3     85\n",
              "4     90\n",
              "5     80\n",
              "Name: Quiz 1, dtype: int64"
            ]
          },
          "metadata": {
            "tags": []
          },
          "execution_count": 13
        }
      ]
    },
    {
      "cell_type": "code",
      "metadata": {
        "colab": {
          "base_uri": "https://localhost:8080/",
          "height": 235
        },
        "id": "IxeXrqrhhXya",
        "outputId": "30f9bef8-610c-4b93-fb8b-5761c4999e0e"
      },
      "source": [
        "students_sheet1.iloc[:, 1:4]"
      ],
      "execution_count": 14,
      "outputs": [
        {
          "output_type": "execute_result",
          "data": {
            "text/html": [
              "<div>\n",
              "<style scoped>\n",
              "    .dataframe tbody tr th:only-of-type {\n",
              "        vertical-align: middle;\n",
              "    }\n",
              "\n",
              "    .dataframe tbody tr th {\n",
              "        vertical-align: top;\n",
              "    }\n",
              "\n",
              "    .dataframe thead th {\n",
              "        text-align: right;\n",
              "    }\n",
              "</style>\n",
              "<table border=\"1\" class=\"dataframe\">\n",
              "  <thead>\n",
              "    <tr style=\"text-align: right;\">\n",
              "      <th></th>\n",
              "      <th>Last Name</th>\n",
              "      <th>Quiz 1</th>\n",
              "      <th>Quiz 2</th>\n",
              "    </tr>\n",
              "    <tr>\n",
              "      <th>ID</th>\n",
              "      <th></th>\n",
              "      <th></th>\n",
              "      <th></th>\n",
              "    </tr>\n",
              "  </thead>\n",
              "  <tbody>\n",
              "    <tr>\n",
              "      <th>1</th>\n",
              "      <td>Pearson</td>\n",
              "      <td>90</td>\n",
              "      <td>80</td>\n",
              "    </tr>\n",
              "    <tr>\n",
              "      <th>2</th>\n",
              "      <td>Richmond</td>\n",
              "      <td>100</td>\n",
              "      <td>80</td>\n",
              "    </tr>\n",
              "    <tr>\n",
              "      <th>3</th>\n",
              "      <td>Stanton</td>\n",
              "      <td>85</td>\n",
              "      <td>100</td>\n",
              "    </tr>\n",
              "    <tr>\n",
              "      <th>4</th>\n",
              "      <td>Cotton</td>\n",
              "      <td>90</td>\n",
              "      <td>90</td>\n",
              "    </tr>\n",
              "    <tr>\n",
              "      <th>5</th>\n",
              "      <td>Perez</td>\n",
              "      <td>80</td>\n",
              "      <td>90</td>\n",
              "    </tr>\n",
              "  </tbody>\n",
              "</table>\n",
              "</div>"
            ],
            "text/plain": [
              "   Last Name  Quiz 1  Quiz 2\n",
              "ID                          \n",
              "1    Pearson      90      80\n",
              "2   Richmond     100      80\n",
              "3    Stanton      85     100\n",
              "4     Cotton      90      90\n",
              "5      Perez      80      90"
            ]
          },
          "metadata": {
            "tags": []
          },
          "execution_count": 14
        }
      ]
    },
    {
      "cell_type": "code",
      "metadata": {
        "colab": {
          "base_uri": "https://localhost:8080/",
          "height": 235
        },
        "id": "cI2JejZ5heG1",
        "outputId": "404a06a5-f7a2-4640-ee89-c095dd3b64ae"
      },
      "source": [
        "students_sheet1.loc[:, \"Last Name\": \"Quiz 2\"]"
      ],
      "execution_count": 15,
      "outputs": [
        {
          "output_type": "execute_result",
          "data": {
            "text/html": [
              "<div>\n",
              "<style scoped>\n",
              "    .dataframe tbody tr th:only-of-type {\n",
              "        vertical-align: middle;\n",
              "    }\n",
              "\n",
              "    .dataframe tbody tr th {\n",
              "        vertical-align: top;\n",
              "    }\n",
              "\n",
              "    .dataframe thead th {\n",
              "        text-align: right;\n",
              "    }\n",
              "</style>\n",
              "<table border=\"1\" class=\"dataframe\">\n",
              "  <thead>\n",
              "    <tr style=\"text-align: right;\">\n",
              "      <th></th>\n",
              "      <th>Last Name</th>\n",
              "      <th>Quiz 1</th>\n",
              "      <th>Quiz 2</th>\n",
              "    </tr>\n",
              "    <tr>\n",
              "      <th>ID</th>\n",
              "      <th></th>\n",
              "      <th></th>\n",
              "      <th></th>\n",
              "    </tr>\n",
              "  </thead>\n",
              "  <tbody>\n",
              "    <tr>\n",
              "      <th>1</th>\n",
              "      <td>Pearson</td>\n",
              "      <td>90</td>\n",
              "      <td>80</td>\n",
              "    </tr>\n",
              "    <tr>\n",
              "      <th>2</th>\n",
              "      <td>Richmond</td>\n",
              "      <td>100</td>\n",
              "      <td>80</td>\n",
              "    </tr>\n",
              "    <tr>\n",
              "      <th>3</th>\n",
              "      <td>Stanton</td>\n",
              "      <td>85</td>\n",
              "      <td>100</td>\n",
              "    </tr>\n",
              "    <tr>\n",
              "      <th>4</th>\n",
              "      <td>Cotton</td>\n",
              "      <td>90</td>\n",
              "      <td>90</td>\n",
              "    </tr>\n",
              "    <tr>\n",
              "      <th>5</th>\n",
              "      <td>Perez</td>\n",
              "      <td>80</td>\n",
              "      <td>90</td>\n",
              "    </tr>\n",
              "  </tbody>\n",
              "</table>\n",
              "</div>"
            ],
            "text/plain": [
              "   Last Name  Quiz 1  Quiz 2\n",
              "ID                          \n",
              "1    Pearson      90      80\n",
              "2   Richmond     100      80\n",
              "3    Stanton      85     100\n",
              "4     Cotton      90      90\n",
              "5      Perez      80      90"
            ]
          },
          "metadata": {
            "tags": []
          },
          "execution_count": 15
        }
      ]
    },
    {
      "cell_type": "code",
      "metadata": {
        "colab": {
          "base_uri": "https://localhost:8080/"
        },
        "id": "oyHGzSAYiFhf",
        "outputId": "8830503d-f550-47a2-9218-7184b23881d2"
      },
      "source": [
        "students_sheet1.columns"
      ],
      "execution_count": 16,
      "outputs": [
        {
          "output_type": "execute_result",
          "data": {
            "text/plain": [
              "Index(['First Name', 'Last Name', 'Quiz 1', 'Quiz 2', 'Attendance'], dtype='object')"
            ]
          },
          "metadata": {
            "tags": []
          },
          "execution_count": 16
        }
      ]
    },
    {
      "cell_type": "code",
      "metadata": {
        "colab": {
          "base_uri": "https://localhost:8080/",
          "height": 235
        },
        "id": "LN6E142MiIPf",
        "outputId": "5f3f8a97-242b-423b-e082-e00032aee0f4"
      },
      "source": [
        "students_sheet1[students_sheet1.columns[1:4]]"
      ],
      "execution_count": 17,
      "outputs": [
        {
          "output_type": "execute_result",
          "data": {
            "text/html": [
              "<div>\n",
              "<style scoped>\n",
              "    .dataframe tbody tr th:only-of-type {\n",
              "        vertical-align: middle;\n",
              "    }\n",
              "\n",
              "    .dataframe tbody tr th {\n",
              "        vertical-align: top;\n",
              "    }\n",
              "\n",
              "    .dataframe thead th {\n",
              "        text-align: right;\n",
              "    }\n",
              "</style>\n",
              "<table border=\"1\" class=\"dataframe\">\n",
              "  <thead>\n",
              "    <tr style=\"text-align: right;\">\n",
              "      <th></th>\n",
              "      <th>Last Name</th>\n",
              "      <th>Quiz 1</th>\n",
              "      <th>Quiz 2</th>\n",
              "    </tr>\n",
              "    <tr>\n",
              "      <th>ID</th>\n",
              "      <th></th>\n",
              "      <th></th>\n",
              "      <th></th>\n",
              "    </tr>\n",
              "  </thead>\n",
              "  <tbody>\n",
              "    <tr>\n",
              "      <th>1</th>\n",
              "      <td>Pearson</td>\n",
              "      <td>90</td>\n",
              "      <td>80</td>\n",
              "    </tr>\n",
              "    <tr>\n",
              "      <th>2</th>\n",
              "      <td>Richmond</td>\n",
              "      <td>100</td>\n",
              "      <td>80</td>\n",
              "    </tr>\n",
              "    <tr>\n",
              "      <th>3</th>\n",
              "      <td>Stanton</td>\n",
              "      <td>85</td>\n",
              "      <td>100</td>\n",
              "    </tr>\n",
              "    <tr>\n",
              "      <th>4</th>\n",
              "      <td>Cotton</td>\n",
              "      <td>90</td>\n",
              "      <td>90</td>\n",
              "    </tr>\n",
              "    <tr>\n",
              "      <th>5</th>\n",
              "      <td>Perez</td>\n",
              "      <td>80</td>\n",
              "      <td>90</td>\n",
              "    </tr>\n",
              "  </tbody>\n",
              "</table>\n",
              "</div>"
            ],
            "text/plain": [
              "   Last Name  Quiz 1  Quiz 2\n",
              "ID                          \n",
              "1    Pearson      90      80\n",
              "2   Richmond     100      80\n",
              "3    Stanton      85     100\n",
              "4     Cotton      90      90\n",
              "5      Perez      80      90"
            ]
          },
          "metadata": {
            "tags": []
          },
          "execution_count": 17
        }
      ]
    },
    {
      "cell_type": "markdown",
      "metadata": {
        "id": "f_5tqCGM1Cs0"
      },
      "source": [
        "## Access a single value for a row/column pair\n",
        "https://pandas.pydata.org/pandas-docs/stable/reference/api/pandas.DataFrame.at.html\n",
        "https://pandas.pydata.org/pandas-docs/stable/reference/api/pandas.DataFrame.iat.html"
      ]
    },
    {
      "cell_type": "code",
      "metadata": {
        "colab": {
          "base_uri": "https://localhost:8080/"
        },
        "id": "X6ER0cgXhiNu",
        "outputId": "d33e7b3f-0df6-4240-9a3d-bb45ea4c32e8"
      },
      "source": [
        "students_sheet1[\"Quiz 1\"][1]"
      ],
      "execution_count": 18,
      "outputs": [
        {
          "output_type": "execute_result",
          "data": {
            "text/plain": [
              "90"
            ]
          },
          "metadata": {
            "tags": []
          },
          "execution_count": 18
        }
      ]
    },
    {
      "cell_type": "code",
      "metadata": {
        "colab": {
          "base_uri": "https://localhost:8080/"
        },
        "id": "KlIrB7iRhlaD",
        "outputId": "66d1e71f-1422-43d2-e7d9-67b8af568ae7"
      },
      "source": [
        "students_sheet1[\"Quiz 1\"].iloc[0]"
      ],
      "execution_count": 19,
      "outputs": [
        {
          "output_type": "execute_result",
          "data": {
            "text/plain": [
              "90"
            ]
          },
          "metadata": {
            "tags": []
          },
          "execution_count": 19
        }
      ]
    },
    {
      "cell_type": "markdown",
      "metadata": {
        "id": "NXPMnZyVhnHJ"
      },
      "source": [
        "Preferred method:"
      ]
    },
    {
      "cell_type": "code",
      "metadata": {
        "colab": {
          "base_uri": "https://localhost:8080/"
        },
        "id": "MlDogcWcwmf8",
        "outputId": "f2f695fb-7713-4ddc-b77c-cbd3f9a05bc1"
      },
      "source": [
        "students_sheet1.at[1, \"Quiz 1\"]"
      ],
      "execution_count": 20,
      "outputs": [
        {
          "output_type": "execute_result",
          "data": {
            "text/plain": [
              "90"
            ]
          },
          "metadata": {
            "tags": []
          },
          "execution_count": 20
        }
      ]
    },
    {
      "cell_type": "code",
      "metadata": {
        "colab": {
          "base_uri": "https://localhost:8080/"
        },
        "id": "cOGyUyKKxFDL",
        "outputId": "343d684c-3534-4a81-aea4-47044421e983"
      },
      "source": [
        "students_sheet1.iat[0, 2]"
      ],
      "execution_count": 21,
      "outputs": [
        {
          "output_type": "execute_result",
          "data": {
            "text/plain": [
              "90"
            ]
          },
          "metadata": {
            "tags": []
          },
          "execution_count": 21
        }
      ]
    },
    {
      "cell_type": "markdown",
      "metadata": {
        "id": "FyoMAo5Ax39z"
      },
      "source": [
        "## Analyze the data"
      ]
    },
    {
      "cell_type": "code",
      "metadata": {
        "colab": {
          "base_uri": "https://localhost:8080/",
          "height": 173
        },
        "id": "44zyp6IiiS1C",
        "outputId": "2a1e7272-7a25-4e95-f83a-b178465a799b"
      },
      "source": [
        "students_sheet1[students_sheet1[\"Quiz 1\"] >= 90]"
      ],
      "execution_count": 22,
      "outputs": [
        {
          "output_type": "execute_result",
          "data": {
            "text/html": [
              "<div>\n",
              "<style scoped>\n",
              "    .dataframe tbody tr th:only-of-type {\n",
              "        vertical-align: middle;\n",
              "    }\n",
              "\n",
              "    .dataframe tbody tr th {\n",
              "        vertical-align: top;\n",
              "    }\n",
              "\n",
              "    .dataframe thead th {\n",
              "        text-align: right;\n",
              "    }\n",
              "</style>\n",
              "<table border=\"1\" class=\"dataframe\">\n",
              "  <thead>\n",
              "    <tr style=\"text-align: right;\">\n",
              "      <th></th>\n",
              "      <th>First Name</th>\n",
              "      <th>Last Name</th>\n",
              "      <th>Quiz 1</th>\n",
              "      <th>Quiz 2</th>\n",
              "      <th>Attendance</th>\n",
              "    </tr>\n",
              "    <tr>\n",
              "      <th>ID</th>\n",
              "      <th></th>\n",
              "      <th></th>\n",
              "      <th></th>\n",
              "      <th></th>\n",
              "      <th></th>\n",
              "    </tr>\n",
              "  </thead>\n",
              "  <tbody>\n",
              "    <tr>\n",
              "      <th>1</th>\n",
              "      <td>Amalia</td>\n",
              "      <td>Pearson</td>\n",
              "      <td>90</td>\n",
              "      <td>80</td>\n",
              "      <td>5</td>\n",
              "    </tr>\n",
              "    <tr>\n",
              "      <th>2</th>\n",
              "      <td>Leyton</td>\n",
              "      <td>Richmond</td>\n",
              "      <td>100</td>\n",
              "      <td>80</td>\n",
              "      <td>4</td>\n",
              "    </tr>\n",
              "    <tr>\n",
              "      <th>4</th>\n",
              "      <td>Hafsah</td>\n",
              "      <td>Cotton</td>\n",
              "      <td>90</td>\n",
              "      <td>90</td>\n",
              "      <td>4</td>\n",
              "    </tr>\n",
              "  </tbody>\n",
              "</table>\n",
              "</div>"
            ],
            "text/plain": [
              "   First Name Last Name  Quiz 1  Quiz 2  Attendance\n",
              "ID                                                 \n",
              "1      Amalia   Pearson      90      80           5\n",
              "2      Leyton  Richmond     100      80           4\n",
              "4      Hafsah    Cotton      90      90           4"
            ]
          },
          "metadata": {
            "tags": []
          },
          "execution_count": 22
        }
      ]
    },
    {
      "cell_type": "code",
      "metadata": {
        "colab": {
          "base_uri": "https://localhost:8080/"
        },
        "id": "LM569Dfsi94u",
        "outputId": "89b97ce1-551d-4de8-d7dc-23b4de3ba0b5"
      },
      "source": [
        "students_sheet1[\"Quiz 1\"].mean()"
      ],
      "execution_count": 23,
      "outputs": [
        {
          "output_type": "execute_result",
          "data": {
            "text/plain": [
              "89.0"
            ]
          },
          "metadata": {
            "tags": []
          },
          "execution_count": 23
        }
      ]
    },
    {
      "cell_type": "code",
      "metadata": {
        "colab": {
          "base_uri": "https://localhost:8080/",
          "height": 173
        },
        "id": "_0JVOOqtiSyq",
        "outputId": "d6e475dc-ba0b-4a61-f9b2-417784358c7b"
      },
      "source": [
        "students_sheet1[students_sheet1[\"Quiz 1\"] >= students_sheet1[\"Quiz 1\"].mean()]"
      ],
      "execution_count": 24,
      "outputs": [
        {
          "output_type": "execute_result",
          "data": {
            "text/html": [
              "<div>\n",
              "<style scoped>\n",
              "    .dataframe tbody tr th:only-of-type {\n",
              "        vertical-align: middle;\n",
              "    }\n",
              "\n",
              "    .dataframe tbody tr th {\n",
              "        vertical-align: top;\n",
              "    }\n",
              "\n",
              "    .dataframe thead th {\n",
              "        text-align: right;\n",
              "    }\n",
              "</style>\n",
              "<table border=\"1\" class=\"dataframe\">\n",
              "  <thead>\n",
              "    <tr style=\"text-align: right;\">\n",
              "      <th></th>\n",
              "      <th>First Name</th>\n",
              "      <th>Last Name</th>\n",
              "      <th>Quiz 1</th>\n",
              "      <th>Quiz 2</th>\n",
              "      <th>Attendance</th>\n",
              "    </tr>\n",
              "    <tr>\n",
              "      <th>ID</th>\n",
              "      <th></th>\n",
              "      <th></th>\n",
              "      <th></th>\n",
              "      <th></th>\n",
              "      <th></th>\n",
              "    </tr>\n",
              "  </thead>\n",
              "  <tbody>\n",
              "    <tr>\n",
              "      <th>1</th>\n",
              "      <td>Amalia</td>\n",
              "      <td>Pearson</td>\n",
              "      <td>90</td>\n",
              "      <td>80</td>\n",
              "      <td>5</td>\n",
              "    </tr>\n",
              "    <tr>\n",
              "      <th>2</th>\n",
              "      <td>Leyton</td>\n",
              "      <td>Richmond</td>\n",
              "      <td>100</td>\n",
              "      <td>80</td>\n",
              "      <td>4</td>\n",
              "    </tr>\n",
              "    <tr>\n",
              "      <th>4</th>\n",
              "      <td>Hafsah</td>\n",
              "      <td>Cotton</td>\n",
              "      <td>90</td>\n",
              "      <td>90</td>\n",
              "      <td>4</td>\n",
              "    </tr>\n",
              "  </tbody>\n",
              "</table>\n",
              "</div>"
            ],
            "text/plain": [
              "   First Name Last Name  Quiz 1  Quiz 2  Attendance\n",
              "ID                                                 \n",
              "1      Amalia   Pearson      90      80           5\n",
              "2      Leyton  Richmond     100      80           4\n",
              "4      Hafsah    Cotton      90      90           4"
            ]
          },
          "metadata": {
            "tags": []
          },
          "execution_count": 24
        }
      ]
    },
    {
      "cell_type": "code",
      "metadata": {
        "colab": {
          "base_uri": "https://localhost:8080/"
        },
        "id": "PCoXRaj5iSrd",
        "outputId": "1ac5eff4-2c88-4da3-c25f-4c9d85cea5d0"
      },
      "source": [
        "students_sheet1[\"Quiz 2\"].mean()"
      ],
      "execution_count": 25,
      "outputs": [
        {
          "output_type": "execute_result",
          "data": {
            "text/plain": [
              "88.0"
            ]
          },
          "metadata": {
            "tags": []
          },
          "execution_count": 25
        }
      ]
    },
    {
      "cell_type": "code",
      "metadata": {
        "colab": {
          "base_uri": "https://localhost:8080/",
          "height": 235
        },
        "id": "qRqGxdtzjc9Z",
        "outputId": "e7497f09-df5e-4e06-d84d-2fe14d1601c3"
      },
      "source": [
        "students_sheet1[(students_sheet1[\"Quiz 1\"] >= students_sheet1[\"Quiz 1\"].mean()) | (students_sheet1[\"Quiz 2\"] >= students_sheet1[\"Quiz 2\"].mean())]"
      ],
      "execution_count": 26,
      "outputs": [
        {
          "output_type": "execute_result",
          "data": {
            "text/html": [
              "<div>\n",
              "<style scoped>\n",
              "    .dataframe tbody tr th:only-of-type {\n",
              "        vertical-align: middle;\n",
              "    }\n",
              "\n",
              "    .dataframe tbody tr th {\n",
              "        vertical-align: top;\n",
              "    }\n",
              "\n",
              "    .dataframe thead th {\n",
              "        text-align: right;\n",
              "    }\n",
              "</style>\n",
              "<table border=\"1\" class=\"dataframe\">\n",
              "  <thead>\n",
              "    <tr style=\"text-align: right;\">\n",
              "      <th></th>\n",
              "      <th>First Name</th>\n",
              "      <th>Last Name</th>\n",
              "      <th>Quiz 1</th>\n",
              "      <th>Quiz 2</th>\n",
              "      <th>Attendance</th>\n",
              "    </tr>\n",
              "    <tr>\n",
              "      <th>ID</th>\n",
              "      <th></th>\n",
              "      <th></th>\n",
              "      <th></th>\n",
              "      <th></th>\n",
              "      <th></th>\n",
              "    </tr>\n",
              "  </thead>\n",
              "  <tbody>\n",
              "    <tr>\n",
              "      <th>1</th>\n",
              "      <td>Amalia</td>\n",
              "      <td>Pearson</td>\n",
              "      <td>90</td>\n",
              "      <td>80</td>\n",
              "      <td>5</td>\n",
              "    </tr>\n",
              "    <tr>\n",
              "      <th>2</th>\n",
              "      <td>Leyton</td>\n",
              "      <td>Richmond</td>\n",
              "      <td>100</td>\n",
              "      <td>80</td>\n",
              "      <td>4</td>\n",
              "    </tr>\n",
              "    <tr>\n",
              "      <th>3</th>\n",
              "      <td>Phoenix</td>\n",
              "      <td>Stanton</td>\n",
              "      <td>85</td>\n",
              "      <td>100</td>\n",
              "      <td>3</td>\n",
              "    </tr>\n",
              "    <tr>\n",
              "      <th>4</th>\n",
              "      <td>Hafsah</td>\n",
              "      <td>Cotton</td>\n",
              "      <td>90</td>\n",
              "      <td>90</td>\n",
              "      <td>4</td>\n",
              "    </tr>\n",
              "    <tr>\n",
              "      <th>5</th>\n",
              "      <td>Cloe</td>\n",
              "      <td>Perez</td>\n",
              "      <td>80</td>\n",
              "      <td>90</td>\n",
              "      <td>5</td>\n",
              "    </tr>\n",
              "  </tbody>\n",
              "</table>\n",
              "</div>"
            ],
            "text/plain": [
              "   First Name Last Name  Quiz 1  Quiz 2  Attendance\n",
              "ID                                                 \n",
              "1      Amalia   Pearson      90      80           5\n",
              "2      Leyton  Richmond     100      80           4\n",
              "3     Phoenix   Stanton      85     100           3\n",
              "4      Hafsah    Cotton      90      90           4\n",
              "5        Cloe     Perez      80      90           5"
            ]
          },
          "metadata": {
            "tags": []
          },
          "execution_count": 26
        }
      ]
    },
    {
      "cell_type": "code",
      "metadata": {
        "colab": {
          "base_uri": "https://localhost:8080/",
          "height": 111
        },
        "id": "hgSQaK6ejiuT",
        "outputId": "dab00998-7307-40f7-8efe-6de8d4a22965"
      },
      "source": [
        "both_quizzes_above_average = students_sheet1[(students_sheet1[\"Quiz 1\"] >= students_sheet1[\"Quiz 1\"].mean()) & (students_sheet1[\"Quiz 2\"] >= students_sheet1[\"Quiz 2\"].mean())]\n",
        "both_quizzes_above_average"
      ],
      "execution_count": 27,
      "outputs": [
        {
          "output_type": "execute_result",
          "data": {
            "text/html": [
              "<div>\n",
              "<style scoped>\n",
              "    .dataframe tbody tr th:only-of-type {\n",
              "        vertical-align: middle;\n",
              "    }\n",
              "\n",
              "    .dataframe tbody tr th {\n",
              "        vertical-align: top;\n",
              "    }\n",
              "\n",
              "    .dataframe thead th {\n",
              "        text-align: right;\n",
              "    }\n",
              "</style>\n",
              "<table border=\"1\" class=\"dataframe\">\n",
              "  <thead>\n",
              "    <tr style=\"text-align: right;\">\n",
              "      <th></th>\n",
              "      <th>First Name</th>\n",
              "      <th>Last Name</th>\n",
              "      <th>Quiz 1</th>\n",
              "      <th>Quiz 2</th>\n",
              "      <th>Attendance</th>\n",
              "    </tr>\n",
              "    <tr>\n",
              "      <th>ID</th>\n",
              "      <th></th>\n",
              "      <th></th>\n",
              "      <th></th>\n",
              "      <th></th>\n",
              "      <th></th>\n",
              "    </tr>\n",
              "  </thead>\n",
              "  <tbody>\n",
              "    <tr>\n",
              "      <th>4</th>\n",
              "      <td>Hafsah</td>\n",
              "      <td>Cotton</td>\n",
              "      <td>90</td>\n",
              "      <td>90</td>\n",
              "      <td>4</td>\n",
              "    </tr>\n",
              "  </tbody>\n",
              "</table>\n",
              "</div>"
            ],
            "text/plain": [
              "   First Name Last Name  Quiz 1  Quiz 2  Attendance\n",
              "ID                                                 \n",
              "4      Hafsah    Cotton      90      90           4"
            ]
          },
          "metadata": {
            "tags": []
          },
          "execution_count": 27
        }
      ]
    },
    {
      "cell_type": "code",
      "metadata": {
        "id": "mr6Jwzesjx6b"
      },
      "source": [
        "students_sheet1[\"Quiz Average\"] = (students_sheet1[\"Quiz 1\"] + students_sheet1[\"Quiz 2\"])/2"
      ],
      "execution_count": 28,
      "outputs": []
    },
    {
      "cell_type": "code",
      "metadata": {
        "id": "HPEKGE-xua28"
      },
      "source": [
        "# quiz_columns = []\n",
        "\n",
        "# for column in students_sheet1.columns:\n",
        "#   if \"Quiz\" in column:\n",
        "#     quiz_columns.append(column)\n",
        "\n",
        "quiz_columns = [column for column in students_sheet1.columns if \"Quiz\" in column]"
      ],
      "execution_count": 29,
      "outputs": []
    },
    {
      "cell_type": "code",
      "metadata": {
        "colab": {
          "base_uri": "https://localhost:8080/"
        },
        "id": "RW44gSgPu7iX",
        "outputId": "00d520e6-6a7c-4067-8fc5-7b441b3eed8d"
      },
      "source": [
        "quiz_columns"
      ],
      "execution_count": 30,
      "outputs": [
        {
          "output_type": "execute_result",
          "data": {
            "text/plain": [
              "['Quiz 1', 'Quiz 2', 'Quiz Average']"
            ]
          },
          "metadata": {
            "tags": []
          },
          "execution_count": 30
        }
      ]
    },
    {
      "cell_type": "code",
      "metadata": {
        "colab": {
          "base_uri": "https://localhost:8080/"
        },
        "id": "XNJZrDfau-vN",
        "outputId": "7a8784f0-5dd2-4da1-d26b-ee3ede1b4662"
      },
      "source": [
        "students_sheet1[quiz_columns[0]]"
      ],
      "execution_count": 31,
      "outputs": [
        {
          "output_type": "execute_result",
          "data": {
            "text/plain": [
              "ID\n",
              "1     90\n",
              "2    100\n",
              "3     85\n",
              "4     90\n",
              "5     80\n",
              "Name: Quiz 1, dtype: int64"
            ]
          },
          "metadata": {
            "tags": []
          },
          "execution_count": 31
        }
      ]
    },
    {
      "cell_type": "markdown",
      "metadata": {
        "id": "PN2KQ5wE0ofB"
      },
      "source": [
        "https://pandas.pydata.org/pandas-docs/stable/reference/api/pandas.DataFrame.to_numpy.html"
      ]
    },
    {
      "cell_type": "code",
      "metadata": {
        "colab": {
          "base_uri": "https://localhost:8080/"
        },
        "id": "MuB_5EI6ltfW",
        "outputId": "d26cf0da-15ed-42ad-d7cb-00e0da72ce16"
      },
      "source": [
        "students_sheet2[\"Number of Sessions\"].to_numpy()"
      ],
      "execution_count": 32,
      "outputs": [
        {
          "output_type": "execute_result",
          "data": {
            "text/plain": [
              "array([5])"
            ]
          },
          "metadata": {
            "tags": []
          },
          "execution_count": 32
        }
      ]
    },
    {
      "cell_type": "code",
      "metadata": {
        "id": "6QPe5KURlbfd"
      },
      "source": [
        "students_sheet1[\"Attendance Score\"] = 100*students_sheet1[\"Attendance\"] / students_sheet2[\"Number of Sessions\"].to_numpy()"
      ],
      "execution_count": 33,
      "outputs": []
    },
    {
      "cell_type": "code",
      "metadata": {
        "colab": {
          "base_uri": "https://localhost:8080/",
          "height": 235
        },
        "id": "NgsvAgalmbC1",
        "outputId": "e6970cf2-1f34-43a7-cf15-9266d9cdcdb3"
      },
      "source": [
        "students_sheet1.head()"
      ],
      "execution_count": 34,
      "outputs": [
        {
          "output_type": "execute_result",
          "data": {
            "text/html": [
              "<div>\n",
              "<style scoped>\n",
              "    .dataframe tbody tr th:only-of-type {\n",
              "        vertical-align: middle;\n",
              "    }\n",
              "\n",
              "    .dataframe tbody tr th {\n",
              "        vertical-align: top;\n",
              "    }\n",
              "\n",
              "    .dataframe thead th {\n",
              "        text-align: right;\n",
              "    }\n",
              "</style>\n",
              "<table border=\"1\" class=\"dataframe\">\n",
              "  <thead>\n",
              "    <tr style=\"text-align: right;\">\n",
              "      <th></th>\n",
              "      <th>First Name</th>\n",
              "      <th>Last Name</th>\n",
              "      <th>Quiz 1</th>\n",
              "      <th>Quiz 2</th>\n",
              "      <th>Attendance</th>\n",
              "      <th>Quiz Average</th>\n",
              "      <th>Attendance Score</th>\n",
              "    </tr>\n",
              "    <tr>\n",
              "      <th>ID</th>\n",
              "      <th></th>\n",
              "      <th></th>\n",
              "      <th></th>\n",
              "      <th></th>\n",
              "      <th></th>\n",
              "      <th></th>\n",
              "      <th></th>\n",
              "    </tr>\n",
              "  </thead>\n",
              "  <tbody>\n",
              "    <tr>\n",
              "      <th>1</th>\n",
              "      <td>Amalia</td>\n",
              "      <td>Pearson</td>\n",
              "      <td>90</td>\n",
              "      <td>80</td>\n",
              "      <td>5</td>\n",
              "      <td>85.0</td>\n",
              "      <td>100.0</td>\n",
              "    </tr>\n",
              "    <tr>\n",
              "      <th>2</th>\n",
              "      <td>Leyton</td>\n",
              "      <td>Richmond</td>\n",
              "      <td>100</td>\n",
              "      <td>80</td>\n",
              "      <td>4</td>\n",
              "      <td>90.0</td>\n",
              "      <td>80.0</td>\n",
              "    </tr>\n",
              "    <tr>\n",
              "      <th>3</th>\n",
              "      <td>Phoenix</td>\n",
              "      <td>Stanton</td>\n",
              "      <td>85</td>\n",
              "      <td>100</td>\n",
              "      <td>3</td>\n",
              "      <td>92.5</td>\n",
              "      <td>60.0</td>\n",
              "    </tr>\n",
              "    <tr>\n",
              "      <th>4</th>\n",
              "      <td>Hafsah</td>\n",
              "      <td>Cotton</td>\n",
              "      <td>90</td>\n",
              "      <td>90</td>\n",
              "      <td>4</td>\n",
              "      <td>90.0</td>\n",
              "      <td>80.0</td>\n",
              "    </tr>\n",
              "    <tr>\n",
              "      <th>5</th>\n",
              "      <td>Cloe</td>\n",
              "      <td>Perez</td>\n",
              "      <td>80</td>\n",
              "      <td>90</td>\n",
              "      <td>5</td>\n",
              "      <td>85.0</td>\n",
              "      <td>100.0</td>\n",
              "    </tr>\n",
              "  </tbody>\n",
              "</table>\n",
              "</div>"
            ],
            "text/plain": [
              "   First Name Last Name  Quiz 1  ...  Attendance  Quiz Average  Attendance Score\n",
              "ID                               ...                                            \n",
              "1      Amalia   Pearson      90  ...           5          85.0             100.0\n",
              "2      Leyton  Richmond     100  ...           4          90.0              80.0\n",
              "3     Phoenix   Stanton      85  ...           3          92.5              60.0\n",
              "4      Hafsah    Cotton      90  ...           4          90.0              80.0\n",
              "5        Cloe     Perez      80  ...           5          85.0             100.0\n",
              "\n",
              "[5 rows x 7 columns]"
            ]
          },
          "metadata": {
            "tags": []
          },
          "execution_count": 34
        }
      ]
    },
    {
      "cell_type": "code",
      "metadata": {
        "id": "RO5i7CktmDxn"
      },
      "source": [
        "students_sheet1[\"Final Score\"] = ((students_sheet1[\"Attendance Score\"] * students_sheet2[\"Attendance Weight\"].values)\n",
        "                                 +(students_sheet1[\"Quiz Average\"] * students_sheet2[\"Quiz Weight\"].values))"
      ],
      "execution_count": 35,
      "outputs": []
    },
    {
      "cell_type": "code",
      "metadata": {
        "colab": {
          "base_uri": "https://localhost:8080/",
          "height": 235
        },
        "id": "zf8dyv6Lmuj5",
        "outputId": "d730dd80-ca27-4685-d33e-23d635c57d5c"
      },
      "source": [
        "students_sheet1.head()"
      ],
      "execution_count": 36,
      "outputs": [
        {
          "output_type": "execute_result",
          "data": {
            "text/html": [
              "<div>\n",
              "<style scoped>\n",
              "    .dataframe tbody tr th:only-of-type {\n",
              "        vertical-align: middle;\n",
              "    }\n",
              "\n",
              "    .dataframe tbody tr th {\n",
              "        vertical-align: top;\n",
              "    }\n",
              "\n",
              "    .dataframe thead th {\n",
              "        text-align: right;\n",
              "    }\n",
              "</style>\n",
              "<table border=\"1\" class=\"dataframe\">\n",
              "  <thead>\n",
              "    <tr style=\"text-align: right;\">\n",
              "      <th></th>\n",
              "      <th>First Name</th>\n",
              "      <th>Last Name</th>\n",
              "      <th>Quiz 1</th>\n",
              "      <th>Quiz 2</th>\n",
              "      <th>Attendance</th>\n",
              "      <th>Quiz Average</th>\n",
              "      <th>Attendance Score</th>\n",
              "      <th>Final Score</th>\n",
              "    </tr>\n",
              "    <tr>\n",
              "      <th>ID</th>\n",
              "      <th></th>\n",
              "      <th></th>\n",
              "      <th></th>\n",
              "      <th></th>\n",
              "      <th></th>\n",
              "      <th></th>\n",
              "      <th></th>\n",
              "      <th></th>\n",
              "    </tr>\n",
              "  </thead>\n",
              "  <tbody>\n",
              "    <tr>\n",
              "      <th>1</th>\n",
              "      <td>Amalia</td>\n",
              "      <td>Pearson</td>\n",
              "      <td>90</td>\n",
              "      <td>80</td>\n",
              "      <td>5</td>\n",
              "      <td>85.0</td>\n",
              "      <td>100.0</td>\n",
              "      <td>89.50</td>\n",
              "    </tr>\n",
              "    <tr>\n",
              "      <th>2</th>\n",
              "      <td>Leyton</td>\n",
              "      <td>Richmond</td>\n",
              "      <td>100</td>\n",
              "      <td>80</td>\n",
              "      <td>4</td>\n",
              "      <td>90.0</td>\n",
              "      <td>80.0</td>\n",
              "      <td>87.00</td>\n",
              "    </tr>\n",
              "    <tr>\n",
              "      <th>3</th>\n",
              "      <td>Phoenix</td>\n",
              "      <td>Stanton</td>\n",
              "      <td>85</td>\n",
              "      <td>100</td>\n",
              "      <td>3</td>\n",
              "      <td>92.5</td>\n",
              "      <td>60.0</td>\n",
              "      <td>82.75</td>\n",
              "    </tr>\n",
              "    <tr>\n",
              "      <th>4</th>\n",
              "      <td>Hafsah</td>\n",
              "      <td>Cotton</td>\n",
              "      <td>90</td>\n",
              "      <td>90</td>\n",
              "      <td>4</td>\n",
              "      <td>90.0</td>\n",
              "      <td>80.0</td>\n",
              "      <td>87.00</td>\n",
              "    </tr>\n",
              "    <tr>\n",
              "      <th>5</th>\n",
              "      <td>Cloe</td>\n",
              "      <td>Perez</td>\n",
              "      <td>80</td>\n",
              "      <td>90</td>\n",
              "      <td>5</td>\n",
              "      <td>85.0</td>\n",
              "      <td>100.0</td>\n",
              "      <td>89.50</td>\n",
              "    </tr>\n",
              "  </tbody>\n",
              "</table>\n",
              "</div>"
            ],
            "text/plain": [
              "   First Name Last Name  Quiz 1  ...  Quiz Average  Attendance Score  Final Score\n",
              "ID                               ...                                             \n",
              "1      Amalia   Pearson      90  ...          85.0             100.0        89.50\n",
              "2      Leyton  Richmond     100  ...          90.0              80.0        87.00\n",
              "3     Phoenix   Stanton      85  ...          92.5              60.0        82.75\n",
              "4      Hafsah    Cotton      90  ...          90.0              80.0        87.00\n",
              "5        Cloe     Perez      80  ...          85.0             100.0        89.50\n",
              "\n",
              "[5 rows x 8 columns]"
            ]
          },
          "metadata": {
            "tags": []
          },
          "execution_count": 36
        }
      ]
    },
    {
      "cell_type": "markdown",
      "metadata": {
        "id": "KiCiTEvdzC-i"
      },
      "source": [
        "## Dropping a Column\n",
        "https://pandas.pydata.org/pandas-docs/stable/reference/api/pandas.DataFrame.drop.html"
      ]
    },
    {
      "cell_type": "code",
      "metadata": {
        "id": "Xh56hLs5zFsm"
      },
      "source": [
        "students_sheet1[\"xyz\"] = 0"
      ],
      "execution_count": 37,
      "outputs": []
    },
    {
      "cell_type": "code",
      "metadata": {
        "colab": {
          "base_uri": "https://localhost:8080/",
          "height": 235
        },
        "id": "PXia0ndqzIzS",
        "outputId": "83d1c8ef-6528-4fc0-da86-90f31de763a3"
      },
      "source": [
        "students_sheet1"
      ],
      "execution_count": 38,
      "outputs": [
        {
          "output_type": "execute_result",
          "data": {
            "text/html": [
              "<div>\n",
              "<style scoped>\n",
              "    .dataframe tbody tr th:only-of-type {\n",
              "        vertical-align: middle;\n",
              "    }\n",
              "\n",
              "    .dataframe tbody tr th {\n",
              "        vertical-align: top;\n",
              "    }\n",
              "\n",
              "    .dataframe thead th {\n",
              "        text-align: right;\n",
              "    }\n",
              "</style>\n",
              "<table border=\"1\" class=\"dataframe\">\n",
              "  <thead>\n",
              "    <tr style=\"text-align: right;\">\n",
              "      <th></th>\n",
              "      <th>First Name</th>\n",
              "      <th>Last Name</th>\n",
              "      <th>Quiz 1</th>\n",
              "      <th>Quiz 2</th>\n",
              "      <th>Attendance</th>\n",
              "      <th>Quiz Average</th>\n",
              "      <th>Attendance Score</th>\n",
              "      <th>Final Score</th>\n",
              "      <th>xyz</th>\n",
              "    </tr>\n",
              "    <tr>\n",
              "      <th>ID</th>\n",
              "      <th></th>\n",
              "      <th></th>\n",
              "      <th></th>\n",
              "      <th></th>\n",
              "      <th></th>\n",
              "      <th></th>\n",
              "      <th></th>\n",
              "      <th></th>\n",
              "      <th></th>\n",
              "    </tr>\n",
              "  </thead>\n",
              "  <tbody>\n",
              "    <tr>\n",
              "      <th>1</th>\n",
              "      <td>Amalia</td>\n",
              "      <td>Pearson</td>\n",
              "      <td>90</td>\n",
              "      <td>80</td>\n",
              "      <td>5</td>\n",
              "      <td>85.0</td>\n",
              "      <td>100.0</td>\n",
              "      <td>89.50</td>\n",
              "      <td>0</td>\n",
              "    </tr>\n",
              "    <tr>\n",
              "      <th>2</th>\n",
              "      <td>Leyton</td>\n",
              "      <td>Richmond</td>\n",
              "      <td>100</td>\n",
              "      <td>80</td>\n",
              "      <td>4</td>\n",
              "      <td>90.0</td>\n",
              "      <td>80.0</td>\n",
              "      <td>87.00</td>\n",
              "      <td>0</td>\n",
              "    </tr>\n",
              "    <tr>\n",
              "      <th>3</th>\n",
              "      <td>Phoenix</td>\n",
              "      <td>Stanton</td>\n",
              "      <td>85</td>\n",
              "      <td>100</td>\n",
              "      <td>3</td>\n",
              "      <td>92.5</td>\n",
              "      <td>60.0</td>\n",
              "      <td>82.75</td>\n",
              "      <td>0</td>\n",
              "    </tr>\n",
              "    <tr>\n",
              "      <th>4</th>\n",
              "      <td>Hafsah</td>\n",
              "      <td>Cotton</td>\n",
              "      <td>90</td>\n",
              "      <td>90</td>\n",
              "      <td>4</td>\n",
              "      <td>90.0</td>\n",
              "      <td>80.0</td>\n",
              "      <td>87.00</td>\n",
              "      <td>0</td>\n",
              "    </tr>\n",
              "    <tr>\n",
              "      <th>5</th>\n",
              "      <td>Cloe</td>\n",
              "      <td>Perez</td>\n",
              "      <td>80</td>\n",
              "      <td>90</td>\n",
              "      <td>5</td>\n",
              "      <td>85.0</td>\n",
              "      <td>100.0</td>\n",
              "      <td>89.50</td>\n",
              "      <td>0</td>\n",
              "    </tr>\n",
              "  </tbody>\n",
              "</table>\n",
              "</div>"
            ],
            "text/plain": [
              "   First Name Last Name  Quiz 1  ...  Attendance Score  Final Score  xyz\n",
              "ID                               ...                                    \n",
              "1      Amalia   Pearson      90  ...             100.0        89.50    0\n",
              "2      Leyton  Richmond     100  ...              80.0        87.00    0\n",
              "3     Phoenix   Stanton      85  ...              60.0        82.75    0\n",
              "4      Hafsah    Cotton      90  ...              80.0        87.00    0\n",
              "5        Cloe     Perez      80  ...             100.0        89.50    0\n",
              "\n",
              "[5 rows x 9 columns]"
            ]
          },
          "metadata": {
            "tags": []
          },
          "execution_count": 38
        }
      ]
    },
    {
      "cell_type": "code",
      "metadata": {
        "id": "SOGkuT7jzJuF"
      },
      "source": [
        "students_sheet1 = students_sheet1.drop(columns=[\"xyz\"])"
      ],
      "execution_count": 39,
      "outputs": []
    },
    {
      "cell_type": "code",
      "metadata": {
        "colab": {
          "base_uri": "https://localhost:8080/",
          "height": 235
        },
        "id": "pLPRnbarzNmI",
        "outputId": "6262b57e-4c18-44c1-93b0-2ae6f3f70af4"
      },
      "source": [
        "students_sheet1"
      ],
      "execution_count": 40,
      "outputs": [
        {
          "output_type": "execute_result",
          "data": {
            "text/html": [
              "<div>\n",
              "<style scoped>\n",
              "    .dataframe tbody tr th:only-of-type {\n",
              "        vertical-align: middle;\n",
              "    }\n",
              "\n",
              "    .dataframe tbody tr th {\n",
              "        vertical-align: top;\n",
              "    }\n",
              "\n",
              "    .dataframe thead th {\n",
              "        text-align: right;\n",
              "    }\n",
              "</style>\n",
              "<table border=\"1\" class=\"dataframe\">\n",
              "  <thead>\n",
              "    <tr style=\"text-align: right;\">\n",
              "      <th></th>\n",
              "      <th>First Name</th>\n",
              "      <th>Last Name</th>\n",
              "      <th>Quiz 1</th>\n",
              "      <th>Quiz 2</th>\n",
              "      <th>Attendance</th>\n",
              "      <th>Quiz Average</th>\n",
              "      <th>Attendance Score</th>\n",
              "      <th>Final Score</th>\n",
              "    </tr>\n",
              "    <tr>\n",
              "      <th>ID</th>\n",
              "      <th></th>\n",
              "      <th></th>\n",
              "      <th></th>\n",
              "      <th></th>\n",
              "      <th></th>\n",
              "      <th></th>\n",
              "      <th></th>\n",
              "      <th></th>\n",
              "    </tr>\n",
              "  </thead>\n",
              "  <tbody>\n",
              "    <tr>\n",
              "      <th>1</th>\n",
              "      <td>Amalia</td>\n",
              "      <td>Pearson</td>\n",
              "      <td>90</td>\n",
              "      <td>80</td>\n",
              "      <td>5</td>\n",
              "      <td>85.0</td>\n",
              "      <td>100.0</td>\n",
              "      <td>89.50</td>\n",
              "    </tr>\n",
              "    <tr>\n",
              "      <th>2</th>\n",
              "      <td>Leyton</td>\n",
              "      <td>Richmond</td>\n",
              "      <td>100</td>\n",
              "      <td>80</td>\n",
              "      <td>4</td>\n",
              "      <td>90.0</td>\n",
              "      <td>80.0</td>\n",
              "      <td>87.00</td>\n",
              "    </tr>\n",
              "    <tr>\n",
              "      <th>3</th>\n",
              "      <td>Phoenix</td>\n",
              "      <td>Stanton</td>\n",
              "      <td>85</td>\n",
              "      <td>100</td>\n",
              "      <td>3</td>\n",
              "      <td>92.5</td>\n",
              "      <td>60.0</td>\n",
              "      <td>82.75</td>\n",
              "    </tr>\n",
              "    <tr>\n",
              "      <th>4</th>\n",
              "      <td>Hafsah</td>\n",
              "      <td>Cotton</td>\n",
              "      <td>90</td>\n",
              "      <td>90</td>\n",
              "      <td>4</td>\n",
              "      <td>90.0</td>\n",
              "      <td>80.0</td>\n",
              "      <td>87.00</td>\n",
              "    </tr>\n",
              "    <tr>\n",
              "      <th>5</th>\n",
              "      <td>Cloe</td>\n",
              "      <td>Perez</td>\n",
              "      <td>80</td>\n",
              "      <td>90</td>\n",
              "      <td>5</td>\n",
              "      <td>85.0</td>\n",
              "      <td>100.0</td>\n",
              "      <td>89.50</td>\n",
              "    </tr>\n",
              "  </tbody>\n",
              "</table>\n",
              "</div>"
            ],
            "text/plain": [
              "   First Name Last Name  Quiz 1  ...  Quiz Average  Attendance Score  Final Score\n",
              "ID                               ...                                             \n",
              "1      Amalia   Pearson      90  ...          85.0             100.0        89.50\n",
              "2      Leyton  Richmond     100  ...          90.0              80.0        87.00\n",
              "3     Phoenix   Stanton      85  ...          92.5              60.0        82.75\n",
              "4      Hafsah    Cotton      90  ...          90.0              80.0        87.00\n",
              "5        Cloe     Perez      80  ...          85.0             100.0        89.50\n",
              "\n",
              "[5 rows x 8 columns]"
            ]
          },
          "metadata": {
            "tags": []
          },
          "execution_count": 40
        }
      ]
    },
    {
      "cell_type": "markdown",
      "metadata": {
        "id": "xXtXfDBhnguH"
      },
      "source": [
        "## Iterating over dataframes\n",
        "https://pandas.pydata.org/pandas-docs/stable/reference/api/pandas.DataFrame.iterrows.html"
      ]
    },
    {
      "cell_type": "markdown",
      "metadata": {
        "id": "tt8xCltVsR12"
      },
      "source": [
        "While it is not a good idea to iterate over dataframes, it is possible to do so. In most cases, we should try and use dataframe operations to manipulate the data instead of iterating over the table."
      ]
    },
    {
      "cell_type": "code",
      "metadata": {
        "colab": {
          "base_uri": "https://localhost:8080/"
        },
        "id": "WJCATkNXmyfE",
        "outputId": "e24ce39e-4941-4758-d40e-64cef2de9ffe"
      },
      "source": [
        "for index, row in students_sheet1.iterrows():\n",
        "  print(row['First Name'], row['Last Name'])\n",
        "  students_sheet1.at[index, \"Final Score\"] = row['Final Score'] + 2\n",
        "  # students_sheet1[\"Final Score\"][index] = row['Final Score'] + 2"
      ],
      "execution_count": 41,
      "outputs": [
        {
          "output_type": "stream",
          "text": [
            "Amalia Pearson\n",
            "Leyton Richmond\n",
            "Phoenix Stanton\n",
            "Hafsah Cotton\n",
            "Cloe Perez\n"
          ],
          "name": "stdout"
        }
      ]
    },
    {
      "cell_type": "code",
      "metadata": {
        "colab": {
          "base_uri": "https://localhost:8080/",
          "height": 235
        },
        "id": "lCx1r0eEnUlg",
        "outputId": "37701454-cf85-465d-bade-4d1b16b2eef3"
      },
      "source": [
        "students_sheet1.head()"
      ],
      "execution_count": 42,
      "outputs": [
        {
          "output_type": "execute_result",
          "data": {
            "text/html": [
              "<div>\n",
              "<style scoped>\n",
              "    .dataframe tbody tr th:only-of-type {\n",
              "        vertical-align: middle;\n",
              "    }\n",
              "\n",
              "    .dataframe tbody tr th {\n",
              "        vertical-align: top;\n",
              "    }\n",
              "\n",
              "    .dataframe thead th {\n",
              "        text-align: right;\n",
              "    }\n",
              "</style>\n",
              "<table border=\"1\" class=\"dataframe\">\n",
              "  <thead>\n",
              "    <tr style=\"text-align: right;\">\n",
              "      <th></th>\n",
              "      <th>First Name</th>\n",
              "      <th>Last Name</th>\n",
              "      <th>Quiz 1</th>\n",
              "      <th>Quiz 2</th>\n",
              "      <th>Attendance</th>\n",
              "      <th>Quiz Average</th>\n",
              "      <th>Attendance Score</th>\n",
              "      <th>Final Score</th>\n",
              "    </tr>\n",
              "    <tr>\n",
              "      <th>ID</th>\n",
              "      <th></th>\n",
              "      <th></th>\n",
              "      <th></th>\n",
              "      <th></th>\n",
              "      <th></th>\n",
              "      <th></th>\n",
              "      <th></th>\n",
              "      <th></th>\n",
              "    </tr>\n",
              "  </thead>\n",
              "  <tbody>\n",
              "    <tr>\n",
              "      <th>1</th>\n",
              "      <td>Amalia</td>\n",
              "      <td>Pearson</td>\n",
              "      <td>90</td>\n",
              "      <td>80</td>\n",
              "      <td>5</td>\n",
              "      <td>85.0</td>\n",
              "      <td>100.0</td>\n",
              "      <td>91.50</td>\n",
              "    </tr>\n",
              "    <tr>\n",
              "      <th>2</th>\n",
              "      <td>Leyton</td>\n",
              "      <td>Richmond</td>\n",
              "      <td>100</td>\n",
              "      <td>80</td>\n",
              "      <td>4</td>\n",
              "      <td>90.0</td>\n",
              "      <td>80.0</td>\n",
              "      <td>89.00</td>\n",
              "    </tr>\n",
              "    <tr>\n",
              "      <th>3</th>\n",
              "      <td>Phoenix</td>\n",
              "      <td>Stanton</td>\n",
              "      <td>85</td>\n",
              "      <td>100</td>\n",
              "      <td>3</td>\n",
              "      <td>92.5</td>\n",
              "      <td>60.0</td>\n",
              "      <td>84.75</td>\n",
              "    </tr>\n",
              "    <tr>\n",
              "      <th>4</th>\n",
              "      <td>Hafsah</td>\n",
              "      <td>Cotton</td>\n",
              "      <td>90</td>\n",
              "      <td>90</td>\n",
              "      <td>4</td>\n",
              "      <td>90.0</td>\n",
              "      <td>80.0</td>\n",
              "      <td>89.00</td>\n",
              "    </tr>\n",
              "    <tr>\n",
              "      <th>5</th>\n",
              "      <td>Cloe</td>\n",
              "      <td>Perez</td>\n",
              "      <td>80</td>\n",
              "      <td>90</td>\n",
              "      <td>5</td>\n",
              "      <td>85.0</td>\n",
              "      <td>100.0</td>\n",
              "      <td>91.50</td>\n",
              "    </tr>\n",
              "  </tbody>\n",
              "</table>\n",
              "</div>"
            ],
            "text/plain": [
              "   First Name Last Name  Quiz 1  ...  Quiz Average  Attendance Score  Final Score\n",
              "ID                               ...                                             \n",
              "1      Amalia   Pearson      90  ...          85.0             100.0        91.50\n",
              "2      Leyton  Richmond     100  ...          90.0              80.0        89.00\n",
              "3     Phoenix   Stanton      85  ...          92.5              60.0        84.75\n",
              "4      Hafsah    Cotton      90  ...          90.0              80.0        89.00\n",
              "5        Cloe     Perez      80  ...          85.0             100.0        91.50\n",
              "\n",
              "[5 rows x 8 columns]"
            ]
          },
          "metadata": {
            "tags": []
          },
          "execution_count": 42
        }
      ]
    },
    {
      "cell_type": "markdown",
      "metadata": {
        "id": "eNWbF9lFs_Ei"
      },
      "source": [
        "## Sorting the data\n",
        "https://pandas.pydata.org/pandas-docs/stable/reference/api/pandas.DataFrame.sort_values.html"
      ]
    },
    {
      "cell_type": "code",
      "metadata": {
        "colab": {
          "base_uri": "https://localhost:8080/",
          "height": 235
        },
        "id": "axTIo-31s0-j",
        "outputId": "0b866f2d-e49d-4bcf-a6ba-3fb04792c858"
      },
      "source": [
        "students_sheet1_by_quiz1 = students_sheet1.sort_values(['Final Score'], ascending=False)\n",
        "students_sheet1_by_quiz1.head()"
      ],
      "execution_count": 43,
      "outputs": [
        {
          "output_type": "execute_result",
          "data": {
            "text/html": [
              "<div>\n",
              "<style scoped>\n",
              "    .dataframe tbody tr th:only-of-type {\n",
              "        vertical-align: middle;\n",
              "    }\n",
              "\n",
              "    .dataframe tbody tr th {\n",
              "        vertical-align: top;\n",
              "    }\n",
              "\n",
              "    .dataframe thead th {\n",
              "        text-align: right;\n",
              "    }\n",
              "</style>\n",
              "<table border=\"1\" class=\"dataframe\">\n",
              "  <thead>\n",
              "    <tr style=\"text-align: right;\">\n",
              "      <th></th>\n",
              "      <th>First Name</th>\n",
              "      <th>Last Name</th>\n",
              "      <th>Quiz 1</th>\n",
              "      <th>Quiz 2</th>\n",
              "      <th>Attendance</th>\n",
              "      <th>Quiz Average</th>\n",
              "      <th>Attendance Score</th>\n",
              "      <th>Final Score</th>\n",
              "    </tr>\n",
              "    <tr>\n",
              "      <th>ID</th>\n",
              "      <th></th>\n",
              "      <th></th>\n",
              "      <th></th>\n",
              "      <th></th>\n",
              "      <th></th>\n",
              "      <th></th>\n",
              "      <th></th>\n",
              "      <th></th>\n",
              "    </tr>\n",
              "  </thead>\n",
              "  <tbody>\n",
              "    <tr>\n",
              "      <th>1</th>\n",
              "      <td>Amalia</td>\n",
              "      <td>Pearson</td>\n",
              "      <td>90</td>\n",
              "      <td>80</td>\n",
              "      <td>5</td>\n",
              "      <td>85.0</td>\n",
              "      <td>100.0</td>\n",
              "      <td>91.50</td>\n",
              "    </tr>\n",
              "    <tr>\n",
              "      <th>5</th>\n",
              "      <td>Cloe</td>\n",
              "      <td>Perez</td>\n",
              "      <td>80</td>\n",
              "      <td>90</td>\n",
              "      <td>5</td>\n",
              "      <td>85.0</td>\n",
              "      <td>100.0</td>\n",
              "      <td>91.50</td>\n",
              "    </tr>\n",
              "    <tr>\n",
              "      <th>2</th>\n",
              "      <td>Leyton</td>\n",
              "      <td>Richmond</td>\n",
              "      <td>100</td>\n",
              "      <td>80</td>\n",
              "      <td>4</td>\n",
              "      <td>90.0</td>\n",
              "      <td>80.0</td>\n",
              "      <td>89.00</td>\n",
              "    </tr>\n",
              "    <tr>\n",
              "      <th>4</th>\n",
              "      <td>Hafsah</td>\n",
              "      <td>Cotton</td>\n",
              "      <td>90</td>\n",
              "      <td>90</td>\n",
              "      <td>4</td>\n",
              "      <td>90.0</td>\n",
              "      <td>80.0</td>\n",
              "      <td>89.00</td>\n",
              "    </tr>\n",
              "    <tr>\n",
              "      <th>3</th>\n",
              "      <td>Phoenix</td>\n",
              "      <td>Stanton</td>\n",
              "      <td>85</td>\n",
              "      <td>100</td>\n",
              "      <td>3</td>\n",
              "      <td>92.5</td>\n",
              "      <td>60.0</td>\n",
              "      <td>84.75</td>\n",
              "    </tr>\n",
              "  </tbody>\n",
              "</table>\n",
              "</div>"
            ],
            "text/plain": [
              "   First Name Last Name  Quiz 1  ...  Quiz Average  Attendance Score  Final Score\n",
              "ID                               ...                                             \n",
              "1      Amalia   Pearson      90  ...          85.0             100.0        91.50\n",
              "5        Cloe     Perez      80  ...          85.0             100.0        91.50\n",
              "2      Leyton  Richmond     100  ...          90.0              80.0        89.00\n",
              "4      Hafsah    Cotton      90  ...          90.0              80.0        89.00\n",
              "3     Phoenix   Stanton      85  ...          92.5              60.0        84.75\n",
              "\n",
              "[5 rows x 8 columns]"
            ]
          },
          "metadata": {
            "tags": []
          },
          "execution_count": 43
        }
      ]
    },
    {
      "cell_type": "markdown",
      "metadata": {
        "id": "OaF8x_1Is1aY"
      },
      "source": [
        "# Saving as an Excel File\n",
        "https://pandas.pydata.org/pandas-docs/stable/reference/api/pandas.DataFrame.to_excel.html\n",
        "https://pandas.pydata.org/pandas-docs/stable/reference/api/pandas.ExcelWriter.html"
      ]
    },
    {
      "cell_type": "code",
      "metadata": {
        "id": "OGDAKYKls4Re"
      },
      "source": [
        "students_sheet1.to_excel('output.xlsx', sheet_name='grades', index=True)"
      ],
      "execution_count": 44,
      "outputs": []
    },
    {
      "cell_type": "code",
      "metadata": {
        "id": "g2YfcZdnq2IW"
      },
      "source": [
        "with pd.ExcelWriter('output_all_sheets.xlsx') as writer:\n",
        "  students_sheet1.to_excel(writer, sheet_name='grades', index=True)\n",
        "  both_quizzes_above_average.to_excel(writer, sheet_name='both quizzes above avg', index=True)"
      ],
      "execution_count": 45,
      "outputs": []
    }
  ]
}