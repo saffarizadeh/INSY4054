{
  "nbformat": 4,
  "nbformat_minor": 0,
  "metadata": {
    "colab": {
      "name": "Web Crawling",
      "provenance": [],
      "collapsed_sections": [],
      "authorship_tag": "ABX9TyM7yfeV9UjhYbuGwG1gEgyz",
      "include_colab_link": true
    },
    "kernelspec": {
      "name": "python3",
      "display_name": "Python 3"
    }
  },
  "cells": [
    {
      "cell_type": "markdown",
      "metadata": {
        "id": "view-in-github",
        "colab_type": "text"
      },
      "source": [
        "<a href=\"https://colab.research.google.com/github/saffarizadeh/INSY4054/blob/main/Web_Crawling.ipynb\" target=\"_parent\"><img src=\"https://colab.research.google.com/assets/colab-badge.svg\" alt=\"Open In Colab\"/></a>"
      ]
    },
    {
      "cell_type": "markdown",
      "metadata": {
        "id": "UmAPSvRc8huq"
      },
      "source": [
        "<img src=\"http://saffarizadeh.com/Logo.png\" width=\"300px\"/>\n",
        "\n",
        "# *INSY 4054: Emerging Technologies*\n",
        "\n",
        "# **Web Crawling**\n",
        "\n",
        "Instructor: Dr. Kambiz Saffarizadeh\n",
        "\n",
        "---"
      ]
    },
    {
      "cell_type": "markdown",
      "metadata": {
        "id": "t-vnbNewAGhp"
      },
      "source": [
        "# Web Crawling in Python"
      ]
    },
    {
      "cell_type": "markdown",
      "metadata": {
        "id": "yJyYTzrPbZbM"
      },
      "source": [
        "We can user the `requests` library to issue requests to different websites.\n",
        "\n",
        "To do so, we have to specify the `url` the we want to open. In this example, we use the `get` method to open the url."
      ]
    },
    {
      "cell_type": "code",
      "metadata": {
        "id": "2t08dXjx_mrF"
      },
      "source": [
        "import requests"
      ],
      "execution_count": null,
      "outputs": []
    },
    {
      "cell_type": "code",
      "metadata": {
        "id": "e2hCFw30AKcx"
      },
      "source": [
        "url = 'https://www.marquette.edu/'\n",
        "response = requests.get(url)"
      ],
      "execution_count": null,
      "outputs": []
    },
    {
      "cell_type": "markdown",
      "metadata": {
        "id": "qWikjZBhbtG-"
      },
      "source": [
        "We can always use the `dir` function on any object in Python to see what kinds of methods and properties we have access to through the object. For example, here we check in which way we can use `response`."
      ]
    },
    {
      "cell_type": "code",
      "metadata": {
        "id": "lOcDWr9SASNh"
      },
      "source": [
        "dir(response)"
      ],
      "execution_count": null,
      "outputs": []
    },
    {
      "cell_type": "markdown",
      "metadata": {
        "id": "C2dQA2lMAbH5"
      },
      "source": [
        "## Response Headers"
      ]
    },
    {
      "cell_type": "markdown",
      "metadata": {
        "id": "6EQfGKlAcBNK"
      },
      "source": [
        "To access the header from the `response` object, we can use `headers`."
      ]
    },
    {
      "cell_type": "code",
      "metadata": {
        "colab": {
          "base_uri": "https://localhost:8080/"
        },
        "id": "P7DS1p8tATm0",
        "outputId": "eff93307-8753-42b3-d50a-6314e866e89f"
      },
      "source": [
        "response.headers"
      ],
      "execution_count": null,
      "outputs": [
        {
          "output_type": "execute_result",
          "data": {
            "text/plain": [
              "{'Date': 'Mon, 08 Mar 2021 16:31:34 GMT', 'Server': 'Apache', 'X-Powered-By': 'PHP/7.2.34', 'Strict-Transport-Security': 'max-age=63072000; includeSubDomains; preload', 'X-Content-Type-Options': 'nosniff', 'Vary': 'Accept-Encoding,User-Agent', 'Content-Encoding': 'gzip', 'Content-Length': '16586', 'Keep-Alive': 'timeout=5, max=100', 'Connection': 'Keep-Alive', 'Content-Type': 'text/html; charset=ISO_8859-10'}"
            ]
          },
          "metadata": {
            "tags": []
          },
          "execution_count": 4
        }
      ]
    },
    {
      "cell_type": "markdown",
      "metadata": {
        "id": "HrzHY0U1AkQq"
      },
      "source": [
        "Note: `headers` is a special dictionary: it’s made just for HTTP headers. According to RFC 7230, HTTP Header names are case-insensitive.\n",
        "\n",
        "So, we can access the headers using any capitalization we want:"
      ]
    },
    {
      "cell_type": "code",
      "metadata": {
        "colab": {
          "base_uri": "https://localhost:8080/",
          "height": 35
        },
        "id": "PNkMSFiwAjkn",
        "outputId": "f0b8823e-0acd-40e9-834d-0fd7fedd8699"
      },
      "source": [
        "response.headers['Content-Type']"
      ],
      "execution_count": null,
      "outputs": [
        {
          "output_type": "execute_result",
          "data": {
            "application/vnd.google.colaboratory.intrinsic+json": {
              "type": "string"
            },
            "text/plain": [
              "'text/html; charset=ISO_8859-10'"
            ]
          },
          "metadata": {
            "tags": []
          },
          "execution_count": 5
        }
      ]
    },
    {
      "cell_type": "markdown",
      "metadata": {
        "id": "USkTWp2Gca2p"
      },
      "source": [
        "Note that we can also use the `get` method to do the same thing. The difference between using square brackets and using the `get` method is that if what we are looking for does not exist inside headers, we get an error with square brackets but not with the `get` method."
      ]
    },
    {
      "cell_type": "code",
      "metadata": {
        "colab": {
          "base_uri": "https://localhost:8080/",
          "height": 35
        },
        "id": "SHBpUjzFAgwW",
        "outputId": "5efd248c-3d56-4e00-ab2d-3457404cd3f1"
      },
      "source": [
        "response.headers.get('content-type')"
      ],
      "execution_count": null,
      "outputs": [
        {
          "output_type": "execute_result",
          "data": {
            "application/vnd.google.colaboratory.intrinsic+json": {
              "type": "string"
            },
            "text/plain": [
              "'text/html; charset=ISO_8859-10'"
            ]
          },
          "metadata": {
            "tags": []
          },
          "execution_count": 6
        }
      ]
    },
    {
      "cell_type": "markdown",
      "metadata": {
        "id": "I5cN6aUJAv0a"
      },
      "source": [
        "## Cookies"
      ]
    },
    {
      "cell_type": "markdown",
      "metadata": {
        "id": "hKFKTfRSc5O0"
      },
      "source": [
        "Some websites use cookies, that is create some files on your device to store some temporary information. To learn more about cookies visit https://www.allaboutcookies.org/cookies/.\n",
        "\n",
        "We can access the cookies created by a website after we open it using `cookies,get_dict()` method. Note that some websites don't use cookies unless you are logged in."
      ]
    },
    {
      "cell_type": "code",
      "metadata": {
        "colab": {
          "base_uri": "https://localhost:8080/"
        },
        "id": "jegL-BpxAqFe",
        "outputId": "1e7484f7-38ef-46bb-f7cf-4eb2ca2d2ece"
      },
      "source": [
        "response.cookies.get_dict()"
      ],
      "execution_count": null,
      "outputs": [
        {
          "output_type": "execute_result",
          "data": {
            "text/plain": [
              "{}"
            ]
          },
          "metadata": {
            "tags": []
          },
          "execution_count": 7
        }
      ]
    },
    {
      "cell_type": "markdown",
      "metadata": {
        "id": "SpgPA1AvA12I"
      },
      "source": [
        "Websites often use their own stored cookies in next interactions to make sure you continue your interaction from where you left off.\n",
        "\n",
        "Using `requests` you can send websites your own custom cookies. To send your own cookies to the server, you can use the cookies parameter:"
      ]
    },
    {
      "cell_type": "code",
      "metadata": {
        "colab": {
          "base_uri": "https://localhost:8080/"
        },
        "id": "mdaXQkPvAy5V",
        "outputId": "42bafcd5-41bc-4e80-d631-011833c62b1b"
      },
      "source": [
        "url = 'https://httpbin.org/cookies'\n",
        "\n",
        "cookies = {'cookies_are': 'working'}\n",
        "\n",
        "response = requests.get(url, cookies=cookies)\n",
        "\n",
        "print(response.text)"
      ],
      "execution_count": null,
      "outputs": [
        {
          "output_type": "stream",
          "text": [
            "{\n",
            "  \"cookies\": {\n",
            "    \"cookies_are\": \"working\"\n",
            "  }\n",
            "}\n",
            "\n"
          ],
          "name": "stdout"
        }
      ]
    },
    {
      "cell_type": "markdown",
      "metadata": {
        "id": "I-uJ4zFoA9yd"
      },
      "source": [
        "## Custom Headers\n",
        "\n",
        "If you’d like to add HTTP headers to a request, simply pass in a `dict` to the `headers` parameter.\n",
        "\n",
        "This is often useful when a website only opens on specific devices or browsers. This way you can mimic those devices or browsers (to some extent)."
      ]
    },
    {
      "cell_type": "code",
      "metadata": {
        "id": "G6cYI6s4A3rM"
      },
      "source": [
        "url = 'https://api.github.com/some/endpoint'\n",
        "headers = {'user-agent': 'my-app/0.0.1'}\n",
        "response = requests.get(url, headers=headers)"
      ],
      "execution_count": null,
      "outputs": []
    },
    {
      "cell_type": "markdown",
      "metadata": {
        "id": "BhMpMmP4BM78"
      },
      "source": [
        "## Timeouts\n",
        "\n",
        "You can tell `requests` to stop waiting for a response after a given number of seconds with the `timeout` parameter.\n",
        "\n",
        "Nearly all production code should use this parameter in nearly all requests. Failure to do so can cause your program to hang indefinitely.\n",
        "\n",
        "Note that `timeout` is not a time limit on the entire response download; rather, an exception is raised if the server has not issued a response for timeout seconds (more precisely, if no bytes have been received on the underlying socket for timeout seconds). If no timeout is specified explicitly, requests do not time out."
      ]
    },
    {
      "cell_type": "code",
      "metadata": {
        "colab": {
          "base_uri": "https://localhost:8080/"
        },
        "id": "epM-V3BeBF4z",
        "outputId": "f0bc7443-9827-4ce2-9795-90de0363825c"
      },
      "source": [
        "requests.get('https://github.com/', timeout=0.1)"
      ],
      "execution_count": null,
      "outputs": [
        {
          "output_type": "execute_result",
          "data": {
            "text/plain": [
              "<Response [200]>"
            ]
          },
          "metadata": {
            "tags": []
          },
          "execution_count": 10
        }
      ]
    },
    {
      "cell_type": "markdown",
      "metadata": {
        "id": "tDmK7PBGBWox"
      },
      "source": [
        "## Response Status Codes"
      ]
    },
    {
      "cell_type": "markdown",
      "metadata": {
        "id": "eaOOm0yBe5tm"
      },
      "source": [
        "When you issue a request, the response will have a status. This status shows whether the request was successful (200), page not found (404), there was a server error (500), etc.\n",
        "\n",
        "These status codes can help you automized the process of crawling much more efficiently."
      ]
    },
    {
      "cell_type": "code",
      "metadata": {
        "id": "ILhPBRMoBRoA"
      },
      "source": [
        "url = 'https://www.marquette.edu/dsakjhdasiudasjk'\n",
        "response = requests.get(url)"
      ],
      "execution_count": null,
      "outputs": []
    },
    {
      "cell_type": "code",
      "metadata": {
        "colab": {
          "base_uri": "https://localhost:8080/"
        },
        "id": "sss369gUBjmZ",
        "outputId": "24184b70-5d6d-4518-b332-aa9381361024"
      },
      "source": [
        "response.status_code"
      ],
      "execution_count": null,
      "outputs": [
        {
          "output_type": "execute_result",
          "data": {
            "text/plain": [
              "404"
            ]
          },
          "metadata": {
            "tags": []
          },
          "execution_count": 12
        }
      ]
    },
    {
      "cell_type": "code",
      "metadata": {
        "colab": {
          "base_uri": "https://localhost:8080/"
        },
        "id": "pZvrqeGWBlBN",
        "outputId": "22988bda-4ab3-4488-a0bb-07d7338ddd5f"
      },
      "source": [
        "requests.codes.ok"
      ],
      "execution_count": null,
      "outputs": [
        {
          "output_type": "execute_result",
          "data": {
            "text/plain": [
              "200"
            ]
          },
          "metadata": {
            "tags": []
          },
          "execution_count": 13
        }
      ]
    },
    {
      "cell_type": "code",
      "metadata": {
        "colab": {
          "base_uri": "https://localhost:8080/"
        },
        "id": "TRikMLIgBmlP",
        "outputId": "70177947-2ea0-4f59-d528-a6ad5ee24294"
      },
      "source": [
        "response.status_code == requests.codes.ok"
      ],
      "execution_count": null,
      "outputs": [
        {
          "output_type": "execute_result",
          "data": {
            "text/plain": [
              "False"
            ]
          },
          "metadata": {
            "tags": []
          },
          "execution_count": 14
        }
      ]
    },
    {
      "cell_type": "markdown",
      "metadata": {
        "id": "N3lmB8Z4fU5r"
      },
      "source": [
        "The `get` method does not raise an exception (error) when the request was unsuccessful. It is up to you to check the status and decide how the program should proceed based on the status.\n",
        "\n",
        "But sometimes, you might want to intentionally raise an exception (error) if the `get` method was unsuccessful. To do so, you can simply call `raise_for_status` method on the response object."
      ]
    },
    {
      "cell_type": "code",
      "metadata": {
        "id": "ILE9YrgcBw4N"
      },
      "source": [
        "# response.raise_for_status()"
      ],
      "execution_count": null,
      "outputs": []
    },
    {
      "cell_type": "markdown",
      "metadata": {
        "id": "gqq_ylR1B86R"
      },
      "source": [
        "## Text and Binary Responses"
      ]
    },
    {
      "cell_type": "markdown",
      "metadata": {
        "id": "cxxDgqPNf89d"
      },
      "source": [
        "To access the crawled page content, you have two main methods: `text` and `content`.\n",
        "\n",
        "The difference between these two methods is that `text` returns a string (str) but `content` returns `bytes`. The advantage of working with `bytes` is that they are not limited to texts, that is, we can also access an image or a video if the url is directly referring to one.\n",
        "\n",
        "Warning: It is strongly recommended that you open files in binary mode."
      ]
    },
    {
      "cell_type": "code",
      "metadata": {
        "colab": {
          "base_uri": "https://localhost:8080/"
        },
        "id": "PvvKw_SwBya1",
        "outputId": "d46a7478-b814-4b70-c362-47243c47c34a"
      },
      "source": [
        "url = 'https://www.marquette.edu/'\n",
        "\n",
        "print(type(response.text)) # returns text content\n",
        "print(type(response.content)) # works for text and any other content type such as image"
      ],
      "execution_count": null,
      "outputs": [
        {
          "output_type": "stream",
          "text": [
            "<class 'str'>\n",
            "<class 'bytes'>\n"
          ],
          "name": "stdout"
        }
      ]
    },
    {
      "cell_type": "markdown",
      "metadata": {
        "id": "zCI0s7T4CO0e"
      },
      "source": [
        "## JSON Response"
      ]
    },
    {
      "cell_type": "markdown",
      "metadata": {
        "id": "ln3rHAVJhIfr"
      },
      "source": [
        "In some cases, we might want to retrieve json data from a url. To do so, we don't need to do anything special in `get`. After `getting` the url, you can use `json` method to get the response as a list of dictionaries. "
      ]
    },
    {
      "cell_type": "code",
      "metadata": {
        "id": "zlMB7L3ACDha"
      },
      "source": [
        "response = requests.get('https://api.github.com/events')"
      ],
      "execution_count": null,
      "outputs": []
    },
    {
      "cell_type": "code",
      "metadata": {
        "id": "ZHLoHYTSCRHJ"
      },
      "source": [
        "json_resp = response.json()"
      ],
      "execution_count": null,
      "outputs": []
    },
    {
      "cell_type": "code",
      "metadata": {
        "id": "iRslAPFWCSTf"
      },
      "source": [
        "print(type(json_resp))\n",
        "print(type(json_resp[0]))\n",
        "print(json_resp)"
      ],
      "execution_count": null,
      "outputs": []
    },
    {
      "cell_type": "markdown",
      "metadata": {
        "id": "FakIui8IjW8u"
      },
      "source": [
        "## POST requests\n",
        "\n",
        "Sometimes, you want to send some form-encoded data — much like an HTML form. To do this, simply pass a dictionary to the data argument. Your dictionary of `data` will automatically be form-encoded when the request is made:"
      ]
    },
    {
      "cell_type": "code",
      "metadata": {
        "id": "bzXzPNyXCTV-"
      },
      "source": [
        "payload = {'key1': 'value1', 'key2': 'value2'}"
      ],
      "execution_count": null,
      "outputs": []
    },
    {
      "cell_type": "code",
      "metadata": {
        "id": "r-benEcsjaUX"
      },
      "source": [
        "response = requests.post(\"https://httpbin.org/post\", data=payload)"
      ],
      "execution_count": null,
      "outputs": []
    },
    {
      "cell_type": "code",
      "metadata": {
        "colab": {
          "base_uri": "https://localhost:8080/"
        },
        "id": "J-rQ5kqhjcf1",
        "outputId": "45d4fbee-56bd-4305-843f-27c6eccc49d3"
      },
      "source": [
        "print(response.text)\n",
        "\n",
        "# OR print(response.json())"
      ],
      "execution_count": null,
      "outputs": [
        {
          "output_type": "stream",
          "text": [
            "{\n",
            "  \"args\": {}, \n",
            "  \"data\": \"\", \n",
            "  \"files\": {}, \n",
            "  \"form\": {\n",
            "    \"key1\": \"value1\", \n",
            "    \"key2\": \"value2\"\n",
            "  }, \n",
            "  \"headers\": {\n",
            "    \"Accept\": \"*/*\", \n",
            "    \"Accept-Encoding\": \"gzip, deflate\", \n",
            "    \"Content-Length\": \"23\", \n",
            "    \"Content-Type\": \"application/x-www-form-urlencoded\", \n",
            "    \"Host\": \"httpbin.org\", \n",
            "    \"User-Agent\": \"python-requests/2.23.0\", \n",
            "    \"X-Amzn-Trace-Id\": \"Root=1-60465168-277a941274853219502b47ce\"\n",
            "  }, \n",
            "  \"json\": null, \n",
            "  \"origin\": \"34.105.42.245\", \n",
            "  \"url\": \"https://httpbin.org/post\"\n",
            "}\n",
            "\n"
          ],
          "name": "stdout"
        }
      ]
    },
    {
      "cell_type": "markdown",
      "metadata": {
        "id": "653gfJAFjpty"
      },
      "source": [
        "There are times that you may want to send data that is not form-encoded. If you pass in a `string` instead of a `dict`, that data will be posted directly."
      ]
    },
    {
      "cell_type": "code",
      "metadata": {
        "id": "hTzDcDKMjhG1"
      },
      "source": [
        "import json"
      ],
      "execution_count": null,
      "outputs": []
    },
    {
      "cell_type": "code",
      "metadata": {
        "id": "ac8VAwZcjvTr"
      },
      "source": [
        "payload = {'key1': 'value1', 'key2': 'value2'}"
      ],
      "execution_count": null,
      "outputs": []
    },
    {
      "cell_type": "code",
      "metadata": {
        "colab": {
          "base_uri": "https://localhost:8080/",
          "height": 35
        },
        "id": "Sw-P965eiJsr",
        "outputId": "a11b2a49-87ac-46ca-fe59-4323df02618e"
      },
      "source": [
        "json.dumps(payload) # to convert the dictonary to string"
      ],
      "execution_count": null,
      "outputs": [
        {
          "output_type": "execute_result",
          "data": {
            "application/vnd.google.colaboratory.intrinsic+json": {
              "type": "string"
            },
            "text/plain": [
              "'{\"key1\": \"value1\", \"key2\": \"value2\"}'"
            ]
          },
          "metadata": {
            "tags": []
          },
          "execution_count": 25
        }
      ]
    },
    {
      "cell_type": "code",
      "metadata": {
        "id": "yt1l3b8_jvst"
      },
      "source": [
        "response = requests.post('https://httpbin.org/post', data=json.dumps(payload))"
      ],
      "execution_count": null,
      "outputs": []
    },
    {
      "cell_type": "code",
      "metadata": {
        "colab": {
          "base_uri": "https://localhost:8080/"
        },
        "id": "_YfGVBk-j0cH",
        "outputId": "ee17c93a-8e49-4a96-9630-876708251c39"
      },
      "source": [
        "print(response.text)"
      ],
      "execution_count": null,
      "outputs": [
        {
          "output_type": "stream",
          "text": [
            "{\n",
            "  \"args\": {}, \n",
            "  \"data\": \"{\\\"key1\\\": \\\"value1\\\", \\\"key2\\\": \\\"value2\\\"}\", \n",
            "  \"files\": {}, \n",
            "  \"form\": {}, \n",
            "  \"headers\": {\n",
            "    \"Accept\": \"*/*\", \n",
            "    \"Accept-Encoding\": \"gzip, deflate\", \n",
            "    \"Content-Length\": \"36\", \n",
            "    \"Host\": \"httpbin.org\", \n",
            "    \"User-Agent\": \"python-requests/2.23.0\", \n",
            "    \"X-Amzn-Trace-Id\": \"Root=1-60465168-54c36eeb585570f278c6b9e0\"\n",
            "  }, \n",
            "  \"json\": {\n",
            "    \"key1\": \"value1\", \n",
            "    \"key2\": \"value2\"\n",
            "  }, \n",
            "  \"origin\": \"34.105.42.245\", \n",
            "  \"url\": \"https://httpbin.org/post\"\n",
            "}\n",
            "\n"
          ],
          "name": "stdout"
        }
      ]
    },
    {
      "cell_type": "markdown",
      "metadata": {
        "id": "AU4ls_xhj7xV"
      },
      "source": [
        "# Accessing Page Elements\n",
        "\n",
        "We typically want to extract some specific information from a page after dowloading it. We have many different ways to approach this problem. The common ways are XPath, BeautifulSoup, and Regular Expressions. Here we have two simple examples of using XPath and BeautifulSoup.\n",
        "\n",
        "## Using XPath\n",
        "\n",
        "Learn more about XPath: https://www.w3schools.com/xml/xpath_intro.asp\n",
        "\n",
        "`lxml` is one of the most powerful Python libraries when it comes to working with XML and XML-like formats. This library have a sublibrary for working with HTML."
      ]
    },
    {
      "cell_type": "code",
      "metadata": {
        "id": "Hzq8X6zgj15o"
      },
      "source": [
        "import requests\n",
        "from lxml import html"
      ],
      "execution_count": null,
      "outputs": []
    },
    {
      "cell_type": "code",
      "metadata": {
        "id": "ZlbscMTWj_cC"
      },
      "source": [
        "url = 'https://www.marquette.edu/'\n",
        "response = requests.get(url)"
      ],
      "execution_count": null,
      "outputs": []
    },
    {
      "cell_type": "code",
      "metadata": {
        "id": "jwecfqdtkAHl"
      },
      "source": [
        "tree = html.fromstring(response.content) # Note that we use .content not .text"
      ],
      "execution_count": null,
      "outputs": []
    },
    {
      "cell_type": "markdown",
      "metadata": {
        "id": "oGzO51KhVTU-"
      },
      "source": [
        "Get the text inside an element"
      ]
    },
    {
      "cell_type": "code",
      "metadata": {
        "id": "ddzIVpqqkDFP"
      },
      "source": [
        "link_labels = tree.xpath('//a/text()')\n",
        "link_labels"
      ],
      "execution_count": null,
      "outputs": []
    },
    {
      "cell_type": "markdown",
      "metadata": {
        "id": "s3GlbWcuVcIL"
      },
      "source": [
        "Get an attribute inside an element"
      ]
    },
    {
      "cell_type": "code",
      "metadata": {
        "id": "5EJnwpcWkFAw"
      },
      "source": [
        "link_urls = tree.xpath('//a/@href')\n",
        "link_urls"
      ],
      "execution_count": null,
      "outputs": []
    },
    {
      "cell_type": "markdown",
      "metadata": {
        "id": "Y-edqyiIOcxN"
      },
      "source": [
        "## Using BeautifulSoup\n",
        " \n",
        "Learn more about BeautifulSoup: https://www.crummy.com/software/BeautifulSoup/bs4/doc/\n",
        "\n",
        "BeautifulSoup is typically considered to be much simpler that XPath. While with XPath you can achieve a lot by just writing a short line of code, writing that line of code is often very challenging if you don't understand XPath rules well. But with BeautifulSoup your code is typically longer but much more Pytonic (therefore, much easier to understand and modify)."
      ]
    },
    {
      "cell_type": "code",
      "metadata": {
        "id": "Re6KwDmHOmZt"
      },
      "source": [
        "from bs4 import BeautifulSoup"
      ],
      "execution_count": null,
      "outputs": []
    },
    {
      "cell_type": "code",
      "metadata": {
        "id": "ayTJg4odOmWw"
      },
      "source": [
        "soup = BeautifulSoup(response.content, 'lxml')"
      ],
      "execution_count": null,
      "outputs": []
    },
    {
      "cell_type": "code",
      "metadata": {
        "id": "oWn1uzp9OmUG"
      },
      "source": [
        "all_links = soup.find_all('a')\n",
        "all_links"
      ],
      "execution_count": null,
      "outputs": []
    },
    {
      "cell_type": "markdown",
      "metadata": {
        "id": "aGgL6RySVLG8"
      },
      "source": [
        "Get the text inside an element"
      ]
    },
    {
      "cell_type": "code",
      "metadata": {
        "id": "9bYj_nUFPNH3"
      },
      "source": [
        "link_labels = []\n",
        "for link in all_links:\n",
        "  link_labels.append(link.text)"
      ],
      "execution_count": null,
      "outputs": []
    },
    {
      "cell_type": "code",
      "metadata": {
        "id": "tFpiOptYPk32"
      },
      "source": [
        "link_labels"
      ],
      "execution_count": null,
      "outputs": []
    },
    {
      "cell_type": "markdown",
      "metadata": {
        "id": "0T6muFNEVOJe"
      },
      "source": [
        "Get an attribute inside an element"
      ]
    },
    {
      "cell_type": "code",
      "metadata": {
        "id": "Cp_beKfJPpRb"
      },
      "source": [
        "link_urls = []\n",
        "for link in all_links:\n",
        "  link_urls.append(link.get('href'))"
      ],
      "execution_count": null,
      "outputs": []
    },
    {
      "cell_type": "code",
      "metadata": {
        "id": "nIzLHdgePpON"
      },
      "source": [
        "link_urls"
      ],
      "execution_count": null,
      "outputs": []
    },
    {
      "cell_type": "markdown",
      "metadata": {
        "id": "uWAAlzf0P4Xk"
      },
      "source": [
        "Combine links and labels using zip (for more information see: https://docs.python.org/3/library/functions.html#zip)"
      ]
    },
    {
      "cell_type": "code",
      "metadata": {
        "id": "26vvs2qCkOb2"
      },
      "source": [
        "label_url_pairs = list(zip(link_labels, link_urls))"
      ],
      "execution_count": null,
      "outputs": []
    },
    {
      "cell_type": "code",
      "metadata": {
        "id": "NWeAEpPakfeD"
      },
      "source": [
        "label_url_pairs"
      ],
      "execution_count": null,
      "outputs": []
    },
    {
      "cell_type": "code",
      "metadata": {
        "id": "dImaJmmykgO9"
      },
      "source": [
        "cleaned_label_url_pairs = []\n",
        "\n",
        "for label, url in label_url_pairs:\n",
        "    if url[:4] == \"http\":\n",
        "        cleaned_label_url_pairs.append((label, url))"
      ],
      "execution_count": null,
      "outputs": []
    },
    {
      "cell_type": "code",
      "metadata": {
        "id": "IKNNtKdIk0Kp"
      },
      "source": [
        "cleaned_label_url_pairs"
      ],
      "execution_count": null,
      "outputs": []
    },
    {
      "cell_type": "markdown",
      "metadata": {
        "id": "IYn7sz0TnsAM"
      },
      "source": [
        "## Download all images"
      ]
    },
    {
      "cell_type": "code",
      "metadata": {
        "id": "tEpDj2-lk31P"
      },
      "source": [
        "# With XPath\n",
        "image_urls = tree.xpath('//img/@src')\n",
        "image_urls"
      ],
      "execution_count": null,
      "outputs": []
    },
    {
      "cell_type": "code",
      "metadata": {
        "id": "yMBSiCiRQF2_"
      },
      "source": [
        "# With BeautifulSoup\n",
        "image_urls = [image.get('src') for image in soup.find_all('img')]\n",
        "image_urls"
      ],
      "execution_count": null,
      "outputs": []
    },
    {
      "cell_type": "markdown",
      "metadata": {
        "id": "lrHcrBDWnzLn"
      },
      "source": [
        "Some images have a full URL but many don't. Even worse, some of the ones that don't have a full URL start with a `/` and some don't.\n",
        "\n",
        "Fortunately, we can fix this problem with little effort using the `urljoin` method from `requests.compat`."
      ]
    },
    {
      "cell_type": "code",
      "metadata": {
        "id": "HnlrkVt5nyYa"
      },
      "source": [
        "BASE_URL = \"https://www.marquette.edu\"\n",
        "\n",
        "fixed_image_urls = [requests.compat.urljoin(BASE_URL, image_url) for image_url in image_urls]"
      ],
      "execution_count": null,
      "outputs": []
    },
    {
      "cell_type": "code",
      "metadata": {
        "id": "aJdeshe7ovVI"
      },
      "source": [
        "fixed_image_urls"
      ],
      "execution_count": null,
      "outputs": []
    },
    {
      "cell_type": "markdown",
      "metadata": {
        "id": "DD9d0lvIsa_Q"
      },
      "source": [
        "## How can we leverage alt text of the images as possible labels for supervised machine learning "
      ]
    },
    {
      "cell_type": "code",
      "metadata": {
        "id": "2ZJdAqFTsHbf"
      },
      "source": [
        "# With XPath\n",
        "image_alts = tree.xpath('//img/@alt')\n",
        "image_alts"
      ],
      "execution_count": null,
      "outputs": []
    },
    {
      "cell_type": "code",
      "metadata": {
        "id": "aYtL3x3ElfnS"
      },
      "source": [
        "# With BeautifulSoup\n",
        "image_alts = [img.get('alt') for img in soup.find_all('img')]\n",
        "image_alts"
      ],
      "execution_count": null,
      "outputs": []
    },
    {
      "cell_type": "code",
      "metadata": {
        "id": "4-4e8d5_s7n6"
      },
      "source": [
        "image_alt_pairs = list(zip(fixed_image_urls, image_alts))"
      ],
      "execution_count": null,
      "outputs": []
    },
    {
      "cell_type": "code",
      "metadata": {
        "id": "yFxQja_htHao"
      },
      "source": [
        "import pandas as pd"
      ],
      "execution_count": null,
      "outputs": []
    },
    {
      "cell_type": "code",
      "metadata": {
        "colab": {
          "base_uri": "https://localhost:8080/",
          "height": 886
        },
        "id": "-YTRo-m0tK_8",
        "outputId": "92926dcd-e786-421a-9a4e-e27c3ead8643"
      },
      "source": [
        "df = pd.DataFrame(image_alt_pairs, columns={\"image_url\", \"image_alt\"})\n",
        "df"
      ],
      "execution_count": null,
      "outputs": [
        {
          "output_type": "execute_result",
          "data": {
            "text/html": [
              "<div>\n",
              "<style scoped>\n",
              "    .dataframe tbody tr th:only-of-type {\n",
              "        vertical-align: middle;\n",
              "    }\n",
              "\n",
              "    .dataframe tbody tr th {\n",
              "        vertical-align: top;\n",
              "    }\n",
              "\n",
              "    .dataframe thead th {\n",
              "        text-align: right;\n",
              "    }\n",
              "</style>\n",
              "<table border=\"1\" class=\"dataframe\">\n",
              "  <thead>\n",
              "    <tr style=\"text-align: right;\">\n",
              "      <th></th>\n",
              "      <th>image_url</th>\n",
              "      <th>image_alt</th>\n",
              "    </tr>\n",
              "  </thead>\n",
              "  <tbody>\n",
              "    <tr>\n",
              "      <th>0</th>\n",
              "      <td>https://www.marquette.edu/_global-images/marqu...</td>\n",
              "      <td>Marquette University logo</td>\n",
              "    </tr>\n",
              "    <tr>\n",
              "      <th>1</th>\n",
              "      <td>https://www.marquette.edu/_resources/images/my...</td>\n",
              "      <td>My Marquette</td>\n",
              "    </tr>\n",
              "    <tr>\n",
              "      <th>2</th>\n",
              "      <td>https://www.marquette.edu/_resources/images/st...</td>\n",
              "      <td>Community Service</td>\n",
              "    </tr>\n",
              "    <tr>\n",
              "      <th>3</th>\n",
              "      <td>https://www.marquette.edu/_resources/images/st...</td>\n",
              "      <td>Student looking through archives</td>\n",
              "    </tr>\n",
              "    <tr>\n",
              "      <th>4</th>\n",
              "      <td>https://www.marquette.edu/innovation/images/di...</td>\n",
              "      <td>Cover of DISCOVER research</td>\n",
              "    </tr>\n",
              "    <tr>\n",
              "      <th>5</th>\n",
              "      <td>https://www.marquette.edu/_resources/images/me...</td>\n",
              "      <td>Men's basketball</td>\n",
              "    </tr>\n",
              "    <tr>\n",
              "      <th>6</th>\n",
              "      <td>https://www.marquette.edu/_resources/images/th...</td>\n",
              "      <td>Alumni with students</td>\n",
              "    </tr>\n",
              "    <tr>\n",
              "      <th>7</th>\n",
              "      <td>https://www.marquette.edu/_images/students-cam...</td>\n",
              "      <td></td>\n",
              "    </tr>\n",
              "    <tr>\n",
              "      <th>8</th>\n",
              "      <td>https://www.marquette.edu/_images/undergraduat...</td>\n",
              "      <td>A student at a desk wearing headphones, wrtiti...</td>\n",
              "    </tr>\n",
              "    <tr>\n",
              "      <th>9</th>\n",
              "      <td>https://www.marquette.edu/_images/graduate-car...</td>\n",
              "      <td>A group of older students sitting around a tab...</td>\n",
              "    </tr>\n",
              "    <tr>\n",
              "      <th>10</th>\n",
              "      <td>https://www.marquette.edu/_images/online-card-...</td>\n",
              "      <td>A student on a computer in the background, a c...</td>\n",
              "    </tr>\n",
              "    <tr>\n",
              "      <th>11</th>\n",
              "      <td>https://www.marquette.edu/_images/health-card-...</td>\n",
              "      <td>A male and female student working with a medic...</td>\n",
              "    </tr>\n",
              "    <tr>\n",
              "      <th>12</th>\n",
              "      <td>https://www.marquette.edu/_images/law-card-ima...</td>\n",
              "      <td>Students gathered around a podium listening to...</td>\n",
              "    </tr>\n",
              "    <tr>\n",
              "      <th>13</th>\n",
              "      <td>https://www.marquette.edu/_images/mba-card-ima...</td>\n",
              "      <td>An older male and female graduate student talk...</td>\n",
              "    </tr>\n",
              "    <tr>\n",
              "      <th>14</th>\n",
              "      <td>https://www.marquette.edu/_images/marissa-evan...</td>\n",
              "      <td>Marissa Evans</td>\n",
              "    </tr>\n",
              "    <tr>\n",
              "      <th>15</th>\n",
              "      <td>https://www.marquette.edu/_images/neal-lofy.jpg</td>\n",
              "      <td>Neal Lofy</td>\n",
              "    </tr>\n",
              "    <tr>\n",
              "      <th>16</th>\n",
              "      <td>https://www.marquette.edu/_images/updated-coba...</td>\n",
              "      <td>The main entrance to Marquette's new Business ...</td>\n",
              "    </tr>\n",
              "    <tr>\n",
              "      <th>17</th>\n",
              "      <td>https://www.marquette.edu/_images/extended-rea...</td>\n",
              "      <td>NIH grants graphic</td>\n",
              "    </tr>\n",
              "    <tr>\n",
              "      <th>18</th>\n",
              "      <td>https://www.marquette.edu/_images/mapping-memo...</td>\n",
              "      <td>Dr. Nielson</td>\n",
              "    </tr>\n",
              "    <tr>\n",
              "      <th>19</th>\n",
              "      <td>https://www.marquette.edu/_images/explorer-cha...</td>\n",
              "      <td>Students in a lab.</td>\n",
              "    </tr>\n",
              "    <tr>\n",
              "      <th>20</th>\n",
              "      <td>https://www.marquette.edu/_images/peace-dove.png</td>\n",
              "      <td>Graphic of a dove.</td>\n",
              "    </tr>\n",
              "    <tr>\n",
              "      <th>21</th>\n",
              "      <td>https://www.marquette.edu/_images/immigration-...</td>\n",
              "      <td>Dr. Jeffrey Coleman.</td>\n",
              "    </tr>\n",
              "    <tr>\n",
              "      <th>22</th>\n",
              "      <td>https://www.marquette.edu/_images/scaling-well...</td>\n",
              "      <td>Teacher with students</td>\n",
              "    </tr>\n",
              "    <tr>\n",
              "      <th>23</th>\n",
              "      <td>https://www.marquette.edu/_images/wisconsin-av...</td>\n",
              "      <td>Wisconsin Ave. at sunset</td>\n",
              "    </tr>\n",
              "    <tr>\n",
              "      <th>24</th>\n",
              "      <td>https://www.marquette.edu/_images/internationa...</td>\n",
              "      <td></td>\n",
              "    </tr>\n",
              "    <tr>\n",
              "      <th>25</th>\n",
              "      <td>https://www.marquette.edu/_images/students-at-...</td>\n",
              "      <td></td>\n",
              "    </tr>\n",
              "    <tr>\n",
              "      <th>26</th>\n",
              "      <td>https://www.marquette.edu/_global-images/marqu...</td>\n",
              "      <td>Marquette University logo</td>\n",
              "    </tr>\n",
              "  </tbody>\n",
              "</table>\n",
              "</div>"
            ],
            "text/plain": [
              "                                            image_url                                          image_alt\n",
              "0   https://www.marquette.edu/_global-images/marqu...                          Marquette University logo\n",
              "1   https://www.marquette.edu/_resources/images/my...                                       My Marquette\n",
              "2   https://www.marquette.edu/_resources/images/st...                                  Community Service\n",
              "3   https://www.marquette.edu/_resources/images/st...                   Student looking through archives\n",
              "4   https://www.marquette.edu/innovation/images/di...                         Cover of DISCOVER research\n",
              "5   https://www.marquette.edu/_resources/images/me...                                   Men's basketball\n",
              "6   https://www.marquette.edu/_resources/images/th...                               Alumni with students\n",
              "7   https://www.marquette.edu/_images/students-cam...                                                   \n",
              "8   https://www.marquette.edu/_images/undergraduat...  A student at a desk wearing headphones, wrtiti...\n",
              "9   https://www.marquette.edu/_images/graduate-car...  A group of older students sitting around a tab...\n",
              "10  https://www.marquette.edu/_images/online-card-...  A student on a computer in the background, a c...\n",
              "11  https://www.marquette.edu/_images/health-card-...  A male and female student working with a medic...\n",
              "12  https://www.marquette.edu/_images/law-card-ima...  Students gathered around a podium listening to...\n",
              "13  https://www.marquette.edu/_images/mba-card-ima...  An older male and female graduate student talk...\n",
              "14  https://www.marquette.edu/_images/marissa-evan...                                      Marissa Evans\n",
              "15    https://www.marquette.edu/_images/neal-lofy.jpg                                          Neal Lofy\n",
              "16  https://www.marquette.edu/_images/updated-coba...  The main entrance to Marquette's new Business ...\n",
              "17  https://www.marquette.edu/_images/extended-rea...                                 NIH grants graphic\n",
              "18  https://www.marquette.edu/_images/mapping-memo...                                        Dr. Nielson\n",
              "19  https://www.marquette.edu/_images/explorer-cha...                                 Students in a lab.\n",
              "20   https://www.marquette.edu/_images/peace-dove.png                                 Graphic of a dove.\n",
              "21  https://www.marquette.edu/_images/immigration-...                               Dr. Jeffrey Coleman.\n",
              "22  https://www.marquette.edu/_images/scaling-well...                              Teacher with students\n",
              "23  https://www.marquette.edu/_images/wisconsin-av...                           Wisconsin Ave. at sunset\n",
              "24  https://www.marquette.edu/_images/internationa...                                                   \n",
              "25  https://www.marquette.edu/_images/students-at-...                                                   \n",
              "26  https://www.marquette.edu/_global-images/marqu...                          Marquette University logo"
            ]
          },
          "metadata": {
            "tags": []
          },
          "execution_count": 52
        }
      ]
    },
    {
      "cell_type": "markdown",
      "metadata": {
        "id": "_zydWcljs0_1"
      },
      "source": [
        "## Download Images"
      ]
    },
    {
      "cell_type": "markdown",
      "metadata": {
        "id": "vrxR7lvthzAw"
      },
      "source": [
        "To dowload all images, we first need to create a directory to keep the downloaded images. To do so, we use the `os` library, which gives us the needed tools to, among other things, create directories and manipulate the file paths in a way that is compatible with our operating system."
      ]
    },
    {
      "cell_type": "code",
      "metadata": {
        "id": "yhq1DzU5mcYO"
      },
      "source": [
        "import os"
      ],
      "execution_count": null,
      "outputs": []
    },
    {
      "cell_type": "code",
      "metadata": {
        "id": "FI8dmVQZwmrV"
      },
      "source": [
        "directory = \"images\"\n",
        "os.makedirs(directory, exist_ok=True) # With exist_ok=True, we will not get an error if the directory already exists"
      ],
      "execution_count": null,
      "outputs": []
    },
    {
      "cell_type": "markdown",
      "metadata": {
        "id": "KZHjWjZAh287"
      },
      "source": [
        "Go through image urls and download them one by one.\n",
        "\n",
        "Use a unique id starting from 0 as file name to avoid duplicate names."
      ]
    },
    {
      "cell_type": "code",
      "metadata": {
        "id": "3FUAdJTgowSz"
      },
      "source": [
        "image_counter = 0\n",
        "for url in fixed_image_urls:\n",
        "  image_extension = url.split(\".\")[-1]                      # Split the url based on the dots in the string and grab the last part which basically shows the extension of the file\n",
        "  image_name = str(image_counter) + \".\" + image_extension   # Create an name with the proper extension to be used when we save the image\n",
        "  image_address = os.path.join(directory, image_name)       # Add the folder name to the image name\n",
        "  image_response = requests.get(url)\n",
        "  if image_response.status_code == 200:\n",
        "    with open(image_address, \"wb\") as f:                    # This is how we can save a file with a specific name to save the downloaded image\n",
        "      f.write(image_response.content)\n",
        "  image_counter = image_counter + 1"
      ],
      "execution_count": null,
      "outputs": []
    },
    {
      "cell_type": "markdown",
      "metadata": {
        "id": "yuo97Y2wJ8fg"
      },
      "source": [
        "## Modifying images with TensorFlow\n",
        "\n",
        "https://www.tensorflow.org/api_docs/python/tf/image"
      ]
    },
    {
      "cell_type": "code",
      "metadata": {
        "id": "wGP_VBA_xpjb"
      },
      "source": [
        "import tensorflow as tf\n",
        "import tensorflow_hub as hub\n",
        "import numpy as np"
      ],
      "execution_count": null,
      "outputs": []
    },
    {
      "cell_type": "markdown",
      "metadata": {
        "id": "_VttciQYiXIi"
      },
      "source": [
        "It is possible to use some tensorflow tools to directly load all images.\n",
        "\n",
        "It is also possible to read/write and modify the images using other libraries such as `imageio` and Pillow (`PLT`).\n",
        "\n",
        "But here we see how to do this manually using `tensorflow` to have more control over the process and preprocess the images the way we want. Furthermore, this can add to our growing knowledge of `tensorflow`."
      ]
    },
    {
      "cell_type": "code",
      "metadata": {
        "id": "g_HoG8j31p0m"
      },
      "source": [
        "image_names = []\n",
        "images_list = []\n",
        "# We use the following nested loops to get all files inside a directory, one by one\n",
        "for subdir, dirs, files in os.walk(os.path.join(os.getcwd(), directory)):\n",
        "  for filename in sorted(files):\n",
        "    filename = filename.lower()\n",
        "    if filename.endswith(\".png\") or filename.endswith(\".jpg\") or filename.endswith(\".jpeg\"):\n",
        "      image_path = os.path.join(subdir, filename)\n",
        "      image_d = tf.keras.preprocessing.image.load_img(image_path)\n",
        "      image_array = tf.keras.preprocessing.image.img_to_array(image_d) / 255.0\n",
        "      image_array = tf.image.resize_with_pad(image_array, 299,299, antialias=True)\n",
        "      images_list.append(image_array)\n",
        "      image_names.append(filename)\n",
        "image_arrays = np.array(images_list)"
      ],
      "execution_count": null,
      "outputs": []
    },
    {
      "cell_type": "code",
      "metadata": {
        "colab": {
          "base_uri": "https://localhost:8080/"
        },
        "id": "SI64al8X3wKS",
        "outputId": "f4e3b346-50ee-471a-c8ca-05bb7d2c7f79"
      },
      "source": [
        "image_arrays.shape"
      ],
      "execution_count": null,
      "outputs": [
        {
          "output_type": "execute_result",
          "data": {
            "text/plain": [
              "(25, 299, 299, 3)"
            ]
          },
          "metadata": {
            "tags": []
          },
          "execution_count": 58
        }
      ]
    },
    {
      "cell_type": "markdown",
      "metadata": {
        "id": "rNp2E4n3igW5"
      },
      "source": [
        "We load the Inception V3 model from TensorFlow Hub. We add a Softmax layer to the end of the model to make sure the model gives us probabilities instead of apparently meaningless numbers (logits)."
      ]
    },
    {
      "cell_type": "code",
      "metadata": {
        "id": "IiaaoqeX7BBK"
      },
      "source": [
        "inception_model = tf.keras.Sequential([\n",
        "    hub.KerasLayer(\"https://tfhub.dev/google/tf2-preview/inception_v3/classification/4\", output_shape=[1001]),\n",
        "    tf.keras.layers.Softmax()\n",
        "])\n",
        "inception_model.build([None, 299, 299, 3])  # Batch input shape."
      ],
      "execution_count": null,
      "outputs": []
    },
    {
      "cell_type": "markdown",
      "metadata": {
        "id": "yW4zMbSsi2_W"
      },
      "source": [
        "We can pass all image arrays direcly to the model and get all predications at once."
      ]
    },
    {
      "cell_type": "code",
      "metadata": {
        "id": "80xM6D_q7JOi"
      },
      "source": [
        "output = inception_model(image_arrays)"
      ],
      "execution_count": null,
      "outputs": []
    },
    {
      "cell_type": "markdown",
      "metadata": {
        "id": "j4zZiHgFi_ax"
      },
      "source": [
        "The model gives is 25 predictions:"
      ]
    },
    {
      "cell_type": "code",
      "metadata": {
        "colab": {
          "base_uri": "https://localhost:8080/"
        },
        "id": "tC7g9tXt7OIz",
        "outputId": "17ad317a-9553-49ef-a7d6-ccd905cdf190"
      },
      "source": [
        "output.shape"
      ],
      "execution_count": null,
      "outputs": [
        {
          "output_type": "execute_result",
          "data": {
            "text/plain": [
              "TensorShape([25, 1001])"
            ]
          },
          "metadata": {
            "tags": []
          },
          "execution_count": 61
        }
      ]
    },
    {
      "cell_type": "markdown",
      "metadata": {
        "id": "P1AXUrE-jGyh"
      },
      "source": [
        "To make sense of these predications, we need to have the class names:"
      ]
    },
    {
      "cell_type": "code",
      "metadata": {
        "id": "-x9d7tAZ7lLe"
      },
      "source": [
        "# This is could be done in a single line, but here we expand it for readability\n",
        "classes_response = requests.get('https://storage.googleapis.com/download.tensorflow.org/data/ImageNetLabels.txt')\n",
        "classes_text = classes_response.text\n",
        "classes = classes_text.split('\\n')"
      ],
      "execution_count": null,
      "outputs": []
    },
    {
      "cell_type": "markdown",
      "metadata": {
        "id": "GnkB2DrZFP5I"
      },
      "source": [
        "Now, we can check how well the model performed"
      ]
    },
    {
      "cell_type": "code",
      "metadata": {
        "id": "INxg5GnWFQu_"
      },
      "source": [
        "num = 20"
      ],
      "execution_count": null,
      "outputs": []
    },
    {
      "cell_type": "code",
      "metadata": {
        "colab": {
          "base_uri": "https://localhost:8080/",
          "height": 316
        },
        "id": "VIQ2cQ6X8Lcs",
        "outputId": "ecf12291-0835-4180-f5a3-680ca6fb04bc"
      },
      "source": [
        "# Show an image from the image_arrays\n",
        "tf.keras.preprocessing.image.array_to_img(image_arrays[num])"
      ],
      "execution_count": null,
      "outputs": [
        {
          "output_type": "execute_result",
          "data": {
            "image/png": "[encoded data removed]",
            "text/plain": [
              "<PIL.Image.Image image mode=RGB size=299x299 at 0x7EFD67AF0290>"
            ]
          },
          "metadata": {
            "tags": []
          },
          "execution_count": 64
        }
      ]
    },
    {
      "cell_type": "markdown",
      "metadata": {
        "id": "C9rIN2oqbC-S"
      },
      "source": [
        "Get top 5 classes and their probabilities.\n",
        "\n",
        "To do so, we use the `argsort` method of `numpy` to sort the result of this specific predictation. Since `argsort` sorts the numbers in ascending order, we multiply the result by -1 to make them negative so that the largest number becomes the smallest number (most negative number). This way the ascending order really represents a descending order.\n",
        "\n",
        "`np.argsort` gives us the indecies of the values in `result` sorted in descending order. We convert these indecies into a list and loop through them. In each iteration of the loop we grap the index and use it to extract the acual value associated with this index from the `result`. Because of the `Softmax` layer in our model, the values in `result` are between 0 and 1, representing probabilities. So, we can multiply them by 100 and round them using 2 decimal points to make them more readbale.\n",
        "\n",
        "We can also use the index in each interation to extract the class name from the `classes` list we downloaded earlier."
      ]
    },
    {
      "cell_type": "code",
      "metadata": {
        "colab": {
          "base_uri": "https://localhost:8080/"
        },
        "id": "uuc46WnKFbCv",
        "outputId": "c0ced371-86b2-4984-abce-13a3f953cead"
      },
      "source": [
        "result = output[num]\n",
        "top_labels = [(classes[index], round(result[index].numpy()*100, 2)) for index in list(np.argsort(-1*result))]\n",
        "print(top_labels[:5])"
      ],
      "execution_count": null,
      "outputs": [
        {
          "output_type": "stream",
          "text": [
            "[('basketball', 99.98), ('maillot', 0.0), ('muzzle', 0.0), ('clog', 0.0), ('affenpinscher', 0.0)]\n"
          ],
          "name": "stdout"
        }
      ]
    },
    {
      "cell_type": "markdown",
      "metadata": {
        "id": "6GjaWUembH6K"
      },
      "source": [
        "To create a table with image name, label, and the model's confidence in the accuracy of the label, we can go through all images and create a list of labels and confidences. Next, we can put these lists together in a `pandas.DataFrame`."
      ]
    },
    {
      "cell_type": "code",
      "metadata": {
        "id": "i5lMUQYtSxjH"
      },
      "source": [
        "labels = []\n",
        "confidences = []\n",
        "for i in range(len(image_names)):\n",
        "  result = output[i]\n",
        "  max_index = np.argmax(result)\n",
        "  label = classes[max_index]\n",
        "  confidence = result[max_index].numpy()\n",
        "  labels.append(label)\n",
        "  confidences.append(confidence)"
      ],
      "execution_count": null,
      "outputs": []
    },
    {
      "cell_type": "markdown",
      "metadata": {
        "id": "hTV-2urGbTNM"
      },
      "source": [
        "Put everything in a `DataFrame`."
      ]
    },
    {
      "cell_type": "code",
      "metadata": {
        "colab": {
          "base_uri": "https://localhost:8080/",
          "height": 824
        },
        "id": "VRcsZDpmFzjf",
        "outputId": "6add1172-b558-44aa-ba73-378eac8bf945"
      },
      "source": [
        "df_final = pd.DataFrame({\"image\": image_names, \"label\": labels, \"confidence\": confidences})\n",
        "df_final"
      ],
      "execution_count": null,
      "outputs": [
        {
          "output_type": "execute_result",
          "data": {
            "text/html": [
              "<div>\n",
              "<style scoped>\n",
              "    .dataframe tbody tr th:only-of-type {\n",
              "        vertical-align: middle;\n",
              "    }\n",
              "\n",
              "    .dataframe tbody tr th {\n",
              "        vertical-align: top;\n",
              "    }\n",
              "\n",
              "    .dataframe thead th {\n",
              "        text-align: right;\n",
              "    }\n",
              "</style>\n",
              "<table border=\"1\" class=\"dataframe\">\n",
              "  <thead>\n",
              "    <tr style=\"text-align: right;\">\n",
              "      <th></th>\n",
              "      <th>image</th>\n",
              "      <th>label</th>\n",
              "      <th>confidence</th>\n",
              "    </tr>\n",
              "  </thead>\n",
              "  <tbody>\n",
              "    <tr>\n",
              "      <th>0</th>\n",
              "      <td>1.jpg</td>\n",
              "      <td>car mirror</td>\n",
              "      <td>0.194479</td>\n",
              "    </tr>\n",
              "    <tr>\n",
              "      <th>1</th>\n",
              "      <td>10.jpg</td>\n",
              "      <td>monitor</td>\n",
              "      <td>0.694435</td>\n",
              "    </tr>\n",
              "    <tr>\n",
              "      <th>2</th>\n",
              "      <td>11.jpg</td>\n",
              "      <td>groom</td>\n",
              "      <td>0.786518</td>\n",
              "    </tr>\n",
              "    <tr>\n",
              "      <th>3</th>\n",
              "      <td>12.jpg</td>\n",
              "      <td>television</td>\n",
              "      <td>0.478036</td>\n",
              "    </tr>\n",
              "    <tr>\n",
              "      <th>4</th>\n",
              "      <td>13.jpg</td>\n",
              "      <td>groom</td>\n",
              "      <td>0.566393</td>\n",
              "    </tr>\n",
              "    <tr>\n",
              "      <th>5</th>\n",
              "      <td>14.jpg</td>\n",
              "      <td>jersey</td>\n",
              "      <td>0.350529</td>\n",
              "    </tr>\n",
              "    <tr>\n",
              "      <th>6</th>\n",
              "      <td>15.jpg</td>\n",
              "      <td>bulletproof vest</td>\n",
              "      <td>0.612233</td>\n",
              "    </tr>\n",
              "    <tr>\n",
              "      <th>7</th>\n",
              "      <td>16.jpg</td>\n",
              "      <td>cinema</td>\n",
              "      <td>0.190617</td>\n",
              "    </tr>\n",
              "    <tr>\n",
              "      <th>8</th>\n",
              "      <td>17.jpg</td>\n",
              "      <td>spotlight</td>\n",
              "      <td>0.099262</td>\n",
              "    </tr>\n",
              "    <tr>\n",
              "      <th>9</th>\n",
              "      <td>18.jpg</td>\n",
              "      <td>bonnet</td>\n",
              "      <td>0.367703</td>\n",
              "    </tr>\n",
              "    <tr>\n",
              "      <th>10</th>\n",
              "      <td>19.jpg</td>\n",
              "      <td>lab coat</td>\n",
              "      <td>0.893760</td>\n",
              "    </tr>\n",
              "    <tr>\n",
              "      <th>11</th>\n",
              "      <td>2.jpg</td>\n",
              "      <td>gong</td>\n",
              "      <td>0.578690</td>\n",
              "    </tr>\n",
              "    <tr>\n",
              "      <th>12</th>\n",
              "      <td>20.png</td>\n",
              "      <td>envelope</td>\n",
              "      <td>0.142624</td>\n",
              "    </tr>\n",
              "    <tr>\n",
              "      <th>13</th>\n",
              "      <td>21.jpg</td>\n",
              "      <td>bookshop</td>\n",
              "      <td>0.489489</td>\n",
              "    </tr>\n",
              "    <tr>\n",
              "      <th>14</th>\n",
              "      <td>22.jpg</td>\n",
              "      <td>groom</td>\n",
              "      <td>0.220040</td>\n",
              "    </tr>\n",
              "    <tr>\n",
              "      <th>15</th>\n",
              "      <td>23.jpg</td>\n",
              "      <td>church</td>\n",
              "      <td>0.204273</td>\n",
              "    </tr>\n",
              "    <tr>\n",
              "      <th>16</th>\n",
              "      <td>24.jpg</td>\n",
              "      <td>vestment</td>\n",
              "      <td>0.364246</td>\n",
              "    </tr>\n",
              "    <tr>\n",
              "      <th>17</th>\n",
              "      <td>25.jpg</td>\n",
              "      <td>sunglass</td>\n",
              "      <td>0.190608</td>\n",
              "    </tr>\n",
              "    <tr>\n",
              "      <th>18</th>\n",
              "      <td>3.jpg</td>\n",
              "      <td>hand-held computer</td>\n",
              "      <td>0.095596</td>\n",
              "    </tr>\n",
              "    <tr>\n",
              "      <th>19</th>\n",
              "      <td>4.png</td>\n",
              "      <td>book jacket</td>\n",
              "      <td>0.597226</td>\n",
              "    </tr>\n",
              "    <tr>\n",
              "      <th>20</th>\n",
              "      <td>5.jpg</td>\n",
              "      <td>basketball</td>\n",
              "      <td>0.999794</td>\n",
              "    </tr>\n",
              "    <tr>\n",
              "      <th>21</th>\n",
              "      <td>6.jpg</td>\n",
              "      <td>Windsor tie</td>\n",
              "      <td>0.403794</td>\n",
              "    </tr>\n",
              "    <tr>\n",
              "      <th>22</th>\n",
              "      <td>7.jpg</td>\n",
              "      <td>triumphal arch</td>\n",
              "      <td>0.282867</td>\n",
              "    </tr>\n",
              "    <tr>\n",
              "      <th>23</th>\n",
              "      <td>8.jpg</td>\n",
              "      <td>ping-pong ball</td>\n",
              "      <td>0.281152</td>\n",
              "    </tr>\n",
              "    <tr>\n",
              "      <th>24</th>\n",
              "      <td>9.jpg</td>\n",
              "      <td>restaurant</td>\n",
              "      <td>0.302634</td>\n",
              "    </tr>\n",
              "  </tbody>\n",
              "</table>\n",
              "</div>"
            ],
            "text/plain": [
              "     image               label  confidence\n",
              "0    1.jpg          car mirror    0.194479\n",
              "1   10.jpg             monitor    0.694435\n",
              "2   11.jpg               groom    0.786518\n",
              "3   12.jpg          television    0.478036\n",
              "4   13.jpg               groom    0.566393\n",
              "5   14.jpg              jersey    0.350529\n",
              "6   15.jpg    bulletproof vest    0.612233\n",
              "7   16.jpg              cinema    0.190617\n",
              "8   17.jpg           spotlight    0.099262\n",
              "9   18.jpg              bonnet    0.367703\n",
              "10  19.jpg            lab coat    0.893760\n",
              "11   2.jpg                gong    0.578690\n",
              "12  20.png            envelope    0.142624\n",
              "13  21.jpg            bookshop    0.489489\n",
              "14  22.jpg               groom    0.220040\n",
              "15  23.jpg              church    0.204273\n",
              "16  24.jpg            vestment    0.364246\n",
              "17  25.jpg            sunglass    0.190608\n",
              "18   3.jpg  hand-held computer    0.095596\n",
              "19   4.png         book jacket    0.597226\n",
              "20   5.jpg          basketball    0.999794\n",
              "21   6.jpg         Windsor tie    0.403794\n",
              "22   7.jpg      triumphal arch    0.282867\n",
              "23   8.jpg      ping-pong ball    0.281152\n",
              "24   9.jpg          restaurant    0.302634"
            ]
          },
          "metadata": {
            "tags": []
          },
          "execution_count": 67
        }
      ]
    },
    {
      "cell_type": "markdown",
      "metadata": {
        "id": "rz_hCWlNrQBh"
      },
      "source": [
        "Finally, we export the results into an Excel file."
      ]
    },
    {
      "cell_type": "code",
      "metadata": {
        "id": "XxppPLjTTmln"
      },
      "source": [
        "df_final.to_excel(\"classified_images.xlsx\")"
      ],
      "execution_count": null,
      "outputs": []
    }
  ]
}