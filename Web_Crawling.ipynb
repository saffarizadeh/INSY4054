{
  "nbformat": 4,
  "nbformat_minor": 0,
  "metadata": {
    "colab": {
      "name": "Web Crawling",
      "provenance": [],
      "collapsed_sections": [],
      "authorship_tag": "ABX9TyNTDC9rOItgbRL1Wayg3YWZ",
      "include_colab_link": true
    },
    "kernelspec": {
      "name": "python3",
      "display_name": "Python 3"
    }
  },
  "cells": [
    {
      "cell_type": "markdown",
      "metadata": {
        "id": "view-in-github",
        "colab_type": "text"
      },
      "source": [
        "<a href=\"https://colab.research.google.com/github/saffarizadeh/INSY4054/blob/main/Web_Crawling.ipynb\" target=\"_parent\"><img src=\"https://colab.research.google.com/assets/colab-badge.svg\" alt=\"Open In Colab\"/></a>"
      ]
    },
    {
      "cell_type": "markdown",
      "metadata": {
        "id": "t-vnbNewAGhp"
      },
      "source": [
        "# Web Crawling in Python"
      ]
    },
    {
      "cell_type": "code",
      "metadata": {
        "id": "2t08dXjx_mrF"
      },
      "source": [
        "import requests"
      ],
      "execution_count": 1,
      "outputs": []
    },
    {
      "cell_type": "code",
      "metadata": {
        "id": "e2hCFw30AKcx"
      },
      "source": [
        "url = 'https://www.marquette.edu/'\n",
        "response = requests.get(url)"
      ],
      "execution_count": 2,
      "outputs": []
    },
    {
      "cell_type": "code",
      "metadata": {
        "id": "lOcDWr9SASNh"
      },
      "source": [
        "dir(response)"
      ],
      "execution_count": null,
      "outputs": []
    },
    {
      "cell_type": "markdown",
      "metadata": {
        "id": "C2dQA2lMAbH5"
      },
      "source": [
        "## Response Headers"
      ]
    },
    {
      "cell_type": "code",
      "metadata": {
        "id": "P7DS1p8tATm0"
      },
      "source": [
        "response.headers"
      ],
      "execution_count": null,
      "outputs": []
    },
    {
      "cell_type": "markdown",
      "metadata": {
        "id": "HrzHY0U1AkQq"
      },
      "source": [
        "Note: The dictionary is special, though: it’s made just for HTTP headers. According to RFC 7230, HTTP Header names are case-insensitive.\n",
        "\n",
        "So, we can access the headers using any capitalization we want:"
      ]
    },
    {
      "cell_type": "code",
      "metadata": {
        "id": "PNkMSFiwAjkn"
      },
      "source": [
        "response.headers['Content-Type']"
      ],
      "execution_count": null,
      "outputs": []
    },
    {
      "cell_type": "code",
      "metadata": {
        "id": "SHBpUjzFAgwW"
      },
      "source": [
        "response.headers.get('content-type')"
      ],
      "execution_count": null,
      "outputs": []
    },
    {
      "cell_type": "markdown",
      "metadata": {
        "id": "I5cN6aUJAv0a"
      },
      "source": [
        "## Cookies"
      ]
    },
    {
      "cell_type": "code",
      "metadata": {
        "id": "jegL-BpxAqFe"
      },
      "source": [
        "response.cookies.get_dict()"
      ],
      "execution_count": null,
      "outputs": []
    },
    {
      "cell_type": "markdown",
      "metadata": {
        "id": "SpgPA1AvA12I"
      },
      "source": [
        "To send your own cookies to the server, you can use the cookies parameter:"
      ]
    },
    {
      "cell_type": "code",
      "metadata": {
        "id": "mdaXQkPvAy5V"
      },
      "source": [
        "url = 'https://httpbin.org/cookies'\n",
        "\n",
        "cookies = {'cookies_are': 'working'}\n",
        "\n",
        "response = requests.get(url, cookies=cookies)\n",
        "\n",
        "print(response.text)"
      ],
      "execution_count": null,
      "outputs": []
    },
    {
      "cell_type": "markdown",
      "metadata": {
        "id": "I-uJ4zFoA9yd"
      },
      "source": [
        "## Custom Headers\n",
        "\n",
        "If you’d like to add HTTP headers to a request, simply pass in a `dict` to the `headers` parameter."
      ]
    },
    {
      "cell_type": "code",
      "metadata": {
        "id": "G6cYI6s4A3rM"
      },
      "source": [
        "url = 'https://api.github.com/some/endpoint'\n",
        "headers = {'user-agent': 'my-app/0.0.1'}\n",
        "response = requests.get(url, headers=headers)"
      ],
      "execution_count": 9,
      "outputs": []
    },
    {
      "cell_type": "markdown",
      "metadata": {
        "id": "BhMpMmP4BM78"
      },
      "source": [
        "## Timeouts\n",
        "\n",
        "You can tell Requests to stop waiting for a response after a given number of seconds with the `timeout` parameter.\n",
        "\n",
        "Nearly all production code should use this parameter in nearly all requests. Failure to do so can cause your program to hang indefinitely.\n",
        "\n",
        "### Note\n",
        "\n",
        "`timeout` is not a time limit on the entire response download; rather, an exception is raised if the server has not issued a response for timeout seconds (more precisely, if no bytes have been received on the underlying socket for timeout seconds). If no timeout is specified explicitly, requests do not time out."
      ]
    },
    {
      "cell_type": "code",
      "metadata": {
        "id": "epM-V3BeBF4z"
      },
      "source": [
        "requests.get('https://github.com/', timeout=0.001)"
      ],
      "execution_count": null,
      "outputs": []
    },
    {
      "cell_type": "markdown",
      "metadata": {
        "id": "tDmK7PBGBWox"
      },
      "source": [
        "## Response Status Codes"
      ]
    },
    {
      "cell_type": "code",
      "metadata": {
        "id": "ILhPBRMoBRoA"
      },
      "source": [
        "url = 'https://www.marquette.edu/dsakjhdasiudasjk'\n",
        "response = requests.get(url)"
      ],
      "execution_count": null,
      "outputs": []
    },
    {
      "cell_type": "code",
      "metadata": {
        "id": "sss369gUBjmZ"
      },
      "source": [
        "response.status_code"
      ],
      "execution_count": null,
      "outputs": []
    },
    {
      "cell_type": "code",
      "metadata": {
        "id": "pZvrqeGWBlBN"
      },
      "source": [
        "requests.codes.ok"
      ],
      "execution_count": null,
      "outputs": []
    },
    {
      "cell_type": "code",
      "metadata": {
        "id": "TRikMLIgBmlP"
      },
      "source": [
        "response.status_code == requests.codes.ok"
      ],
      "execution_count": null,
      "outputs": []
    },
    {
      "cell_type": "code",
      "metadata": {
        "id": "ILE9YrgcBw4N"
      },
      "source": [
        "response.raise_for_status()"
      ],
      "execution_count": null,
      "outputs": []
    },
    {
      "cell_type": "markdown",
      "metadata": {
        "id": "gqq_ylR1B86R"
      },
      "source": [
        "## Text and Binary Responses"
      ]
    },
    {
      "cell_type": "code",
      "metadata": {
        "id": "PvvKw_SwBya1"
      },
      "source": [
        "url = 'https://www.marquette.edu/'\n",
        "\n",
        "print(type(response.text)) # returns text content\n",
        "print(type(response.content)) # works for text and any other content type such as image"
      ],
      "execution_count": null,
      "outputs": []
    },
    {
      "cell_type": "markdown",
      "metadata": {
        "id": "FawLoy_mCLeL"
      },
      "source": [
        "### Warning\n",
        "\n",
        "It is strongly recommended that you open files in binary mode. This is because Requests may attempt to provide the Content-Length header for you, and if it does this value will be set to the number of bytes in the file. Errors may occur if you open the file in text mode."
      ]
    },
    {
      "cell_type": "markdown",
      "metadata": {
        "id": "zCI0s7T4CO0e"
      },
      "source": [
        "## JSON Response"
      ]
    },
    {
      "cell_type": "code",
      "metadata": {
        "id": "zlMB7L3ACDha"
      },
      "source": [
        "response = requests.get('https://api.github.com/events')"
      ],
      "execution_count": null,
      "outputs": []
    },
    {
      "cell_type": "code",
      "metadata": {
        "id": "ZHLoHYTSCRHJ"
      },
      "source": [
        "json_resp = response.json()"
      ],
      "execution_count": null,
      "outputs": []
    },
    {
      "cell_type": "code",
      "metadata": {
        "id": "iRslAPFWCSTf"
      },
      "source": [
        "json_resp"
      ],
      "execution_count": null,
      "outputs": []
    },
    {
      "cell_type": "markdown",
      "metadata": {
        "id": "FakIui8IjW8u"
      },
      "source": [
        "## POST requests\n",
        "\n",
        "Typically, you want to send some form-encoded data — much like an HTML form. To do this, simply pass a dictionary to the data argument. Your dictionary of `data` will automatically be form-encoded when the request is made:"
      ]
    },
    {
      "cell_type": "code",
      "metadata": {
        "id": "bzXzPNyXCTV-"
      },
      "source": [
        "payload = {'key1': 'value1', 'key2': 'value2'}"
      ],
      "execution_count": null,
      "outputs": []
    },
    {
      "cell_type": "code",
      "metadata": {
        "id": "r-benEcsjaUX"
      },
      "source": [
        "response = requests.post(\"https://httpbin.org/post\", data=payload)"
      ],
      "execution_count": null,
      "outputs": []
    },
    {
      "cell_type": "code",
      "metadata": {
        "id": "J-rQ5kqhjcf1"
      },
      "source": [
        "print(response.text)\n",
        "\n",
        "# OR print(r.json())"
      ],
      "execution_count": null,
      "outputs": []
    },
    {
      "cell_type": "markdown",
      "metadata": {
        "id": "653gfJAFjpty"
      },
      "source": [
        "There are times that you may want to send data that is not form-encoded. If you pass in a `string` instead of a `dict`, that data will be posted directly."
      ]
    },
    {
      "cell_type": "code",
      "metadata": {
        "id": "hTzDcDKMjhG1"
      },
      "source": [
        "import json"
      ],
      "execution_count": null,
      "outputs": []
    },
    {
      "cell_type": "code",
      "metadata": {
        "id": "ac8VAwZcjvTr"
      },
      "source": [
        "payload = {'key1': 'value1', 'key2': 'value2'}"
      ],
      "execution_count": null,
      "outputs": []
    },
    {
      "cell_type": "code",
      "metadata": {
        "id": "yt1l3b8_jvst"
      },
      "source": [
        "response = requests.post('https://httpbin.org/post', data=json.dumps(payload))"
      ],
      "execution_count": null,
      "outputs": []
    },
    {
      "cell_type": "code",
      "metadata": {
        "id": "_YfGVBk-j0cH"
      },
      "source": [
        "print(response.text)"
      ],
      "execution_count": null,
      "outputs": []
    },
    {
      "cell_type": "markdown",
      "metadata": {
        "id": "AU4ls_xhj7xV"
      },
      "source": [
        "## Using XPath: A Primer"
      ]
    },
    {
      "cell_type": "code",
      "metadata": {
        "id": "Hzq8X6zgj15o"
      },
      "source": [
        "import requests\n",
        "from lxml import html"
      ],
      "execution_count": null,
      "outputs": []
    },
    {
      "cell_type": "code",
      "metadata": {
        "id": "ZlbscMTWj_cC"
      },
      "source": [
        "url = 'https://www.marquette.edu/'\n",
        "response = requests.get(url)"
      ],
      "execution_count": null,
      "outputs": []
    },
    {
      "cell_type": "code",
      "metadata": {
        "id": "jwecfqdtkAHl"
      },
      "source": [
        "tree = html.fromstring(response.content)"
      ],
      "execution_count": null,
      "outputs": []
    },
    {
      "cell_type": "code",
      "metadata": {
        "id": "ddzIVpqqkDFP"
      },
      "source": [
        "link_labels = tree.xpath('//a/text()')\n",
        "link_urls = tree.xpath('//a/@href')"
      ],
      "execution_count": null,
      "outputs": []
    },
    {
      "cell_type": "code",
      "metadata": {
        "id": "sWHTXQK5kUWr"
      },
      "source": [
        "link_labels"
      ],
      "execution_count": null,
      "outputs": []
    },
    {
      "cell_type": "code",
      "metadata": {
        "id": "5EJnwpcWkFAw"
      },
      "source": [
        "link_urls"
      ],
      "execution_count": null,
      "outputs": []
    },
    {
      "cell_type": "code",
      "metadata": {
        "id": "26vvs2qCkOb2"
      },
      "source": [
        "label_url_pairs = list(zip(link_labels, link_urls))"
      ],
      "execution_count": null,
      "outputs": []
    },
    {
      "cell_type": "code",
      "metadata": {
        "id": "NWeAEpPakfeD"
      },
      "source": [
        "label_url_pairs"
      ],
      "execution_count": null,
      "outputs": []
    },
    {
      "cell_type": "code",
      "metadata": {
        "id": "dImaJmmykgO9"
      },
      "source": [
        "cleaned_label_url_pairs = []\n",
        "\n",
        "for label, url in label_url_pairs:\n",
        "    if url[:4] == \"http\":\n",
        "        cleaned_label_url_pairs.append((label, url))"
      ],
      "execution_count": null,
      "outputs": []
    },
    {
      "cell_type": "code",
      "metadata": {
        "id": "IKNNtKdIk0Kp"
      },
      "source": [
        "cleaned_label_url_pairs"
      ],
      "execution_count": null,
      "outputs": []
    },
    {
      "cell_type": "code",
      "metadata": {
        "id": "tEpDj2-lk31P"
      },
      "source": [
        ""
      ],
      "execution_count": null,
      "outputs": []
    }
  ]
}