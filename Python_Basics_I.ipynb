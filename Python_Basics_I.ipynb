{
  "nbformat": 4,
  "nbformat_minor": 0,
  "metadata": {
    "colab": {
      "name": "Python Basics I",
      "provenance": [],
      "collapsed_sections": [],
      "authorship_tag": "ABX9TyN9RpYiplCjH/ge+/ukUww5",
      "include_colab_link": true
    },
    "kernelspec": {
      "name": "python3",
      "display_name": "Python 3"
    }
  },
  "cells": [
    {
      "cell_type": "markdown",
      "metadata": {
        "id": "view-in-github",
        "colab_type": "text"
      },
      "source": [
        "<a href=\"https://colab.research.google.com/github/saffarizadeh/BUAN4061/blob/main/Python_Basics_I.ipynb\" target=\"_parent\"><img src=\"https://colab.research.google.com/assets/colab-badge.svg\" alt=\"Open In Colab\"/></a>"
      ]
    },
    {
      "cell_type": "markdown",
      "metadata": {
        "id": "CHN7fbx7_wiC"
      },
      "source": [
        "<img src=\"http://saffarizadeh.com/Logo.png\" width=\"300px\"/>\n",
        "\n",
        "# *INSY 4054: Emerging Technologies*\n",
        "\n",
        "# **Python Basics I**\n",
        "\n",
        "Instructor: Dr. Kambiz Saffarizadeh\n",
        "\n",
        "---"
      ]
    },
    {
      "cell_type": "markdown",
      "metadata": {
        "id": "G4eMm0pzHVH0"
      },
      "source": [
        "References:\n",
        "* Google Python Class\n",
        "* Automate the Boring Stuff with Python, 2nd Edition: Practical Programming for Total Beginners"
      ]
    },
    {
      "cell_type": "markdown",
      "metadata": {
        "id": "OtgQwXXpLB5A"
      },
      "source": [
        "# Colab / JupyterLab"
      ]
    },
    {
      "cell_type": "markdown",
      "metadata": {
        "id": "01Ey1wu2K5KH"
      },
      "source": [
        "In this session we learn how to use the Colab and write Python code.\n",
        "\n",
        "You can change the project name by clicking on the title on top of this page.\n"
      ]
    },
    {
      "cell_type": "markdown",
      "metadata": {
        "id": "rQhWPxiZLUPw"
      },
      "source": [
        "## Hello World!"
      ]
    },
    {
      "cell_type": "code",
      "metadata": {
        "id": "ABfEFXewLS9f",
        "colab": {
          "base_uri": "https://localhost:8080/"
        },
        "outputId": "001336a9-2e6b-4f11-fa11-7c86ff698230"
      },
      "source": [
        "print(\"Hello World!\")"
      ],
      "execution_count": null,
      "outputs": [
        {
          "output_type": "stream",
          "name": "stdout",
          "text": [
            "Hello World!\n"
          ]
        }
      ]
    },
    {
      "cell_type": "markdown",
      "metadata": {
        "id": "ShvN8R_wLuTz"
      },
      "source": [
        "You can export your notebook by going to File > Download .ipynb"
      ]
    },
    {
      "cell_type": "markdown",
      "metadata": {
        "id": "7J0d23wi_w_s"
      },
      "source": [
        "---\n",
        "# Python Language Basics\n",
        "\n",
        "<table>\n",
        "<tr>\n",
        "<td><b>Operator</b></td>\n",
        "<td><b>Operation</b></td>\n",
        "<td><b>Example</b></td>\n",
        "<td><b>Evaluates to ...</b></td>\n",
        "</tr>\n",
        "<tr>\n",
        "<td>+</td>\n",
        "<td>Addition</td>\n",
        "<td>2 + 2</td>\n",
        "<td>4</td>\n",
        "</tr>\n",
        "<tr>\n",
        "<td>-</td>\n",
        "<td>Subtraction</td>\n",
        "<td>5 - 2</td>\n",
        "<td>3</td>\n",
        "</tr>\n",
        "<tr>\n",
        "<td>*</td>\n",
        "<td>Multiplication</td>\n",
        "<td>3 + 5</td>\n",
        "<td>15</td>\n",
        "</tr>\n",
        "<tr>\n",
        "<td>/</td>\n",
        "<td>Division</td>\n",
        "<td>22 / 8</td>\n",
        "<td>2.75</td>\n",
        "</tr>\n",
        "<tr>\n",
        "<td>//</td>\n",
        "<td>Integer Division</td>\n",
        "<td>22 // 8</td>\n",
        "<td>2</td>\n",
        "</tr>\n",
        "<tr>\n",
        "<td>%</td>\n",
        "<td>Modulus/Remainder</td>\n",
        "<td>22 % 8</td>\n",
        "<td>6</td>\n",
        "</tr>\n",
        "<tr>\n",
        "<td>**</td>\n",
        "<td>Exponent</td>\n",
        "<td>2 ** 3</td>\n",
        "<td>8</td>\n",
        "</tr>\n",
        "</table>"
      ]
    },
    {
      "cell_type": "code",
      "metadata": {
        "id": "DcWoEBDb_sGY",
        "colab": {
          "base_uri": "https://localhost:8080/"
        },
        "outputId": "c1e1714b-3448-4a15-9506-c65d60da526a"
      },
      "source": [
        "7 + 5"
      ],
      "execution_count": null,
      "outputs": [
        {
          "output_type": "execute_result",
          "data": {
            "text/plain": [
              "12"
            ]
          },
          "metadata": {},
          "execution_count": 2
        }
      ]
    },
    {
      "cell_type": "code",
      "metadata": {
        "id": "Wca6Hjh7MC98",
        "colab": {
          "base_uri": "https://localhost:8080/"
        },
        "outputId": "d8c10704-37db-49ef-e2b0-f26b5ea9a81b"
      },
      "source": [
        "7 - 5"
      ],
      "execution_count": null,
      "outputs": [
        {
          "output_type": "execute_result",
          "data": {
            "text/plain": [
              "2"
            ]
          },
          "metadata": {},
          "execution_count": 3
        }
      ]
    },
    {
      "cell_type": "code",
      "metadata": {
        "id": "xrnWoo_HMD_1",
        "colab": {
          "base_uri": "https://localhost:8080/"
        },
        "outputId": "9b643d1f-fecc-4027-b64b-3fd72a25a402"
      },
      "source": [
        "7 * 5"
      ],
      "execution_count": null,
      "outputs": [
        {
          "output_type": "execute_result",
          "data": {
            "text/plain": [
              "35"
            ]
          },
          "metadata": {},
          "execution_count": 4
        }
      ]
    },
    {
      "cell_type": "code",
      "metadata": {
        "id": "TzH8zdH3MF11",
        "colab": {
          "base_uri": "https://localhost:8080/"
        },
        "outputId": "d6131321-1c6b-49e5-995a-c4a6a30c44bc"
      },
      "source": [
        "7 / 5"
      ],
      "execution_count": null,
      "outputs": [
        {
          "output_type": "execute_result",
          "data": {
            "text/plain": [
              "1.4"
            ]
          },
          "metadata": {},
          "execution_count": 5
        }
      ]
    },
    {
      "cell_type": "markdown",
      "metadata": {
        "id": "gsOmS_XsMME0"
      },
      "source": [
        "---\n",
        "Use # (number sign) to comment your codes\n",
        "\n",
        "Python will ignore anything in a line that follows #\n",
        "\n",
        "It is a good idea to comment your codes so that others can understand what you are trying to do."
      ]
    },
    {
      "cell_type": "code",
      "metadata": {
        "id": "1ZtIvh3fMHWl",
        "colab": {
          "base_uri": "https://localhost:8080/"
        },
        "outputId": "76181e72-8075-40fa-8eda-37002ac1cf8d"
      },
      "source": [
        "9**0.5  # square root"
      ],
      "execution_count": null,
      "outputs": [
        {
          "output_type": "execute_result",
          "data": {
            "text/plain": [
              "3.0"
            ]
          },
          "metadata": {},
          "execution_count": 6
        }
      ]
    },
    {
      "cell_type": "code",
      "metadata": {
        "id": "mU-HhFThMOjt",
        "colab": {
          "base_uri": "https://localhost:8080/"
        },
        "outputId": "c66e70b6-2307-48e1-bfe4-e03b5d451ace"
      },
      "source": [
        "round(2.05) # rounding numbers"
      ],
      "execution_count": null,
      "outputs": [
        {
          "output_type": "execute_result",
          "data": {
            "text/plain": [
              "2"
            ]
          },
          "metadata": {},
          "execution_count": 7
        }
      ]
    },
    {
      "cell_type": "code",
      "metadata": {
        "id": "qPwA1P7tMQQL",
        "colab": {
          "base_uri": "https://localhost:8080/"
        },
        "outputId": "e66d4ee5-56a8-45c1-adbe-3f6a594b2705"
      },
      "source": [
        "x = \"This is an intro to Python\"\n",
        "print(x) # printing x on the screen"
      ],
      "execution_count": null,
      "outputs": [
        {
          "output_type": "stream",
          "name": "stdout",
          "text": [
            "This is an intro to Python\n"
          ]
        }
      ]
    },
    {
      "cell_type": "markdown",
      "metadata": {
        "id": "2yJ1Ydz6GjTU"
      },
      "source": [
        "---\n",
        "#Storing Values in Variables\n",
        "\n",
        "<p>A variable is like a box in the computer’s memory where you can store a single value.</p>\n",
        "\n",
        "<img src=\"https://saffarizadeh.com/D2L/Colab/1/Variable.png\" width=500px; />"
      ]
    },
    {
      "cell_type": "markdown",
      "metadata": {
        "id": "hZJqBQO1MlcY"
      },
      "source": [
        "---\n",
        "# Basic Data Types\n",
        "Numbers: Integers and floats work as you would expect from other languages.\n",
        "\n",
        "<table>\n",
        "<tr>\n",
        "<td><b>Data type</b></td>\n",
        "<td><b>Examples</b></td>\n",
        "</tr>\n",
        "<tr>\n",
        "<td>Integers</td>\n",
        "<td>-2, -1, 0, 1, 2, 3, 4, 5</td>\n",
        "</tr>\n",
        "<tr>\n",
        "<td>Floating-point numbers</td>\n",
        "<td>-1.25, -1.0, -0.5, 0.0, 0.5, 1.0, 1.25</td>\n",
        "</tr>\n",
        "<tr>\n",
        "<td>Strings</td>\n",
        "<td>'a', 'aa', 'aaa', 'Hello!', '11 cats'</td>\n",
        "</tr>\n",
        "</table>"
      ]
    },
    {
      "cell_type": "markdown",
      "metadata": {
        "id": "7wHgJ9cn5xJ8"
      },
      "source": [
        "## int"
      ]
    },
    {
      "cell_type": "code",
      "metadata": {
        "id": "Y05VTmESMWA8",
        "colab": {
          "base_uri": "https://localhost:8080/"
        },
        "outputId": "dc9d4d79-7c50-422b-a17a-d3e68c85b8ce"
      },
      "source": [
        "x = 2\n",
        "print(x)"
      ],
      "execution_count": null,
      "outputs": [
        {
          "output_type": "stream",
          "name": "stdout",
          "text": [
            "2\n"
          ]
        }
      ]
    },
    {
      "cell_type": "code",
      "metadata": {
        "id": "Ci4lm6CNMy8x",
        "colab": {
          "base_uri": "https://localhost:8080/"
        },
        "outputId": "1765fbd1-6693-4f22-c054-930e06126aca"
      },
      "source": [
        "type(x)"
      ],
      "execution_count": null,
      "outputs": [
        {
          "output_type": "execute_result",
          "data": {
            "text/plain": [
              "int"
            ]
          },
          "metadata": {},
          "execution_count": 10
        }
      ]
    },
    {
      "cell_type": "markdown",
      "metadata": {
        "id": "2qz4BQb4M2Yq"
      },
      "source": [
        "## float"
      ]
    },
    {
      "cell_type": "code",
      "metadata": {
        "id": "Fakewe9dM0Kq",
        "colab": {
          "base_uri": "https://localhost:8080/"
        },
        "outputId": "f5f9fd68-dd36-4dde-8b44-7b556df2ad6c"
      },
      "source": [
        "y = 2.5\n",
        "print(y)"
      ],
      "execution_count": null,
      "outputs": [
        {
          "output_type": "stream",
          "name": "stdout",
          "text": [
            "2.5\n"
          ]
        }
      ]
    },
    {
      "cell_type": "code",
      "metadata": {
        "id": "30VaUYxoM4KT",
        "colab": {
          "base_uri": "https://localhost:8080/"
        },
        "outputId": "cf9e11ed-5baa-4bde-fd7e-cfe4fe619134"
      },
      "source": [
        "type(y)"
      ],
      "execution_count": null,
      "outputs": [
        {
          "output_type": "execute_result",
          "data": {
            "text/plain": [
              "float"
            ]
          },
          "metadata": {},
          "execution_count": 12
        }
      ]
    },
    {
      "cell_type": "markdown",
      "metadata": {
        "id": "qDwZxGnINXbl"
      },
      "source": [
        "---\n",
        "## String\n",
        "Python has great support for strings:"
      ]
    },
    {
      "cell_type": "code",
      "metadata": {
        "id": "M0-AFZpCNRNa",
        "colab": {
          "base_uri": "https://localhost:8080/"
        },
        "outputId": "84270c84-5b00-496b-b670-040c6dde87bc"
      },
      "source": [
        "sentence1 = \"This is a text\"\n",
        "print(sentence1)"
      ],
      "execution_count": null,
      "outputs": [
        {
          "output_type": "stream",
          "name": "stdout",
          "text": [
            "This is a text\n"
          ]
        }
      ]
    },
    {
      "cell_type": "code",
      "metadata": {
        "id": "LL5MWUavNdLI",
        "colab": {
          "base_uri": "https://localhost:8080/"
        },
        "outputId": "68a8ff82-67bf-4617-c9c8-aa8779340824"
      },
      "source": [
        "sentence2 = 'This is another one!'\n",
        "print(sentence2)"
      ],
      "execution_count": null,
      "outputs": [
        {
          "output_type": "stream",
          "name": "stdout",
          "text": [
            "This is another one!\n"
          ]
        }
      ]
    },
    {
      "cell_type": "code",
      "metadata": {
        "id": "wWel_c3LNfHA",
        "colab": {
          "base_uri": "https://localhost:8080/"
        },
        "outputId": "61386135-65fc-458f-f5c0-f8dcf66d5764"
      },
      "source": [
        "new_sentence = sentence1 + '. ' + sentence2\n",
        "print(new_sentence)"
      ],
      "execution_count": null,
      "outputs": [
        {
          "output_type": "stream",
          "name": "stdout",
          "text": [
            "This is a text. This is another one!\n"
          ]
        }
      ]
    },
    {
      "cell_type": "code",
      "metadata": {
        "id": "yjZYN-D6Q3oz",
        "colab": {
          "base_uri": "https://localhost:8080/"
        },
        "outputId": "3682288b-ab88-4e4b-cd85-648e9c9352a3"
      },
      "source": [
        "pi = 3.14\n",
        "##text = 'The value of pi is ' + pi      ## NO, does not work\n",
        "text = 'The value of pi is '  + str(pi)  ## yes\n",
        "print(text)"
      ],
      "execution_count": null,
      "outputs": [
        {
          "output_type": "stream",
          "name": "stdout",
          "text": [
            "The value of pi is 3.14\n"
          ]
        }
      ]
    },
    {
      "cell_type": "code",
      "metadata": {
        "id": "EYThgxbmfKoR",
        "colab": {
          "base_uri": "https://localhost:8080/"
        },
        "outputId": "4f994bdf-e6dd-4896-ff10-bffc75cbd447"
      },
      "source": [
        "len(sentence1)"
      ],
      "execution_count": null,
      "outputs": [
        {
          "output_type": "execute_result",
          "data": {
            "text/plain": [
              "14"
            ]
          },
          "metadata": {},
          "execution_count": 17
        }
      ]
    },
    {
      "cell_type": "markdown",
      "metadata": {
        "id": "5rmtRAKIRbHl"
      },
      "source": [
        "### String Slices\n",
        "The \"slice\" syntax is a handy way to refer to sub-parts of sequences -- typically strings and lists. The slice s[start:end] is the elements beginning at start and extending up to but not including end. Suppose we have s = \"Hello\"\n",
        "\n",
        "<img src=\"https://developers.google.com//edu/python/images/hello.png\" style=\"display:block; margin:0 auto\" alt=\"the string 'hello' with letter indexes 0 1 2 3 4\">"
      ]
    },
    {
      "cell_type": "code",
      "metadata": {
        "id": "RmenNwuDSBE8"
      },
      "source": [
        "s = \"Hello\""
      ],
      "execution_count": null,
      "outputs": []
    },
    {
      "cell_type": "markdown",
      "metadata": {
        "id": "Qx1zKl9YSQ-I"
      },
      "source": [
        "second char"
      ]
    },
    {
      "cell_type": "code",
      "metadata": {
        "id": "PfyVaC4USQDo",
        "colab": {
          "base_uri": "https://localhost:8080/",
          "height": 35
        },
        "outputId": "5dd854bf-f002-4d99-9428-7f849a287e1e"
      },
      "source": [
        "s[1]"
      ],
      "execution_count": null,
      "outputs": [
        {
          "output_type": "execute_result",
          "data": {
            "application/vnd.google.colaboratory.intrinsic+json": {
              "type": "string"
            },
            "text/plain": [
              "'e'"
            ]
          },
          "metadata": {},
          "execution_count": 19
        }
      ]
    },
    {
      "cell_type": "markdown",
      "metadata": {
        "id": "fZN84qN9R97A"
      },
      "source": [
        "chars starting at index 1 and extending up to but not including index 4"
      ]
    },
    {
      "cell_type": "code",
      "metadata": {
        "id": "Iau8QW4ROSc3",
        "colab": {
          "base_uri": "https://localhost:8080/",
          "height": 35
        },
        "outputId": "84efc946-cb00-4755-e13c-a9dd17ffe676"
      },
      "source": [
        "s[1:4]"
      ],
      "execution_count": null,
      "outputs": [
        {
          "output_type": "execute_result",
          "data": {
            "application/vnd.google.colaboratory.intrinsic+json": {
              "type": "string"
            },
            "text/plain": [
              "'ell'"
            ]
          },
          "metadata": {},
          "execution_count": 20
        }
      ]
    },
    {
      "cell_type": "markdown",
      "metadata": {
        "id": "LgkubACKSgBW"
      },
      "source": [
        "omitting either index defaults to the start or end of the string"
      ]
    },
    {
      "cell_type": "code",
      "metadata": {
        "id": "HaOmkmZYSgqS",
        "colab": {
          "base_uri": "https://localhost:8080/",
          "height": 35
        },
        "outputId": "8f51e674-47ae-4b63-d0fa-01bd08a57b14"
      },
      "source": [
        "s[1:]"
      ],
      "execution_count": null,
      "outputs": [
        {
          "output_type": "execute_result",
          "data": {
            "application/vnd.google.colaboratory.intrinsic+json": {
              "type": "string"
            },
            "text/plain": [
              "'ello'"
            ]
          },
          "metadata": {},
          "execution_count": 21
        }
      ]
    },
    {
      "cell_type": "markdown",
      "metadata": {
        "id": "muxW2nUcSoju"
      },
      "source": [
        "omitting both always gives us a copy of the whole thing (this is the pythonic way to copy a sequence like a string or list)"
      ]
    },
    {
      "cell_type": "code",
      "metadata": {
        "id": "oBdNMeitSpcs",
        "colab": {
          "base_uri": "https://localhost:8080/",
          "height": 35
        },
        "outputId": "aec060ef-4998-4d84-8377-1d0db69d3f8e"
      },
      "source": [
        "s[:]"
      ],
      "execution_count": null,
      "outputs": [
        {
          "output_type": "execute_result",
          "data": {
            "application/vnd.google.colaboratory.intrinsic+json": {
              "type": "string"
            },
            "text/plain": [
              "'Hello'"
            ]
          },
          "metadata": {},
          "execution_count": 22
        }
      ]
    },
    {
      "cell_type": "markdown",
      "metadata": {
        "id": "9jN7-xsvSwn9"
      },
      "source": [
        "an index that is too big is truncated down to the string length"
      ]
    },
    {
      "cell_type": "code",
      "metadata": {
        "id": "gmz-qlf3SxZs",
        "colab": {
          "base_uri": "https://localhost:8080/",
          "height": 35
        },
        "outputId": "3c04e969-4f52-4176-e86a-6fa9a4bc78d4"
      },
      "source": [
        "s[1:100]"
      ],
      "execution_count": null,
      "outputs": [
        {
          "output_type": "execute_result",
          "data": {
            "application/vnd.google.colaboratory.intrinsic+json": {
              "type": "string"
            },
            "text/plain": [
              "'ello'"
            ]
          },
          "metadata": {},
          "execution_count": 23
        }
      ]
    },
    {
      "cell_type": "markdown",
      "metadata": {
        "id": "MLcI5jwqUQxt"
      },
      "source": [
        "### String Methods"
      ]
    },
    {
      "cell_type": "markdown",
      "metadata": {
        "id": "kUcCGrtGNimf"
      },
      "source": [
        "Here are some of the most common string methods.\n",
        "\n",
        "s.lower(), s.upper() -- returns the lowercase or uppercase version of the string"
      ]
    },
    {
      "cell_type": "code",
      "metadata": {
        "id": "b-nYBV3PNo2H",
        "colab": {
          "base_uri": "https://localhost:8080/",
          "height": 35
        },
        "outputId": "02067be7-7929-48d6-803d-cef4c2c72314"
      },
      "source": [
        "sentence1.lower()"
      ],
      "execution_count": null,
      "outputs": [
        {
          "output_type": "execute_result",
          "data": {
            "application/vnd.google.colaboratory.intrinsic+json": {
              "type": "string"
            },
            "text/plain": [
              "'this is a text'"
            ]
          },
          "metadata": {},
          "execution_count": 24
        }
      ]
    },
    {
      "cell_type": "code",
      "metadata": {
        "id": "QkGc54kuNqJZ",
        "colab": {
          "base_uri": "https://localhost:8080/",
          "height": 35
        },
        "outputId": "a3699d09-50a9-4456-d473-94385c70178a"
      },
      "source": [
        "sentence1.upper()"
      ],
      "execution_count": null,
      "outputs": [
        {
          "output_type": "execute_result",
          "data": {
            "application/vnd.google.colaboratory.intrinsic+json": {
              "type": "string"
            },
            "text/plain": [
              "'THIS IS A TEXT'"
            ]
          },
          "metadata": {},
          "execution_count": 25
        }
      ]
    },
    {
      "cell_type": "markdown",
      "metadata": {
        "id": "riCpM0qnfcGw"
      },
      "source": [
        "s.strip() -- returns a string with whitespace removed from the start and end"
      ]
    },
    {
      "cell_type": "code",
      "metadata": {
        "id": "zSHsYyOCfaw-",
        "colab": {
          "base_uri": "https://localhost:8080/"
        },
        "outputId": "8e846cf4-879c-4c26-c8ce-51b663390714"
      },
      "source": [
        "sentence4 = '  world '.strip()\n",
        "print(sentence4)"
      ],
      "execution_count": null,
      "outputs": [
        {
          "output_type": "stream",
          "name": "stdout",
          "text": [
            "world\n"
          ]
        }
      ]
    },
    {
      "cell_type": "markdown",
      "metadata": {
        "id": "4TlYsLrnfzy_"
      },
      "source": [
        "s.find('other') -- searches for the given other string (not a regular expression) within s, and returns the first index where it begins or -1 if not found"
      ]
    },
    {
      "cell_type": "code",
      "metadata": {
        "id": "E8YQPmD9NrU4",
        "colab": {
          "base_uri": "https://localhost:8080/"
        },
        "outputId": "2ea4ab7c-534a-40d6-edfc-f241b3a70a89"
      },
      "source": [
        "sentence1.find('s')"
      ],
      "execution_count": null,
      "outputs": [
        {
          "output_type": "execute_result",
          "data": {
            "text/plain": [
              "3"
            ]
          },
          "metadata": {},
          "execution_count": 27
        }
      ]
    },
    {
      "cell_type": "markdown",
      "metadata": {
        "id": "3AH8bp1zN5Lj"
      },
      "source": [
        "s.replace('old', 'new') -- returns a string where all occurrences of 'old' have been replaced by 'new'\n",
        "\n"
      ]
    },
    {
      "cell_type": "code",
      "metadata": {
        "id": "Maho3Pg1N1yw",
        "colab": {
          "base_uri": "https://localhost:8080/"
        },
        "outputId": "bac854c4-b9c4-46bd-b48f-b8974fd6ebef"
      },
      "source": [
        "sentence3 = sentence1.replace('text', 'string')\n",
        "print(sentence3)"
      ],
      "execution_count": null,
      "outputs": [
        {
          "output_type": "stream",
          "name": "stdout",
          "text": [
            "This is a string\n"
          ]
        }
      ]
    },
    {
      "cell_type": "markdown",
      "metadata": {
        "id": "oowb0Y-6gODA"
      },
      "source": [
        "s.split('delim') -- returns a list of substrings separated by the given delimiter."
      ]
    },
    {
      "cell_type": "code",
      "metadata": {
        "id": "RHQiEK4mgNL1",
        "colab": {
          "base_uri": "https://localhost:8080/"
        },
        "outputId": "15d6c717-dafa-463d-a772-b64e63eb9021"
      },
      "source": [
        "separated = 'aaa,bbb,ccc'.split(',')\n",
        "print(separated)"
      ],
      "execution_count": null,
      "outputs": [
        {
          "output_type": "stream",
          "name": "stdout",
          "text": [
            "['aaa', 'bbb', 'ccc']\n"
          ]
        }
      ]
    },
    {
      "cell_type": "markdown",
      "metadata": {
        "id": "A2rO2BmKgaaW"
      },
      "source": [
        "s.join(list) -- opposite of split(), joins the elements in the given list together using the string as the delimiter."
      ]
    },
    {
      "cell_type": "code",
      "metadata": {
        "id": "D2gLwRx3gbbb",
        "colab": {
          "base_uri": "https://localhost:8080/",
          "height": 35
        },
        "outputId": "b7c80ffa-5f87-4cf2-dcb3-389e93c9aff6"
      },
      "source": [
        "','.join(separated)"
      ],
      "execution_count": null,
      "outputs": [
        {
          "output_type": "execute_result",
          "data": {
            "application/vnd.google.colaboratory.intrinsic+json": {
              "type": "string"
            },
            "text/plain": [
              "'aaa,bbb,ccc'"
            ]
          },
          "metadata": {},
          "execution_count": 30
        }
      ]
    },
    {
      "cell_type": "markdown",
      "metadata": {
        "id": "zFAfSse7H9jy"
      },
      "source": [
        "## The str(), int(), and float() Functions\n",
        "\n",
        "You can use these three functions to convert strings, integers, and floating point values to each other."
      ]
    },
    {
      "cell_type": "code",
      "source": [
        "x = str(3.2)\n",
        "print(x)\n",
        "print(type(x))"
      ],
      "metadata": {
        "colab": {
          "base_uri": "https://localhost:8080/"
        },
        "id": "CAs12MCErbCq",
        "outputId": "75d4e242-d842-447b-d50a-41c13b7e7051"
      },
      "execution_count": null,
      "outputs": [
        {
          "output_type": "stream",
          "name": "stdout",
          "text": [
            "3.2\n",
            "<class 'str'>\n"
          ]
        }
      ]
    },
    {
      "cell_type": "code",
      "source": [
        "x = int(3.2)\n",
        "print(x)\n",
        "print(type(x))"
      ],
      "metadata": {
        "colab": {
          "base_uri": "https://localhost:8080/"
        },
        "id": "TSjoMjzzra16",
        "outputId": "c5c9f4b9-45ba-47d3-d64c-3e334d9ae006"
      },
      "execution_count": null,
      "outputs": [
        {
          "output_type": "stream",
          "name": "stdout",
          "text": [
            "3\n",
            "<class 'int'>\n"
          ]
        }
      ]
    },
    {
      "cell_type": "code",
      "metadata": {
        "id": "7uToUO4aJUbP",
        "colab": {
          "base_uri": "https://localhost:8080/"
        },
        "outputId": "40a59d62-bf0c-48ce-911f-1df83c611c40"
      },
      "source": [
        "x = float(\"3.2\")\n",
        "print(x)\n",
        "print(type(x))"
      ],
      "execution_count": null,
      "outputs": [
        {
          "output_type": "stream",
          "name": "stdout",
          "text": [
            "3.2\n",
            "<class 'float'>\n"
          ]
        }
      ]
    },
    {
      "cell_type": "markdown",
      "metadata": {
        "id": "PGs5TtuBO0Rt"
      },
      "source": [
        "---\n",
        "# Containers\n",
        "Python includes several built-in container types: lists, dictionaries, sets, and tuples."
      ]
    },
    {
      "cell_type": "markdown",
      "metadata": {
        "id": "ZKvKH9yOO5gh"
      },
      "source": [
        "## List\n",
        "A list is the Python equivalent of an array, but is resizeable and can contain elements of different types:"
      ]
    },
    {
      "cell_type": "code",
      "metadata": {
        "id": "bktBzANmO3nJ",
        "colab": {
          "base_uri": "https://localhost:8080/"
        },
        "outputId": "85f98073-4215-48cc-a816-8270ab73432a"
      },
      "source": [
        "colors = ['red', 'blue', 'green']\n",
        "print(len(colors))  ## 3"
      ],
      "execution_count": null,
      "outputs": [
        {
          "output_type": "stream",
          "name": "stdout",
          "text": [
            "3\n"
          ]
        }
      ]
    },
    {
      "cell_type": "markdown",
      "metadata": {
        "id": "v3iW8luiO0O-"
      },
      "source": [
        "<img src=\"https://developers.google.com/edu/python/images/list1.png\" \n",
        "width=\"500\" alt=\"list of strings 'red' 'blue 'green'\">"
      ]
    },
    {
      "cell_type": "markdown",
      "metadata": {
        "id": "E0j4p7F-3K__"
      },
      "source": [
        "### List Slices"
      ]
    },
    {
      "cell_type": "code",
      "metadata": {
        "id": "R9Xx5aTB4xHg",
        "colab": {
          "base_uri": "https://localhost:8080/"
        },
        "outputId": "2342126f-aef4-4d96-c204-360595290d0f"
      },
      "source": [
        "print(colors[0])    ## red\n",
        "print(colors[2])    ## green"
      ],
      "execution_count": null,
      "outputs": [
        {
          "output_type": "stream",
          "name": "stdout",
          "text": [
            "red\n",
            "green\n"
          ]
        }
      ]
    },
    {
      "cell_type": "code",
      "metadata": {
        "id": "Qpz1sk9I5BEW",
        "colab": {
          "base_uri": "https://localhost:8080/"
        },
        "outputId": "3f51a36f-c246-4915-ef8e-38e120b8dc22"
      },
      "source": [
        "print(colors)\n",
        "colors[0] = \"purple\"\n",
        "print(colors)"
      ],
      "execution_count": null,
      "outputs": [
        {
          "output_type": "stream",
          "name": "stdout",
          "text": [
            "['red', 'blue', 'green']\n",
            "['purple', 'blue', 'green']\n"
          ]
        }
      ]
    },
    {
      "cell_type": "code",
      "metadata": {
        "id": "KHKN53ek0W_n",
        "colab": {
          "base_uri": "https://localhost:8080/"
        },
        "outputId": "9fd11291-ea0a-42b9-b5fd-018c7bc56f67"
      },
      "source": [
        "print(colors[:-1])"
      ],
      "execution_count": null,
      "outputs": [
        {
          "output_type": "stream",
          "name": "stdout",
          "text": [
            "['purple', 'blue']\n"
          ]
        }
      ]
    },
    {
      "cell_type": "code",
      "metadata": {
        "id": "ySA5L8X30oZV",
        "colab": {
          "base_uri": "https://localhost:8080/"
        },
        "outputId": "87863f18-6291-43ea-fc8f-3ca0947fc209"
      },
      "source": [
        "sliced_list = colors[1:-1]\n",
        "print(sliced_list)"
      ],
      "execution_count": null,
      "outputs": [
        {
          "output_type": "stream",
          "name": "stdout",
          "text": [
            "['blue']\n"
          ]
        }
      ]
    },
    {
      "cell_type": "markdown",
      "metadata": {
        "id": "f5ktzqCe17ux"
      },
      "source": [
        "### List Methods"
      ]
    },
    {
      "cell_type": "code",
      "metadata": {
        "id": "SPzOVkFt41gG",
        "colab": {
          "base_uri": "https://localhost:8080/"
        },
        "outputId": "88ace720-7a27-4b16-c84a-854b3ac70c7f"
      },
      "source": [
        "L1 = ['larry', 'curly', 'moe']\n",
        "print(L1)"
      ],
      "execution_count": null,
      "outputs": [
        {
          "output_type": "stream",
          "name": "stdout",
          "text": [
            "['larry', 'curly', 'moe']\n"
          ]
        }
      ]
    },
    {
      "cell_type": "markdown",
      "metadata": {
        "id": "W6ep6NaJ02gp"
      },
      "source": [
        "list.append(elem) -- adds a single element to the end of the list. Common error: does not return the new list, just modifies the original."
      ]
    },
    {
      "cell_type": "code",
      "metadata": {
        "id": "3SZy2h17z5H3",
        "colab": {
          "base_uri": "https://localhost:8080/"
        },
        "outputId": "864cf2a4-be9f-4371-c04f-3bb954fba6fe"
      },
      "source": [
        "L1.append('shemp')         ## append elem at end\n",
        "print(L1)"
      ],
      "execution_count": null,
      "outputs": [
        {
          "output_type": "stream",
          "name": "stdout",
          "text": [
            "['larry', 'curly', 'moe', 'shemp']\n"
          ]
        }
      ]
    },
    {
      "cell_type": "markdown",
      "metadata": {
        "id": "BcWvL9VF045w"
      },
      "source": [
        "list.insert(index, elem) -- inserts the element at the given index, shifting elements to the right."
      ]
    },
    {
      "cell_type": "code",
      "metadata": {
        "id": "34WFX4Duz_bw",
        "colab": {
          "base_uri": "https://localhost:8080/"
        },
        "outputId": "c205bb5f-e206-4a66-e79c-10c1905a0f82"
      },
      "source": [
        "L1.insert(0, 'xxx')\n",
        "print(L1)"
      ],
      "execution_count": null,
      "outputs": [
        {
          "output_type": "stream",
          "name": "stdout",
          "text": [
            "['xxx', 'larry', 'curly', 'moe', 'shemp']\n"
          ]
        }
      ]
    },
    {
      "cell_type": "markdown",
      "metadata": {
        "id": "r6BwQUF908Mu"
      },
      "source": [
        "list.extend(list2) adds the elements in list2 to the end of the list. Using + a list is similar to using extend()."
      ]
    },
    {
      "cell_type": "code",
      "metadata": {
        "id": "Kbo0pP5o0F_o",
        "colab": {
          "base_uri": "https://localhost:8080/"
        },
        "outputId": "6eea56a7-50b1-421f-a862-230daf4d97d3"
      },
      "source": [
        "L1.extend(['yyy', 'zzz'])\n",
        "print(L1)"
      ],
      "execution_count": null,
      "outputs": [
        {
          "output_type": "stream",
          "name": "stdout",
          "text": [
            "['xxx', 'larry', 'curly', 'moe', 'shemp', 'yyy', 'zzz']\n"
          ]
        }
      ]
    },
    {
      "cell_type": "markdown",
      "metadata": {
        "id": "0Aqb2fZw1J59"
      },
      "source": [
        "list.remove(elem) -- searches for the first instance of the given element and removes it"
      ]
    },
    {
      "cell_type": "code",
      "metadata": {
        "id": "Z8fm4rW30MX0",
        "colab": {
          "base_uri": "https://localhost:8080/"
        },
        "outputId": "d113dcf9-1726-4ba8-ddb9-c8b2333a9c2d"
      },
      "source": [
        "L1.remove('curly')\n",
        "print(L1)"
      ],
      "execution_count": null,
      "outputs": [
        {
          "output_type": "stream",
          "name": "stdout",
          "text": [
            "['xxx', 'larry', 'moe', 'shemp', 'yyy', 'zzz']\n"
          ]
        }
      ]
    },
    {
      "cell_type": "markdown",
      "metadata": {
        "id": "GiZ99kAj1RFf"
      },
      "source": [
        "list.sort() -- sorts the list in place (does not return it). (The sorted() function is preferred.)"
      ]
    },
    {
      "cell_type": "code",
      "metadata": {
        "id": "r2ylO7W61QlM",
        "colab": {
          "base_uri": "https://localhost:8080/"
        },
        "outputId": "919ff5db-40d2-4ce6-9c51-81ffc82da8ea"
      },
      "source": [
        "L1.sort()\n",
        "print(L1)"
      ],
      "execution_count": null,
      "outputs": [
        {
          "output_type": "stream",
          "name": "stdout",
          "text": [
            "['larry', 'moe', 'shemp', 'xxx', 'yyy', 'zzz']\n"
          ]
        }
      ]
    },
    {
      "cell_type": "markdown",
      "metadata": {
        "id": "bhCwDefq1kjv"
      },
      "source": [
        "list.reverse() -- reverses the list in place (does not return it)"
      ]
    },
    {
      "cell_type": "code",
      "metadata": {
        "id": "6yESQqyv1ks2",
        "colab": {
          "base_uri": "https://localhost:8080/"
        },
        "outputId": "fa4911b3-c09b-4885-c659-25f0114f7d15"
      },
      "source": [
        "L1.reverse()\n",
        "print(L1)"
      ],
      "execution_count": null,
      "outputs": [
        {
          "output_type": "stream",
          "name": "stdout",
          "text": [
            "['zzz', 'yyy', 'xxx', 'shemp', 'moe', 'larry']\n"
          ]
        }
      ]
    },
    {
      "cell_type": "markdown",
      "metadata": {
        "id": "tYaSpBDr2il3"
      },
      "source": [
        "list.pop(index) -- removes and returns the element at the given index. Returns the rightmost element if index is omitted (roughly the opposite of append())."
      ]
    },
    {
      "cell_type": "code",
      "metadata": {
        "id": "G9r420WQ2jGP",
        "colab": {
          "base_uri": "https://localhost:8080/"
        },
        "outputId": "e2fc565c-48ae-4ba0-ebdc-6cdb358bac39"
      },
      "source": [
        "popped_item = L1.pop(1)\n",
        "print(popped_item)\n",
        "print(L1)"
      ],
      "execution_count": null,
      "outputs": [
        {
          "output_type": "stream",
          "name": "stdout",
          "text": [
            "yyy\n",
            "['zzz', 'xxx', 'shemp', 'moe', 'larry']\n"
          ]
        }
      ]
    },
    {
      "cell_type": "markdown",
      "metadata": {
        "id": "mbo_7NUOBEVd"
      },
      "source": [
        "## Dictionary"
      ]
    },
    {
      "cell_type": "markdown",
      "metadata": {
        "id": "KPLnPurpC94K"
      },
      "source": [
        "Python's efficient key/value hash table structure is called a \"dict\". The contents of a dict can be written as a series of key:value pairs within braces { }"
      ]
    },
    {
      "cell_type": "code",
      "metadata": {
        "id": "cxRwaLsN4mS5"
      },
      "source": [
        "## Can build up a dict by starting with the the empty dict {}\n",
        "## and storing key/value pairs into the dict like this:\n",
        "## dict[key] = value-for-that-key\n",
        "dict = {}\n",
        "dict['a'] = 'alpha'\n",
        "dict['g'] = 'gamma'\n",
        "dict['o'] = 'omega'"
      ],
      "execution_count": null,
      "outputs": []
    },
    {
      "cell_type": "markdown",
      "metadata": {
        "id": "GfHZlrBSCyrP"
      },
      "source": [
        "<img src=\"https://developers.google.com/edu/python/images/dict.png\" alt=\"dict with keys 'a' 'o' 'g'\">"
      ]
    },
    {
      "cell_type": "code",
      "metadata": {
        "id": "jxx_UWFhCbIl",
        "colab": {
          "base_uri": "https://localhost:8080/"
        },
        "outputId": "c9675e18-286f-49b9-8136-355f108569f8"
      },
      "source": [
        "print(dict)"
      ],
      "execution_count": null,
      "outputs": [
        {
          "output_type": "stream",
          "name": "stdout",
          "text": [
            "{'a': 'alpha', 'g': 'gamma', 'o': 'omega'}\n"
          ]
        }
      ]
    },
    {
      "cell_type": "code",
      "metadata": {
        "id": "WgEH1q46CfD_",
        "colab": {
          "base_uri": "https://localhost:8080/"
        },
        "outputId": "b2ae84a9-2cc8-4430-e472-235df4447209"
      },
      "source": [
        "print(dict['a'])"
      ],
      "execution_count": null,
      "outputs": [
        {
          "output_type": "stream",
          "name": "stdout",
          "text": [
            "alpha\n"
          ]
        }
      ]
    },
    {
      "cell_type": "code",
      "metadata": {
        "id": "MLp9hnH7Cj2u",
        "colab": {
          "base_uri": "https://localhost:8080/"
        },
        "outputId": "7ed2953c-d0b9-414d-d526-0ab52fca64b0"
      },
      "source": [
        "dict['a'] = 6\n",
        "print(dict)"
      ],
      "execution_count": null,
      "outputs": [
        {
          "output_type": "stream",
          "name": "stdout",
          "text": [
            "{'a': 6, 'g': 'gamma', 'o': 'omega'}\n"
          ]
        }
      ]
    },
    {
      "cell_type": "code",
      "metadata": {
        "id": "sf62WJkDCsI2",
        "colab": {
          "base_uri": "https://localhost:8080/"
        },
        "outputId": "8206eb77-bbf6-4863-8cf9-34abc4c0f5d9"
      },
      "source": [
        "print(dict.keys())"
      ],
      "execution_count": null,
      "outputs": [
        {
          "output_type": "stream",
          "name": "stdout",
          "text": [
            "dict_keys(['a', 'g', 'o'])\n"
          ]
        }
      ]
    },
    {
      "cell_type": "code",
      "metadata": {
        "id": "ruD2JbSpDF0e",
        "colab": {
          "base_uri": "https://localhost:8080/"
        },
        "outputId": "b8d2ede7-8efb-4a40-cf51-5655624fcfb4"
      },
      "source": [
        "print(dict.values())"
      ],
      "execution_count": null,
      "outputs": [
        {
          "output_type": "stream",
          "name": "stdout",
          "text": [
            "dict_values([6, 'gamma', 'omega'])\n"
          ]
        }
      ]
    },
    {
      "cell_type": "code",
      "metadata": {
        "id": "xWLae6WoDHhe",
        "colab": {
          "base_uri": "https://localhost:8080/"
        },
        "outputId": "284ebd37-394a-4246-9f5e-a67515309650"
      },
      "source": [
        "print(dict.items())"
      ],
      "execution_count": null,
      "outputs": [
        {
          "output_type": "stream",
          "name": "stdout",
          "text": [
            "dict_items([('a', 6), ('g', 'gamma'), ('o', 'omega')])\n"
          ]
        }
      ]
    }
  ]
}
