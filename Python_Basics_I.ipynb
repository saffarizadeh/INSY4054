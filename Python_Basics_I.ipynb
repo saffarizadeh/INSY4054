{
  "nbformat": 4,
  "nbformat_minor": 0,
  "metadata": {
    "colab": {
      "name": "Python Basics I",
      "provenance": [],
      "collapsed_sections": [],
      "toc_visible": true,
      "authorship_tag": "ABX9TyPPXfLXtODR4OBMQFniXCli",
      "include_colab_link": true
    },
    "kernelspec": {
      "name": "python3",
      "display_name": "Python 3"
    }
  },
  "cells": [
    {
      "cell_type": "markdown",
      "metadata": {
        "id": "view-in-github",
        "colab_type": "text"
      },
      "source": [
        "<a href=\"https://colab.research.google.com/github/saffarizadeh/INSY4054/blob/main/Python_Basics_I.ipynb\" target=\"_parent\"><img src=\"https://colab.research.google.com/assets/colab-badge.svg\" alt=\"Open In Colab\"/></a>"
      ]
    },
    {
      "cell_type": "markdown",
      "metadata": {
        "id": "CHN7fbx7_wiC"
      },
      "source": [
        "<img src=\"http://saffarizadeh.com/Logo.png\" width=\"300px\"/>\n",
        "\n",
        "# *INSY 4054: Emerging Technologies*\n",
        "\n",
        "# **Python Basics I**\n",
        "\n",
        "Instructor: Dr. Kambiz Saffarizadeh\n",
        "\n",
        "---"
      ]
    },
    {
      "cell_type": "markdown",
      "metadata": {
        "id": "G4eMm0pzHVH0"
      },
      "source": [
        "References:\n",
        "* Google Python Class\n",
        "* Automate the Boring Stuff with Python, 2nd Edition: Practical Programming for Total Beginners"
      ]
    },
    {
      "cell_type": "markdown",
      "metadata": {
        "id": "OtgQwXXpLB5A"
      },
      "source": [
        "# Colab / JupyterLab"
      ]
    },
    {
      "cell_type": "markdown",
      "metadata": {
        "id": "01Ey1wu2K5KH"
      },
      "source": [
        "In this session we learn how to use the Colab and write Python code.\n",
        "\n",
        "You can change the project name by clicking on the title on top of this page.\n"
      ]
    },
    {
      "cell_type": "markdown",
      "metadata": {
        "id": "rQhWPxiZLUPw"
      },
      "source": [
        "## Hello World!"
      ]
    },
    {
      "cell_type": "code",
      "metadata": {
        "id": "ABfEFXewLS9f",
        "colab": {
          "base_uri": "https://localhost:8080/"
        },
        "outputId": "b5668180-bc72-4b80-d2fb-bc29018f16e0"
      },
      "source": [
        "print(\"Hello World!\")"
      ],
      "execution_count": null,
      "outputs": [
        {
          "output_type": "stream",
          "text": [
            "Hello World!\n"
          ],
          "name": "stdout"
        }
      ]
    },
    {
      "cell_type": "code",
      "metadata": {
        "id": "baglWc2cJF0z"
      },
      "source": [
        ""
      ],
      "execution_count": null,
      "outputs": []
    },
    {
      "cell_type": "markdown",
      "metadata": {
        "id": "ShvN8R_wLuTz"
      },
      "source": [
        "You can export your notebook by going to File > Download .ipynb\n",
        "\n",
        "<b>For this course you MUST submit the ipynb file.</b>"
      ]
    },
    {
      "cell_type": "markdown",
      "metadata": {
        "id": "7J0d23wi_w_s"
      },
      "source": [
        "---\n",
        "# Python Language Basics\n",
        "\n",
        "<table>\n",
        "<tr>\n",
        "<td><b>Operator</b></td>\n",
        "<td><b>Operation</b></td>\n",
        "<td><b>Example</b></td>\n",
        "<td><b>Evaluates to ...</b></td>\n",
        "</tr>\n",
        "<tr>\n",
        "<td>+</td>\n",
        "<td>Addition</td>\n",
        "<td>2 + 2</td>\n",
        "<td>4</td>\n",
        "</tr>\n",
        "<tr>\n",
        "<td>-</td>\n",
        "<td>Subtraction</td>\n",
        "<td>5 - 2</td>\n",
        "<td>3</td>\n",
        "</tr>\n",
        "<tr>\n",
        "<td>*</td>\n",
        "<td>Multiplication</td>\n",
        "<td>3 + 5</td>\n",
        "<td>15</td>\n",
        "</tr>\n",
        "<tr>\n",
        "<td>/</td>\n",
        "<td>Division</td>\n",
        "<td>22 / 8</td>\n",
        "<td>2.75</td>\n",
        "</tr>\n",
        "<tr>\n",
        "<td>//</td>\n",
        "<td>Integer Division</td>\n",
        "<td>22 // 8</td>\n",
        "<td>2</td>\n",
        "</tr>\n",
        "<tr>\n",
        "<td>%</td>\n",
        "<td>Modulus/Remainder</td>\n",
        "<td>22 % 8</td>\n",
        "<td>6</td>\n",
        "</tr>\n",
        "<tr>\n",
        "<td>**</td>\n",
        "<td>Exponent</td>\n",
        "<td>2 ** 3</td>\n",
        "<td>8</td>\n",
        "</tr>\n",
        "</table>"
      ]
    },
    {
      "cell_type": "code",
      "metadata": {
        "id": "DcWoEBDb_sGY",
        "colab": {
          "base_uri": "https://localhost:8080/"
        },
        "outputId": "5a98e647-f01b-4893-cc42-8f0a775631d6"
      },
      "source": [
        "7 + 5"
      ],
      "execution_count": null,
      "outputs": [
        {
          "output_type": "execute_result",
          "data": {
            "text/plain": [
              "12"
            ]
          },
          "metadata": {
            "tags": []
          },
          "execution_count": 2
        }
      ]
    },
    {
      "cell_type": "code",
      "metadata": {
        "id": "Wca6Hjh7MC98",
        "colab": {
          "base_uri": "https://localhost:8080/"
        },
        "outputId": "a63f2c48-571b-4db5-b8b0-f28d86f3a096"
      },
      "source": [
        "7 - 5"
      ],
      "execution_count": null,
      "outputs": [
        {
          "output_type": "execute_result",
          "data": {
            "text/plain": [
              "2"
            ]
          },
          "metadata": {
            "tags": []
          },
          "execution_count": 3
        }
      ]
    },
    {
      "cell_type": "code",
      "metadata": {
        "id": "xrnWoo_HMD_1",
        "colab": {
          "base_uri": "https://localhost:8080/"
        },
        "outputId": "afd98f0b-3868-4b55-b7a3-dc5370453599"
      },
      "source": [
        "7 * 5"
      ],
      "execution_count": null,
      "outputs": [
        {
          "output_type": "execute_result",
          "data": {
            "text/plain": [
              "35"
            ]
          },
          "metadata": {
            "tags": []
          },
          "execution_count": 4
        }
      ]
    },
    {
      "cell_type": "code",
      "metadata": {
        "id": "TzH8zdH3MF11",
        "colab": {
          "base_uri": "https://localhost:8080/"
        },
        "outputId": "6ac530bf-3b00-4668-c289-19835ebb8b88"
      },
      "source": [
        "7 / 5"
      ],
      "execution_count": null,
      "outputs": [
        {
          "output_type": "execute_result",
          "data": {
            "text/plain": [
              "1.4"
            ]
          },
          "metadata": {
            "tags": []
          },
          "execution_count": 5
        }
      ]
    },
    {
      "cell_type": "code",
      "metadata": {
        "id": "Kh1YTIEvJG1I"
      },
      "source": [
        ""
      ],
      "execution_count": null,
      "outputs": []
    },
    {
      "cell_type": "code",
      "metadata": {
        "id": "DlOT5GB6JGxu"
      },
      "source": [
        ""
      ],
      "execution_count": null,
      "outputs": []
    },
    {
      "cell_type": "code",
      "metadata": {
        "id": "mDU7e8iNJGu-"
      },
      "source": [
        ""
      ],
      "execution_count": null,
      "outputs": []
    },
    {
      "cell_type": "code",
      "metadata": {
        "id": "_VGOZzaiJIOb"
      },
      "source": [
        ""
      ],
      "execution_count": null,
      "outputs": []
    },
    {
      "cell_type": "markdown",
      "metadata": {
        "id": "gsOmS_XsMME0"
      },
      "source": [
        "---\n",
        "Use # (number sign) to comment your codes\n",
        "\n",
        "Python will ignore anything in a line that follows #\n",
        "\n",
        "It is a good idea to comment your codes so that others can understand what you are trying to do."
      ]
    },
    {
      "cell_type": "code",
      "metadata": {
        "id": "1ZtIvh3fMHWl",
        "colab": {
          "base_uri": "https://localhost:8080/"
        },
        "outputId": "6b323050-4832-4e36-fb7b-b0db6bc91e43"
      },
      "source": [
        "9**0.5  # square root"
      ],
      "execution_count": null,
      "outputs": [
        {
          "output_type": "execute_result",
          "data": {
            "text/plain": [
              "3.0"
            ]
          },
          "metadata": {
            "tags": []
          },
          "execution_count": 6
        }
      ]
    },
    {
      "cell_type": "code",
      "metadata": {
        "id": "mU-HhFThMOjt",
        "colab": {
          "base_uri": "https://localhost:8080/"
        },
        "outputId": "83528276-7091-4744-a488-54ae20471a72"
      },
      "source": [
        "round(2.05) # rounding numbers"
      ],
      "execution_count": null,
      "outputs": [
        {
          "output_type": "execute_result",
          "data": {
            "text/plain": [
              "2"
            ]
          },
          "metadata": {
            "tags": []
          },
          "execution_count": 7
        }
      ]
    },
    {
      "cell_type": "code",
      "metadata": {
        "id": "qPwA1P7tMQQL",
        "colab": {
          "base_uri": "https://localhost:8080/"
        },
        "outputId": "719129a7-eb9c-4d0f-bac4-9de269643812"
      },
      "source": [
        "x = \"This is an intro to Python for INSY4054\"\n",
        "print(x) # printing x on the screen"
      ],
      "execution_count": null,
      "outputs": [
        {
          "output_type": "stream",
          "text": [
            "This is an intro to Python for INSY4054\n"
          ],
          "name": "stdout"
        }
      ]
    },
    {
      "cell_type": "code",
      "metadata": {
        "id": "nQvyUNCzJI8O"
      },
      "source": [
        ""
      ],
      "execution_count": null,
      "outputs": []
    },
    {
      "cell_type": "code",
      "metadata": {
        "id": "6kU-oklRJI4n"
      },
      "source": [
        ""
      ],
      "execution_count": null,
      "outputs": []
    },
    {
      "cell_type": "code",
      "metadata": {
        "id": "w0oolY8SJI1p"
      },
      "source": [
        ""
      ],
      "execution_count": null,
      "outputs": []
    },
    {
      "cell_type": "markdown",
      "metadata": {
        "id": "2yJ1Ydz6GjTU"
      },
      "source": [
        "---\n",
        "#Storing Values in Variables\n",
        "\n",
        "A variable is like a box in the computer’s memory where you can store a single value.\n",
        "<img src=\"https://saffarizadeh.com/D2L/Colab/1/Variable.png\" width=500px; />"
      ]
    },
    {
      "cell_type": "markdown",
      "metadata": {
        "id": "hZJqBQO1MlcY"
      },
      "source": [
        "---\n",
        "# Basic Data Types\n",
        "Numbers: Integers and floats work as you would expect from other languages.\n",
        "\n",
        "<table>\n",
        "<tr>\n",
        "<td><b>Data type</b></td>\n",
        "<td><b>Examples</b></td>\n",
        "</tr>\n",
        "<tr>\n",
        "<td>Integers</td>\n",
        "<td>-2, -1, 0, 1, 2, 3, 4, 5</td>\n",
        "</tr>\n",
        "<tr>\n",
        "<td>Floating-point numbers</td>\n",
        "<td>-1.25, -1.0, -0.5, 0.0, 0.5, 1.0, 1.25</td>\n",
        "</tr>\n",
        "<tr>\n",
        "<td>Strings</td>\n",
        "<td>'a', 'aa', 'aaa', 'Hello!', '11 cats'</td>\n",
        "</tr>\n",
        "</table>"
      ]
    },
    {
      "cell_type": "markdown",
      "metadata": {
        "id": "7wHgJ9cn5xJ8"
      },
      "source": [
        "## int"
      ]
    },
    {
      "cell_type": "code",
      "metadata": {
        "id": "Y05VTmESMWA8",
        "colab": {
          "base_uri": "https://localhost:8080/"
        },
        "outputId": "673025bd-d5f8-4485-e71c-ed20622c73ad"
      },
      "source": [
        "x = 2\n",
        "print(x)"
      ],
      "execution_count": null,
      "outputs": [
        {
          "output_type": "stream",
          "text": [
            "2\n"
          ],
          "name": "stdout"
        }
      ]
    },
    {
      "cell_type": "code",
      "metadata": {
        "id": "Ci4lm6CNMy8x",
        "colab": {
          "base_uri": "https://localhost:8080/"
        },
        "outputId": "6f16c535-17b8-4bcd-ca24-0a55f23470b7"
      },
      "source": [
        "type(x)"
      ],
      "execution_count": null,
      "outputs": [
        {
          "output_type": "execute_result",
          "data": {
            "text/plain": [
              "int"
            ]
          },
          "metadata": {
            "tags": []
          },
          "execution_count": 10
        }
      ]
    },
    {
      "cell_type": "code",
      "metadata": {
        "id": "sr24gyVnJKdr"
      },
      "source": [
        ""
      ],
      "execution_count": null,
      "outputs": []
    },
    {
      "cell_type": "code",
      "metadata": {
        "id": "BWI2ZWebJKat"
      },
      "source": [
        ""
      ],
      "execution_count": null,
      "outputs": []
    },
    {
      "cell_type": "markdown",
      "metadata": {
        "id": "2qz4BQb4M2Yq"
      },
      "source": [
        "## float"
      ]
    },
    {
      "cell_type": "code",
      "metadata": {
        "id": "Fakewe9dM0Kq",
        "colab": {
          "base_uri": "https://localhost:8080/"
        },
        "outputId": "50a24105-2af8-4543-8c2c-562cb72a5dc4"
      },
      "source": [
        "y = 2.5\n",
        "print(y)"
      ],
      "execution_count": null,
      "outputs": [
        {
          "output_type": "stream",
          "text": [
            "2.5\n"
          ],
          "name": "stdout"
        }
      ]
    },
    {
      "cell_type": "code",
      "metadata": {
        "id": "30VaUYxoM4KT",
        "colab": {
          "base_uri": "https://localhost:8080/"
        },
        "outputId": "b8fb5baf-be0a-42e1-8536-b6e5a978d04b"
      },
      "source": [
        "type(y)"
      ],
      "execution_count": null,
      "outputs": [
        {
          "output_type": "execute_result",
          "data": {
            "text/plain": [
              "float"
            ]
          },
          "metadata": {
            "tags": []
          },
          "execution_count": 12
        }
      ]
    },
    {
      "cell_type": "code",
      "metadata": {
        "id": "TyWmqxnQJLCa"
      },
      "source": [
        ""
      ],
      "execution_count": null,
      "outputs": []
    },
    {
      "cell_type": "code",
      "metadata": {
        "id": "n7uZ3Y6oJK_p"
      },
      "source": [
        ""
      ],
      "execution_count": null,
      "outputs": []
    },
    {
      "cell_type": "markdown",
      "metadata": {
        "id": "qDwZxGnINXbl"
      },
      "source": [
        "---\n",
        "## String\n",
        "Python has great support for strings:"
      ]
    },
    {
      "cell_type": "code",
      "metadata": {
        "id": "M0-AFZpCNRNa",
        "colab": {
          "base_uri": "https://localhost:8080/"
        },
        "outputId": "e7d08990-2281-4c9b-c30b-c9a313483db3"
      },
      "source": [
        "sentence1 = \"This is a text\"\n",
        "print(sentence1)"
      ],
      "execution_count": null,
      "outputs": [
        {
          "output_type": "stream",
          "text": [
            "This is a text\n"
          ],
          "name": "stdout"
        }
      ]
    },
    {
      "cell_type": "code",
      "metadata": {
        "id": "LL5MWUavNdLI",
        "colab": {
          "base_uri": "https://localhost:8080/"
        },
        "outputId": "48f06b95-bf31-43b2-8ca7-20f02c643a78"
      },
      "source": [
        "sentence2 = 'This is another one!'\n",
        "print(sentence2)"
      ],
      "execution_count": null,
      "outputs": [
        {
          "output_type": "stream",
          "text": [
            "This is another one!\n"
          ],
          "name": "stdout"
        }
      ]
    },
    {
      "cell_type": "code",
      "metadata": {
        "id": "wWel_c3LNfHA",
        "colab": {
          "base_uri": "https://localhost:8080/"
        },
        "outputId": "0562d9a4-44da-47c2-ec5b-df576be2427f"
      },
      "source": [
        "new_sentence = sentence1 + '. ' + sentence2\n",
        "print(new_sentence)"
      ],
      "execution_count": null,
      "outputs": [
        {
          "output_type": "stream",
          "text": [
            "This is a text. This is another one!\n"
          ],
          "name": "stdout"
        }
      ]
    },
    {
      "cell_type": "code",
      "metadata": {
        "id": "yjZYN-D6Q3oz",
        "colab": {
          "base_uri": "https://localhost:8080/"
        },
        "outputId": "b3c7a1a1-85d3-48d2-ae73-5329e0829c2b"
      },
      "source": [
        "pi = 3.14\n",
        "##text = 'The value of pi is ' + pi      ## NO, does not work\n",
        "text = 'The value of pi is '  + str(pi)  ## yes\n",
        "print(text)"
      ],
      "execution_count": null,
      "outputs": [
        {
          "output_type": "stream",
          "text": [
            "The value of pi is 3.14\n"
          ],
          "name": "stdout"
        }
      ]
    },
    {
      "cell_type": "code",
      "metadata": {
        "id": "EYThgxbmfKoR",
        "colab": {
          "base_uri": "https://localhost:8080/"
        },
        "outputId": "b4712b62-476c-489b-ecec-6ee27d1314b7"
      },
      "source": [
        "len(sentence1)"
      ],
      "execution_count": null,
      "outputs": [
        {
          "output_type": "execute_result",
          "data": {
            "text/plain": [
              "14"
            ]
          },
          "metadata": {
            "tags": []
          },
          "execution_count": 19
        }
      ]
    },
    {
      "cell_type": "code",
      "metadata": {
        "id": "4PybceXrJMdH"
      },
      "source": [
        ""
      ],
      "execution_count": null,
      "outputs": []
    },
    {
      "cell_type": "code",
      "metadata": {
        "id": "KsjcFh2OJMZS"
      },
      "source": [
        ""
      ],
      "execution_count": null,
      "outputs": []
    },
    {
      "cell_type": "code",
      "metadata": {
        "id": "FMbjGQrGJMWx"
      },
      "source": [
        ""
      ],
      "execution_count": null,
      "outputs": []
    },
    {
      "cell_type": "code",
      "metadata": {
        "id": "uUxTBkWqJMT3"
      },
      "source": [
        ""
      ],
      "execution_count": null,
      "outputs": []
    },
    {
      "cell_type": "markdown",
      "metadata": {
        "id": "5rmtRAKIRbHl"
      },
      "source": [
        "### String Slices\n",
        "The \"slice\" syntax is a handy way to refer to sub-parts of sequences -- typically strings and lists. The slice s[start:end] is the elements beginning at start and extending up to but not including end. Suppose we have s = \"Hello\"\n",
        "\n",
        "<img src=\"https://developers.google.com//edu/python/images/hello.png\" style=\"display:block; margin:0 auto\" alt=\"the string 'hello' with letter indexes 0 1 2 3 4\">"
      ]
    },
    {
      "cell_type": "code",
      "metadata": {
        "id": "RmenNwuDSBE8"
      },
      "source": [
        "s = \"Hello\""
      ],
      "execution_count": null,
      "outputs": []
    },
    {
      "cell_type": "markdown",
      "metadata": {
        "id": "Qx1zKl9YSQ-I"
      },
      "source": [
        "second char"
      ]
    },
    {
      "cell_type": "code",
      "metadata": {
        "id": "PfyVaC4USQDo",
        "colab": {
          "base_uri": "https://localhost:8080/",
          "height": 35
        },
        "outputId": "240cddae-1afb-468f-b58c-f443b7aab530"
      },
      "source": [
        "s[1]"
      ],
      "execution_count": null,
      "outputs": [
        {
          "output_type": "execute_result",
          "data": {
            "application/vnd.google.colaboratory.intrinsic+json": {
              "type": "string"
            },
            "text/plain": [
              "'e'"
            ]
          },
          "metadata": {
            "tags": []
          },
          "execution_count": 21
        }
      ]
    },
    {
      "cell_type": "markdown",
      "metadata": {
        "id": "fZN84qN9R97A"
      },
      "source": [
        "chars starting at index 1 and extending up to but not including index 4"
      ]
    },
    {
      "cell_type": "code",
      "metadata": {
        "id": "Iau8QW4ROSc3",
        "colab": {
          "base_uri": "https://localhost:8080/",
          "height": 35
        },
        "outputId": "9d1bd4d5-986b-461d-9174-94d69f9dd4ac"
      },
      "source": [
        "s[1:4]"
      ],
      "execution_count": null,
      "outputs": [
        {
          "output_type": "execute_result",
          "data": {
            "application/vnd.google.colaboratory.intrinsic+json": {
              "type": "string"
            },
            "text/plain": [
              "'ell'"
            ]
          },
          "metadata": {
            "tags": []
          },
          "execution_count": 22
        }
      ]
    },
    {
      "cell_type": "markdown",
      "metadata": {
        "id": "LgkubACKSgBW"
      },
      "source": [
        "omitting either index defaults to the start or end of the string"
      ]
    },
    {
      "cell_type": "code",
      "metadata": {
        "id": "HaOmkmZYSgqS",
        "colab": {
          "base_uri": "https://localhost:8080/",
          "height": 35
        },
        "outputId": "4f3ae998-36a4-48e5-9dc0-bea5437cbca7"
      },
      "source": [
        "s[1:]"
      ],
      "execution_count": null,
      "outputs": [
        {
          "output_type": "execute_result",
          "data": {
            "application/vnd.google.colaboratory.intrinsic+json": {
              "type": "string"
            },
            "text/plain": [
              "'ello'"
            ]
          },
          "metadata": {
            "tags": []
          },
          "execution_count": 23
        }
      ]
    },
    {
      "cell_type": "markdown",
      "metadata": {
        "id": "muxW2nUcSoju"
      },
      "source": [
        "omitting both always gives us a copy of the whole thing (this is the pythonic way to copy a sequence like a string or list)"
      ]
    },
    {
      "cell_type": "code",
      "metadata": {
        "id": "oBdNMeitSpcs",
        "colab": {
          "base_uri": "https://localhost:8080/",
          "height": 35
        },
        "outputId": "bc00873d-0615-4637-a5e4-1562d957b290"
      },
      "source": [
        "s[:]"
      ],
      "execution_count": null,
      "outputs": [
        {
          "output_type": "execute_result",
          "data": {
            "application/vnd.google.colaboratory.intrinsic+json": {
              "type": "string"
            },
            "text/plain": [
              "'Hello'"
            ]
          },
          "metadata": {
            "tags": []
          },
          "execution_count": 24
        }
      ]
    },
    {
      "cell_type": "markdown",
      "metadata": {
        "id": "9jN7-xsvSwn9"
      },
      "source": [
        "an index that is too big is truncated down to the string length"
      ]
    },
    {
      "cell_type": "code",
      "metadata": {
        "id": "gmz-qlf3SxZs",
        "colab": {
          "base_uri": "https://localhost:8080/",
          "height": 35
        },
        "outputId": "34218683-43cc-4696-924e-2bcaa5d0d21e"
      },
      "source": [
        "s[1:100]"
      ],
      "execution_count": null,
      "outputs": [
        {
          "output_type": "execute_result",
          "data": {
            "application/vnd.google.colaboratory.intrinsic+json": {
              "type": "string"
            },
            "text/plain": [
              "'ello'"
            ]
          },
          "metadata": {
            "tags": []
          },
          "execution_count": 25
        }
      ]
    },
    {
      "cell_type": "code",
      "metadata": {
        "id": "da_u2a4_JRCX"
      },
      "source": [
        ""
      ],
      "execution_count": null,
      "outputs": []
    },
    {
      "cell_type": "code",
      "metadata": {
        "id": "syQ-9l61JQzT"
      },
      "source": [
        ""
      ],
      "execution_count": null,
      "outputs": []
    },
    {
      "cell_type": "code",
      "metadata": {
        "id": "Bsag3J1LJQwg"
      },
      "source": [
        ""
      ],
      "execution_count": null,
      "outputs": []
    },
    {
      "cell_type": "code",
      "metadata": {
        "id": "gJP0PQw8JQt7"
      },
      "source": [
        ""
      ],
      "execution_count": null,
      "outputs": []
    },
    {
      "cell_type": "code",
      "metadata": {
        "id": "40rDzH3KJQrO"
      },
      "source": [
        ""
      ],
      "execution_count": null,
      "outputs": []
    },
    {
      "cell_type": "code",
      "metadata": {
        "id": "cZUt4sj1JQoS"
      },
      "source": [
        ""
      ],
      "execution_count": null,
      "outputs": []
    },
    {
      "cell_type": "markdown",
      "metadata": {
        "id": "MLcI5jwqUQxt"
      },
      "source": [
        "### String Methods"
      ]
    },
    {
      "cell_type": "markdown",
      "metadata": {
        "id": "kUcCGrtGNimf"
      },
      "source": [
        "Here are some of the most common string methods.\n",
        "\n",
        "s.lower(), s.upper() -- returns the lowercase or uppercase version of the string"
      ]
    },
    {
      "cell_type": "code",
      "metadata": {
        "id": "b-nYBV3PNo2H",
        "colab": {
          "base_uri": "https://localhost:8080/",
          "height": 35
        },
        "outputId": "8f2c27f8-2b46-4a13-b2fc-06176d61f438"
      },
      "source": [
        "sentence1.lower()"
      ],
      "execution_count": null,
      "outputs": [
        {
          "output_type": "execute_result",
          "data": {
            "application/vnd.google.colaboratory.intrinsic+json": {
              "type": "string"
            },
            "text/plain": [
              "'this is a text'"
            ]
          },
          "metadata": {
            "tags": []
          },
          "execution_count": 26
        }
      ]
    },
    {
      "cell_type": "code",
      "metadata": {
        "id": "QkGc54kuNqJZ",
        "colab": {
          "base_uri": "https://localhost:8080/",
          "height": 35
        },
        "outputId": "dbed25b0-ded7-4954-8e1f-c8bd4906a249"
      },
      "source": [
        "sentence1.upper()"
      ],
      "execution_count": null,
      "outputs": [
        {
          "output_type": "execute_result",
          "data": {
            "application/vnd.google.colaboratory.intrinsic+json": {
              "type": "string"
            },
            "text/plain": [
              "'THIS IS A TEXT'"
            ]
          },
          "metadata": {
            "tags": []
          },
          "execution_count": 27
        }
      ]
    },
    {
      "cell_type": "markdown",
      "metadata": {
        "id": "riCpM0qnfcGw"
      },
      "source": [
        "s.strip() -- returns a string with whitespace removed from the start and end"
      ]
    },
    {
      "cell_type": "code",
      "metadata": {
        "id": "zSHsYyOCfaw-",
        "colab": {
          "base_uri": "https://localhost:8080/"
        },
        "outputId": "2e1e5cb1-8652-4942-f186-e3983d11b733"
      },
      "source": [
        "sentence4 = '  world '.strip()\n",
        "print(sentence4)"
      ],
      "execution_count": null,
      "outputs": [
        {
          "output_type": "stream",
          "text": [
            "world\n"
          ],
          "name": "stdout"
        }
      ]
    },
    {
      "cell_type": "markdown",
      "metadata": {
        "id": "4TlYsLrnfzy_"
      },
      "source": [
        "s.find('other') -- searches for the given other string (not a regular expression) within s, and returns the first index where it begins or -1 if not found"
      ]
    },
    {
      "cell_type": "code",
      "metadata": {
        "id": "E8YQPmD9NrU4",
        "colab": {
          "base_uri": "https://localhost:8080/"
        },
        "outputId": "93dce585-10fc-4ace-b3ef-d0e566cb4d41"
      },
      "source": [
        "sentence1.find('s')"
      ],
      "execution_count": null,
      "outputs": [
        {
          "output_type": "execute_result",
          "data": {
            "text/plain": [
              "3"
            ]
          },
          "metadata": {
            "tags": []
          },
          "execution_count": 29
        }
      ]
    },
    {
      "cell_type": "markdown",
      "metadata": {
        "id": "3AH8bp1zN5Lj"
      },
      "source": [
        "s.replace('old', 'new') -- returns a string where all occurrences of 'old' have been replaced by 'new'\n",
        "\n"
      ]
    },
    {
      "cell_type": "code",
      "metadata": {
        "id": "Maho3Pg1N1yw",
        "colab": {
          "base_uri": "https://localhost:8080/"
        },
        "outputId": "b99cad28-fbf2-4385-ba10-fbeb8d9bf2e3"
      },
      "source": [
        "sentence3 = sentence1.replace('text', 'string')\n",
        "print(sentence3)"
      ],
      "execution_count": null,
      "outputs": [
        {
          "output_type": "stream",
          "text": [
            "This is a string\n"
          ],
          "name": "stdout"
        }
      ]
    },
    {
      "cell_type": "markdown",
      "metadata": {
        "id": "oowb0Y-6gODA"
      },
      "source": [
        "s.split('delim') -- returns a list of substrings separated by the given delimiter."
      ]
    },
    {
      "cell_type": "code",
      "metadata": {
        "id": "RHQiEK4mgNL1",
        "colab": {
          "base_uri": "https://localhost:8080/"
        },
        "outputId": "a3738c88-bc0d-4b4e-de5b-515100906c38"
      },
      "source": [
        "separated = 'aaa,bbb,ccc'.split(',')\n",
        "print(separated)"
      ],
      "execution_count": null,
      "outputs": [
        {
          "output_type": "stream",
          "text": [
            "['aaa', 'bbb', 'ccc']\n"
          ],
          "name": "stdout"
        }
      ]
    },
    {
      "cell_type": "markdown",
      "metadata": {
        "id": "A2rO2BmKgaaW"
      },
      "source": [
        "s.join(list) -- opposite of split(), joins the elements in the given list together using the string as the delimiter."
      ]
    },
    {
      "cell_type": "code",
      "metadata": {
        "id": "D2gLwRx3gbbb",
        "colab": {
          "base_uri": "https://localhost:8080/",
          "height": 35
        },
        "outputId": "ab50c4eb-380d-4134-bcf7-9fec07176301"
      },
      "source": [
        "','.join(separated)"
      ],
      "execution_count": null,
      "outputs": [
        {
          "output_type": "execute_result",
          "data": {
            "application/vnd.google.colaboratory.intrinsic+json": {
              "type": "string"
            },
            "text/plain": [
              "'aaa,bbb,ccc'"
            ]
          },
          "metadata": {
            "tags": []
          },
          "execution_count": 32
        }
      ]
    },
    {
      "cell_type": "markdown",
      "metadata": {
        "id": "zFAfSse7H9jy"
      },
      "source": [
        "## The str(), int(), and float() Functions\n",
        "\n",
        "You can use these three functions to convert strings, integers, and floating point values to each other."
      ]
    },
    {
      "cell_type": "code",
      "metadata": {
        "id": "7uToUO4aJUbP"
      },
      "source": [
        ""
      ],
      "execution_count": null,
      "outputs": []
    },
    {
      "cell_type": "code",
      "metadata": {
        "id": "xOpT-06rJUWu"
      },
      "source": [
        ""
      ],
      "execution_count": null,
      "outputs": []
    },
    {
      "cell_type": "code",
      "metadata": {
        "id": "RHh3Xc9dJURC"
      },
      "source": [
        ""
      ],
      "execution_count": null,
      "outputs": []
    },
    {
      "cell_type": "code",
      "metadata": {
        "id": "pUCm3gKvJUCp"
      },
      "source": [
        ""
      ],
      "execution_count": null,
      "outputs": []
    },
    {
      "cell_type": "code",
      "metadata": {
        "id": "4W5zub7PJT9J"
      },
      "source": [
        ""
      ],
      "execution_count": null,
      "outputs": []
    },
    {
      "cell_type": "code",
      "metadata": {
        "id": "sdgdX9zmJTyA"
      },
      "source": [
        ""
      ],
      "execution_count": null,
      "outputs": []
    },
    {
      "cell_type": "code",
      "metadata": {
        "id": "gXITEIxKJTvL"
      },
      "source": [
        ""
      ],
      "execution_count": null,
      "outputs": []
    },
    {
      "cell_type": "markdown",
      "metadata": {
        "id": "PGs5TtuBO0Rt"
      },
      "source": [
        "---\n",
        "# Containers\n",
        "Python includes several built-in container types: lists, dictionaries, sets, and tuples."
      ]
    },
    {
      "cell_type": "markdown",
      "metadata": {
        "id": "ZKvKH9yOO5gh"
      },
      "source": [
        "## List\n",
        "A list is the Python equivalent of an array, but is resizeable and can contain elements of different types:"
      ]
    },
    {
      "cell_type": "code",
      "metadata": {
        "id": "bktBzANmO3nJ",
        "colab": {
          "base_uri": "https://localhost:8080/"
        },
        "outputId": "8adc8244-aa93-45ae-ea71-3d185c31a37a"
      },
      "source": [
        "colors = ['red', 'blue', 'green']\n",
        "print(len(colors))  ## 3"
      ],
      "execution_count": null,
      "outputs": [
        {
          "output_type": "stream",
          "text": [
            "3\n"
          ],
          "name": "stdout"
        }
      ]
    },
    {
      "cell_type": "markdown",
      "metadata": {
        "id": "v3iW8luiO0O-"
      },
      "source": [
        "<img src=\"https://developers.google.com/edu/python/images/list1.png\" \n",
        "width=\"500\" alt=\"list of strings 'red' 'blue 'green'\">"
      ]
    },
    {
      "cell_type": "markdown",
      "metadata": {
        "id": "E0j4p7F-3K__"
      },
      "source": [
        "### List Slices"
      ]
    },
    {
      "cell_type": "code",
      "metadata": {
        "id": "R9Xx5aTB4xHg",
        "colab": {
          "base_uri": "https://localhost:8080/"
        },
        "outputId": "198295b0-da48-409a-fce5-d212ce088981"
      },
      "source": [
        "print(colors[0])    ## red\n",
        "print(colors[2])    ## green"
      ],
      "execution_count": null,
      "outputs": [
        {
          "output_type": "stream",
          "text": [
            "red\n",
            "green\n"
          ],
          "name": "stdout"
        }
      ]
    },
    {
      "cell_type": "code",
      "metadata": {
        "id": "Qpz1sk9I5BEW",
        "colab": {
          "base_uri": "https://localhost:8080/"
        },
        "outputId": "86161b85-f7b7-4457-f1cf-74ed4d069bc6"
      },
      "source": [
        "print(colors)\n",
        "colors[0] = \"purple\"\n",
        "print(colors)"
      ],
      "execution_count": null,
      "outputs": [
        {
          "output_type": "stream",
          "text": [
            "['red', 'blue', 'green']\n",
            "['purple', 'blue', 'green']\n"
          ],
          "name": "stdout"
        }
      ]
    },
    {
      "cell_type": "code",
      "metadata": {
        "id": "KHKN53ek0W_n",
        "colab": {
          "base_uri": "https://localhost:8080/"
        },
        "outputId": "d503b8c5-e6cd-4d32-da45-e3524ecc62d9"
      },
      "source": [
        "print(colors[:-1])"
      ],
      "execution_count": null,
      "outputs": [
        {
          "output_type": "stream",
          "text": [
            "['purple', 'blue']\n"
          ],
          "name": "stdout"
        }
      ]
    },
    {
      "cell_type": "code",
      "metadata": {
        "id": "ySA5L8X30oZV",
        "colab": {
          "base_uri": "https://localhost:8080/"
        },
        "outputId": "1c50cb06-c606-44e4-86f4-592d949a2089"
      },
      "source": [
        "sliced_list = colors[1:-1]\n",
        "print(sliced_list)"
      ],
      "execution_count": null,
      "outputs": [
        {
          "output_type": "stream",
          "text": [
            "['blue']\n"
          ],
          "name": "stdout"
        }
      ]
    },
    {
      "cell_type": "code",
      "metadata": {
        "id": "3DdPV-zTJXN2"
      },
      "source": [
        ""
      ],
      "execution_count": null,
      "outputs": []
    },
    {
      "cell_type": "code",
      "metadata": {
        "id": "gFQw_14xJXIx"
      },
      "source": [
        ""
      ],
      "execution_count": null,
      "outputs": []
    },
    {
      "cell_type": "code",
      "metadata": {
        "id": "oD8Ym4OQJXDY"
      },
      "source": [
        ""
      ],
      "execution_count": null,
      "outputs": []
    },
    {
      "cell_type": "code",
      "metadata": {
        "id": "086B0yenJW9i"
      },
      "source": [
        ""
      ],
      "execution_count": null,
      "outputs": []
    },
    {
      "cell_type": "code",
      "metadata": {
        "id": "FZi01NJuJW49"
      },
      "source": [
        ""
      ],
      "execution_count": null,
      "outputs": []
    },
    {
      "cell_type": "markdown",
      "metadata": {
        "id": "f5ktzqCe17ux"
      },
      "source": [
        "### List Methods"
      ]
    },
    {
      "cell_type": "code",
      "metadata": {
        "id": "SPzOVkFt41gG",
        "colab": {
          "base_uri": "https://localhost:8080/"
        },
        "outputId": "15d1c767-6883-41a2-cb82-e4c7327f06ce"
      },
      "source": [
        "L1 = ['larry', 'curly', 'moe']\n",
        "print(L1)"
      ],
      "execution_count": null,
      "outputs": [
        {
          "output_type": "stream",
          "text": [
            "['larry', 'curly', 'moe']\n"
          ],
          "name": "stdout"
        }
      ]
    },
    {
      "cell_type": "markdown",
      "metadata": {
        "id": "W6ep6NaJ02gp"
      },
      "source": [
        "list.append(elem) -- adds a single element to the end of the list. Common error: does not return the new list, just modifies the original."
      ]
    },
    {
      "cell_type": "code",
      "metadata": {
        "id": "3SZy2h17z5H3",
        "colab": {
          "base_uri": "https://localhost:8080/"
        },
        "outputId": "c27b9d1b-e187-48ac-d719-ae41ddf230fd"
      },
      "source": [
        "L1.append('shemp')         ## append elem at end\n",
        "print(L1)"
      ],
      "execution_count": null,
      "outputs": [
        {
          "output_type": "stream",
          "text": [
            "['larry', 'curly', 'moe', 'shemp']\n"
          ],
          "name": "stdout"
        }
      ]
    },
    {
      "cell_type": "markdown",
      "metadata": {
        "id": "BcWvL9VF045w"
      },
      "source": [
        "list.insert(index, elem) -- inserts the element at the given index, shifting elements to the right."
      ]
    },
    {
      "cell_type": "code",
      "metadata": {
        "id": "34WFX4Duz_bw",
        "colab": {
          "base_uri": "https://localhost:8080/"
        },
        "outputId": "bbbb1f8d-859b-4510-f8ca-b63ae854f949"
      },
      "source": [
        "L1.insert(0, 'xxx')\n",
        "print(L1)"
      ],
      "execution_count": null,
      "outputs": [
        {
          "output_type": "stream",
          "text": [
            "['xxx', 'larry', 'curly', 'moe', 'shemp']\n"
          ],
          "name": "stdout"
        }
      ]
    },
    {
      "cell_type": "markdown",
      "metadata": {
        "id": "r6BwQUF908Mu"
      },
      "source": [
        "list.extend(list2) adds the elements in list2 to the end of the list. Using + a list is similar to using extend()."
      ]
    },
    {
      "cell_type": "code",
      "metadata": {
        "id": "Kbo0pP5o0F_o",
        "colab": {
          "base_uri": "https://localhost:8080/"
        },
        "outputId": "1d45fb2c-a629-4288-938a-97df6f6b65fb"
      },
      "source": [
        "L1.extend(['yyy', 'zzz'])\n",
        "print(L1)"
      ],
      "execution_count": null,
      "outputs": [
        {
          "output_type": "stream",
          "text": [
            "['xxx', 'larry', 'curly', 'moe', 'shemp', 'yyy', 'zzz']\n"
          ],
          "name": "stdout"
        }
      ]
    },
    {
      "cell_type": "markdown",
      "metadata": {
        "id": "0Aqb2fZw1J59"
      },
      "source": [
        "list.remove(elem) -- searches for the first instance of the given element and removes it"
      ]
    },
    {
      "cell_type": "code",
      "metadata": {
        "id": "Z8fm4rW30MX0",
        "colab": {
          "base_uri": "https://localhost:8080/"
        },
        "outputId": "afc85cd3-d9f5-439a-da78-c35886368165"
      },
      "source": [
        "L1.remove('curly')\n",
        "print(L1)"
      ],
      "execution_count": null,
      "outputs": [
        {
          "output_type": "stream",
          "text": [
            "['xxx', 'larry', 'moe', 'shemp', 'yyy', 'zzz']\n"
          ],
          "name": "stdout"
        }
      ]
    },
    {
      "cell_type": "markdown",
      "metadata": {
        "id": "GiZ99kAj1RFf"
      },
      "source": [
        "list.sort() -- sorts the list in place (does not return it). (The sorted() function is preferred.)"
      ]
    },
    {
      "cell_type": "code",
      "metadata": {
        "id": "r2ylO7W61QlM",
        "colab": {
          "base_uri": "https://localhost:8080/"
        },
        "outputId": "ca3b6a5e-6505-46b8-d6bd-056b2225de31"
      },
      "source": [
        "L1.sort()\n",
        "print(L1)"
      ],
      "execution_count": null,
      "outputs": [
        {
          "output_type": "stream",
          "text": [
            "['larry', 'moe', 'shemp', 'xxx', 'yyy', 'zzz']\n"
          ],
          "name": "stdout"
        }
      ]
    },
    {
      "cell_type": "markdown",
      "metadata": {
        "id": "bhCwDefq1kjv"
      },
      "source": [
        "list.reverse() -- reverses the list in place (does not return it)"
      ]
    },
    {
      "cell_type": "code",
      "metadata": {
        "id": "6yESQqyv1ks2",
        "colab": {
          "base_uri": "https://localhost:8080/"
        },
        "outputId": "ce64fcdf-46d6-41be-c392-57e5e89a82b9"
      },
      "source": [
        "L1.reverse()\n",
        "print(L1)"
      ],
      "execution_count": null,
      "outputs": [
        {
          "output_type": "stream",
          "text": [
            "['zzz', 'yyy', 'xxx', 'shemp', 'moe', 'larry']\n"
          ],
          "name": "stdout"
        }
      ]
    },
    {
      "cell_type": "markdown",
      "metadata": {
        "id": "tYaSpBDr2il3"
      },
      "source": [
        "list.pop(index) -- removes and returns the element at the given index. Returns the rightmost element if index is omitted (roughly the opposite of append())."
      ]
    },
    {
      "cell_type": "code",
      "metadata": {
        "id": "G9r420WQ2jGP",
        "colab": {
          "base_uri": "https://localhost:8080/"
        },
        "outputId": "be4529a6-47c8-4eb5-fc25-46f47c3c42e1"
      },
      "source": [
        "popped_item = L1.pop(1)\n",
        "print(popped_item)\n",
        "print(L1)"
      ],
      "execution_count": null,
      "outputs": [
        {
          "output_type": "stream",
          "text": [
            "yyy\n",
            "['zzz', 'xxx', 'shemp', 'moe', 'larry']\n"
          ],
          "name": "stdout"
        }
      ]
    },
    {
      "cell_type": "code",
      "metadata": {
        "id": "rqo-J2KIJabY"
      },
      "source": [
        ""
      ],
      "execution_count": null,
      "outputs": []
    },
    {
      "cell_type": "code",
      "metadata": {
        "id": "KDO9xhB7JaV0"
      },
      "source": [
        ""
      ],
      "execution_count": null,
      "outputs": []
    },
    {
      "cell_type": "code",
      "metadata": {
        "id": "-Sqm0jmSJaQV"
      },
      "source": [
        ""
      ],
      "execution_count": null,
      "outputs": []
    },
    {
      "cell_type": "code",
      "metadata": {
        "id": "lv3qQRdNJaKy"
      },
      "source": [
        ""
      ],
      "execution_count": null,
      "outputs": []
    },
    {
      "cell_type": "code",
      "metadata": {
        "id": "SY3YnddlJaDk"
      },
      "source": [
        ""
      ],
      "execution_count": null,
      "outputs": []
    },
    {
      "cell_type": "code",
      "metadata": {
        "id": "N-bnrqp0JZ98"
      },
      "source": [
        ""
      ],
      "execution_count": null,
      "outputs": []
    },
    {
      "cell_type": "code",
      "metadata": {
        "id": "RRWbfdPOJZ22"
      },
      "source": [
        ""
      ],
      "execution_count": null,
      "outputs": []
    },
    {
      "cell_type": "code",
      "metadata": {
        "id": "Oh6gJb8JJZy_"
      },
      "source": [
        ""
      ],
      "execution_count": null,
      "outputs": []
    },
    {
      "cell_type": "markdown",
      "metadata": {
        "id": "mbo_7NUOBEVd"
      },
      "source": [
        "## Dictionary"
      ]
    },
    {
      "cell_type": "markdown",
      "metadata": {
        "id": "KPLnPurpC94K"
      },
      "source": [
        "Python's efficient key/value hash table structure is called a \"dict\". The contents of a dict can be written as a series of key:value pairs within braces { }"
      ]
    },
    {
      "cell_type": "code",
      "metadata": {
        "id": "cxRwaLsN4mS5"
      },
      "source": [
        "## Can build up a dict by starting with the the empty dict {}\n",
        "## and storing key/value pairs into the dict like this:\n",
        "## dict[key] = value-for-that-key\n",
        "dict = {}\n",
        "dict['a'] = 'alpha'\n",
        "dict['g'] = 'gamma'\n",
        "dict['o'] = 'omega'"
      ],
      "execution_count": null,
      "outputs": []
    },
    {
      "cell_type": "markdown",
      "metadata": {
        "id": "GfHZlrBSCyrP"
      },
      "source": [
        "<img src=\"https://developers.google.com/edu/python/images/dict.png\" alt=\"dict with keys 'a' 'o' 'g'\">"
      ]
    },
    {
      "cell_type": "code",
      "metadata": {
        "id": "jxx_UWFhCbIl",
        "colab": {
          "base_uri": "https://localhost:8080/"
        },
        "outputId": "452748e4-5811-43c7-df2b-853eec587748"
      },
      "source": [
        "print(dict)"
      ],
      "execution_count": null,
      "outputs": [
        {
          "output_type": "stream",
          "text": [
            "{'a': 'alpha', 'g': 'gamma', 'o': 'omega'}\n"
          ],
          "name": "stdout"
        }
      ]
    },
    {
      "cell_type": "code",
      "metadata": {
        "id": "WgEH1q46CfD_",
        "colab": {
          "base_uri": "https://localhost:8080/"
        },
        "outputId": "f261bcaf-9b84-4ba6-9600-7eda8a5f519e"
      },
      "source": [
        "print(dict['a'])"
      ],
      "execution_count": null,
      "outputs": [
        {
          "output_type": "stream",
          "text": [
            "alpha\n"
          ],
          "name": "stdout"
        }
      ]
    },
    {
      "cell_type": "code",
      "metadata": {
        "id": "MLp9hnH7Cj2u",
        "colab": {
          "base_uri": "https://localhost:8080/"
        },
        "outputId": "9a5ad7e2-686c-4baa-ab51-43eaef409f38"
      },
      "source": [
        "dict['a'] = 6\n",
        "print(dict)"
      ],
      "execution_count": null,
      "outputs": [
        {
          "output_type": "stream",
          "text": [
            "{'a': 6, 'g': 'gamma', 'o': 'omega'}\n"
          ],
          "name": "stdout"
        }
      ]
    },
    {
      "cell_type": "code",
      "metadata": {
        "id": "sf62WJkDCsI2",
        "colab": {
          "base_uri": "https://localhost:8080/"
        },
        "outputId": "e81df3a2-9dcd-4d1b-d20a-88eb1d3d5415"
      },
      "source": [
        "print(dict.keys())"
      ],
      "execution_count": null,
      "outputs": [
        {
          "output_type": "stream",
          "text": [
            "dict_keys(['a', 'g', 'o'])\n"
          ],
          "name": "stdout"
        }
      ]
    },
    {
      "cell_type": "code",
      "metadata": {
        "id": "ruD2JbSpDF0e",
        "colab": {
          "base_uri": "https://localhost:8080/"
        },
        "outputId": "f8d0196a-a47d-4a35-f989-a83552c2f951"
      },
      "source": [
        "print(dict.values())"
      ],
      "execution_count": null,
      "outputs": [
        {
          "output_type": "stream",
          "text": [
            "dict_values([6, 'gamma', 'omega'])\n"
          ],
          "name": "stdout"
        }
      ]
    },
    {
      "cell_type": "code",
      "metadata": {
        "id": "xWLae6WoDHhe",
        "colab": {
          "base_uri": "https://localhost:8080/"
        },
        "outputId": "8f51112c-b55c-439e-f0b6-c0b9c75672d9"
      },
      "source": [
        "print(dict.items())"
      ],
      "execution_count": null,
      "outputs": [
        {
          "output_type": "stream",
          "text": [
            "dict_items([('a', 6), ('g', 'gamma'), ('o', 'omega')])\n"
          ],
          "name": "stdout"
        }
      ]
    },
    {
      "cell_type": "code",
      "metadata": {
        "id": "B0dsNDkUJdDI"
      },
      "source": [
        ""
      ],
      "execution_count": null,
      "outputs": []
    },
    {
      "cell_type": "code",
      "metadata": {
        "id": "SXtjxMlXJc9A"
      },
      "source": [
        ""
      ],
      "execution_count": null,
      "outputs": []
    },
    {
      "cell_type": "code",
      "metadata": {
        "id": "P975FCnjJc3d"
      },
      "source": [
        ""
      ],
      "execution_count": null,
      "outputs": []
    },
    {
      "cell_type": "code",
      "metadata": {
        "id": "oNWnM6vdJcx2"
      },
      "source": [
        ""
      ],
      "execution_count": null,
      "outputs": []
    },
    {
      "cell_type": "code",
      "metadata": {
        "id": "LKxr6RyOJcs3"
      },
      "source": [
        ""
      ],
      "execution_count": null,
      "outputs": []
    },
    {
      "cell_type": "code",
      "metadata": {
        "id": "14Oe-DlJJcnO"
      },
      "source": [
        ""
      ],
      "execution_count": null,
      "outputs": []
    },
    {
      "cell_type": "code",
      "metadata": {
        "id": "LjV09D3TJcho"
      },
      "source": [
        ""
      ],
      "execution_count": null,
      "outputs": []
    }
  ]
}