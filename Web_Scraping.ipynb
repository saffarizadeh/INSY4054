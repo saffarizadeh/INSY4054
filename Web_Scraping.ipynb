{
  "nbformat": 4,
  "nbformat_minor": 0,
  "metadata": {
    "colab": {
      "name": "Web Scraping.ipynb",
      "provenance": [],
      "collapsed_sections": [],
      "authorship_tag": "ABX9TyPSbmyl6BgSVTZztd2LDGcp",
      "include_colab_link": true
    },
    "kernelspec": {
      "name": "python3",
      "display_name": "Python 3"
    },
    "accelerator": "GPU"
  },
  "cells": [
    {
      "cell_type": "markdown",
      "metadata": {
        "id": "view-in-github",
        "colab_type": "text"
      },
      "source": [
        "<a href=\"https://colab.research.google.com/github/saffarizadeh/INSY4054/blob/main/Web_Scraping.ipynb\" target=\"_parent\"><img src=\"https://colab.research.google.com/assets/colab-badge.svg\" alt=\"Open In Colab\"/></a>"
      ]
    },
    {
      "cell_type": "markdown",
      "metadata": {
        "id": "UmAPSvRc8huq"
      },
      "source": [
        "<img src=\"http://saffarizadeh.com/Logo.png\" width=\"300px\"/>\n",
        "\n",
        "# *INSY 4054: Emerging Technologies*\n",
        "\n",
        "# **Web Scraping**\n",
        "\n",
        "Instructor: Dr. Kambiz Saffarizadeh\n",
        "\n",
        "---"
      ]
    },
    {
      "cell_type": "markdown",
      "metadata": {
        "id": "AU4ls_xhj7xV"
      },
      "source": [
        "# Accessing Page Elements\n",
        "\n",
        "We typically want to extract some specific information from a page after dowloading it. We have many different ways to approach this problem. The common ways are XPath, BeautifulSoup, and Regular Expressions. Here we have two simple examples of using XPath and BeautifulSoup."
      ]
    },
    {
      "cell_type": "markdown",
      "metadata": {
        "id": "Y-edqyiIOcxN"
      },
      "source": [
        "## Using BeautifulSoup\n",
        " \n",
        "Learn more about BeautifulSoup: https://www.crummy.com/software/BeautifulSoup/bs4/doc/\n",
        "\n",
        "BeautifulSoup is typically considered to be much simpler that XPath. While with XPath you can achieve a lot by just writing a short line of code, writing that line of code is often very challenging if you don't understand XPath rules well. But with BeautifulSoup your code is typically longer but much more Pytonic (therefore, much easier to understand and modify)."
      ]
    },
    {
      "cell_type": "code",
      "metadata": {
        "id": "Re6KwDmHOmZt"
      },
      "source": [
        "import requests\n",
        "from bs4 import BeautifulSoup"
      ],
      "execution_count": null,
      "outputs": []
    },
    {
      "cell_type": "code",
      "metadata": {
        "id": "uGyeiwHyMtFz"
      },
      "source": [
        "url = 'https://www.marquette.edu/'\n",
        "response = requests.get(url)"
      ],
      "execution_count": null,
      "outputs": []
    },
    {
      "cell_type": "code",
      "metadata": {
        "id": "ayTJg4odOmWw"
      },
      "source": [
        "soup = BeautifulSoup(response.content, 'lxml')"
      ],
      "execution_count": null,
      "outputs": []
    },
    {
      "cell_type": "code",
      "metadata": {
        "id": "oWn1uzp9OmUG"
      },
      "source": [
        "all_links = soup.find_all('a')\n",
        "all_links"
      ],
      "execution_count": null,
      "outputs": []
    },
    {
      "cell_type": "markdown",
      "metadata": {
        "id": "aGgL6RySVLG8"
      },
      "source": [
        "Get the text inside an element"
      ]
    },
    {
      "cell_type": "code",
      "metadata": {
        "id": "9bYj_nUFPNH3"
      },
      "source": [
        "link_labels = []\n",
        "for link in all_links:\n",
        "  link_labels.append(link.text)"
      ],
      "execution_count": null,
      "outputs": []
    },
    {
      "cell_type": "code",
      "metadata": {
        "id": "tFpiOptYPk32"
      },
      "source": [
        "link_labels"
      ],
      "execution_count": null,
      "outputs": []
    },
    {
      "cell_type": "markdown",
      "metadata": {
        "id": "0T6muFNEVOJe"
      },
      "source": [
        "Get an attribute inside an element"
      ]
    },
    {
      "cell_type": "code",
      "metadata": {
        "id": "Cp_beKfJPpRb"
      },
      "source": [
        "link_urls = []\n",
        "for link in all_links:\n",
        "  link_urls.append(link.get('href'))"
      ],
      "execution_count": null,
      "outputs": []
    },
    {
      "cell_type": "code",
      "metadata": {
        "id": "nIzLHdgePpON"
      },
      "source": [
        "link_urls"
      ],
      "execution_count": null,
      "outputs": []
    },
    {
      "cell_type": "markdown",
      "metadata": {
        "id": "uWAAlzf0P4Xk"
      },
      "source": [
        "Combine links and labels using zip (for more information see: https://docs.python.org/3/library/functions.html#zip)"
      ]
    },
    {
      "cell_type": "code",
      "metadata": {
        "id": "26vvs2qCkOb2"
      },
      "source": [
        "label_url_pairs = list(zip(link_labels, link_urls))"
      ],
      "execution_count": null,
      "outputs": []
    },
    {
      "cell_type": "code",
      "metadata": {
        "id": "NWeAEpPakfeD"
      },
      "source": [
        "label_url_pairs"
      ],
      "execution_count": null,
      "outputs": []
    },
    {
      "cell_type": "code",
      "metadata": {
        "id": "dImaJmmykgO9"
      },
      "source": [
        "# Cleaning based on whether the url starts with 'http'\n",
        "cleaned_label_url_pairs = []\n",
        "\n",
        "for label, url in label_url_pairs:\n",
        "    if url[:4] == \"http\":\n",
        "        cleaned_label_url_pairs.append((label, url))"
      ],
      "execution_count": null,
      "outputs": []
    },
    {
      "cell_type": "code",
      "metadata": {
        "id": "IKNNtKdIk0Kp"
      },
      "source": [
        "cleaned_label_url_pairs"
      ],
      "execution_count": null,
      "outputs": []
    },
    {
      "cell_type": "code",
      "metadata": {
        "id": "4vpE7gj4bR7w"
      },
      "source": [
        "# Cleaning based on adding the proper https:// to the URLs without http\n",
        "\n",
        "BASE_URL = \"https://www.marquette.edu\"\n",
        "\n",
        "cleaned_label_url_pairs2 = [requests.compat.urljoin(BASE_URL, url) for url in link_urls]"
      ],
      "execution_count": null,
      "outputs": []
    },
    {
      "cell_type": "code",
      "metadata": {
        "id": "rsctiINSbjne"
      },
      "source": [
        "cleaned_label_url_pairs2"
      ],
      "execution_count": null,
      "outputs": []
    },
    {
      "cell_type": "markdown",
      "metadata": {
        "id": "IYn7sz0TnsAM"
      },
      "source": [
        "## Download all images"
      ]
    },
    {
      "cell_type": "code",
      "metadata": {
        "id": "yMBSiCiRQF2_"
      },
      "source": [
        "# With BeautifulSoup\n",
        "image_urls = [image.get('src') for image in soup.find_all('img')]\n",
        "image_urls"
      ],
      "execution_count": null,
      "outputs": []
    },
    {
      "cell_type": "markdown",
      "metadata": {
        "id": "lrHcrBDWnzLn"
      },
      "source": [
        "Some images have a full URL but many don't. Even worse, some of the ones that don't have a full URL start with a `/` and some don't.\n",
        "\n",
        "Fortunately, we can fix this problem with little effort using the `urljoin` method from `requests.compat`."
      ]
    },
    {
      "cell_type": "code",
      "metadata": {
        "id": "HnlrkVt5nyYa"
      },
      "source": [
        "BASE_URL = \"https://www.marquette.edu\"\n",
        "\n",
        "fixed_image_urls = [requests.compat.urljoin(BASE_URL, image_url) for image_url in image_urls]"
      ],
      "execution_count": null,
      "outputs": []
    },
    {
      "cell_type": "code",
      "metadata": {
        "id": "aJdeshe7ovVI"
      },
      "source": [
        "fixed_image_urls"
      ],
      "execution_count": null,
      "outputs": []
    },
    {
      "cell_type": "markdown",
      "metadata": {
        "id": "DD9d0lvIsa_Q"
      },
      "source": [
        "## How can we leverage alt text of the images as possible labels for supervised machine learning "
      ]
    },
    {
      "cell_type": "code",
      "metadata": {
        "id": "aYtL3x3ElfnS"
      },
      "source": [
        "# With BeautifulSoup\n",
        "image_alts = [img.get('alt') for img in soup.find_all('img')]\n",
        "image_alts"
      ],
      "execution_count": null,
      "outputs": []
    },
    {
      "cell_type": "code",
      "metadata": {
        "id": "4-4e8d5_s7n6"
      },
      "source": [
        "image_alt_pairs = list(zip(fixed_image_urls, image_alts))"
      ],
      "execution_count": null,
      "outputs": []
    },
    {
      "cell_type": "code",
      "metadata": {
        "id": "yFxQja_htHao"
      },
      "source": [
        "import pandas as pd"
      ],
      "execution_count": null,
      "outputs": []
    },
    {
      "cell_type": "code",
      "metadata": {
        "id": "-YTRo-m0tK_8"
      },
      "source": [
        "df = pd.DataFrame(image_alt_pairs, columns={\"image_url\", \"image_alt\"})\n",
        "df"
      ],
      "execution_count": null,
      "outputs": []
    },
    {
      "cell_type": "markdown",
      "metadata": {
        "id": "_zydWcljs0_1"
      },
      "source": [
        "## Download Images"
      ]
    },
    {
      "cell_type": "markdown",
      "metadata": {
        "id": "vrxR7lvthzAw"
      },
      "source": [
        "To dowload all images, we first need to create a directory to keep the downloaded images. To do so, we use the `os` library, which gives us the needed tools to, among other things, create directories and manipulate the file paths in a way that is compatible with our operating system."
      ]
    },
    {
      "cell_type": "code",
      "metadata": {
        "id": "yhq1DzU5mcYO"
      },
      "source": [
        "import os"
      ],
      "execution_count": null,
      "outputs": []
    },
    {
      "cell_type": "code",
      "metadata": {
        "id": "FI8dmVQZwmrV"
      },
      "source": [
        "directory = \"images\"\n",
        "os.makedirs(directory, exist_ok=True) # With exist_ok=True, we will not get an error if the directory already exists"
      ],
      "execution_count": null,
      "outputs": []
    },
    {
      "cell_type": "markdown",
      "metadata": {
        "id": "KZHjWjZAh287"
      },
      "source": [
        "Go through image urls and download them one by one.\n",
        "\n",
        "Use a unique id starting from 0 as file name to avoid duplicate names."
      ]
    },
    {
      "cell_type": "code",
      "metadata": {
        "id": "3FUAdJTgowSz"
      },
      "source": [
        "image_counter = 0\n",
        "for url in fixed_image_urls:\n",
        "  image_extension = url.split(\".\")[-1]                      # Split the url based on the dots in the string and grab the last part which basically shows the extension of the file\n",
        "  image_name = str(image_counter) + \".\" + image_extension   # Create an name with the proper extension to be used when we save the image\n",
        "  image_address = os.path.join(directory, image_name)       # Add the folder name to the image name\n",
        "  image_response = requests.get(url)\n",
        "  if image_response.status_code == 200:\n",
        "    with open(image_address, \"wb\") as f:                    # This is how we can save a file with a specific name to save the downloaded image\n",
        "      f.write(image_response.content)\n",
        "  image_counter = image_counter + 1"
      ],
      "execution_count": null,
      "outputs": []
    },
    {
      "cell_type": "markdown",
      "metadata": {
        "id": "yuo97Y2wJ8fg"
      },
      "source": [
        "## Modifying images with TensorFlow\n",
        "\n",
        "https://www.tensorflow.org/api_docs/python/tf/image"
      ]
    },
    {
      "cell_type": "code",
      "metadata": {
        "id": "wGP_VBA_xpjb"
      },
      "source": [
        "import tensorflow as tf\n",
        "import tensorflow_hub as hub\n",
        "import numpy as np"
      ],
      "execution_count": null,
      "outputs": []
    },
    {
      "cell_type": "markdown",
      "metadata": {
        "id": "_VttciQYiXIi"
      },
      "source": [
        "It is possible to use some tensorflow tools to directly load all images.\n",
        "\n",
        "It is also possible to read/write and modify the images using other libraries such as `imageio` and Pillow (`PLT`).\n",
        "\n",
        "But here we see how to do this manually using `tensorflow` to have more control over the process and preprocess the images the way we want. Furthermore, this can add to our growing knowledge of `tensorflow`."
      ]
    },
    {
      "cell_type": "code",
      "metadata": {
        "id": "g_HoG8j31p0m"
      },
      "source": [
        "image_names = []\n",
        "images_list = []\n",
        "# We use the following nested loops to get all files inside a directory, one by one\n",
        "for subdir, dirs, files in os.walk(os.path.join(os.getcwd(), directory)):\n",
        "  for filename in sorted(files):\n",
        "    filename = filename.lower()\n",
        "    if filename.endswith(\".png\") or filename.endswith(\".jpg\") or filename.endswith(\".jpeg\"):\n",
        "      image_path = os.path.join(subdir, filename)\n",
        "      image_d = tf.keras.preprocessing.image.load_img(image_path)\n",
        "      image_array = tf.keras.preprocessing.image.img_to_array(image_d) / 255.0\n",
        "      image_array = tf.image.resize_with_pad(image_array, 299,299, antialias=True)\n",
        "      images_list.append(image_array)\n",
        "      image_names.append(filename)\n",
        "image_arrays = np.array(images_list)"
      ],
      "execution_count": null,
      "outputs": []
    },
    {
      "cell_type": "code",
      "metadata": {
        "colab": {
          "base_uri": "https://localhost:8080/"
        },
        "id": "SI64al8X3wKS",
        "outputId": "86814408-ace4-40ec-aa89-32ee6620b568"
      },
      "source": [
        "image_arrays.shape"
      ],
      "execution_count": null,
      "outputs": [
        {
          "output_type": "execute_result",
          "data": {
            "text/plain": [
              "(29, 299, 299, 3)"
            ]
          },
          "metadata": {},
          "execution_count": 27
        }
      ]
    },
    {
      "cell_type": "markdown",
      "metadata": {
        "id": "rNp2E4n3igW5"
      },
      "source": [
        "We load the Inception V3 model from TensorFlow Hub. We add a Softmax layer to the end of the model to make sure the model gives us probabilities instead of apparently meaningless numbers (logits)."
      ]
    },
    {
      "cell_type": "code",
      "metadata": {
        "id": "IiaaoqeX7BBK"
      },
      "source": [
        "inception_model = tf.keras.Sequential([\n",
        "    hub.KerasLayer(\"https://tfhub.dev/google/tf2-preview/inception_v3/classification/4\", output_shape=[1001]),\n",
        "    tf.keras.layers.Softmax()\n",
        "])\n",
        "inception_model.build([None, 299, 299, 3])  # Batch input shape."
      ],
      "execution_count": null,
      "outputs": []
    },
    {
      "cell_type": "markdown",
      "metadata": {
        "id": "yW4zMbSsi2_W"
      },
      "source": [
        "We can pass all image arrays direcly to the model and get all predications at once."
      ]
    },
    {
      "cell_type": "code",
      "metadata": {
        "id": "80xM6D_q7JOi"
      },
      "source": [
        "output = inception_model(image_arrays)"
      ],
      "execution_count": null,
      "outputs": []
    },
    {
      "cell_type": "markdown",
      "metadata": {
        "id": "j4zZiHgFi_ax"
      },
      "source": [
        "The model gives is 25 predictions:"
      ]
    },
    {
      "cell_type": "code",
      "metadata": {
        "colab": {
          "base_uri": "https://localhost:8080/"
        },
        "id": "tC7g9tXt7OIz",
        "outputId": "a164fc0f-22ce-4d9d-f2cc-fd4441056df6"
      },
      "source": [
        "output.shape"
      ],
      "execution_count": null,
      "outputs": [
        {
          "output_type": "execute_result",
          "data": {
            "text/plain": [
              "TensorShape([29, 1001])"
            ]
          },
          "metadata": {},
          "execution_count": 30
        }
      ]
    },
    {
      "cell_type": "markdown",
      "metadata": {
        "id": "P1AXUrE-jGyh"
      },
      "source": [
        "To make sense of these predications, we need to have the class names:"
      ]
    },
    {
      "cell_type": "code",
      "metadata": {
        "id": "-x9d7tAZ7lLe"
      },
      "source": [
        "# This is could be done in a single line, but here we expand it for readability\n",
        "classes_response = requests.get('https://storage.googleapis.com/download.tensorflow.org/data/ImageNetLabels.txt')\n",
        "classes_text = classes_response.text\n",
        "classes = classes_text.split('\\n')"
      ],
      "execution_count": null,
      "outputs": []
    },
    {
      "cell_type": "markdown",
      "metadata": {
        "id": "GnkB2DrZFP5I"
      },
      "source": [
        "Now, we can check how well the model performed"
      ]
    },
    {
      "cell_type": "code",
      "metadata": {
        "id": "INxg5GnWFQu_"
      },
      "source": [
        "num = 14"
      ],
      "execution_count": null,
      "outputs": []
    },
    {
      "cell_type": "code",
      "metadata": {
        "colab": {
          "base_uri": "https://localhost:8080/",
          "height": 316
        },
        "id": "VIQ2cQ6X8Lcs",
        "outputId": "0d9b420b-c540-4b60-84ab-913c878fc310"
      },
      "source": [
        "# Show an image from the image_arrays\n",
        "tf.keras.preprocessing.image.array_to_img(image_arrays[num])"
      ],
      "execution_count": null,
      "outputs": [
        {
          "output_type": "execute_result",
          "data": {
            "image/png": "[encoded data removed]",
            "text/plain": [
              "<PIL.Image.Image image mode=RGB size=299x299 at 0x7F330CA9C4D0>"
            ]
          },
          "metadata": {},
          "execution_count": 37
        }
      ]
    },
    {
      "cell_type": "markdown",
      "metadata": {
        "id": "C9rIN2oqbC-S"
      },
      "source": [
        "Get top 5 classes and their probabilities.\n",
        "\n",
        "To do so, we use the `argsort` method of `numpy` to sort the result of this specific predictation. Since `argsort` sorts the numbers in ascending order, we multiply the result by -1 to make them negative so that the largest number becomes the smallest number (most negative number). This way the ascending order really represents a descending order.\n",
        "\n",
        "`np.argsort` gives us the indecies of the values in `result` sorted in descending order. We convert these indecies into a list and loop through them. In each iteration of the loop we grap the index and use it to extract the acual value associated with this index from the `result`. Because of the `Softmax` layer in our model, the values in `result` are between 0 and 1, representing probabilities. So, we can multiply them by 100 and round them using 2 decimal points to make them more readbale.\n",
        "\n",
        "We can also use the index in each interation to extract the class name from the `classes` list we downloaded earlier."
      ]
    },
    {
      "cell_type": "code",
      "metadata": {
        "colab": {
          "base_uri": "https://localhost:8080/"
        },
        "id": "uuc46WnKFbCv",
        "outputId": "61d04af0-5cbd-4939-ee06-e172911fcfb9"
      },
      "source": [
        "result = output[num]\n",
        "top_labels = [(classes[index], round(result[index].numpy()*100, 2)) for index in list(np.argsort(-1*result))]\n",
        "print(top_labels[:5])"
      ],
      "execution_count": null,
      "outputs": [
        {
          "output_type": "stream",
          "name": "stdout",
          "text": [
            "[('lab coat', 89.38), ('web site', 1.85), ('stethoscope', 1.15), ('monitor', 0.64), ('television', 0.53)]\n"
          ]
        }
      ]
    },
    {
      "cell_type": "markdown",
      "metadata": {
        "id": "6GjaWUembH6K"
      },
      "source": [
        "To create a table with image name, label, and the model's confidence in the accuracy of the label, we can go through all images and create a list of labels and confidences. Next, we can put these lists together in a `pandas.DataFrame`."
      ]
    },
    {
      "cell_type": "code",
      "metadata": {
        "id": "i5lMUQYtSxjH"
      },
      "source": [
        "labels = []\n",
        "confidences = []\n",
        "for i in range(len(image_names)):\n",
        "  result = output[i]\n",
        "  max_index = np.argmax(result)\n",
        "  label = classes[max_index]\n",
        "  confidence = result[max_index].numpy()\n",
        "  labels.append(label)\n",
        "  confidences.append(confidence)"
      ],
      "execution_count": null,
      "outputs": []
    },
    {
      "cell_type": "markdown",
      "metadata": {
        "id": "hTV-2urGbTNM"
      },
      "source": [
        "Put everything in a `DataFrame`."
      ]
    },
    {
      "cell_type": "code",
      "metadata": {
        "colab": {
          "base_uri": "https://localhost:8080/",
          "height": 958
        },
        "id": "VRcsZDpmFzjf",
        "outputId": "a53eb88a-aa61-42ca-c8b4-4028beef5b98"
      },
      "source": [
        "df_final = pd.DataFrame({\"image\": image_names, \"label\": labels, \"confidence\": confidences})\n",
        "df_final"
      ],
      "execution_count": null,
      "outputs": [
        {
          "output_type": "execute_result",
          "data": {
            "text/html": [
              "<div>\n",
              "<style scoped>\n",
              "    .dataframe tbody tr th:only-of-type {\n",
              "        vertical-align: middle;\n",
              "    }\n",
              "\n",
              "    .dataframe tbody tr th {\n",
              "        vertical-align: top;\n",
              "    }\n",
              "\n",
              "    .dataframe thead th {\n",
              "        text-align: right;\n",
              "    }\n",
              "</style>\n",
              "<table border=\"1\" class=\"dataframe\">\n",
              "  <thead>\n",
              "    <tr style=\"text-align: right;\">\n",
              "      <th></th>\n",
              "      <th>image</th>\n",
              "      <th>label</th>\n",
              "      <th>confidence</th>\n",
              "    </tr>\n",
              "  </thead>\n",
              "  <tbody>\n",
              "    <tr>\n",
              "      <th>0</th>\n",
              "      <td>1.jpg</td>\n",
              "      <td>car mirror</td>\n",
              "      <td>0.194479</td>\n",
              "    </tr>\n",
              "    <tr>\n",
              "      <th>1</th>\n",
              "      <td>10.jpg</td>\n",
              "      <td>ping-pong ball</td>\n",
              "      <td>0.281152</td>\n",
              "    </tr>\n",
              "    <tr>\n",
              "      <th>2</th>\n",
              "      <td>11.jpg</td>\n",
              "      <td>restaurant</td>\n",
              "      <td>0.302634</td>\n",
              "    </tr>\n",
              "    <tr>\n",
              "      <th>3</th>\n",
              "      <td>12.jpg</td>\n",
              "      <td>monitor</td>\n",
              "      <td>0.694435</td>\n",
              "    </tr>\n",
              "    <tr>\n",
              "      <th>4</th>\n",
              "      <td>13.jpg</td>\n",
              "      <td>groom</td>\n",
              "      <td>0.786518</td>\n",
              "    </tr>\n",
              "    <tr>\n",
              "      <th>5</th>\n",
              "      <td>14.jpg</td>\n",
              "      <td>television</td>\n",
              "      <td>0.478036</td>\n",
              "    </tr>\n",
              "    <tr>\n",
              "      <th>6</th>\n",
              "      <td>15.jpg</td>\n",
              "      <td>groom</td>\n",
              "      <td>0.566393</td>\n",
              "    </tr>\n",
              "    <tr>\n",
              "      <th>7</th>\n",
              "      <td>16.jpg</td>\n",
              "      <td>basketball</td>\n",
              "      <td>0.904597</td>\n",
              "    </tr>\n",
              "    <tr>\n",
              "      <th>8</th>\n",
              "      <td>17.jpg</td>\n",
              "      <td>French horn</td>\n",
              "      <td>0.150405</td>\n",
              "    </tr>\n",
              "    <tr>\n",
              "      <th>9</th>\n",
              "      <td>18.png</td>\n",
              "      <td>rule</td>\n",
              "      <td>0.917271</td>\n",
              "    </tr>\n",
              "    <tr>\n",
              "      <th>10</th>\n",
              "      <td>19.jpg</td>\n",
              "      <td>library</td>\n",
              "      <td>0.331610</td>\n",
              "    </tr>\n",
              "    <tr>\n",
              "      <th>11</th>\n",
              "      <td>2.jpg</td>\n",
              "      <td>gong</td>\n",
              "      <td>0.578690</td>\n",
              "    </tr>\n",
              "    <tr>\n",
              "      <th>12</th>\n",
              "      <td>20.jpg</td>\n",
              "      <td>spotlight</td>\n",
              "      <td>0.099262</td>\n",
              "    </tr>\n",
              "    <tr>\n",
              "      <th>13</th>\n",
              "      <td>21.jpg</td>\n",
              "      <td>bonnet</td>\n",
              "      <td>0.367703</td>\n",
              "    </tr>\n",
              "    <tr>\n",
              "      <th>14</th>\n",
              "      <td>22.jpg</td>\n",
              "      <td>lab coat</td>\n",
              "      <td>0.893760</td>\n",
              "    </tr>\n",
              "    <tr>\n",
              "      <th>15</th>\n",
              "      <td>23.png</td>\n",
              "      <td>envelope</td>\n",
              "      <td>0.142624</td>\n",
              "    </tr>\n",
              "    <tr>\n",
              "      <th>16</th>\n",
              "      <td>24.jpg</td>\n",
              "      <td>bookshop</td>\n",
              "      <td>0.489489</td>\n",
              "    </tr>\n",
              "    <tr>\n",
              "      <th>17</th>\n",
              "      <td>25.jpg</td>\n",
              "      <td>groom</td>\n",
              "      <td>0.220040</td>\n",
              "    </tr>\n",
              "    <tr>\n",
              "      <th>18</th>\n",
              "      <td>26.jpg</td>\n",
              "      <td>church</td>\n",
              "      <td>0.204273</td>\n",
              "    </tr>\n",
              "    <tr>\n",
              "      <th>19</th>\n",
              "      <td>27.jpg</td>\n",
              "      <td>vestment</td>\n",
              "      <td>0.364246</td>\n",
              "    </tr>\n",
              "    <tr>\n",
              "      <th>20</th>\n",
              "      <td>28.jpg</td>\n",
              "      <td>sunglass</td>\n",
              "      <td>0.190608</td>\n",
              "    </tr>\n",
              "    <tr>\n",
              "      <th>21</th>\n",
              "      <td>29.jpg</td>\n",
              "      <td>cash machine</td>\n",
              "      <td>0.273192</td>\n",
              "    </tr>\n",
              "    <tr>\n",
              "      <th>22</th>\n",
              "      <td>3.jpg</td>\n",
              "      <td>hand-held computer</td>\n",
              "      <td>0.095596</td>\n",
              "    </tr>\n",
              "    <tr>\n",
              "      <th>23</th>\n",
              "      <td>4.png</td>\n",
              "      <td>book jacket</td>\n",
              "      <td>0.597226</td>\n",
              "    </tr>\n",
              "    <tr>\n",
              "      <th>24</th>\n",
              "      <td>5.jpg</td>\n",
              "      <td>basketball</td>\n",
              "      <td>0.999794</td>\n",
              "    </tr>\n",
              "    <tr>\n",
              "      <th>25</th>\n",
              "      <td>6.jpg</td>\n",
              "      <td>Windsor tie</td>\n",
              "      <td>0.403794</td>\n",
              "    </tr>\n",
              "    <tr>\n",
              "      <th>26</th>\n",
              "      <td>7.jpg</td>\n",
              "      <td>web site</td>\n",
              "      <td>0.511257</td>\n",
              "    </tr>\n",
              "    <tr>\n",
              "      <th>27</th>\n",
              "      <td>8.jpg</td>\n",
              "      <td>book jacket</td>\n",
              "      <td>0.709188</td>\n",
              "    </tr>\n",
              "    <tr>\n",
              "      <th>28</th>\n",
              "      <td>9.jpg</td>\n",
              "      <td>triumphal arch</td>\n",
              "      <td>0.282867</td>\n",
              "    </tr>\n",
              "  </tbody>\n",
              "</table>\n",
              "</div>"
            ],
            "text/plain": [
              "     image               label  confidence\n",
              "0    1.jpg          car mirror    0.194479\n",
              "1   10.jpg      ping-pong ball    0.281152\n",
              "2   11.jpg          restaurant    0.302634\n",
              "3   12.jpg             monitor    0.694435\n",
              "4   13.jpg               groom    0.786518\n",
              "5   14.jpg          television    0.478036\n",
              "6   15.jpg               groom    0.566393\n",
              "7   16.jpg          basketball    0.904597\n",
              "8   17.jpg         French horn    0.150405\n",
              "9   18.png                rule    0.917271\n",
              "10  19.jpg             library    0.331610\n",
              "11   2.jpg                gong    0.578690\n",
              "12  20.jpg           spotlight    0.099262\n",
              "13  21.jpg              bonnet    0.367703\n",
              "14  22.jpg            lab coat    0.893760\n",
              "15  23.png            envelope    0.142624\n",
              "16  24.jpg            bookshop    0.489489\n",
              "17  25.jpg               groom    0.220040\n",
              "18  26.jpg              church    0.204273\n",
              "19  27.jpg            vestment    0.364246\n",
              "20  28.jpg            sunglass    0.190608\n",
              "21  29.jpg        cash machine    0.273192\n",
              "22   3.jpg  hand-held computer    0.095596\n",
              "23   4.png         book jacket    0.597226\n",
              "24   5.jpg          basketball    0.999794\n",
              "25   6.jpg         Windsor tie    0.403794\n",
              "26   7.jpg            web site    0.511257\n",
              "27   8.jpg         book jacket    0.709188\n",
              "28   9.jpg      triumphal arch    0.282867"
            ]
          },
          "metadata": {},
          "execution_count": 40
        }
      ]
    },
    {
      "cell_type": "markdown",
      "metadata": {
        "id": "rz_hCWlNrQBh"
      },
      "source": [
        "Finally, we export the results into an Excel file."
      ]
    },
    {
      "cell_type": "code",
      "metadata": {
        "id": "XxppPLjTTmln"
      },
      "source": [
        "df_final.to_excel(\"classified_images.xlsx\")"
      ],
      "execution_count": null,
      "outputs": []
    },
    {
      "cell_type": "code",
      "metadata": {
        "id": "SQgAYiYmOI1M"
      },
      "source": [
        ""
      ],
      "execution_count": null,
      "outputs": []
    }
  ]
}